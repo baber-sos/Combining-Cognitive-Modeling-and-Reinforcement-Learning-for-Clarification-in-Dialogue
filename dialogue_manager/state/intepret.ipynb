{
 "cells": [
  {
   "cell_type": "code",
   "execution_count": 7,
   "metadata": {},
   "outputs": [],
   "source": [
    "import numpy as np\n",
    "import re\n",
    "import random"
   ]
  },
  {
   "cell_type": "code",
   "execution_count": 11,
   "metadata": {},
   "outputs": [],
   "source": [
    "#structure of intent_form = INTENT_NAME(OUTPUT_SYMBOL or None, INPUTSymbols,......)\n",
    "\n",
    "intent_forms = [\"IDENTIFY(T,'orange')\",\n",
    "               \"ASK_CLARIFICATION(None, T) AND IDENTIFY(T,'greyish orange')\",\n",
    "               \"CONFIRMATION(None, 'YES')\",\n",
    "               \"IDENTIFY(T, 'purple')\",\n",
    "               \"ASK_CLARIFICATION(T, 'light purple') AND IDENTIFY(T, 'light purple')\",\n",
    "               \"IDENTIFY_FROM_SET(T, S, 'brighter') AND IDENTIFY_SET(S,'dark purple')\"]\n",
    "\n",
    "INTENTS = ['IDENTIFY', 'ASK_CLARIFICATION', 'CONFIRMATION', 'IDENTIFY_FROM_SET', 'IDENTIFY_SET']"
   ]
  },
  {
   "cell_type": "code",
   "execution_count": 2,
   "metadata": {},
   "outputs": [],
   "source": [
    "#this will be needed at a later stage\n",
    "#there could be the case that intents are not ordered and we have to do some search to resolve inter-dependenices\n",
    "#sort according to dependency resolution will help later\n",
    "#e.g. c -> b; a -> b,c; b-> constant(x) should be ordered like this:\n",
    "#b -> constant(x); c -> b; a -> b, c\n",
    "def sort_dependencies(intent_arg_map):\n",
    "    pass"
   ]
  },
  {
   "cell_type": "code",
   "execution_count": 3,
   "metadata": {},
   "outputs": [],
   "source": [
    "def invoke_listener_model(color):\n",
    "    #this will return probability distribution for all the color patches given the color term\n",
    "    #and is just a place holder for actual brian's code\n",
    "    return [random.random() for i in range(3)]\n",
    "\n",
    "def invoke_speaker_model(color):\n",
    "    vocab_size = 829\n",
    "    return [[random.random() for i in range(vocab_size)] for i in range(3)]"
   ]
  },
  {
   "cell_type": "code",
   "execution_count": 4,
   "metadata": {},
   "outputs": [],
   "source": [
    "#this part is what Shengjie will be working at!\n",
    "#keep the pattern for function names like this\n",
    "#eval_INTENT_NAME(args...)\n",
    "#All of these functions contain code which should just convey an idea of what is going to be the structure\n",
    "#so it is easier for shengjie to start and me to correct my mistakes while defining this structure\n",
    "def eval_IDENTIFY(color_name):\n",
    "    return invoke_listener_model(color_name)\n",
    "\n",
    "def eval_IDENTIFY_SET(color_term):\n",
    "    return_set = set()\n",
    "    prob_term_given_patch = invoke_speaker_model(color_term)\n",
    "    for i in range(3):\n",
    "        #here the condition should be to check if color term is within topk of the given colors terms\n",
    "        if random.randint(0,1) == 1: \n",
    "            return_set.add(i)\n",
    "    return return_set\n",
    "\n",
    "def eval_ASK_CLARIFICATION(target):\n",
    "    #this just returns but server the purpose of conveying that relation should be ASK_CLARIFICATION\n",
    "    return (target, 'ASK_CLARIFICATION')\n",
    "\n",
    "def eval_CONFIRMATION(intent):\n",
    "    #serves similar purpose to ASK_CLARIFICATION. THE RELATION WOULD BE CONFIRMATION IN THIS CASE, though.\n",
    "    return (intent, 'CONFIRM')\n",
    "\n",
    "def eval_IDENTIFY_FROM_SET(patch_set, prop):\n",
    "    #this function should have a structure like this:\n",
    "    #if system understands prop:\n",
    "    #    return (identified_color_patch_from_set, None)\n",
    "    #else:\n",
    "    #    return (same_patches_as_received, prop) conveying the sense that system needs to ask a clarification about what\n",
    "    # this property means\n",
    "    return patch_set\n"
   ]
  },
  {
   "cell_type": "code",
   "execution_count": 9,
   "metadata": {},
   "outputs": [],
   "source": [
    "def evaluate(composition):\n",
    "    pattern = '(.+)(\\()((\\'?[\\s\\w]*\\'?,\\s?)*)(\\'?[\\s\\w]*\\'?)(\\))'\n",
    "    prog = re.compile(pattern)\n",
    "    output = dict()\n",
    "    evaluation = None\n",
    "    for i, intent in enumerate(composition.split('AND')[::-1]):\n",
    "        intent = intent.strip()\n",
    "        groups = None\n",
    "        try:\n",
    "            groups = prog.search(intent).groups()\n",
    "        except Exception as e:\n",
    "            print('Illegal Intent Format:', intent)\n",
    "            return\n",
    "        \n",
    "        name = groups[0]\n",
    "        argument_symbols = []\n",
    "        for i, args in enumerate(groups[2:-1]):\n",
    "            if i == 1:\n",
    "                continue\n",
    "            argument_symbols+=[sym.strip() for sym in args.split(',')]\n",
    "        argument_symbols.remove('')\n",
    "        \n",
    "        arguments = [arg if arg[0] == \"'\" else output[arg] for arg in argument_symbols[1:]]\n",
    "        if argument_symbols[0] != 'None':\n",
    "            output[argument_symbols[0]] = eval('eval_' + name)(*arguments)\n",
    "            evaluation = output[argument_symbols[0]]\n",
    "        else:\n",
    "            evaluation = eval('eval_' + name)(*arguments)\n",
    "    return evaluation"
   ]
  },
  {
   "cell_type": "code",
   "execution_count": 12,
   "metadata": {
    "scrolled": true
   },
   "outputs": [
    {
     "name": "stdout",
     "output_type": "stream",
     "text": [
      "[0.8216388598534146, 0.6332709852462626, 0.37178968253750555]\n",
      "([0.12264169580711215, 0.9162553335079625, 0.9498327438870223], 'ASK_CLARIFICATION')\n",
      "(\"'YES'\", 'CONFIRM')\n",
      "[0.5181628347332321, 0.31112805263490295, 0.1709863767101536]\n",
      "(\"'light purple'\", 'ASK_CLARIFICATION')\n",
      "set()\n"
     ]
    }
   ],
   "source": [
    "for intent_composition in intent_forms:\n",
    "    extracted_features = evaluate(intent_composition)\n",
    "    print(extracted_features)\n",
    "    "
   ]
  },
  {
   "cell_type": "code",
   "execution_count": null,
   "metadata": {},
   "outputs": [],
   "source": []
  },
  {
   "cell_type": "code",
   "execution_count": null,
   "metadata": {},
   "outputs": [],
   "source": []
  }
 ],
 "metadata": {
  "kernelspec": {
   "display_name": "Python 3",
   "language": "python",
   "name": "python3"
  },
  "language_info": {
   "codemirror_mode": {
    "name": "ipython",
    "version": 3
   },
   "file_extension": ".py",
   "mimetype": "text/x-python",
   "name": "python",
   "nbconvert_exporter": "python",
   "pygments_lexer": "ipython3",
   "version": "3.6.8"
  }
 },
 "nbformat": 4,
 "nbformat_minor": 2
}
