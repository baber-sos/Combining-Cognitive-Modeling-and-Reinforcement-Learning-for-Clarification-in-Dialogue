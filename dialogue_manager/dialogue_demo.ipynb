{
 "cells": [
  {
   "cell_type": "code",
   "execution_count": 1,
   "metadata": {},
   "outputs": [],
   "source": [
    "import functools\n",
    "import json\n",
    "import os\n",
    "import shutil\n",
    "import yaml\n",
    "\n",
    "import ipywidgets as widgets\n",
    "from magis.algorithms import ContextFreeAlgorithm, ContextSensitiveAlgorithm\n",
    "from magis.datasets.color_reference_2017.vectorized import make_or_load_cic\n",
    "from magis.models.model_b import ModelBWithRGC\n",
    "from magis.utils.color import hex2hsv, hsv2fft, rgb2hsv\n",
    "from magis.utils.data import Context\n",
    "from magis.utils.model import parse_model_output\n",
    "from magis.utils.plot import plot_row\n",
    "from magis.settings import REPO_ROOT\n",
    "\n",
    "import numpy as np\n",
    "import torch\n",
    "import pandas as pd\n",
    "import ast\n",
    "import colorsys\n",
    "\n",
    "from manager import manager"
   ]
  },
  {
   "cell_type": "code",
   "execution_count": 2,
   "metadata": {},
   "outputs": [
    {
     "ename": "MemoryError",
     "evalue": "Unable to allocate array with shape (2176417, 3, 3, 3) and data type complex128",
     "output_type": "error",
     "traceback": [
      "\u001b[0;31m---------------------------------------------------------------------------\u001b[0m",
      "\u001b[0;31mMemoryError\u001b[0m                               Traceback (most recent call last)",
      "\u001b[0;32m<ipython-input-2-92e1eee50739>\u001b[0m in \u001b[0;36m<module>\u001b[0;34m\u001b[0m\n\u001b[0;32m----> 1\u001b[0;31m \u001b[0mcic\u001b[0m \u001b[0;34m=\u001b[0m \u001b[0mmake_or_load_cic\u001b[0m\u001b[0;34m(\u001b[0m\u001b[0;34m)\u001b[0m\u001b[0;34m\u001b[0m\u001b[0;34m\u001b[0m\u001b[0m\n\u001b[0m",
      "\u001b[0;32m~/Dialogue_Research/color_in_context/system/RUColorInContext2/src/magis/datasets/color_reference_2017/vectorized.py\u001b[0m in \u001b[0;36mmake_or_load_cic\u001b[0;34m(coordinate_system, cic_vectorized_csv, verbose, force_reload)\u001b[0m\n\u001b[1;32m     16\u001b[0m \u001b[0;34m\u001b[0m\u001b[0m\n\u001b[1;32m     17\u001b[0m \u001b[0;32mdef\u001b[0m \u001b[0mmake_or_load_cic\u001b[0m\u001b[0;34m(\u001b[0m\u001b[0mcoordinate_system\u001b[0m\u001b[0;34m=\u001b[0m\u001b[0;34m'fft'\u001b[0m\u001b[0;34m,\u001b[0m \u001b[0mcic_vectorized_csv\u001b[0m\u001b[0;34m=\u001b[0m\u001b[0mCIC_VECTORIZED_CSV\u001b[0m\u001b[0;34m,\u001b[0m \u001b[0mverbose\u001b[0m\u001b[0;34m=\u001b[0m\u001b[0;32mTrue\u001b[0m\u001b[0;34m,\u001b[0m \u001b[0mforce_reload\u001b[0m\u001b[0;34m=\u001b[0m\u001b[0;32mFalse\u001b[0m\u001b[0;34m)\u001b[0m\u001b[0;34m:\u001b[0m\u001b[0;34m\u001b[0m\u001b[0;34m\u001b[0m\u001b[0m\n\u001b[0;32m---> 18\u001b[0;31m     \u001b[0mxkcd\u001b[0m \u001b[0;34m=\u001b[0m \u001b[0mXKCD\u001b[0m\u001b[0;34m.\u001b[0m\u001b[0mfrom_settings\u001b[0m\u001b[0;34m(\u001b[0m\u001b[0mcoordinate_system\u001b[0m\u001b[0;34m=\u001b[0m\u001b[0mcoordinate_system\u001b[0m\u001b[0;34m)\u001b[0m\u001b[0;34m\u001b[0m\u001b[0;34m\u001b[0m\u001b[0m\n\u001b[0m\u001b[1;32m     19\u001b[0m     \u001b[0;32mif\u001b[0m \u001b[0mos\u001b[0m\u001b[0;34m.\u001b[0m\u001b[0mpath\u001b[0m\u001b[0;34m.\u001b[0m\u001b[0mexists\u001b[0m\u001b[0;34m(\u001b[0m\u001b[0mcic_vectorized_csv\u001b[0m\u001b[0;34m)\u001b[0m \u001b[0;32mand\u001b[0m \u001b[0;32mnot\u001b[0m \u001b[0mforce_reload\u001b[0m\u001b[0;34m:\u001b[0m\u001b[0;34m\u001b[0m\u001b[0;34m\u001b[0m\u001b[0m\n\u001b[1;32m     20\u001b[0m         cic_df = pd.read_csv(cic_vectorized_csv, \n",
      "\u001b[0;32m~/Dialogue_Research/color_in_context/system/RUColorInContext2/src/magis/datasets/xkcd/vectorized.py\u001b[0m in \u001b[0;36mfrom_settings\u001b[0;34m(cls, coordinate_system, subset_function)\u001b[0m\n\u001b[1;32m    135\u001b[0m                    \u001b[0msettings\u001b[0m\u001b[0;34m.\u001b[0m\u001b[0mXKCD_DATASET_FILES\u001b[0m\u001b[0;34m[\u001b[0m\u001b[0;34m'annotations'\u001b[0m\u001b[0;34m]\u001b[0m\u001b[0;34m,\u001b[0m\u001b[0;34m\u001b[0m\u001b[0;34m\u001b[0m\u001b[0m\n\u001b[1;32m    136\u001b[0m                    \u001b[0mcoordinate_system\u001b[0m\u001b[0;34m,\u001b[0m\u001b[0;34m\u001b[0m\u001b[0;34m\u001b[0m\u001b[0m\n\u001b[0;32m--> 137\u001b[0;31m                    subset_function=subset_function)\n\u001b[0m\u001b[1;32m    138\u001b[0m \u001b[0;34m\u001b[0m\u001b[0m\n\u001b[1;32m    139\u001b[0m     \u001b[0;32mdef\u001b[0m \u001b[0mset_split\u001b[0m\u001b[0;34m(\u001b[0m\u001b[0mself\u001b[0m\u001b[0;34m,\u001b[0m \u001b[0msplit\u001b[0m\u001b[0;34m=\u001b[0m\u001b[0;34m\"train\"\u001b[0m\u001b[0;34m,\u001b[0m \u001b[0muse_fast\u001b[0m\u001b[0;34m=\u001b[0m\u001b[0;32mTrue\u001b[0m\u001b[0;34m)\u001b[0m\u001b[0;34m:\u001b[0m\u001b[0;34m\u001b[0m\u001b[0;34m\u001b[0m\u001b[0m\n",
      "\u001b[0;32m~/Dialogue_Research/color_in_context/system/RUColorInContext2/src/magis/datasets/xkcd/vectorized.py\u001b[0m in \u001b[0;36m__init__\u001b[0;34m(self, matrix_filename, annotation_filename, coordinate_system, subset_function, fft_resolution)\u001b[0m\n\u001b[1;32m     65\u001b[0m \u001b[0;34m\u001b[0m\u001b[0m\n\u001b[1;32m     66\u001b[0m             repr_complex = (\n\u001b[0;32m---> 67\u001b[0;31m                 \u001b[0mnp\u001b[0m\u001b[0;34m.\u001b[0m\u001b[0mexp\u001b[0m\u001b[0;34m(\u001b[0m\u001b[0;34m-\u001b[0m\u001b[0;36m2j\u001b[0m \u001b[0;34m*\u001b[0m \u001b[0mnp\u001b[0m\u001b[0;34m.\u001b[0m\u001b[0mpi\u001b[0m \u001b[0;34m*\u001b[0m \u001b[0;34m(\u001b[0m\u001b[0marg\u001b[0m \u001b[0;34m%\u001b[0m \u001b[0;36m1.0\u001b[0m\u001b[0;34m)\u001b[0m\u001b[0;34m)\u001b[0m\u001b[0;34m\u001b[0m\u001b[0;34m\u001b[0m\u001b[0m\n\u001b[0m\u001b[1;32m     68\u001b[0m                 \u001b[0;34m.\u001b[0m\u001b[0mswapaxes\u001b[0m\u001b[0;34m(\u001b[0m\u001b[0;36m1\u001b[0m\u001b[0;34m,\u001b[0m \u001b[0;36m2\u001b[0m\u001b[0;34m)\u001b[0m\u001b[0;34m\u001b[0m\u001b[0;34m\u001b[0m\u001b[0m\n\u001b[1;32m     69\u001b[0m                 \u001b[0;34m.\u001b[0m\u001b[0mreshape\u001b[0m\u001b[0;34m(\u001b[0m\u001b[0;34m(\u001b[0m\u001b[0mdata\u001b[0m\u001b[0;34m.\u001b[0m\u001b[0mshape\u001b[0m\u001b[0;34m[\u001b[0m\u001b[0;36m0\u001b[0m\u001b[0;34m]\u001b[0m\u001b[0;34m,\u001b[0m \u001b[0;34m-\u001b[0m\u001b[0;36m1\u001b[0m\u001b[0;34m)\u001b[0m\u001b[0;34m)\u001b[0m\u001b[0;34m\u001b[0m\u001b[0;34m\u001b[0m\u001b[0m\n",
      "\u001b[0;31mMemoryError\u001b[0m: Unable to allocate array with shape (2176417, 3, 3, 3) and data type complex128"
     ]
    }
   ],
   "source": [
    "cic = make_or_load_cic()"
   ]
  },
  {
   "cell_type": "code",
   "execution_count": 34,
   "metadata": {},
   "outputs": [],
   "source": [
    "dl = torch.utils.data.DataLoader(cic, batch_size=1, shuffle=True)"
   ]
  },
  {
   "cell_type": "code",
   "execution_count": 35,
   "metadata": {},
   "outputs": [],
   "source": [
    "item = cic[0]"
   ]
  },
  {
   "cell_type": "code",
   "execution_count": 36,
   "metadata": {},
   "outputs": [
    {
     "name": "stdout",
     "output_type": "stream",
     "text": [
      "Constructor of manager\n",
      "this was run!\n",
      "<manager.manager object at 0x7fb9e5c9d748>\n"
     ]
    }
   ],
   "source": [
    "# print(item['x_colors'])\n",
    "dman = manager(*item['x_colors'], cic=cic)\n",
    "print(dman)"
   ]
  },
  {
   "cell_type": "code",
   "execution_count": 31,
   "metadata": {},
   "outputs": [
    {
     "name": "stdout",
     "output_type": "stream",
     "text": [
      "[<bound method manager.speaker_rule_1 of <manager.manager object at 0x7fb9f1dbc8d0>>]\n",
      "[<bound method manager.listener_rule_1 of <manager.manager object at 0x7fb9f1dbc8d0>>]\n"
     ]
    }
   ],
   "source": [
    "print(dman._speaker_rules)\n",
    "print(dman._listener_rules)"
   ]
  },
  {
   "cell_type": "code",
   "execution_count": 32,
   "metadata": {},
   "outputs": [
    {
     "name": "stdout",
     "output_type": "stream",
     "text": [
      "None\n"
     ]
    }
   ],
   "source": [
    "print(dman.get_starting_move())"
   ]
  },
  {
   "cell_type": "code",
   "execution_count": null,
   "metadata": {},
   "outputs": [],
   "source": []
  }
 ],
 "metadata": {
  "kernelspec": {
   "display_name": "Python 3",
   "language": "python",
   "name": "python3"
  },
  "language_info": {
   "codemirror_mode": {
    "name": "ipython",
    "version": 3
   },
   "file_extension": ".py",
   "mimetype": "text/x-python",
   "name": "python",
   "nbconvert_exporter": "python",
   "pygments_lexer": "ipython3",
   "version": "3.6.8"
  }
 },
 "nbformat": 4,
 "nbformat_minor": 2
}
