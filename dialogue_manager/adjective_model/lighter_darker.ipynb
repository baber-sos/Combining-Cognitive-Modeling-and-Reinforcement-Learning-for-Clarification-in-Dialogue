{
 "cells": [
  {
   "cell_type": "code",
   "execution_count": 1,
   "metadata": {},
   "outputs": [],
   "source": [
    "import sys\n",
    "sys.path.insert(0, '/home/sos/Dialogue_Research/color_in_context/system/dialogue_manager')\n",
    "import os\n",
    "import numpy as np\n",
    "import pandas as pd\n",
    "import matplotlib.pyplot as plt\n",
    "import matplotlib.patches as mpathes\n",
    "import torch\n",
    "import pickle\n",
    "from adjective_model.Loss_ import loss_\n",
    "import random\n",
    "import pickle\n",
    "# from plot import plot_change\n",
    "# from plot import get_compara_direction"
   ]
  },
  {
   "cell_type": "code",
   "execution_count": 9,
   "metadata": {},
   "outputs": [],
   "source": [
    "# data wrangling\n",
    "cdict = {}\n",
    "dirc = \"./xkcd_colordata/\"\n",
    "for cfile in os.listdir(dirc):\n",
    "    if cfile.endswith(\".train\") or cfile.endswith(\".dev\"):\n",
    "        cname = cfile[:cfile.find(\".\")]\n",
    "        with open(dirc+cfile,\"rb\") as f:\n",
    "            all_samples = np.array(pickle.load(f)) / 255   # normalized to [0,1]\n",
    "#             print(cname, '\\n',  all_samples)\n",
    "            cdict[cname] = torch.FloatTensor(all_samples.mean(axis=0))\n",
    "#             break\n",
    "\n",
    "label2words = {}\n",
    "with open(\"words_to_labels.txt\",encoding=\"utf-8\") as f:\n",
    "    for line in f:\n",
    "        words, label = line.strip().split(',')\n",
    "        label2words[label] = words"
   ]
  },
  {
   "cell_type": "code",
   "execution_count": 10,
   "metadata": {},
   "outputs": [
    {
     "data": {
      "text/plain": [
       "{'aubergine': tensor([0.3971, 0.1646, 0.3615]),\n",
       " 'red': tensor([0.8002, 0.1395, 0.1649]),\n",
       " 'darkblue': tensor([0.1259, 0.1710, 0.4931]),\n",
       " 'coolgreen': tensor([0.2303, 0.7461, 0.4142]),\n",
       " 'turquoise': tensor([0.2030, 0.7592, 0.6922]),\n",
       " 'brightturquoise': tensor([0.1669, 0.8895, 0.8081]),\n",
       " 'cerise': tensor([0.8115, 0.1788, 0.4739]),\n",
       " 'darkmaroon': tensor([0.3533, 0.0994, 0.1656]),\n",
       " 'chocolate': tensor([0.3837, 0.2189, 0.1347]),\n",
       " 'camel': tensor([0.7657, 0.6232, 0.3108]),\n",
       " 'bluishpurple': tensor([0.3871, 0.2230, 0.7673]),\n",
       " 'pea': tensor([0.5943, 0.7593, 0.2590]),\n",
       " 'ochre': tensor([0.7344, 0.5304, 0.1722]),\n",
       " 'lightmustard': tensor([0.8602, 0.8134, 0.3396]),\n",
       " 'purplish': tensor([0.5718, 0.2689, 0.6461]),\n",
       " 'pinkish': tensor([0.8562, 0.4005, 0.5958]),\n",
       " 'salmonpink': tensor([0.9119, 0.4695, 0.4727]),\n",
       " 'ultramarine': tensor([0.1819, 0.2537, 0.7346]),\n",
       " 'plum': tensor([0.4541, 0.1696, 0.3890]),\n",
       " 'darkhotpink': tensor([0.8295, 0.1134, 0.5043]),\n",
       " 'banana': tensor([0.9005, 0.8680, 0.3171]),\n",
       " 'forestgreen': tensor([0.1801, 0.4401, 0.1776]),\n",
       " 'turtlegreen': tensor([0.3336, 0.6872, 0.2573]),\n",
       " 'fadedgreen': tensor([0.4859, 0.7482, 0.4527]),\n",
       " 'eastergreen': tensor([0.4294, 0.9048, 0.4608]),\n",
       " 'murkygreen': tensor([0.4350, 0.5623, 0.2390]),\n",
       " 'skin': tensor([0.9069, 0.7071, 0.5521]),\n",
       " 'sienna': tensor([0.6719, 0.3752, 0.1599]),\n",
       " 'darksage': tensor([0.3400, 0.5138, 0.3226]),\n",
       " 'brightolive': tensor([0.5199, 0.6894, 0.1388]),\n",
       " 'rosered': tensor([0.7573, 0.1181, 0.2481]),\n",
       " 'hazel': tensor([0.5389, 0.5125, 0.2457]),\n",
       " 'hotpurple': tensor([0.7609, 0.1493, 0.7999]),\n",
       " 'lightishpurple': tensor([0.6339, 0.3007, 0.7551]),\n",
       " 'bile': tensor([0.6508, 0.7192, 0.2143]),\n",
       " 'richpurple': tensor([0.4300, 0.1098, 0.5121]),\n",
       " 'strawberry': tensor([0.8720, 0.1978, 0.3092]),\n",
       " 'orangeyellow': tensor([0.9154, 0.6873, 0.1571]),\n",
       " 'greenishturquoise': tensor([0.2062, 0.8121, 0.5681]),\n",
       " 'lightbluegreen': tensor([0.3950, 0.8689, 0.6841]),\n",
       " 'tan': tensor([0.7979, 0.6718, 0.4017]),\n",
       " 'babyblue': tensor([0.4748, 0.7596, 0.8924]),\n",
       " 'oceanblue': tensor([0.1699, 0.4663, 0.7008]),\n",
       " 'lightrose': tensor([0.8843, 0.5983, 0.6597]),\n",
       " 'babypoop': tensor([0.6376, 0.5924, 0.1548]),\n",
       " 'clay': tensor([0.6941, 0.4499, 0.3043]),\n",
       " 'drab': tensor([0.5345, 0.5504, 0.2922]),\n",
       " 'caucasian': tensor([0.9234, 0.7588, 0.5780]),\n",
       " 'babypink': tensor([0.9420, 0.6501, 0.7864]),\n",
       " 'mediumpink': tensor([0.8987, 0.3908, 0.6272]),\n",
       " 'tomato': tensor([0.8491, 0.2221, 0.1608]),\n",
       " 'celadon': tensor([0.5686, 0.8296, 0.5669]),\n",
       " 'shamrock': tensor([0.2015, 0.7336, 0.2854]),\n",
       " 'applegreen': tensor([0.3928, 0.8224, 0.2300]),\n",
       " 'yellowgreen': tensor([0.6503, 0.8576, 0.2034]),\n",
       " 'pinegreen': tensor([0.1875, 0.4673, 0.2256]),\n",
       " 'deepmagenta': tensor([0.6306, 0.0937, 0.4186]),\n",
       " 'periwinkleblue': tensor([0.4455, 0.5003, 0.8516]),\n",
       " 'dullblue': tensor([0.3034, 0.4757, 0.6605]),\n",
       " 'darkindigo': tensor([0.2143, 0.1391, 0.4451]),\n",
       " 'skincolor': tensor([0.9214, 0.7316, 0.5701]),\n",
       " 'lightseafoamgreen': tensor([0.5925, 0.9159, 0.6819]),\n",
       " 'nightblue': tensor([0.1283, 0.1718, 0.4410]),\n",
       " 'reddishpurple': tensor([0.6208, 0.1519, 0.4237]),\n",
       " 'dustypink': tensor([0.8134, 0.5052, 0.5717]),\n",
       " 'tealblue': tensor([0.1723, 0.6065, 0.6565]),\n",
       " 'acidgreen': tensor([0.4153, 0.8824, 0.1642]),\n",
       " 'lightgrassgreen': tensor([0.4733, 0.8410, 0.3311]),\n",
       " 'britishracinggreen': tensor([0.1113, 0.3567, 0.1438]),\n",
       " 'greenishyellow': tensor([0.7532, 0.8635, 0.2025]),\n",
       " 'navyblue': tensor([0.1165, 0.1670, 0.4198]),\n",
       " 'bloodorange': tensor([0.8585, 0.2915, 0.1425]),\n",
       " 'shitgreen': tensor([0.4761, 0.5648, 0.1642]),\n",
       " 'darktan': tensor([0.6764, 0.5245, 0.2705]),\n",
       " 'reddish': tensor([0.7693, 0.2259, 0.2802]),\n",
       " 'pastelblue': tensor([0.4828, 0.6752, 0.8519]),\n",
       " 'flurogreen': tensor([0.2913, 0.9374, 0.1712]),\n",
       " 'hotmagenta': tensor([0.8908, 0.1277, 0.6526]),\n",
       " 'verylightpurple': tensor([0.8094, 0.6834, 0.8734]),\n",
       " 'ivory': tensor([0.9142, 0.9146, 0.7299]),\n",
       " 'drabgreen': tensor([0.4469, 0.5873, 0.3027]),\n",
       " 'vomitgreen': tensor([0.5625, 0.6961, 0.1960]),\n",
       " 'greenishblue': tensor([0.2229, 0.6694, 0.5840]),\n",
       " 'watermelon': tensor([0.8685, 0.2809, 0.3435]),\n",
       " 'kiwi': tensor([0.5054, 0.8360, 0.2615]),\n",
       " 'lightishgreen': tensor([0.3401, 0.8300, 0.3625]),\n",
       " 'dullteal': tensor([0.3383, 0.6119, 0.5543]),\n",
       " 'flourescentgreen': tensor([0.3195, 0.9359, 0.1950]),\n",
       " 'maroon': tensor([0.5105, 0.1219, 0.2148]),\n",
       " 'brightcyan': tensor([0.2180, 0.8678, 0.8697]),\n",
       " 'powderblue': tensor([0.5173, 0.6864, 0.8646]),\n",
       " 'lightbrightgreen': tensor([0.3440, 0.9163, 0.3474]),\n",
       " 'bubblegumpink': tensor([0.9364, 0.4347, 0.7159]),\n",
       " 'poopgreen': tensor([0.4869, 0.5577, 0.1345]),\n",
       " 'lightseafoam': tensor([0.5171, 0.9128, 0.6802]),\n",
       " 'iris': tensor([0.4868, 0.3293, 0.7768]),\n",
       " 'brownishpurple': tensor([0.4543, 0.2672, 0.3172]),\n",
       " 'sandyyellow': tensor([0.8667, 0.8203, 0.3621]),\n",
       " 'darklime': tensor([0.4550, 0.7535, 0.1593]),\n",
       " 'driedblood': tensor([0.4570, 0.1536, 0.1432]),\n",
       " 'duskypurple': tensor([0.5139, 0.3404, 0.5166]),\n",
       " 'pukegreen': tensor([0.5707, 0.6999, 0.1909]),\n",
       " 'easterpurple': tensor([0.6832, 0.4137, 0.8251]),\n",
       " 'uglypink': tensor([0.8356, 0.4062, 0.6147]),\n",
       " 'darkviolet': tensor([0.3632, 0.1500, 0.4629]),\n",
       " 'pine': tensor([0.2200, 0.4681, 0.2434]),\n",
       " 'seaweedgreen': tensor([0.3343, 0.6698, 0.3569]),\n",
       " 'sand': tensor([0.8245, 0.7302, 0.4152]),\n",
       " 'burgundy': tensor([0.4963, 0.1171, 0.2017]),\n",
       " 'verydarkgreen': tensor([0.1080, 0.2255, 0.1229]),\n",
       " 'marine': tensor([0.1820, 0.5356, 0.6121]),\n",
       " 'leather': tensor([0.6458, 0.4369, 0.2327]),\n",
       " 'pinkpurple': tensor([0.8052, 0.2751, 0.7213]),\n",
       " 'dustygreen': tensor([0.4149, 0.6492, 0.3986]),\n",
       " 'lightlilac': tensor([0.7967, 0.6425, 0.8785]),\n",
       " 'ice': tensor([0.6859, 0.8590, 0.8726]),\n",
       " 'metallicblue': tensor([0.3365, 0.4924, 0.6414]),\n",
       " 'lightturquoise': tensor([0.3635, 0.8686, 0.7621]),\n",
       " 'mauve': tensor([0.6526, 0.3685, 0.5420]),\n",
       " 'yellowishorange': tensor([0.9197, 0.6770, 0.1542]),\n",
       " 'silver': tensor([0.7180, 0.7405, 0.7369]),\n",
       " 'darkerpink': tensor([0.7979, 0.2621, 0.5408]),\n",
       " 'sky': tensor([0.3928, 0.7041, 0.8660]),\n",
       " 'puce': tensor([0.6578, 0.5307, 0.3992]),\n",
       " 'darkmintgreen': tensor([0.2561, 0.7483, 0.4425]),\n",
       " 'pink': tensor([0.8922, 0.3583, 0.6574]),\n",
       " 'lightburgundy': tensor([0.6488, 0.2138, 0.3113]),\n",
       " 'electricpink': tensor([0.9183, 0.1336, 0.6291]),\n",
       " 'deeppurple': tensor([0.3356, 0.1034, 0.4173]),\n",
       " 'bananayellow': tensor([0.9102, 0.9046, 0.2487]),\n",
       " 'offgreen': tensor([0.4049, 0.7236, 0.3471]),\n",
       " 'darkerpurple': tensor([0.4602, 0.1610, 0.5435]),\n",
       " 'brownyellow': tensor([0.7042, 0.6159, 0.1672]),\n",
       " 'cranberry': tensor([0.6255, 0.1169, 0.2393]),\n",
       " 'auburn': tensor([0.6273, 0.2648, 0.1370]),\n",
       " 'mossgreen': tensor([0.4078, 0.6036, 0.2793]),\n",
       " 'deeprose': tensor([0.7338, 0.2198, 0.3715]),\n",
       " 'dustyrose': tensor([0.7730, 0.4586, 0.5069]),\n",
       " 'amber': tensor([0.8282, 0.5738, 0.1399]),\n",
       " 'milkchocolate': tensor([0.5348, 0.3376, 0.1791]),\n",
       " 'rosypink': tensor([0.8696, 0.3907, 0.5527]),\n",
       " 'carnationpink': tensor([0.9187, 0.4905, 0.6445]),\n",
       " 'cocoa': tensor([0.5057, 0.3519, 0.2524]),\n",
       " 'pretty': tensor([0.3734, 0.4231, 0.5782]),\n",
       " 'redpurple': tensor([0.6146, 0.1448, 0.4076]),\n",
       " 'cream': tensor([0.9245, 0.9006, 0.6653]),\n",
       " 'lightlime': tensor([0.5986, 0.9215, 0.3960]),\n",
       " 'lipstick': tensor([0.7948, 0.1726, 0.3391]),\n",
       " 'offblue': tensor([0.3494, 0.5016, 0.7563]),\n",
       " 'cherry': tensor([0.7824, 0.1159, 0.2256]),\n",
       " 'steelblue': tensor([0.3457, 0.4989, 0.6175]),\n",
       " 'purpleypink': tensor([0.7930, 0.2816, 0.7120]),\n",
       " 'lightgreen': tensor([0.4624, 0.8765, 0.4164]),\n",
       " 'lilac': tensor([0.7041, 0.4945, 0.8243]),\n",
       " 'lightfuchsia': tensor([0.8589, 0.3728, 0.7882]),\n",
       " 'dullred': tensor([0.7290, 0.2460, 0.2565]),\n",
       " 'navy': tensor([0.1192, 0.1687, 0.3964]),\n",
       " 'sandstone': tensor([0.7793, 0.6468, 0.4283]),\n",
       " 'mustard': tensor([0.7977, 0.7065, 0.1603]),\n",
       " 'teal': tensor([0.2171, 0.7014, 0.6213]),\n",
       " 'slategray': tensor([0.4313, 0.4883, 0.5101]),\n",
       " 'darkgreen': tensor([0.1575, 0.3902, 0.1589]),\n",
       " 'lighterpurple': tensor([0.6644, 0.3257, 0.7876]),\n",
       " 'evergreen': tensor([0.1667, 0.4610, 0.2152]),\n",
       " 'babypukegreen': tensor([0.6199, 0.7270, 0.2016]),\n",
       " 'seafoamgreen': tensor([0.3724, 0.8650, 0.5909]),\n",
       " 'brownred': tensor([0.5807, 0.2416, 0.1792]),\n",
       " 'redviolet': tensor([0.6522, 0.1272, 0.4618]),\n",
       " 'deepteal': tensor([0.1094, 0.4123, 0.4211]),\n",
       " 'greenishteal': tensor([0.2148, 0.7307, 0.5096]),\n",
       " 'magenta': tensor([0.7853, 0.1473, 0.5918]),\n",
       " 'royalblue': tensor([0.1515, 0.1655, 0.7067]),\n",
       " 'rustred': tensor([0.6548, 0.2090, 0.1359]),\n",
       " 'saffron': tensor([0.8736, 0.6780, 0.1992]),\n",
       " 'fadedred': tensor([0.7838, 0.2919, 0.3111]),\n",
       " 'moss': tensor([0.4300, 0.6065, 0.2995]),\n",
       " 'brightyellowgreen': tensor([0.5450, 0.9118, 0.1589]),\n",
       " 'midgreen': tensor([0.2857, 0.6836, 0.2648]),\n",
       " 'almostblack': tensor([0.1287, 0.1378, 0.1478]),\n",
       " 'midnightpurple': tensor([0.2136, 0.1049, 0.3066]),\n",
       " 'burntred': tensor([0.6508, 0.1989, 0.1347]),\n",
       " 'truegreen': tensor([0.1486, 0.6586, 0.1700]),\n",
       " 'uglygreen': tensor([0.4415, 0.7178, 0.2890]),\n",
       " 'brightaqua': tensor([0.1805, 0.8934, 0.8075]),\n",
       " 'barney': tensor([0.6315, 0.1825, 0.6749]),\n",
       " 'darkpeach': tensor([0.8549, 0.5023, 0.3700]),\n",
       " 'rosepink': tensor([0.8710, 0.4199, 0.5604]),\n",
       " 'camogreen': tensor([0.4107, 0.5106, 0.2189]),\n",
       " 'teagreen': tensor([0.5973, 0.8354, 0.5263]),\n",
       " 'grass': tensor([0.3259, 0.7182, 0.2220]),\n",
       " 'bronze': tensor([0.6636, 0.4989, 0.1458]),\n",
       " 'nude': tensor([0.8853, 0.7127, 0.5493]),\n",
       " 'cadetblue': tensor([0.2886, 0.4492, 0.6103]),\n",
       " 'heliotrope': tensor([0.7263, 0.3175, 0.7910]),\n",
       " 'dustyred': tensor([0.7328, 0.2836, 0.2879]),\n",
       " 'offwhite': tensor([0.8937, 0.9068, 0.7941]),\n",
       " 'khaki': tensor([0.6400, 0.6297, 0.3338]),\n",
       " 'lemonlime': tensor([0.6850, 0.9114, 0.2092]),\n",
       " 'mocha': tensor([0.5937, 0.4418, 0.2915]),\n",
       " 'azure': tensor([0.2232, 0.5493, 0.8193]),\n",
       " 'darkteal': tensor([0.1426, 0.4425, 0.4237]),\n",
       " 'navygreen': tensor([0.2686, 0.4305, 0.2169]),\n",
       " 'aquamarine': tensor([0.2225, 0.7802, 0.6944]),\n",
       " 'pumpkinorange': tensor([0.8830, 0.4704, 0.1239]),\n",
       " 'parchment': tensor([0.8935, 0.8751, 0.5986]),\n",
       " 'blueygreen': tensor([0.2155, 0.7166, 0.5225]),\n",
       " 'lime': tensor([0.4991, 0.8919, 0.2204]),\n",
       " 'slate': tensor([0.4198, 0.4995, 0.5284]),\n",
       " 'darksand': tensor([0.7165, 0.5830, 0.3144]),\n",
       " 'skintone': tensor([0.9135, 0.7201, 0.5438]),\n",
       " 'lightperiwinkle': tensor([0.6573, 0.6595, 0.8929]),\n",
       " 'grape': tensor([0.4747, 0.1932, 0.5242]),\n",
       " 'royal': tensor([0.2412, 0.1849, 0.6650]),\n",
       " 'verylightpink': tensor([0.9474, 0.8247, 0.8576]),\n",
       " 'mintgreen': tensor([0.4117, 0.8805, 0.5479]),\n",
       " 'brownishpink': tensor([0.7669, 0.5043, 0.4681]),\n",
       " 'hotgreen': tensor([0.3052, 0.9091, 0.1974]),\n",
       " 'lightviolet': tensor([0.6920, 0.4349, 0.8263]),\n",
       " 'darkred': tensor([0.5635, 0.1027, 0.1278]),\n",
       " 'claybrown': tensor([0.6581, 0.4051, 0.2209]),\n",
       " 'brightblue': tensor([0.1478, 0.4435, 0.8855]),\n",
       " 'brick': tensor([0.6548, 0.2458, 0.1909]),\n",
       " 'butteryellow': tensor([0.9350, 0.9035, 0.3997]),\n",
       " 'denim': tensor([0.2351, 0.3916, 0.6003]),\n",
       " 'peagreen': tensor([0.5371, 0.7283, 0.2293]),\n",
       " 'purplishblue': tensor([0.3591, 0.2276, 0.7820]),\n",
       " 'dandelion': tensor([0.8873, 0.7940, 0.1871]),\n",
       " 'taupe': tensor([0.6894, 0.6171, 0.4488]),\n",
       " 'tealish': tensor([0.2388, 0.7296, 0.6415]),\n",
       " 'lightaquamarine': tensor([0.3886, 0.8785, 0.7723]),\n",
       " 'snotgreen': tensor([0.5541, 0.7658, 0.2012]),\n",
       " 'mudbrown': tensor([0.4774, 0.3458, 0.1507]),\n",
       " 'melon': tensor([0.8614, 0.5494, 0.3441]),\n",
       " 'cornflowerblue': tensor([0.3396, 0.4721, 0.8192]),\n",
       " 'cobaltblue': tensor([0.1859, 0.2737, 0.6947]),\n",
       " 'highlightergreen': tensor([0.3029, 0.9206, 0.1936]),\n",
       " 'grayishblue': tensor([0.3969, 0.5384, 0.6389]),\n",
       " 'olivegreen': tensor([0.4578, 0.5638, 0.1880]),\n",
       " 'celery': tensor([0.6778, 0.8716, 0.4574]),\n",
       " 'brightpink': tensor([0.9220, 0.1760, 0.6499]),\n",
       " 'blurple': tensor([0.3767, 0.2264, 0.7689]),\n",
       " 'lightpeagreen': tensor([0.6622, 0.8482, 0.4006]),\n",
       " 'vividpurple': tensor([0.5951, 0.1117, 0.7913]),\n",
       " 'rust': tensor([0.6733, 0.2826, 0.1436]),\n",
       " 'aquagreen': tensor([0.2300, 0.8130, 0.5544]),\n",
       " 'lighttan': tensor([0.8660, 0.7839, 0.5277]),\n",
       " 'darkishgreen': tensor([0.1935, 0.5330, 0.2214]),\n",
       " 'mintygreen': tensor([0.3492, 0.8670, 0.5212]),\n",
       " 'ruby': tensor([0.7008, 0.1116, 0.2720]),\n",
       " 'cyan': tensor([0.2599, 0.8340, 0.8290]),\n",
       " 'darkslateblue': tensor([0.1955, 0.2953, 0.4522]),\n",
       " 'cerulean': tensor([0.1824, 0.4781, 0.7815]),\n",
       " 'dirtyyellow': tensor([0.7866, 0.7611, 0.2078]),\n",
       " 'grapepurple': tensor([0.4592, 0.1519, 0.4996]),\n",
       " 'ecru': tensor([0.8286, 0.8014, 0.5784]),\n",
       " 'softpurple': tensor([0.6138, 0.3971, 0.7192]),\n",
       " 'squash': tensor([0.8656, 0.6448, 0.1917]),\n",
       " 'rawumber': tensor([0.5815, 0.3886, 0.1513]),\n",
       " 'algae': tensor([0.3367, 0.6936, 0.3969]),\n",
       " 'dirtypink': tensor([0.7929, 0.4792, 0.5398]),\n",
       " 'barf': tensor([0.6281, 0.6527, 0.2244]),\n",
       " 'mediumpurple': tensor([0.5868, 0.2598, 0.7072]),\n",
       " 'babyshitgreen': tensor([0.5740, 0.6748, 0.2126]),\n",
       " 'orchid': tensor([0.7221, 0.3609, 0.7465]),\n",
       " 'blushpink': tensor([0.8964, 0.5184, 0.5695]),\n",
       " 'brightseagreen': tensor([0.1819, 0.9091, 0.5852]),\n",
       " 'crimson': tensor([0.6634, 0.1020, 0.1672]),\n",
       " 'mutedpink': tensor([0.8194, 0.4670, 0.5891]),\n",
       " 'peasoup': tensor([0.6107, 0.7061, 0.2149]),\n",
       " 'apple': tensor([0.4997, 0.6909, 0.2706]),\n",
       " 'chartreuse': tensor([0.6245, 0.8295, 0.2119]),\n",
       " 'lightmaroon': tensor([0.6650, 0.2607, 0.3503]),\n",
       " 'darkyellow': tensor([0.7845, 0.7074, 0.1514]),\n",
       " 'twilightblue': tensor([0.2315, 0.2997, 0.6356]),\n",
       " 'rawsienna': tensor([0.6816, 0.4035, 0.1403]),\n",
       " 'fluorescentgreen': tensor([0.3178, 0.9353, 0.1776]),\n",
       " 'periwinkle': tensor([0.5129, 0.4985, 0.8464]),\n",
       " 'lightmagenta': tensor([0.8343, 0.3244, 0.6991]),\n",
       " 'seagreen': tensor([0.2915, 0.7901, 0.5404]),\n",
       " 'eggshellblue': tensor([0.5565, 0.8107, 0.8439]),\n",
       " 'shamrockgreen': tensor([0.2058, 0.7354, 0.2876]),\n",
       " 'plumpurple': tensor([0.4303, 0.1540, 0.4482]),\n",
       " 'lightnavyblue': tensor([0.2051, 0.3492, 0.5832]),\n",
       " 'deeplavender': tensor([0.5703, 0.3291, 0.7228]),\n",
       " 'purpleyblue': tensor([0.3655, 0.2381, 0.7724]),\n",
       " 'goldenyellow': tensor([0.9036, 0.7641, 0.1546]),\n",
       " 'snot': tensor([0.6227, 0.7548, 0.2218]),\n",
       " 'froggreen': tensor([0.3446, 0.7594, 0.2035]),\n",
       " 'grayishpurple': tensor([0.5267, 0.4233, 0.5514]),\n",
       " 'grassygreen': tensor([0.2994, 0.7117, 0.2112]),\n",
       " 'berry': tensor([0.6414, 0.1424, 0.3595]),\n",
       " 'twilight': tensor([0.3015, 0.3010, 0.6023]),\n",
       " 'raspberry': tensor([0.7066, 0.1463, 0.3566]),\n",
       " 'fuchsia': tensor([0.8095, 0.1714, 0.6488]),\n",
       " 'darkcyan': tensor([0.1949, 0.6107, 0.6292]),\n",
       " 'fadedyellow': tensor([0.8900, 0.9024, 0.4074]),\n",
       " 'greenbrown': tensor([0.4769, 0.4815, 0.1621]),\n",
       " 'mediumblue': tensor([0.1994, 0.4235, 0.7811]),\n",
       " 'duckeggblue': tensor([0.5838, 0.8279, 0.8108]),\n",
       " 'darkmagenta': tensor([0.6344, 0.1230, 0.4276]),\n",
       " 'sunshineyellow': tensor([0.9354, 0.8912, 0.2291]),\n",
       " 'kermitgreen': tensor([0.3410, 0.7871, 0.1791]),\n",
       " 'keylime': tensor([0.5512, 0.9109, 0.3768]),\n",
       " 'black': tensor([0.1296, 0.1226, 0.1314]),\n",
       " 'mango': tensor([0.9328, 0.5994, 0.2326]),\n",
       " 'orangish': tensor([0.8786, 0.5080, 0.2092]),\n",
       " 'hospitalgreen': tensor([0.4235, 0.8214, 0.5467]),\n",
       " 'darkolive': tensor([0.3300, 0.3829, 0.1333]),\n",
       " 'grapefruit': tensor([0.8929, 0.3811, 0.3481]),\n",
       " 'rouge': tensor([0.6936, 0.2199, 0.2919]),\n",
       " 'adobe': tensor([0.7576, 0.4468, 0.2770]),\n",
       " 'lightishred': tensor([0.8859, 0.3153, 0.4242]),\n",
       " 'dusk': tensor([0.3719, 0.3492, 0.5068]),\n",
       " 'darkroyalblue': tensor([0.1219, 0.1207, 0.5370]),\n",
       " 'peachypink': tensor([0.9288, 0.5310, 0.5248]),\n",
       " 'beige': tensor([0.8289, 0.7520, 0.5221]),\n",
       " 'denimblue': tensor([0.2170, 0.3773, 0.5859]),\n",
       " 'mutedblue': tensor([0.2723, 0.4684, 0.6593]),\n",
       " 'eggplant': tensor([0.3795, 0.1590, 0.3631]),\n",
       " 'greenblue': tensor([0.2002, 0.6827, 0.5232]),\n",
       " 'darkcoral': tensor([0.8195, 0.3077, 0.3056]),\n",
       " 'dustyblue': tensor([0.3447, 0.5182, 0.6779]),\n",
       " 'lightmint': tensor([0.6164, 0.9195, 0.6509]),\n",
       " 'frenchblue': tensor([0.2894, 0.4310, 0.7554]),\n",
       " 'camouflagegreen': tensor([0.4089, 0.4979, 0.2332]),\n",
       " 'deepviolet': tensor([0.3682, 0.1259, 0.4655]),\n",
       " 'brightviolet': tensor([0.6588, 0.1813, 0.8347]),\n",
       " 'brownishgreen': tensor([0.4833, 0.5244, 0.1803]),\n",
       " 'darkbeige': tensor([0.6987, 0.5960, 0.3743]),\n",
       " 'blueish': tensor([0.2945, 0.4754, 0.7317]),\n",
       " 'greenishtan': tensor([0.6968, 0.7276, 0.3794]),\n",
       " 'vomityellow': tensor([0.7686, 0.7685, 0.1906]),\n",
       " 'macaroniandcheese': tensor([0.9361, 0.7037, 0.1941]),\n",
       " 'yellow': tensor([0.8935, 0.8689, 0.2082]),\n",
       " 'seablue': tensor([0.2013, 0.5521, 0.6986]),\n",
       " 'brightyellow': tensor([0.9222, 0.9240, 0.1307]),\n",
       " 'vomit': tensor([0.6345, 0.6586, 0.1965]),\n",
       " 'sickgreen': tensor([0.5668, 0.7570, 0.2770]),\n",
       " 'coral': tensor([0.9016, 0.3869, 0.3592]),\n",
       " 'grossgreen': tensor([0.5042, 0.7397, 0.2754]),\n",
       " 'flesh': tensor([0.8960, 0.6751, 0.5410]),\n",
       " 'muddygreen': tensor([0.4228, 0.5136, 0.2057]),\n",
       " 'greengray': tensor([0.4700, 0.5941, 0.4460]),\n",
       " 'darkforestgreen': tensor([0.1266, 0.2719, 0.1309]),\n",
       " 'electricblue': tensor([0.1570, 0.4330, 0.8867]),\n",
       " 'mustardyellow': tensor([0.8145, 0.7342, 0.1551]),\n",
       " 'mint': tensor([0.4527, 0.8841, 0.5767]),\n",
       " 'lightblue': tensor([0.3854, 0.7213, 0.8705]),\n",
       " 'darkmint': tensor([0.2776, 0.7424, 0.4492]),\n",
       " 'darkergreen': tensor([0.2089, 0.5604, 0.2040]),\n",
       " 'brightteal': tensor([0.1758, 0.8704, 0.7503]),\n",
       " 'iceblue': tensor([0.6061, 0.8531, 0.8806]),\n",
       " 'brightlavender': tensor([0.7426, 0.3412, 0.8905]),\n",
       " 'brightindigo': tensor([0.3857, 0.1594, 0.8358]),\n",
       " 'darkpurple': tensor([0.3307, 0.1250, 0.3893]),\n",
       " 'foamgreen': tensor([0.4166, 0.8666, 0.5653]),\n",
       " 'darkmauve': tensor([0.5302, 0.2686, 0.4105]),\n",
       " 'brightred': tensor([0.9245, 0.1115, 0.1548]),\n",
       " 'lemon': tensor([0.8659, 0.9211, 0.2946]),\n",
       " 'fleshpink': tensor([0.9053, 0.6155, 0.5655]),\n",
       " 'vividgreen': tensor([0.2079, 0.8412, 0.1716]),\n",
       " 'poop': tensor([0.5412, 0.4309, 0.1670]),\n",
       " 'avocado': tensor([0.5464, 0.7172, 0.2624]),\n",
       " 'mulberry': tensor([0.5895, 0.1573, 0.3841]),\n",
       " 'darkseafoamgreen': tensor([0.2386, 0.6908, 0.4606]),\n",
       " 'pukeyellow': tensor([0.7445, 0.7557, 0.1717]),\n",
       " 'tomatored': tensor([0.8434, 0.1975, 0.1371]),\n",
       " 'darkerblue': tensor([0.1482, 0.2388, 0.6361]),\n",
       " 'slimegreen': tensor([0.4816, 0.7793, 0.2099]),\n",
       " 'marineblue': tensor([0.1450, 0.3833, 0.6110]),\n",
       " 'coffee': tensor([0.5686, 0.4111, 0.2347]),\n",
       " 'bluishgreen': tensor([0.2007, 0.6928, 0.4933]),\n",
       " 'dullyellow': tensor([0.8559, 0.8135, 0.2882]),\n",
       " 'stormyblue': tensor([0.2967, 0.4569, 0.5779]),\n",
       " 'treegreen': tensor([0.2373, 0.6090, 0.1918]),\n",
       " 'darkaquamarine': tensor([0.1528, 0.5012, 0.4835]),\n",
       " 'duskyrose': tensor([0.7421, 0.4238, 0.4720]),\n",
       " 'leafygreen': tensor([0.3075, 0.6873, 0.2180]),\n",
       " 'dirtyblue': tensor([0.2684, 0.5079, 0.6073]),\n",
       " 'emerald': tensor([0.1734, 0.6564, 0.3185]),\n",
       " 'butter': tensor([0.9311, 0.9001, 0.4363]),\n",
       " 'springgreen': tensor([0.4471, 0.8673, 0.3248]),\n",
       " 'lightforestgreen': tensor([0.3361, 0.6292, 0.3189]),\n",
       " 'lightcyan': tensor([0.4929, 0.8948, 0.8486]),\n",
       " 'pear': tensor([0.7241, 0.8468, 0.2911]),\n",
       " 'redpink': tensor([0.8442, 0.1858, 0.3450]),\n",
       " 'puke': tensor([0.6318, 0.6680, 0.2047]),\n",
       " 'mustardbrown': tensor([0.6613, 0.5264, 0.1365]),\n",
       " 'wisteria': tensor([0.6435, 0.4163, 0.7753]),\n",
       " 'bluepurple': tensor([0.3736, 0.2224, 0.7742]),\n",
       " 'bubblegum': tensor([0.9008, 0.4334, 0.6849]),\n",
       " 'dirt': tensor([0.5772, 0.4295, 0.2247]),\n",
       " 'lightpink': tensor([0.9256, 0.6497, 0.7802]),\n",
       " 'gold': tensor([0.8099, 0.6881, 0.1515]),\n",
       " 'weird': tensor([0.5859, 0.5087, 0.4998]),\n",
       " 'velvet': tensor([0.5123, 0.2035, 0.4371]),\n",
       " 'turquoiseblue': tensor([0.1763, 0.6964, 0.7485]),\n",
       " 'diarrhea': tensor([0.5983, 0.5036, 0.1154]),\n",
       " 'softgreen': tensor([0.3924, 0.7883, 0.4260]),\n",
       " 'orangishred': tensor([0.8509, 0.2523, 0.1427]),\n",
       " 'chestnut': tensor([0.5565, 0.2813, 0.1552]),\n",
       " 'darknavy': tensor([0.0943, 0.1194, 0.2742]),\n",
       " 'pureblue': tensor([0.1125, 0.1727, 0.8382]),\n",
       " 'brightlilac': tensor([0.7308, 0.3211, 0.8851]),\n",
       " 'peacockblue': tensor([0.1291, 0.4493, 0.7235]),\n",
       " 'burntyellow': tensor([0.8178, 0.6902, 0.1511]),\n",
       " 'gunmetal': tensor([0.3691, 0.4234, 0.4568]),\n",
       " 'grayish': tensor([0.5717, 0.5922, 0.5497]),\n",
       " 'amethyst': tensor([0.5717, 0.2863, 0.6906]),\n",
       " 'carnation': tensor([0.9068, 0.4609, 0.5937]),\n",
       " 'olive': tensor([0.5029, 0.5763, 0.2055]),\n",
       " 'grassgreen': tensor([0.2972, 0.7158, 0.1961]),\n",
       " 'brightlimegreen': tensor([0.3907, 0.9254, 0.1490]),\n",
       " 'violetpink': tensor([0.8475, 0.3144, 0.7681]),\n",
       " 'violet': tensor([0.5540, 0.2326, 0.7134]),\n",
       " 'pukebrown': tensor([0.5764, 0.4870, 0.1416]),\n",
       " 'blood': tensor([0.5855, 0.1346, 0.1624]),\n",
       " 'electricgreen': tensor([0.2975, 0.9162, 0.1964]),\n",
       " 'brightlime': tensor([0.4309, 0.9163, 0.1818]),\n",
       " 'duskypink': tensor([0.8037, 0.4574, 0.5493]),\n",
       " 'hotpink': tensor([0.9093, 0.1520, 0.6048]),\n",
       " 'verylightblue': tensor([0.7138, 0.9015, 0.8955]),\n",
       " 'pastelpink': tensor([0.9129, 0.6284, 0.7419]),\n",
       " 'weirdgreen': tensor([0.3466, 0.7463, 0.3707]),\n",
       " 'bloodred': tensor([0.6252, 0.0927, 0.1079]),\n",
       " 'sagegreen': tensor([0.5021, 0.6965, 0.4192]),\n",
       " 'lightgold': tensor([0.8793, 0.8170, 0.3410]),\n",
       " 'lightlightblue': tensor([0.6696, 0.8959, 0.8986]),\n",
       " 'shockingpink': tensor([0.9127, 0.1462, 0.6149]),\n",
       " 'tiffanyblue': tensor([0.3216, 0.8218, 0.7945]),\n",
       " 'seafoam': tensor([0.3834, 0.8553, 0.6184]),\n",
       " 'cobalt': tensor([0.2105, 0.3136, 0.6607]),\n",
       " 'darkkhaki': tensor([0.5482, 0.5027, 0.2613]),\n",
       " 'tealgreen': tensor([0.2097, 0.7096, 0.4893]),\n",
       " 'pastelpurple': tensor([0.6987, 0.5027, 0.8152]),\n",
       " 'burntsienna': tensor([0.6797, 0.3340, 0.1343]),\n",
       " 'darkaqua': tensor([0.1486, 0.5421, 0.5187]),\n",
       " 'brightgreen': tensor([0.2446, 0.8859, 0.1956]),\n",
       " 'midnightblue': tensor([0.1189, 0.1377, 0.3624]),\n",
       " 'lightseagreen': tensor([0.4516, 0.8778, 0.6455]),\n",
       " 'charcoal': tensor([0.2393, 0.2523, 0.2500]),\n",
       " 'greenish': tensor([0.3628, 0.7284, 0.3899]),\n",
       " 'olivebrown': tensor([0.4995, 0.4371, 0.1601]),\n",
       " 'rose': tensor([0.8257, 0.3742, 0.4907]),\n",
       " 'verylightgreen': tensor([0.7046, 0.9319, 0.6501]),\n",
       " 'purpleblue': tensor([0.3687, 0.2261, 0.7702]),\n",
       " 'dirtbrown': tensor([0.5048, 0.3663, 0.1692]),\n",
       " 'mahogany': tensor([0.4973, 0.1881, 0.1294]),\n",
       " 'blueypurple': tensor([0.3787, 0.2345, 0.7630]),\n",
       " 'greenapple': tensor([0.3588, 0.8215, 0.1968]),\n",
       " 'deeppink': tensor([0.8085, 0.1758, 0.4656]),\n",
       " 'grayishgreen': tensor([0.4718, 0.6242, 0.4481]),\n",
       " 'fawn': tensor([0.7495, 0.6289, 0.4024]),\n",
       " 'maize': tensor([0.8468, 0.7551, 0.2386]),\n",
       " 'sea': tensor([0.2852, 0.6445, 0.6574]),\n",
       " 'dirtygreen': tensor([0.4394, 0.5981, 0.2376]),\n",
       " 'richblue': tensor([0.1383, 0.2272, 0.7404]),\n",
       " 'caramel': tensor([0.7505, 0.5267, 0.1918]),\n",
       " 'darkbluegreen': tensor([0.1217, 0.3788, 0.3460]),\n",
       " 'coolblue': tensor([0.2515, 0.4926, 0.7477]),\n",
       " 'royalpurple': tensor([0.3962, 0.1158, 0.5541]),\n",
       " 'lightmintgreen': tensor([0.5625, 0.8956, 0.6355]),\n",
       " 'sapgreen': tensor([0.3799, 0.5983, 0.1740]),\n",
       " 'gross': tensor([0.6166, 0.6219, 0.2959]),\n",
       " 'mutedpurple': tensor([0.5207, 0.3433, 0.5567]),\n",
       " 'olivedrab': tensor([0.4503, 0.5105, 0.2169]),\n",
       " 'darkseafoam': tensor([0.2450, 0.7143, 0.5119]),\n",
       " 'huntergreen': tensor([0.1671, 0.3971, 0.1719]),\n",
       " 'brightmagenta': tensor([0.8691, 0.1233, 0.6758]),\n",
       " 'lightolive': tensor([0.6376, 0.7447, 0.3429]),\n",
       " 'lawngreen': tensor([0.3079, 0.7063, 0.1899]),\n",
       " 'lightred': tensor([0.8723, 0.2903, 0.3344]),\n",
       " 'militarygreen': tensor([0.3772, 0.4733, 0.2165]),\n",
       " 'cornflower': tensor([0.3831, 0.4741, 0.8101]),\n",
       " 'merlot': tensor([0.4824, 0.0990, 0.2287]),\n",
       " 'softpink': tensor([0.9038, 0.5529, 0.6796]),\n",
       " 'pinkishpurple': tensor([0.7974, 0.2783, 0.7224]),\n",
       " 'darktaupe': tensor([0.5305, 0.4332, 0.3089]),\n",
       " 'offyellow': tensor([0.8449, 0.8574, 0.2521]),\n",
       " 'blush': tensor([0.8541, 0.5095, 0.5318]),\n",
       " 'boogergreen': tensor([0.5476, 0.7014, 0.1873]),\n",
       " 'topaz': tensor([0.4130, 0.6622, 0.5860]),\n",
       " 'peach': tensor([0.9326, 0.6485, 0.4688]),\n",
       " 'babypoopgreen': tensor([0.5443, 0.6285, 0.1514]),\n",
       " 'brownish': tensor([0.6043, 0.4181, 0.2457]),\n",
       " 'rustorange': tensor([0.7846, 0.3747, 0.1293]),\n",
       " 'irishgreen': tensor([0.1704, 0.6877, 0.2521]),\n",
       " 'lightroyalblue': tensor([0.2137, 0.3351, 0.8020]),\n",
       " 'turquoisegreen': tensor([0.2066, 0.8019, 0.5565]),\n",
       " 'battleshipgray': tensor([0.4805, 0.5443, 0.5745]),\n",
       " 'seafoamblue': tensor([0.3107, 0.7487, 0.7092]),\n",
       " 'tangerine': tensor([0.9287, 0.5347, 0.1923]),\n",
       " 'sunflower': tensor([0.9149, 0.8130, 0.2021]),\n",
       " 'mushroom': tensor([0.6683, 0.5638, 0.4542]),\n",
       " 'greenyellow': tensor([0.6415, 0.8406, 0.1981]),\n",
       " 'electriclime': tensor([0.4215, 0.9279, 0.1655]),\n",
       " 'yellowishbrown': tensor([0.6632, 0.5560, 0.1517]),\n",
       " 'pinkyred': tensor([0.8500, 0.1709, 0.3159]),\n",
       " 'claret': tensor([0.5429, 0.1058, 0.2328]),\n",
       " 'lightmauve': tensor([0.7577, 0.5234, 0.6749]),\n",
       " 'limeyellow': tensor([0.8107, 0.9292, 0.2335]),\n",
       " 'fleshtone': tensor([0.8944, 0.6697, 0.5346]),\n",
       " 'viridian': tensor([0.2433, 0.6164, 0.3462]),\n",
       " 'poopbrown': tensor([0.5233, 0.3795, 0.1059]),\n",
       " 'oceangreen': tensor([0.2499, 0.7038, 0.4817]),\n",
       " 'khakigreen': tensor([0.4978, 0.5861, 0.2745]),\n",
       " 'barbiepink': tensor([0.9255, 0.2675, 0.6872]),\n",
       " 'vermillion': tensor([0.7586, 0.2680, 0.2311]),\n",
       " 'wintergreen': tensor([0.3082, 0.7896, 0.4956]),\n",
       " 'lavenderblue': tensor([0.4755, 0.4435, 0.8501]),\n",
       " 'darkpink': tensor([0.7869, 0.2451, 0.4791]),\n",
       " 'lighterblue': tensor([0.3140, 0.5936, 0.8582]),\n",
       " 'steelgray': tensor([0.4627, 0.5239, 0.5541]),\n",
       " 'buff': tensor([0.8489, 0.7462, 0.4800]),\n",
       " 'spearmint': tensor([0.3123, 0.8490, 0.5012]),\n",
       " 'vividblue': tensor([0.1208, 0.2686, 0.9005]),\n",
       " 'lightpurple': tensor([0.6969, 0.4169, 0.8137]),\n",
       " 'limegreen': tensor([0.4360, 0.8912, 0.1879]),\n",
       " 'duskblue': tensor([0.2524, 0.3407, 0.6339]),\n",
       " 'lightaqua': tensor([0.4315, 0.8868, 0.7849]),\n",
       " 'sandy': tensor([0.8373, 0.7453, 0.4080]),\n",
       " 'white': tensor([0.8910, 0.8940, 0.8602]),\n",
       " 'ceruleanblue': tensor([0.1905, 0.4572, 0.7974]),\n",
       " 'bluegreen': tensor([0.1995, 0.6640, 0.5410]),\n",
       " 'dullgreen': tensor([0.4042, 0.6476, 0.3546]),\n",
       " 'dullpurple': tensor([0.5333, 0.3495, 0.5439]),\n",
       " 'fern': tensor([0.4103, 0.6517, 0.3075]),\n",
       " 'darkturquoise': tensor([0.1393, 0.4832, 0.4673]),\n",
       " 'darkgold': tensor([0.6725, 0.5631, 0.1191]),\n",
       " 'kellygreen': tensor([0.1716, 0.6944, 0.2267]),\n",
       " 'orangeyred': tensor([0.8660, 0.2643, 0.1513]),\n",
       " 'trueblue': tensor([0.1314, 0.2369, 0.7924]),\n",
       " 'blue': tensor([0.2091, 0.3767, 0.7748]),\n",
       " 'darkmustard': tensor([0.6603, 0.5485, 0.1064]),\n",
       " 'lightnavy': tensor([0.1932, 0.3368, 0.5542]),\n",
       " 'lightlimegreen': tensor([0.5829, 0.9211, 0.3787]),\n",
       " 'darkfuchsia': tensor([0.6607, 0.1305, 0.4730]),\n",
       " 'lightgreenblue': tensor([0.3771, 0.8709, 0.6599]),\n",
       " 'lightyellow': tensor([0.9176, 0.9286, 0.4568]),\n",
       " 'lightbeige': tensor([0.8847, 0.8556, 0.6313]),\n",
       " 'ocean': tensor([0.2037, 0.5525, 0.6705]),\n",
       " 'earth': tensor([0.5878, 0.4104, 0.2099]),\n",
       " 'dullpink': tensor([0.8297, 0.4926, 0.5901]),\n",
       " 'yellowish': tensor([0.8457, 0.8249, 0.2859]),\n",
       " 'lightplum': tensor([0.6171, 0.2926, 0.5198]),\n",
       " 'deepaqua': tensor([0.1454, 0.6194, 0.6103]),\n",
       " 'darklilac': tensor([0.5748, 0.3545, 0.6976]),\n",
       " 'bottlegreen': tensor([0.1688, 0.4688, 0.1783]),\n",
       " 'lightyellowgreen': tensor([0.6898, 0.9076, 0.4052]),\n",
       " 'mud': tensor([0.5247, 0.4048, 0.2031]),\n",
       " 'pastelyellow': tensor([0.9280, 0.9230, 0.4376]),\n",
       " 'scarlet': tensor([0.7611, 0.1145, 0.1666]),\n",
       " 'deepgreen': tensor([0.1395, 0.4367, 0.1616]),\n",
       " 'goldenrod': tensor([0.8612, 0.7220, 0.1572]),\n",
       " 'terracotta': tensor([0.7545, 0.3730, 0.2229]),\n",
       " 'peasoupgreen': tensor([0.5813, 0.6916, 0.2308]),\n",
       " 'lightlavender': tensor([0.7865, 0.6374, 0.8666]),\n",
       " 'darkishblue': tensor([0.1581, 0.2697, 0.6014]),\n",
       " 'dustyteal': tensor([0.3054, 0.5913, 0.5512]),\n",
       " 'golden': tensor([0.8705, 0.7099, 0.1600]),\n",
       " 'steel': tensor([0.4719, 0.5444, 0.5702]),\n",
       " 'brightlightgreen': tensor([0.3045, 0.9219, 0.2984]),\n",
       " 'lightteal': tensor([0.3647, 0.8227, 0.7017]),\n",
       " 'wheat': tensor([0.8405, 0.7655, 0.3669]),\n",
       " 'fadedpink': tensor([0.8529, 0.5739, 0.6657]),\n",
       " 'canary': tensor([0.9331, 0.9012, 0.2824]),\n",
       " 'jade': tensor([0.2766, 0.7021, 0.4359]),\n",
       " 'dodgerblue': tensor([0.1853, 0.4127, 0.8074]),\n",
       " 'darkrose': tensor([0.7070, 0.2622, 0.3806]),\n",
       " 'midblue': tensor([0.2061, 0.4147, 0.7833]),\n",
       " 'pinkred': tensor([0.8469, 0.1715, 0.3351]),\n",
       " 'canaryyellow': tensor([0.9375, 0.9023, 0.2415]),\n",
       " 'lightkellygreen': tensor([0.2842, 0.8253, 0.3580]),\n",
       " 'pinkypurple': tensor([0.7858, 0.2674, 0.7192]),\n",
       " 'eggshell': tensor([0.8758, 0.9091, 0.7697]),\n",
       " 'carolinablue': tensor([0.4170, 0.6900, 0.8782]),\n",
       " 'darklavender': tensor([0.5621, 0.3540, 0.6774]),\n",
       " 'warmblue': tensor([0.2593, 0.3359, 0.7418]),\n",
       " 'sunfloweryellow': tensor([0.9334, 0.8131, 0.1675]),\n",
       " 'coralpink': tensor([0.9098, 0.4025, 0.4520]),\n",
       " 'blueviolet': tensor([0.3734, 0.1979, 0.7570]),\n",
       " 'russet': tensor([0.6358, 0.2596, 0.1638]),\n",
       " 'purplered': tensor([0.6190, 0.1442, 0.3670]),\n",
       " 'grayishpink': tensor([0.7852, 0.5562, 0.5977]),\n",
       " 'leaf': tensor([0.3822, 0.7134, 0.2679]),\n",
       " 'reddishpink': tensor([0.8576, 0.2073, 0.3675]),\n",
       " 'leafgreen': tensor([0.3340, 0.7102, 0.2159]),\n",
       " 'lightgreenishblue': tensor([0.4188, 0.8618, 0.7169]),\n",
       " 'darknavyblue': tensor([0.1009, 0.1308, 0.2938]),\n",
       " 'yellowtan': tensor([0.8656, 0.7778, 0.3522]),\n",
       " 'dustypurple': tensor([0.5271, 0.3633, 0.5388]),\n",
       " 'babygreen': tensor([0.4936, 0.9056, 0.5531]),\n",
       " 'avocadogreen': tensor([0.5095, 0.6891, 0.2256]),\n",
       " 'grayishteal': tensor([0.3622, 0.5840, 0.5335]),\n",
       " 'darkolivegreen': tensor([0.2816, 0.3615, 0.1218]),\n",
       " 'pissyellow': tensor([0.8243, 0.8184, 0.2149]),\n",
       " 'darkplum': tensor([0.3136, 0.1159, 0.2606]),\n",
       " 'ickygreen': tensor([0.4699, 0.6921, 0.2584]),\n",
       " 'lightishblue': tensor([0.2666, 0.5306, 0.8406]),\n",
       " 'lavender': tensor([0.6936, 0.4958, 0.8148]),\n",
       " 'indigo': tensor([0.3240, 0.1937, 0.6643]),\n",
       " 'fireenginered': tensor([0.8775, 0.1045, 0.1020]),\n",
       " 'asparagus': tensor([0.4793, 0.6511, 0.2890]),\n",
       " 'darkseagreen': tensor([0.1838, 0.6008, 0.4086]),\n",
       " 'verydarkpurple': tensor([0.2118, 0.0958, 0.2325]),\n",
       " 'muddyyellow': tensor([0.7589, 0.7087, 0.1900]),\n",
       " 'uglyyellow': tensor([0.7960, 0.7928, 0.1938]),\n",
       " 'cherryred': tensor([0.8159, 0.1077, 0.1872]),\n",
       " 'brownishred': tensor([0.5981, 0.2196, 0.1669]),\n",
       " 'sepia': tensor([0.6147, 0.4280, 0.2225]),\n",
       " 'aquablue': tensor([0.2143, 0.7389, 0.7879]),\n",
       " 'violetred': tensor([0.6640, 0.1344, 0.4119]),\n",
       " 'pistachio': tensor([0.5730, 0.8673, 0.4762]),\n",
       " 'lightsage': tensor([0.6768, 0.8324, 0.5839]),\n",
       " 'ferngreen': tensor([0.3377, 0.6059, 0.2566]),\n",
       " 'mustardgreen': tensor([0.6291, 0.7004, 0.1462]),\n",
       " 'darklimegreen': tensor([0.3999, 0.7578, 0.1453]),\n",
       " 'slateblue': tensor([0.3369, 0.4835, 0.6029]),\n",
       " 'darkcream': tensor([0.8804, 0.8188, 0.5472]),\n",
       " 'butterscotch': tensor([0.8642, 0.6369, 0.2199]),\n",
       " 'umber': tensor([0.6375, 0.3718, 0.1452]),\n",
       " 'brickred': tensor([0.6339, 0.1694, 0.1410]),\n",
       " 'swampgreen': tensor([0.4283, 0.5605, 0.2080]),\n",
       " 'slategreen': tensor([0.4027, 0.5736, 0.4397]),\n",
       " 'sage': tensor([0.5234, 0.6953, 0.4375]),\n",
       " 'brightfuchsia': tensor([0.8710, 0.1146, 0.7491]),\n",
       " 'duskyblue': tensor([0.3044, 0.4572, 0.6455]),\n",
       " 'sapphire': tensor([0.1798, 0.2801, 0.7082]),\n",
       " 'pumpkin': tensor([0.8651, 0.4890, 0.1337]),\n",
       " 'kiwigreen': tensor([0.4711, 0.8328, 0.2528]),\n",
       " 'aqua': tensor([0.2390, 0.8070, 0.7387]),\n",
       " 'orangered': tensor([0.8719, 0.2728, 0.1454]),\n",
       " 'softblue': tensor([0.3567, 0.5054, 0.8075]),\n",
       " 'uglypurple': tensor([0.6125, 0.2742, 0.6318])}"
      ]
     },
     "execution_count": 10,
     "metadata": {},
     "output_type": "execute_result"
    }
   ],
   "source": [
    "cdict['blue']\n",
    "len(cdict)\n",
    "# 'duller' in embeddings.keys()\n",
    "cdict"
   ]
  },
  {
   "cell_type": "code",
   "execution_count": 11,
   "metadata": {},
   "outputs": [
    {
     "data": {
      "text/plain": [
       "[('darkblue', ('darker',), 'blue'),\n",
       " ('brightturquoise', ('brighter',), 'turquoise'),\n",
       " ('darkmaroon', ('darker',), 'maroon'),\n",
       " ('lightmustard', ('lighter',), 'mustard'),\n",
       " ('darkhotpink', ('darker',), 'hotpink')]"
      ]
     },
     "execution_count": 11,
     "metadata": {},
     "output_type": "execute_result"
    }
   ],
   "source": [
    "to_compara = dict(line.strip().split(\":\") for line in open(\"comparatives.txt\", encoding=\"utf-8\"))\n",
    "to_more_quanti = dict(line.strip().split(\":\") for line in open(\"quantifiers.txt\", encoding=\"utf-8\"))\n",
    "\n",
    "triples = []\n",
    "for label in cdict:\n",
    "    words = label2words[label].split()\n",
    "    if len(words) > 1:\n",
    "        quantifier, base = words[0], \"\".join(words[1:])\n",
    "        if base in cdict:\n",
    "            if quantifier in to_compara:        # uni-gram('lighter',)\n",
    "                triples.append((label, (to_compara[quantifier],), base))\n",
    "            elif quantifier in to_more_quanti:  # bigram('more','bluish')\n",
    "                triples.append((label, (\"more\", to_more_quanti[quantifier]), base))\n",
    "triples[:5]                "
   ]
  },
  {
   "cell_type": "code",
   "execution_count": 14,
   "metadata": {},
   "outputs": [
    {
     "data": {
      "text/plain": [
       "True"
      ]
     },
     "execution_count": 14,
     "metadata": {},
     "output_type": "execute_result"
    }
   ],
   "source": [
    "with open(\"embeddings.pickle\",\"rb\") as f:\n",
    "    embeddings = pickle.load(f)\n",
    "'dark' in embeddings\n",
    "# net = loss_(triples, cdict, embeddings)  "
   ]
  },
  {
   "cell_type": "code",
   "execution_count": 6,
   "metadata": {},
   "outputs": [
    {
     "name": "stderr",
     "output_type": "stream",
     "text": [
      "/usr/local/lib/python3.6/dist-packages/torch/storage.py:34: FutureWarning: pickle support for Storage will be removed in 1.5. Use `torch.save` instead\n",
      "  warnings.warn(\"pickle support for Storage will be removed in 1.5. Use `torch.save` instead\", FutureWarning)\n"
     ]
    }
   ],
   "source": [
    "# pickle.dump(net, \\\n",
    "#     open('/home/sos/Dialogue_Research/color_in_context/system/dialogue_manager/dataset/adj_network.pkl', 'wb'))\n",
    "# pickle.dump(embeddings, \\\n",
    "#     open('/home/sos/Dialogue_Research/color_in_context/system/dialogue_manager/adj_embed.pkl', 'wb'))\n",
    "# pickle.dump(cdict, \\\n",
    "#     open('/home/sos/Dialogue_Research/color_in_context/system/dialogue_manager/color_dict.pkl', 'wb'))\n",
    "# net = pickle.load(open('/home/sos/Dialogue_Research/color_in_context/system/dialogue_manager/adj_network.pkl', 'rb'))\n",
    "# embeddings = pickle.load(open('/home/sos/Dialogue_Research/color_in_context/system/dialogue_manager/adj_embed.pkl', 'rb'))\n",
    "# cdict = pickle.load(open('/home/sos/Dialogue_Research/color_in_context/system/dialogue_manager/color_dict.pkl', 'rb'))"
   ]
  },
  {
   "cell_type": "code",
   "execution_count": 48,
   "metadata": {},
   "outputs": [],
   "source": [
    "def get_compara_direction(cdict, embeddings, net, compara, source_str):\n",
    "    comp_words = compara.split()\n",
    "    if len(comp_words) == 1:\n",
    "        emb1, emb2 = torch.zeros(300,), torch.from_numpy(embeddings[comp_words[0]])\n",
    "    else:\n",
    "        emb1, emb2 = torch.from_numpy(embeddings[comp_words[0]]), torch.from_numpy(embeddings[comp_words[1]])\n",
    "    emb1, emb2 = torch.FloatTensor(emb1), torch.FloatTensor(emb2)\n",
    "    source = None\n",
    "    if type(source_str) == str:\n",
    "        source = cdict[source_str.replace(' ', '')]\n",
    "    else:\n",
    "        source = torch.tensor(source_str, dtype=torch.float)\n",
    "        \n",
    "    wg = net(emb1, emb2, source)\n",
    "    return wg.detach().numpy()"
   ]
  },
  {
   "cell_type": "code",
   "execution_count": 69,
   "metadata": {},
   "outputs": [],
   "source": [
    "def plot_change(cdict, embeddings, net, compara, source_str, strength=1, save_path=None):\n",
    "    print(source_str)\n",
    "    ax = plt.gca()\n",
    "    source = None\n",
    "    if type(source_str) == str:\n",
    "        source = cdict[source_str.replace(' ', '')]\n",
    "    else:\n",
    "        source = torch.tensor(source_str, dtype=torch.float)\n",
    "#     source = source_str\n",
    "    direction = get_compara_direction(cdict, embeddings, net, compara, source_str)\n",
    "    print(direction)\n",
    "    ax = plt.gca()\n",
    "    N = 100\n",
    "    width, height = 1, 1\n",
    "    for x in np.linspace(0, width, N):\n",
    "#         print(x, width, N)\n",
    "        ax.add_patch(mpathes.Rectangle([x,0],width/N,height,color=np.clip(source+direction*x*strength,0,1)))\n",
    "    plt.axis('off')\n",
    "    if save_path:\n",
    "        plt.savefig(save_path)\n",
    "    plt.show()"
   ]
  },
  {
   "cell_type": "code",
   "execution_count": 8,
   "metadata": {},
   "outputs": [
    {
     "ename": "FileNotFoundError",
     "evalue": "[Errno 2] No such file or directory: '/home/sos/Dialogue_Research/color_in_context/system/dialogue_manager/adj_network.pkl'",
     "output_type": "error",
     "traceback": [
      "\u001b[0;31m---------------------------------------------------------------------------\u001b[0m",
      "\u001b[0;31mFileNotFoundError\u001b[0m                         Traceback (most recent call last)",
      "\u001b[0;32m<ipython-input-8-ba0c8500bc98>\u001b[0m in \u001b[0;36m<module>\u001b[0;34m\u001b[0m\n\u001b[1;32m     49\u001b[0m             \u001b[0mplt\u001b[0m\u001b[0;34m.\u001b[0m\u001b[0msavefig\u001b[0m\u001b[0;34m(\u001b[0m\u001b[0msave_path\u001b[0m\u001b[0;34m)\u001b[0m\u001b[0;34m\u001b[0m\u001b[0;34m\u001b[0m\u001b[0m\n\u001b[1;32m     50\u001b[0m         \u001b[0mplt\u001b[0m\u001b[0;34m.\u001b[0m\u001b[0mshow\u001b[0m\u001b[0;34m(\u001b[0m\u001b[0;34m)\u001b[0m\u001b[0;34m\u001b[0m\u001b[0;34m\u001b[0m\u001b[0m\n\u001b[0;32m---> 51\u001b[0;31m \u001b[0madj_model\u001b[0m \u001b[0;34m=\u001b[0m \u001b[0mAdjModel\u001b[0m\u001b[0;34m(\u001b[0m\u001b[0;34m)\u001b[0m\u001b[0;34m\u001b[0m\u001b[0;34m\u001b[0m\u001b[0m\n\u001b[0m\u001b[1;32m     52\u001b[0m \u001b[0mlen\u001b[0m\u001b[0;34m(\u001b[0m\u001b[0madj_model\u001b[0m\u001b[0;34m.\u001b[0m\u001b[0mcdict\u001b[0m\u001b[0;34m)\u001b[0m\u001b[0;34m\u001b[0m\u001b[0;34m\u001b[0m\u001b[0m\n",
      "\u001b[0;32m<ipython-input-8-ba0c8500bc98>\u001b[0m in \u001b[0;36m__init__\u001b[0;34m(self)\u001b[0m\n\u001b[1;32m      6\u001b[0m     \u001b[0;32mdef\u001b[0m \u001b[0m__init__\u001b[0m\u001b[0;34m(\u001b[0m\u001b[0mself\u001b[0m\u001b[0;34m)\u001b[0m\u001b[0;34m:\u001b[0m\u001b[0;34m\u001b[0m\u001b[0;34m\u001b[0m\u001b[0m\n\u001b[1;32m      7\u001b[0m         self.net = pickle.load(open('/home/sos/Dialogue_Research/color_in_context/' + \\\n\u001b[0;32m----> 8\u001b[0;31m                                 'system/dialogue_manager/adj_network.pkl', 'rb'))\n\u001b[0m\u001b[1;32m      9\u001b[0m         self.embeddings = pickle.load(open('/home/sos/Dialogue_Research/color_in_context/' + \\\n\u001b[1;32m     10\u001b[0m                                 'system/dialogue_manager/adj_embed.pkl', 'rb'))\n",
      "\u001b[0;31mFileNotFoundError\u001b[0m: [Errno 2] No such file or directory: '/home/sos/Dialogue_Research/color_in_context/system/dialogue_manager/adj_network.pkl'"
     ]
    }
   ],
   "source": [
    "# grassy | dull | darkest | most | true | brighter | more | less | hint | saturated |\n",
    "# super | lakers | darker | little | dark | lightest | bright | normal | closest | almost | brightest |\n",
    "# lighter | rich | richer | duller | drabbest | vibrant | second | slightly | regular | based | in between |\n",
    "# different | least | paler | palest | light\n",
    "class AdjModel():\n",
    "    def __init__(self):\n",
    "        self.net = pickle.load(open('/home/sos/Dialogue_Research/color_in_context/' + \\\n",
    "                                'system/dialogue_manager/adj_network.pkl', 'rb'))\n",
    "        self.embeddings = pickle.load(open('/home/sos/Dialogue_Research/color_in_context/' + \\\n",
    "                                'system/dialogue_manager/adj_embed.pkl', 'rb'))\n",
    "        self.cdict = pickle.load(open('/home/sos/Dialogue_Research/color_in_context/system/' + \\\n",
    "                                'dialogue_manager/color_dict.pkl', 'rb'))\n",
    "        \n",
    "    def get_compara_direction(self, compara, source_str):\n",
    "        comp_words = compara.split()\n",
    "        if len(comp_words) == 1:\n",
    "            emb1, emb2 = torch.zeros(300,), torch.from_numpy(self.embeddings[comp_words[0]])\n",
    "        else:\n",
    "            emb1, emb2 = torch.from_numpy(embeddings[comp_words[0]]), torch.from_numpy(self.embeddings[comp_words[1]])\n",
    "        emb1, emb2 = torch.FloatTensor(emb1), torch.FloatTensor(emb2)\n",
    "        source = None\n",
    "        if type(source_str) == str:\n",
    "            source = self.cdict[source_str.replace(' ', '')]\n",
    "        else:\n",
    "            source = torch.tensor(source_str, dtype=torch.float)\n",
    "\n",
    "        wg = self.net(emb1, emb2, source)\n",
    "        return wg.detach().numpy()\n",
    "    \n",
    "    def plot_change(self, compara, source_str, strength=1, save_path=None):\n",
    "#         print(source_str)\n",
    "        ax = plt.gca()\n",
    "        source = None\n",
    "        if type(source_str) == str:\n",
    "            source = self.cdict[source_str.replace(' ', '')]\n",
    "        else:\n",
    "            source = torch.tensor(source_str, dtype=torch.float)\n",
    "    #     source = source_str\n",
    "        direction = self.get_compara_direction(compara, source_str)\n",
    "#         print(direction)\n",
    "        ax = plt.gca()\n",
    "        N = 100\n",
    "        width, height = 1, 1\n",
    "        for x in np.linspace(0, width, N):\n",
    "    #         print(x, width, N)\n",
    "            ax.add_patch(mpathes.Rectangle([x,0],width/N,height,color=np.clip(source+direction*x*strength,0,1)))\n",
    "        plt.axis('off')\n",
    "        if save_path:\n",
    "            plt.savefig(save_path)\n",
    "        plt.show()\n",
    "adj_model = AdjModel()\n",
    "len(adj_model.cdict)"
   ]
  },
  {
   "cell_type": "code",
   "execution_count": 7,
   "metadata": {
    "scrolled": true
   },
   "outputs": [
    {
     "ename": "NameError",
     "evalue": "name 'adj_model' is not defined",
     "output_type": "error",
     "traceback": [
      "\u001b[0;31m---------------------------------------------------------------------------\u001b[0m",
      "\u001b[0;31mNameError\u001b[0m                                 Traceback (most recent call last)",
      "\u001b[0;32m<ipython-input-7-16e45a7dd0ad>\u001b[0m in \u001b[0;36m<module>\u001b[0;34m\u001b[0m\n\u001b[0;32m----> 1\u001b[0;31m \u001b[0;34m'darkest'\u001b[0m \u001b[0;32min\u001b[0m \u001b[0madj_model\u001b[0m\u001b[0;34m.\u001b[0m\u001b[0membeddings\u001b[0m\u001b[0;34m\u001b[0m\u001b[0;34m\u001b[0m\u001b[0m\n\u001b[0m\u001b[1;32m      2\u001b[0m \u001b[0;31m# adj_model.plot_change(\"darker\", \"dark red\", strength=2)\u001b[0m\u001b[0;34m\u001b[0m\u001b[0;34m\u001b[0m\u001b[0;34m\u001b[0m\u001b[0m\n\u001b[1;32m      3\u001b[0m \u001b[0;31m# plot_change(cdict, embeddings, net, \"darker yellowish\", np.array([random.random() for i in range(3)]), strength=2)\u001b[0m\u001b[0;34m\u001b[0m\u001b[0;34m\u001b[0m\u001b[0;34m\u001b[0m\u001b[0m\n\u001b[1;32m      4\u001b[0m \u001b[0;31m# direction = adj_model.get_compara_direction('darker', 'red')\u001b[0m\u001b[0;34m\u001b[0m\u001b[0;34m\u001b[0m\u001b[0;34m\u001b[0m\u001b[0m\n\u001b[1;32m      5\u001b[0m \u001b[0;31m# sum(direction)\u001b[0m\u001b[0;34m\u001b[0m\u001b[0;34m\u001b[0m\u001b[0;34m\u001b[0m\u001b[0m\n",
      "\u001b[0;31mNameError\u001b[0m: name 'adj_model' is not defined"
     ]
    }
   ],
   "source": [
    "'darkest' in adj_model.embeddings\n",
    "# adj_model.plot_change(\"darker\", \"dark red\", strength=2)\n",
    "# plot_change(cdict, embeddings, net, \"darker yellowish\", np.array([random.random() for i in range(3)]), strength=2)\n",
    "# direction = adj_model.get_compara_direction('darker', 'red')\n",
    "# sum(direction)\n",
    "# np.linalg.norm(direction)\n",
    "# sum(map(lambda x : x * x, direction/np.linalg.norm(direction)))\n",
    "# direction\n",
    "# direction\n",
    "# print(cdict)\n",
    "# x = np.array([0.11322622, 0.49956796, 0.55025133])\n",
    "# y = np.array([ 0.02411209, 0.11326184, -0.1392503])\n",
    "# color=np.clip(x+y*100*1,0,1)\n",
    "# color\n",
    "# print((x + y) * 255)\n",
    "# [-0.04969486  0.12912533 -0.19653028]"
   ]
  },
  {
   "cell_type": "code",
   "execution_count": 10,
   "metadata": {},
   "outputs": [
    {
     "data": {
      "image/png": "[encoded data removed]",
      "text/plain": [
       "<Figure size 432x288 with 1 Axes>"
      ]
     },
     "metadata": {
      "needs_background": "light"
     },
     "output_type": "display_data"
    }
   ],
   "source": [
    "plot_change(cdict, embeddings, net, \"darker\", \"teal\",2)"
   ]
  },
  {
   "cell_type": "code",
   "execution_count": 11,
   "metadata": {},
   "outputs": [
    {
     "data": {
      "image/png": "[encoded data removed]",
      "text/plain": [
       "<Figure size 432x288 with 1 Axes>"
      ]
     },
     "metadata": {
      "needs_background": "light"
     },
     "output_type": "display_data"
    }
   ],
   "source": [
    "plot_change(cdict, embeddings, net,\"darker\", \"khaki\",2)"
   ]
  },
  {
   "cell_type": "code",
   "execution_count": 12,
   "metadata": {},
   "outputs": [
    {
     "data": {
      "image/png": "[encoded data removed]",
      "text/plain": [
       "<Figure size 432x288 with 1 Axes>"
      ]
     },
     "metadata": {
      "needs_background": "light"
     },
     "output_type": "display_data"
    }
   ],
   "source": [
    "plot_change(cdict, embeddings, net, \"electric\", \"magenta\",1 )"
   ]
  },
  {
   "cell_type": "code",
   "execution_count": 13,
   "metadata": {},
   "outputs": [
    {
     "data": {
      "image/png": "[encoded data removed]",
      "text/plain": [
       "<Figure size 432x288 with 1 Axes>"
      ]
     },
     "metadata": {
      "needs_background": "light"
     },
     "output_type": "display_data"
    }
   ],
   "source": [
    "plot_change(cdict, embeddings, net, \"lighter\", \"olive\",2 )"
   ]
  },
  {
   "cell_type": "code",
   "execution_count": 14,
   "metadata": {},
   "outputs": [
    {
     "data": {
      "image/png": "[encoded data removed]",
      "text/plain": [
       "<Figure size 432x288 with 1 Axes>"
      ]
     },
     "metadata": {
      "needs_background": "light"
     },
     "output_type": "display_data"
    }
   ],
   "source": [
    "plot_change(cdict, embeddings, net, \"lighter\", \"lime\",4 )"
   ]
  },
  {
   "cell_type": "code",
   "execution_count": 35,
   "metadata": {
    "scrolled": true
   },
   "outputs": [
    {
     "data": {
      "image/png": "[encoded data removed]",
      "text/plain": [
       "<Figure size 432x288 with 1 Axes>"
      ]
     },
     "metadata": {
      "needs_background": "light"
     },
     "output_type": "display_data"
    }
   ],
   "source": [
    "plot_change(cdict, embeddings, net,\"lighter\", \"sand\",3 )"
   ]
  },
  {
   "cell_type": "code",
   "execution_count": 92,
   "metadata": {},
   "outputs": [
    {
     "data": {
      "image/png": "[encoded data removed]",
      "text/plain": [
       "<Figure size 432x288 with 1 Axes>"
      ]
     },
     "metadata": {
      "needs_background": "light"
     },
     "output_type": "display_data"
    }
   ],
   "source": [
    "plot_change(cdict, embeddings, net, \"lighter\", \"maroon\",2 )"
   ]
  },
  {
   "cell_type": "code",
   "execution_count": 75,
   "metadata": {},
   "outputs": [
    {
     "data": {
      "image/png": "[encoded data removed]",
      "text/plain": [
       "<Figure size 432x288 with 1 Axes>"
      ]
     },
     "metadata": {
      "needs_background": "light"
     },
     "output_type": "display_data"
    }
   ],
   "source": [
    "plot_change(cdict, embeddings, net, \"bluer\", \"violet\",3 )"
   ]
  },
  {
   "cell_type": "code",
   "execution_count": 91,
   "metadata": {},
   "outputs": [
    {
     "data": {
      "image/png": "[encoded data removed]",
      "text/plain": [
       "<Figure size 432x288 with 1 Axes>"
      ]
     },
     "metadata": {
      "needs_background": "light"
     },
     "output_type": "display_data"
    }
   ],
   "source": [
    "plot_change(cdict, embeddings, net, \"more greenish\",\"yellow\",2 )"
   ]
  },
  {
   "cell_type": "code",
   "execution_count": 77,
   "metadata": {},
   "outputs": [
    {
     "data": {
      "image/png": "[encoded data removed]",
      "text/plain": [
       "<Figure size 432x288 with 1 Axes>"
      ]
     },
     "metadata": {
      "needs_background": "light"
     },
     "output_type": "display_data"
    }
   ],
   "source": [
    "plot_change(cdict, embeddings, net, \"more greenish\",\"aqua\",5 )"
   ]
  },
  {
   "cell_type": "code",
   "execution_count": 85,
   "metadata": {},
   "outputs": [
    {
     "data": {
      "image/png": "[encoded data removed]",
      "text/plain": [
       "<Figure size 432x288 with 1 Axes>"
      ]
     },
     "metadata": {
      "needs_background": "light"
     },
     "output_type": "display_data"
    }
   ],
   "source": [
    "plot_change(cdict, embeddings, net, \"more blueish\",\"violet\",4 )"
   ]
  },
  {
   "cell_type": "code",
   "execution_count": 79,
   "metadata": {},
   "outputs": [
    {
     "data": {
      "image/png": "[encoded data removed]",
      "text/plain": [
       "<Figure size 432x288 with 1 Axes>"
      ]
     },
     "metadata": {
      "needs_background": "light"
     },
     "output_type": "display_data"
    }
   ],
   "source": [
    "plot_change(cdict, embeddings, net, \"more yellowish\",\"maroon\",4 )"
   ]
  },
  {
   "cell_type": "code",
   "execution_count": 96,
   "metadata": {},
   "outputs": [
    {
     "data": {
      "image/png": "[encoded data removed]",
      "text/plain": [
       "<Figure size 432x288 with 1 Axes>"
      ]
     },
     "metadata": {
      "needs_background": "light"
     },
     "output_type": "display_data"
    }
   ],
   "source": [
    "plot_change(cdict, embeddings, net, \"more yellowish\",\"violet\",4 )"
   ]
  },
  {
   "cell_type": "code",
   "execution_count": null,
   "metadata": {},
   "outputs": [],
   "source": []
  }
 ],
 "metadata": {
  "kernelspec": {
   "display_name": "Python 3",
   "language": "python",
   "name": "python3"
  },
  "language_info": {
   "codemirror_mode": {
    "name": "ipython",
    "version": 3
   },
   "file_extension": ".py",
   "mimetype": "text/x-python",
   "name": "python",
   "nbconvert_exporter": "python",
   "pygments_lexer": "ipython3",
   "version": "3.6.8"
  },
  "toc": {
   "base_numbering": 1,
   "nav_menu": {},
   "number_sections": true,
   "sideBar": true,
   "skip_h1_title": false,
   "title_cell": "Table of Contents",
   "title_sidebar": "Contents",
   "toc_cell": false,
   "toc_position": {},
   "toc_section_display": true,
   "toc_window_display": false
  }
 },
 "nbformat": 4,
 "nbformat_minor": 2
}
