{
 "cells": [
  {
   "cell_type": "code",
   "execution_count": 1,
   "metadata": {},
   "outputs": [],
   "source": [
    "import functools\n",
    "import json\n",
    "import os\n",
    "import shutil\n",
    "import yaml\n",
    "\n",
    "import ipywidgets as widgets\n",
    "from magis.algorithms import ContextFreeAlgorithm, ContextSensitiveAlgorithm\n",
    "from magis.datasets.color_reference_2017.vectorized import make_or_load_cic\n",
    "from magis.models.model_b import ModelBWithRGC\n",
    "from magis.utils.color import hex2hsv, hsv2fft, rgb2hsv\n",
    "from magis.utils.data import Context\n",
    "from magis.utils.model import parse_model_output\n",
    "from magis.utils.plot import plot_row\n",
    "from magis.settings import REPO_ROOT\n",
    "\n",
    "import numpy as np\n",
    "import torch\n",
    "import pandas as pd\n",
    "import ast\n",
    "import colorsys\n",
    "\n",
    "from manager import manager"
   ]
  },
  {
   "cell_type": "code",
   "execution_count": 2,
   "metadata": {},
   "outputs": [
    {
     "name": "stdout",
     "output_type": "stream",
     "text": [
      "Loaded from disk\n"
     ]
    }
   ],
   "source": [
    "cic = make_or_load_cic()"
   ]
  },
  {
   "cell_type": "code",
   "execution_count": 3,
   "metadata": {},
   "outputs": [],
   "source": [
    "dl = torch.utils.data.DataLoader(cic, batch_size=1, shuffle=True)"
   ]
  },
  {
   "cell_type": "code",
   "execution_count": 6,
   "metadata": {},
   "outputs": [],
   "source": [
    "item = cic[0]"
   ]
  },
  {
   "cell_type": "code",
   "execution_count": 10,
   "metadata": {},
   "outputs": [
    {
     "name": "stdout",
     "output_type": "stream",
     "text": [
      "[]\n",
      "[]\n"
     ]
    }
   ],
   "source": [
    "dman = manager(item)\n",
    "print(dman)"
   ]
  },
  {
   "cell_type": "code",
   "execution_count": null,
   "metadata": {},
   "outputs": [],
   "source": []
  }
 ],
 "metadata": {
  "kernelspec": {
   "display_name": "Python 3",
   "language": "python",
   "name": "python3"
  },
  "language_info": {
   "codemirror_mode": {
    "name": "ipython",
    "version": 3
   },
   "file_extension": ".py",
   "mimetype": "text/x-python",
   "name": "python",
   "nbconvert_exporter": "python",
   "pygments_lexer": "ipython3",
   "version": "3.6.8"
  }
 },
 "nbformat": 4,
 "nbformat_minor": 2
}
