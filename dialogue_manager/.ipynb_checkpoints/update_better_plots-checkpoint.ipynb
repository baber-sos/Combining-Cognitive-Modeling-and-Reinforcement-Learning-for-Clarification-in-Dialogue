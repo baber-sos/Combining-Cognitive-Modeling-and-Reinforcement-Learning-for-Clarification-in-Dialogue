{
 "cells": [
  {
   "cell_type": "markdown",
   "metadata": {},
   "source": [
    "# Choosing Reward Function\n",
    "After trying a lot to get the model to learn the policy, I changed my method a little bit. I did some runs with rule based listener for policy := (Select when P >= 0.5), 'always select' and 'always clarify' baselines to get an expression for the average rewards for each model. Using these expressions, I chose reward functions which set the average reward for P >= 0.95 highest."
   ]
  },
  {
   "cell_type": "markdown",
   "metadata": {},
   "source": [
    "# Model Choice for this run\n",
    "This notebook showcases the policy learned by the listener model when the director simulation samples uses EM model to generate the descriptions and uses the following reward function:<br>\n",
    "Reward_Success (Rs) = 0.9<br>\n",
    "Reward_Failure (Rf) = -0.95<br>\n",
    "Length Penalty Per Utterance (Rl) = -0.14<br>\n",
    "<br>\n",
    "One major change that I made to this simulation to achieve more 'human-like' behavior was to use sampled utterances for those cases when parser could not completely parse the sentence."
   ]
  },
  {
   "cell_type": "markdown",
   "metadata": {},
   "source": [
    "# Action Execution Description\n",
    "### Speaker Simulation Actions\n",
    "1- Speaker samples from the listener distribution to check whether the clarification question is about the target.<br>\\\n",
    "2- Rejection is just a no answer and Confirmation is a yes answer.\n",
    "### Listener Model Actions\n",
    "1- During selection, listener samples the color patch from posterior to determine which color patch to select."
   ]
  },
  {
   "cell_type": "code",
   "execution_count": 1,
   "metadata": {},
   "outputs": [],
   "source": [
    "import numpy as np\n",
    "import matplotlib.pyplot as plt\n",
    "from IPython.display import display\n",
    "import pickle\n",
    "import os\n",
    "import torch\n",
    "import math"
   ]
  },
  {
   "cell_type": "code",
   "execution_count": 79,
   "metadata": {},
   "outputs": [
    {
     "data": {
      "text/plain": [
       "[['train_loss_track',\n",
       "  'test_reward_track',\n",
       "  'train_successes',\n",
       "  'train_reward_track',\n",
       "  'test_successes',\n",
       "  'test_action_choices',\n",
       "  'test_loss_track']]"
      ]
     },
     "execution_count": 79,
     "metadata": {},
     "output_type": "execute_result"
    }
   ],
   "source": [
    "name_indicator = ['LIST_SAMPLEMODELDCOMPOSITE0.0.pkl']\n",
    "file_names = []\n",
    "for indicator in name_indicator:\n",
    "    cur_names = []\n",
    "    for name in os.listdir('./'):\n",
    "        if indicator in name:\n",
    "            cur_names.append(name)\n",
    "            \n",
    "    file_names.append(cur_names)\n",
    "# print(file_names)\n",
    "function_names = []\n",
    "for i, fnames in enumerate(file_names):\n",
    "    function_names.append([f[:-len(name_indicator[i])] for f in fnames])\n",
    "function_names"
   ]
  },
  {
   "cell_type": "code",
   "execution_count": 3,
   "metadata": {},
   "outputs": [],
   "source": [
    "def get_func_name(file_name):\n",
    "    return file_name[:-len(name_indicator)]"
   ]
  },
  {
   "cell_type": "code",
   "execution_count": 53,
   "metadata": {},
   "outputs": [],
   "source": [
    "def plot_test_reward_track(test_reward_track):\n",
    "#     print('*****************')\n",
    "#     print('I reached HERE')\n",
    "#     print('*****************')\n",
    "#     last_epoch_reward = []\n",
    "#     for reward_track in test_reward_track:n\n",
    "#         last_epoch_reward += reward_track\n",
    "    last_epoch_reward = test_reward_track[-1]\n",
    "#     print('Rewards in last epoch:', last_epoch_reward)\n",
    "    avg_rewards = []\n",
    "    avg_interval = int(len(last_epoch_reward)/10)\n",
    "    for i in range(0, len(last_epoch_reward) - avg_interval, avg_interval):\n",
    "        avg_rewards.append(sum(last_epoch_reward[i : i + avg_interval])/(avg_interval))\n",
    "    fig, axes = plt.subplots()\n",
    "    axes.plot(avg_rewards)\n",
    "    axes.set_ylabel('Average Cumulative Test Reward Over 150 Samples')\n",
    "    axes.set_xlabel('Number of Iterations Divided by 150')\n",
    "    axes.plot(avg_rewards)\n",
    "#     print('*****************')\n",
    "    print('Average Test Reward for last epoch Over 500 simulations:', \\\n",
    "        sum(last_epoch_reward)/len(last_epoch_reward))\n",
    "#     print('*****************')"
   ]
  },
  {
   "cell_type": "code",
   "execution_count": 54,
   "metadata": {},
   "outputs": [],
   "source": [
    "def plot_train_reward_track(train_reward_track):\n",
    "#     print('*****************')\n",
    "#     print('I reached HERE')\n",
    "#     print('*****************')\n",
    "    last_epoch_reward = []\n",
    "    for reward_track in train_reward_track:\n",
    "        last_epoch_reward += reward_track\n",
    "    avg_rewards = []\n",
    "    avg_interval = int(len(last_epoch_reward)/10)\n",
    "    for i in range(0, len(last_epoch_reward) - avg_interval, avg_interval):\n",
    "        avg_rewards.append(sum(last_epoch_reward[i : i + avg_interval])/(avg_interval))\n",
    "    fig, axes = plt.subplots()\n",
    "    axes.plot(avg_rewards)\n",
    "    axes.set_ylabel('Average Cumulative Training Reward Over 150 Samples')\n",
    "    axes.set_xlabel('Number of Iterations Divided by 150')\n",
    "    axes.plot(avg_rewards)"
   ]
  },
  {
   "cell_type": "code",
   "execution_count": 55,
   "metadata": {},
   "outputs": [],
   "source": [
    "def plot_train_loss_track(train_loss_track):\n",
    "    all_loss = []\n",
    "    for epoch_loss in train_loss_track:\n",
    "        all_loss += epoch_loss\n",
    "    \n",
    "#     print('********************')\n",
    "#     print('Number of Iterations:', len(all_loss), 'Num of epochs:', len(train_loss_track), \\\n",
    "#         'Length of each epoch:', [len(epoch_loss) for epoch_loss in train_loss_track])\n",
    "#     print('********************')\n",
    "    running_average_interval = 500\n",
    "    to_plot = []\n",
    "    for i in range(len(all_loss) - running_average_interval):\n",
    "        to_plot.append(sum(all_loss[i : i + running_average_interval])/running_average_interval)\n",
    "    to_plot = np.array(to_plot)\n",
    "    x_indices = np.array([i for i in range(len(to_plot))])\n",
    "    fig, axes = plt.subplots()\n",
    "    axes.plot(x_indices, to_plot)\n",
    "    axes.set_xlabel('Number of Iterations')\n",
    "    axes.set_ylabel('Running Average Loss over %d iterations' % (running_average_interval,))"
   ]
  },
  {
   "cell_type": "code",
   "execution_count": 56,
   "metadata": {},
   "outputs": [],
   "source": [
    "def get_policy(action_logs):\n",
    "    incomplete_policy = dict()\n",
    "    complete_policy = dict()\n",
    "    for item in action_logs:\n",
    "#         print(item)\n",
    "        dist, act, prev_act, conv_len, incomplete = item\n",
    "        dist = np.array(dist)\n",
    "        if incomplete:\n",
    "            to_fill = incomplete_policy\n",
    "        else:\n",
    "            to_fill = complete_policy\n",
    "            \n",
    "        dist.sort()\n",
    "        max_dist = dist[2] - dist[1]\n",
    "\n",
    "        temp = max_dist * 10\n",
    "        bucket = math.floor(temp) + 0.5 if temp >= (math.floor(temp) + 0.5) else math.floor(temp)\n",
    "        bucket /= 10\n",
    "        to_fill.setdefault(conv_len, dict())\n",
    "        to_fill[conv_len].setdefault(bucket, dict())\n",
    "        to_fill[conv_len][bucket].setdefault(act, 0)\n",
    "        to_fill[conv_len][bucket][act] += 1\n",
    "    return incomplete_policy, complete_policy"
   ]
  },
  {
   "cell_type": "code",
   "execution_count": 57,
   "metadata": {},
   "outputs": [],
   "source": [
    "def print_policy(policy_dict, \\\n",
    "    action_names=['NONE', 'IDENTIFY', 'ASK_CLARIFICATION', 'CONFIRMATION', 'SELECT', 'REJECTION']):\n",
    "    for length in policy_dict:\n",
    "        print('Conversation Turn:', length + 1)\n",
    "        for prob_bucket in policy_dict[length]:\n",
    "            print('\\tDifference Between Top 2 Probabilites >=', prob_bucket)\n",
    "            for action in policy_dict[length][prob_bucket]:\n",
    "                action_name = action_names[action]\n",
    "                count = policy_dict[length][prob_bucket][action]\n",
    "                print('\\t\\t%s Count:' % action_name, count)"
   ]
  },
  {
   "cell_type": "code",
   "execution_count": 58,
   "metadata": {},
   "outputs": [],
   "source": [
    "def plot_test_action_choices(test_action_choices):\n",
    "    last_epoch_actions = test_action_choices[-1]\n",
    "#     inc_policy, com_policy = get_policy(last_epoch_actions)\n",
    "#     print('INCOMPLETE POLICY')\n",
    "#     print_policy(inc_policy)\n",
    "#     print('COMPLETE POLICY')\n",
    "#     print_policy(com_policy)\n",
    "    avg_conversation_length = 0\n",
    "    cur_length = 0\n",
    "    num_convos = 0\n",
    "    for item in last_epoch_actions:\n",
    "        cur_action = item[1]\n",
    "        if cur_action == 4:\n",
    "            avg_conversation_length += (cur_length + 1)\n",
    "            cur_length = 0\n",
    "            num_convos += 1\n",
    "        else:\n",
    "            cur_length += 1\n",
    "    avg_conversation_length /= num_convos\n",
    "    print('This is the Average Conversation Length:', avg_conversation_length * 2)\n",
    "    \n",
    "    rwidth = 1\n",
    "#     bins=[1/20 * i for i in range(3,22)]\n",
    "    bins=30\n",
    "    first_action_items = []\n",
    "    prev = 4\n",
    "    for item in last_epoch_actions:\n",
    "        if prev == 4:\n",
    "            first_action_items.append(item)\n",
    "        prev = item[1]\n",
    "    print('Number of trials:', len(first_action_items))\n",
    "    clarification_count = 0\n",
    "    for item in first_action_items:\n",
    "        if item[1] == 2:\n",
    "            clarification_count += 1\n",
    "    print('Percentage of Clarification Questions:', clarification_count/len(first_action_items))\n",
    "    last_epoch_actions = first_action_items\n",
    "#     data = np.array([np.max(np.array(item[0])) for item in last_epoch_actions])\n",
    "    data = []\n",
    "    for item in last_epoch_actions:\n",
    "        distribution = np.array(item[0])\n",
    "        distribution.sort()\n",
    "        prob_difference = distribution[2] - distribution[1]\n",
    "        data.append(prob_difference)\n",
    "    data = np.array(data)\n",
    "#     print(len(data))\n",
    "    clar_data = dict()\n",
    "    sel_data = dict()\n",
    "    \n",
    "    for i in range(len(data)):\n",
    "        if last_epoch_actions[i][1] == 2:\n",
    "            clar_data.setdefault(data[i], 0)\n",
    "            clar_data[data[i]] += 1\n",
    "        elif last_epoch_actions[i][1] == 4:\n",
    "            sel_data.setdefault(data[i], 0)\n",
    "            sel_data[data[i]] += 1\n",
    "            \n",
    "#     print(len(sel_data))\n",
    "#     print(clar_data)\n",
    "    \n",
    "    fig1, axes1 = plt.subplots()\n",
    "    fig2, axes2 = plt.subplots()\n",
    "    \n",
    "    axes1.hist(np.array(list(clar_data.keys()) ), bins, rwidth=rwidth, \\\n",
    "        weights=np.array(list(clar_data.values())), \\\n",
    "        label='Clarification Action on First Turn', hatch='\\\\')\n",
    "    \n",
    "    axes2.hist(np.array(list(sel_data.keys())), bins, rwidth=rwidth, \\\n",
    "        weights=np.array(list(sel_data.values())), \\\n",
    "       label='SELECT Action on First Turn', hatch='\\\\')\n",
    "    axes2.set_xlim(auto=True)\n",
    "    \n",
    "#     axes1.set_xlabel('Maximum Probability Among all the color patches')\n",
    "    axes1.set_xlabel('Difference between Top 2 Probabilities')\n",
    "    axes1.set_ylabel('Clarification Action in First Turn')\n",
    "    axes2.set_xlabel('Difference between Top 2 Probabilities')\n",
    "    axes2.set_ylabel('Select Action in First Turn')\n",
    "    axes1.legend()\n",
    "    axes2.legend()"
   ]
  },
  {
   "cell_type": "code",
   "execution_count": 59,
   "metadata": {},
   "outputs": [],
   "source": [
    "def plot_train_successes(train_successes):\n",
    "    for train_epoch in train_successes[-1:]:\n",
    "        total_samples = sum(train_epoch)\n",
    "#         print('*********************************')\n",
    "        print('Train Successes:', train_epoch[0]/total_samples)\n",
    "        print('Train Failures:', train_epoch[1]/total_samples)\n",
    "#         print('*********************************')\n",
    "#         print(train_epoch)"
   ]
  },
  {
   "cell_type": "code",
   "execution_count": 60,
   "metadata": {},
   "outputs": [],
   "source": [
    "def plot_test_loss_track(test_loss_track):\n",
    "    loss_track = test_loss_track[-1]\n",
    "    print('Average Test Loss:', sum(loss_track)/len(loss_track))"
   ]
  },
  {
   "cell_type": "code",
   "execution_count": 61,
   "metadata": {},
   "outputs": [],
   "source": [
    "def plot_test_successes(test_successes):\n",
    "    for test_epoch in test_successes[-1:]:\n",
    "#         print (test_epoch)\n",
    "        total_samples = sum(test_epoch)\n",
    "#         print('*********************************')\n",
    "        print('Test Successes:', test_epoch[0]/total_samples)\n",
    "        print('Test Failures:', test_epoch[1]/total_samples)\n",
    "#         print('*********************************')\n",
    "#     for train_epoch in train_successes:\n",
    "#         print(train_epoch)"
   ]
  },
  {
   "cell_type": "markdown",
   "metadata": {},
   "source": [
    "# Learned Policy\n",
    "The model was tested against 500 simulations over unseen color samples using director simulation which samples first utterance from the cic dataset."
   ]
  },
  {
   "cell_type": "code",
   "execution_count": 78,
   "metadata": {},
   "outputs": [
    {
     "name": "stdout",
     "output_type": "stream",
     "text": [
      "Policy for Incomplete Parses\n",
      "Conversation Turn: 2\n",
      "\tDifference Between Top 2 Probabilites >= 0.9\n",
      "\t\tASK_CLARIFICATION Count: 1\n",
      "\tDifference Between Top 2 Probabilites >= 0.0\n",
      "\t\tASK_CLARIFICATION Count: 21\n",
      "\tDifference Between Top 2 Probabilites >= 0.55\n",
      "\t\tASK_CLARIFICATION Count: 2\n",
      "\tDifference Between Top 2 Probabilites >= 0.95\n",
      "\t\tASK_CLARIFICATION Count: 4\n",
      "\tDifference Between Top 2 Probabilites >= 0.15\n",
      "\t\tASK_CLARIFICATION Count: 1\n",
      "\tDifference Between Top 2 Probabilites >= 0.75\n",
      "\t\tASK_CLARIFICATION Count: 1\n",
      "\tDifference Between Top 2 Probabilites >= 0.3\n",
      "\t\tASK_CLARIFICATION Count: 2\n",
      "\tDifference Between Top 2 Probabilites >= 0.85\n",
      "\t\tASK_CLARIFICATION Count: 1\n",
      "\tDifference Between Top 2 Probabilites >= 0.1\n",
      "\t\tASK_CLARIFICATION Count: 1\n",
      "\tDifference Between Top 2 Probabilites >= 0.8\n",
      "\t\tASK_CLARIFICATION Count: 1\n",
      "\tDifference Between Top 2 Probabilites >= 0.6\n",
      "\t\tASK_CLARIFICATION Count: 1\n",
      "\tDifference Between Top 2 Probabilites >= 0.7\n",
      "\t\tASK_CLARIFICATION Count: 2\n",
      "\tDifference Between Top 2 Probabilites >= 0.65\n",
      "\t\tASK_CLARIFICATION Count: 2\n",
      "\tDifference Between Top 2 Probabilites >= 0.2\n",
      "\t\tASK_CLARIFICATION Count: 1\n",
      "\tDifference Between Top 2 Probabilites >= 0.5\n",
      "\t\tASK_CLARIFICATION Count: 1\n",
      "Policy for Complete Parses\n",
      "Conversation Turn: 2\n",
      "\tDifference Between Top 2 Probabilites >= 0.95\n",
      "\t\tASK_CLARIFICATION Count: 82\n",
      "\t\tSELECT Count: 163\n",
      "\tDifference Between Top 2 Probabilites >= 0.9\n",
      "\t\tSELECT Count: 24\n",
      "\t\tASK_CLARIFICATION Count: 16\n",
      "\tDifference Between Top 2 Probabilites >= 0.75\n",
      "\t\tSELECT Count: 12\n",
      "\t\tASK_CLARIFICATION Count: 7\n",
      "\tDifference Between Top 2 Probabilites >= 0.6\n",
      "\t\tASK_CLARIFICATION Count: 10\n",
      "\t\tSELECT Count: 3\n",
      "\tDifference Between Top 2 Probabilites >= 0.85\n",
      "\t\tSELECT Count: 11\n",
      "\t\tASK_CLARIFICATION Count: 16\n",
      "\tDifference Between Top 2 Probabilites >= 0.05\n",
      "\t\tSELECT Count: 1\n",
      "\t\tASK_CLARIFICATION Count: 1\n",
      "\tDifference Between Top 2 Probabilites >= 0.15\n",
      "\t\tSELECT Count: 7\n",
      "\tDifference Between Top 2 Probabilites >= 0.65\n",
      "\t\tSELECT Count: 6\n",
      "\t\tASK_CLARIFICATION Count: 20\n",
      "\tDifference Between Top 2 Probabilites >= 0.3\n",
      "\t\tSELECT Count: 1\n",
      "\t\tASK_CLARIFICATION Count: 1\n",
      "\tDifference Between Top 2 Probabilites >= 0.25\n",
      "\t\tASK_CLARIFICATION Count: 1\n",
      "\tDifference Between Top 2 Probabilites >= 0.55\n",
      "\t\tSELECT Count: 4\n",
      "\t\tASK_CLARIFICATION Count: 13\n",
      "\tDifference Between Top 2 Probabilites >= 0.8\n",
      "\t\tASK_CLARIFICATION Count: 13\n",
      "\t\tSELECT Count: 4\n",
      "\tDifference Between Top 2 Probabilites >= 0.7\n",
      "\t\tSELECT Count: 7\n",
      "\t\tASK_CLARIFICATION Count: 9\n",
      "\tDifference Between Top 2 Probabilites >= 0.1\n",
      "\t\tSELECT Count: 2\n",
      "\t\tASK_CLARIFICATION Count: 1\n",
      "\tDifference Between Top 2 Probabilites >= 0.35\n",
      "\t\tASK_CLARIFICATION Count: 1\n",
      "\tDifference Between Top 2 Probabilites >= 0.2\n",
      "\t\tASK_CLARIFICATION Count: 2\n",
      "\t\tSELECT Count: 3\n",
      "\tDifference Between Top 2 Probabilites >= 0.0\n",
      "\t\tASK_CLARIFICATION Count: 2\n",
      "\t\tSELECT Count: 2\n",
      "\tDifference Between Top 2 Probabilites >= 0.45\n",
      "\t\tASK_CLARIFICATION Count: 2\n",
      "\t\tSELECT Count: 4\n",
      "\tDifference Between Top 2 Probabilites >= 0.5\n",
      "\t\tSELECT Count: 2\n",
      "\t\tASK_CLARIFICATION Count: 4\n",
      "\tDifference Between Top 2 Probabilites >= 0.4\n",
      "\t\tSELECT Count: 1\n",
      "Conversation Turn: 4\n",
      "\tDifference Between Top 2 Probabilites >= 0.95\n",
      "\t\tSELECT Count: 131\n",
      "\t\tASK_CLARIFICATION Count: 7\n",
      "\tDifference Between Top 2 Probabilites >= 1.0\n",
      "\t\tSELECT Count: 18\n",
      "\tDifference Between Top 2 Probabilites >= 0.0\n",
      "\t\tSELECT Count: 2\n",
      "\t\tASK_CLARIFICATION Count: 13\n",
      "\tDifference Between Top 2 Probabilites >= 0.8\n",
      "\t\tSELECT Count: 4\n",
      "\t\tASK_CLARIFICATION Count: 1\n",
      "\tDifference Between Top 2 Probabilites >= 0.45\n",
      "\t\tSELECT Count: 2\n",
      "\tDifference Between Top 2 Probabilites >= 0.05\n",
      "\t\tASK_CLARIFICATION Count: 5\n",
      "\t\tSELECT Count: 7\n",
      "\tDifference Between Top 2 Probabilites >= 0.4\n",
      "\t\tASK_CLARIFICATION Count: 1\n",
      "\tDifference Between Top 2 Probabilites >= 0.5\n",
      "\t\tASK_CLARIFICATION Count: 2\n",
      "\t\tSELECT Count: 1\n",
      "\tDifference Between Top 2 Probabilites >= 0.3\n",
      "\t\tASK_CLARIFICATION Count: 1\n",
      "\t\tSELECT Count: 1\n",
      "\tDifference Between Top 2 Probabilites >= 0.25\n",
      "\t\tSELECT Count: 2\n",
      "\t\tASK_CLARIFICATION Count: 2\n",
      "\tDifference Between Top 2 Probabilites >= 0.7\n",
      "\t\tASK_CLARIFICATION Count: 2\n",
      "\t\tSELECT Count: 2\n",
      "\tDifference Between Top 2 Probabilites >= 0.6\n",
      "\t\tSELECT Count: 3\n",
      "\t\tASK_CLARIFICATION Count: 2\n",
      "\tDifference Between Top 2 Probabilites >= 0.9\n",
      "\t\tSELECT Count: 8\n",
      "\t\tASK_CLARIFICATION Count: 1\n",
      "\tDifference Between Top 2 Probabilites >= 0.35\n",
      "\t\tASK_CLARIFICATION Count: 1\n",
      "\tDifference Between Top 2 Probabilites >= 0.1\n",
      "\t\tSELECT Count: 4\n",
      "\t\tASK_CLARIFICATION Count: 1\n",
      "\tDifference Between Top 2 Probabilites >= 0.85\n",
      "\t\tSELECT Count: 3\n",
      "\t\tASK_CLARIFICATION Count: 2\n",
      "\tDifference Between Top 2 Probabilites >= 0.75\n",
      "\t\tSELECT Count: 3\n",
      "\t\tASK_CLARIFICATION Count: 2\n",
      "\tDifference Between Top 2 Probabilites >= 0.65\n",
      "\t\tSELECT Count: 1\n",
      "\tDifference Between Top 2 Probabilites >= 0.2\n",
      "\t\tSELECT Count: 1\n",
      "\t\tASK_CLARIFICATION Count: 2\n",
      "\tDifference Between Top 2 Probabilites >= 0.15\n",
      "\t\tSELECT Count: 2\n",
      "\t\tASK_CLARIFICATION Count: 1\n",
      "\tDifference Between Top 2 Probabilites >= 0.55\n",
      "\t\tASK_CLARIFICATION Count: 1\n",
      "\t\tSELECT Count: 1\n",
      "Conversation Turn: 6\n",
      "\tDifference Between Top 2 Probabilites >= 0.7\n",
      "\t\tSELECT Count: 5\n",
      "\tDifference Between Top 2 Probabilites >= 0.95\n",
      "\t\tASK_CLARIFICATION Count: 11\n",
      "\tDifference Between Top 2 Probabilites >= 0.85\n",
      "\t\tASK_CLARIFICATION Count: 1\n",
      "\tDifference Between Top 2 Probabilites >= 0.45\n",
      "\t\tSELECT Count: 2\n",
      "\t\tASK_CLARIFICATION Count: 1\n",
      "\tDifference Between Top 2 Probabilites >= 0.1\n",
      "\t\tSELECT Count: 1\n",
      "\t\tASK_CLARIFICATION Count: 1\n",
      "\tDifference Between Top 2 Probabilites >= 0.2\n",
      "\t\tSELECT Count: 2\n",
      "\tDifference Between Top 2 Probabilites >= 0.9\n",
      "\t\tASK_CLARIFICATION Count: 4\n",
      "\tDifference Between Top 2 Probabilites >= 0.75\n",
      "\t\tASK_CLARIFICATION Count: 1\n",
      "\t\tSELECT Count: 3\n",
      "\tDifference Between Top 2 Probabilites >= 0.8\n",
      "\t\tSELECT Count: 2\n",
      "\tDifference Between Top 2 Probabilites >= 0.65\n",
      "\t\tSELECT Count: 1\n",
      "\tDifference Between Top 2 Probabilites >= 0.55\n",
      "\t\tASK_CLARIFICATION Count: 3\n",
      "\tDifference Between Top 2 Probabilites >= 0.25\n",
      "\t\tSELECT Count: 1\n",
      "\tDifference Between Top 2 Probabilites >= 0.6\n",
      "\t\tSELECT Count: 2\n",
      "\tDifference Between Top 2 Probabilites >= 0.5\n",
      "\t\tASK_CLARIFICATION Count: 2\n",
      "\t\tSELECT Count: 1\n",
      "\tDifference Between Top 2 Probabilites >= 0.15\n",
      "\t\tSELECT Count: 1\n",
      "\tDifference Between Top 2 Probabilites >= 0.3\n",
      "\t\tSELECT Count: 1\n",
      "\tDifference Between Top 2 Probabilites >= 0.4\n",
      "\t\tSELECT Count: 1\n",
      "Conversation Turn: 8\n",
      "\tDifference Between Top 2 Probabilites >= 0.95\n",
      "\t\tSELECT Count: 14\n",
      "\t\tASK_CLARIFICATION Count: 5\n",
      "\tDifference Between Top 2 Probabilites >= 0.8\n",
      "\t\tASK_CLARIFICATION Count: 1\n",
      "\tDifference Between Top 2 Probabilites >= 0.9\n",
      "\t\tSELECT Count: 1\n",
      "\tDifference Between Top 2 Probabilites >= 0.35\n",
      "\t\tSELECT Count: 1\n",
      "\tDifference Between Top 2 Probabilites >= 0.45\n",
      "\t\tSELECT Count: 1\n",
      "\tDifference Between Top 2 Probabilites >= 0.2\n",
      "\t\tSELECT Count: 1\n",
      "Conversation Turn: 10\n",
      "\tDifference Between Top 2 Probabilites >= 0.95\n",
      "\t\tSELECT Count: 4\n",
      "\tDifference Between Top 2 Probabilites >= 0.9\n",
      "\t\tASK_CLARIFICATION Count: 1\n",
      "\tDifference Between Top 2 Probabilites >= 0.6\n",
      "\t\tASK_CLARIFICATION Count: 1\n",
      "Conversation Turn: 12\n",
      "\tDifference Between Top 2 Probabilites >= 0.95\n",
      "\t\tASK_CLARIFICATION Count: 2\n",
      "Conversation Turn: 14\n",
      "\tDifference Between Top 2 Probabilites >= 0.95\n",
      "\t\tASK_CLARIFICATION Count: 2\n",
      "Conversation Turn: 16\n",
      "\tDifference Between Top 2 Probabilites >= 0.9\n",
      "\t\tASK_CLARIFICATION Count: 1\n",
      "\tDifference Between Top 2 Probabilites >= 0.95\n",
      "\t\tSELECT Count: 1\n"
     ]
    }
   ],
   "source": [
    "file_name = 'test_action_choicesLIST_SAMPLEMODELDCOMPOSITE0.0.pkl'\n",
    "action_choices_last_epoch = pickle.load(open(file_name, 'rb'))[-1]\n",
    "incomplete_policy, complete_policy = get_policy(action_choices_last_epoch)\n",
    "print('Policy for Incomplete Parses')\n",
    "print_policy(incomplete_policy)\n",
    "print('Policy for Complete Parses')\n",
    "print_policy(complete_policy)"
   ]
  },
  {
   "cell_type": "code",
   "execution_count": 86,
   "metadata": {
    "scrolled": true
   },
   "outputs": [
    {
     "name": "stdout",
     "output_type": "stream",
     "text": [
      "**************************\n",
      "Average Test Reward for last epoch Over 500 simulations: 0.3968799910545349\n",
      "**************************\n",
      "**************************\n",
      "Test Successes: 0.89\n",
      "Test Failures: 0.11\n",
      "**************************\n",
      "**************************\n",
      "This is the Average Conversation Length: 3.31062124248497\n",
      "Number of trials: 499\n",
      "Percentage of Clarification Questions: 0.4849699398797595\n",
      "**************************\n",
      "**************************\n",
      "Average Test Loss: tensor(0.3917)\n",
      "**************************\n"
     ]
    },
    {
     "data": {
      "image/png": "[encoded data removed]",
      "text/plain": [
       "<Figure size 432x288 with 1 Axes>"
      ]
     },
     "metadata": {
      "needs_background": "light"
     },
     "output_type": "display_data"
    },
    {
     "data": {
      "image/png": "[encoded data removed]",
      "text/plain": [
       "<Figure size 432x288 with 1 Axes>"
      ]
     },
     "metadata": {
      "needs_background": "light"
     },
     "output_type": "display_data"
    },
    {
     "data": {
      "image/png": "[encoded data removed]",
      "text/plain": [
       "<Figure size 432x288 with 1 Axes>"
      ]
     },
     "metadata": {
      "needs_background": "light"
     },
     "output_type": "display_data"
    },
    {
     "data": {
      "image/png": "[encoded data removed]",
      "text/plain": [
       "<Figure size 432x288 with 1 Axes>"
      ]
     },
     "metadata": {
      "needs_background": "light"
     },
     "output_type": "display_data"
    },
    {
     "data": {
      "image/png": "[encoded data removed]",
      "text/plain": [
       "<Figure size 432x288 with 1 Axes>"
      ]
     },
     "metadata": {
      "needs_background": "light"
     },
     "output_type": "display_data"
    }
   ],
   "source": [
    "def plot_all(file_names, indicator):\n",
    "    for fname in file_names:\n",
    "#         if 'train' in fname:\n",
    "#             continue\n",
    "        plot_func_name = fname[:-len(indicator)]\n",
    "        try:\n",
    "            function_call = 'plot_' + plot_func_name + '(pickle.load(open(fname, \"rb\")))'\n",
    "            print('**************************')\n",
    "            eval('plot_' + plot_func_name + '(pickle.load(open(fname, \"rb\")))')\n",
    "            print('**************************')\n",
    "        except Exception as e:\n",
    "            print(e)\n",
    "# plot_train_loss_track(pickle.load(open('./train_loss_trackMODELDCOMPOSITE0.0.pkl', 'rb')))\n",
    "# plot_train_reward_track(pickle.load(open('./train_reward_trackMODELDCOMPOSITE0.0.pkl', 'rb')))\n",
    "plot_all(file_names[0], name_indicator[0])"
   ]
  },
  {
   "cell_type": "markdown",
   "metadata": {},
   "source": [
    "# Changing Listener Select Action Execution\n",
    "I changed the listener's select action to choose the action with best probability just to see the impact on success rate."
   ]
  },
  {
   "cell_type": "code",
   "execution_count": 82,
   "metadata": {},
   "outputs": [
    {
     "name": "stdout",
     "output_type": "stream",
     "text": [
      "New Success Rate: 0.902\n",
      "Old Success Rate: 0.89\n"
     ]
    }
   ],
   "source": [
    "file_name = 'test_successesLIST_BESTMODELDCOMPOSITE0.0.pkl'\n",
    "successes = pickle.load(open(file_name, 'rb'))\n",
    "print('New Success Rate:', successes[0][0]/sum(successes[0]))\n",
    "print('Old Success Rate: 0.89')"
   ]
  }
 ],
 "metadata": {
  "kernelspec": {
   "display_name": "Python 3",
   "language": "python",
   "name": "python3"
  },
  "language_info": {
   "codemirror_mode": {
    "name": "ipython",
    "version": 3
   },
   "file_extension": ".py",
   "mimetype": "text/x-python",
   "name": "python",
   "nbconvert_exporter": "python",
   "pygments_lexer": "ipython3",
   "version": "3.6.8"
  }
 },
 "nbformat": 4,
 "nbformat_minor": 2
}
