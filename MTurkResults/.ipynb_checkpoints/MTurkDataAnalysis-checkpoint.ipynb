{
 "cells": [
  {
   "cell_type": "code",
   "execution_count": 1,
   "metadata": {
    "scrolled": true
   },
   "outputs": [
    {
     "name": "stdout",
     "output_type": "stream",
     "text": [
      "/usr/share/hunspell/en_US.dic /usr/share/hunspell/en_US.aff\n"
     ]
    }
   ],
   "source": [
    "import sys\n",
    "sys.path.insert(0, '/home/sos/CIC/system/dialogue_manager')\n",
    "from task_manager.task_manager import task_manager\n",
    "import json\n",
    "import pandas as pd\n",
    "import os\n",
    "import string\n",
    "import matplotlib\n",
    "import matplotlib.pyplot as plt\n",
    "\n",
    "import dataset\n",
    "from dataset.cic import make_or_load_cic\n",
    "from chart_parser.astar_parse import chart_parse\n",
    "from chart_parser.AStarQ import AStarQ\n",
    "from chart_parser.node import node\n",
    "from chart_parser.logic import get_logical_form\n",
    "\n",
    "from chart_parser.util import load_grammar\n",
    "from chart_parser.util import load_grammar_intent_map\n",
    "from chart_parser.util import get_correct_sentence\n",
    "from state.state import INTENTS\n",
    "from config import config\n",
    "\n",
    "from manager.manager import manager\n",
    "from manager.evaluate import *\n",
    "\n",
    "from model.QAModel import QAModel\n",
    "from model.PQLearn import PQLearn\n",
    "\n",
    "from state.state import INTENTS\n",
    "from state.state import state\n",
    "\n",
    "\n",
    "import os\n",
    "import ast\n",
    "import json\n",
    "import pandas as pd\n",
    "from magis.vocab import Vocabulary\n",
    "import pickle\n",
    "import numpy as np\n",
    "import time\n",
    "import math"
   ]
  },
  {
   "cell_type": "code",
   "execution_count": null,
   "metadata": {
    "scrolled": true
   },
   "outputs": [],
   "source": [
    "# file_names = ['00fb634687ed494d969219802e37c3bd_2.json',\n",
    "#  'd5b55bcc441745ecacc267690c8dd13a_3.json',\n",
    "#  'e45cab0b358b4cf89633afd8cc85b583_0.json',\n",
    "#  'a5c5a9ce27e44ceeb8ba9e672347baac_1.json',\n",
    "#  'f9e66f64000144c4826277e1edf2a061_1.json',\n",
    "#  '078d71ad4d57420ba17ab55898800cd6_3.json',\n",
    "#  'e45cab0b358b4cf89633afd8cc85b583_2.json',\n",
    "#  'eef4dd1d3cda418da17ea0b97050b8f8_1.json',\n",
    "#  'a8c6942a62054aa59f2a7089f71e434a_2.json',\n",
    "#  '38f07d0b896141559e7360235c848792_1.json',\n",
    "#  '6f13be4d6fae4624b0018d477efd6dcc_0.json',\n",
    "#  'f9e66f64000144c4826277e1edf2a061_2.json',\n",
    "#  '141f5f8476764245bc6d34c12f57ecb8_1.json',\n",
    "#  '6f13be4d6fae4624b0018d477efd6dcc_3.json',\n",
    "#  'd5b55bcc441745ecacc267690c8dd13a_1.json',\n",
    "#  'b28aba0b803549e4be79d39a9857959f_0.json',\n",
    "#  'a8c6942a62054aa59f2a7089f71e434a_3.json',\n",
    "#  'a8c6942a62054aa59f2a7089f71e434a_1.json',\n",
    "#  '078d71ad4d57420ba17ab55898800cd6_1.json',\n",
    "#  '68c59ba3f331484b88bbcf86dd202dc1_2.json',\n",
    "#  '644a452716c14291ae20b879b9d78050_0.json',\n",
    "#  '025e48e607604310ad7ad8d20f968ed2_2.json',\n",
    "#  'dbd8a35fc14943c5aacdc188a1656a85_3.json',\n",
    "#  '7d7d860bd050477ea22a7a334a773e80_0.json',\n",
    "#  '644a452716c14291ae20b879b9d78050_1.json',\n",
    "#  '68c59ba3f331484b88bbcf86dd202dc1_1.json',\n",
    "#  'd5b55bcc441745ecacc267690c8dd13a_0.json',\n",
    "#  '141f5f8476764245bc6d34c12f57ecb8_2.json',\n",
    "#  '21ba7b6369a3474681968cfed734e2ea_0.json',\n",
    "#  '078d71ad4d57420ba17ab55898800cd6_2.json',\n",
    "#  '68c59ba3f331484b88bbcf86dd202dc1_0.json',\n",
    "#  '7d7d860bd050477ea22a7a334a773e80_3.json',\n",
    "#  'b28aba0b803549e4be79d39a9857959f_1.json',\n",
    "#  'e0d0ca7c38e241778fafa266ca8a50a9_1.json',\n",
    "#  '6f13be4d6fae4624b0018d477efd6dcc_1.json',\n",
    "#  'f9e66f64000144c4826277e1edf2a061_4.json',\n",
    "#  'a5c5a9ce27e44ceeb8ba9e672347baac_2.json',\n",
    "#  'e0d0ca7c38e241778fafa266ca8a50a9_0.json',\n",
    "#  '7d7d860bd050477ea22a7a334a773e80_2.json',\n",
    "#  'ba6b459f689044c082ef4b036f949ea3_2.json',\n",
    "#  '6f13be4d6fae4624b0018d477efd6dcc_2.json',\n",
    "#  'f9e66f64000144c4826277e1edf2a061_0.json',\n",
    "#  '21ba7b6369a3474681968cfed734e2ea_2.json',\n",
    "#  'ba6b459f689044c082ef4b036f949ea3_1.json',\n",
    "#  'dbd8a35fc14943c5aacdc188a1656a85_2.json',\n",
    "#  'ba6b459f689044c082ef4b036f949ea3_3.json',\n",
    "#  'dbd8a35fc14943c5aacdc188a1656a85_0.json',\n",
    "#  'e4f3a9e6c0f4494a86530298dd3d07e9_3.json',\n",
    "#  'e48c48be5eb34510a9028bf600431147_3.json',\n",
    "#  'a8c6942a62054aa59f2a7089f71e434a_0.json',\n",
    "#  'ba6b459f689044c082ef4b036f949ea3_0.json',\n",
    "#  '38f07d0b896141559e7360235c848792_3.json',\n",
    "#  'b28aba0b803549e4be79d39a9857959f_3.json',\n",
    "#  '025e48e607604310ad7ad8d20f968ed2_3.json',\n",
    "#  '51ae2730fa4f439c95fd6e124168a9b2_2.json',\n",
    "#  'e48c48be5eb34510a9028bf600431147_0.json',\n",
    "#  'dbd8a35fc14943c5aacdc188a1656a85_1.json',\n",
    "#  '21ba7b6369a3474681968cfed734e2ea_3.json',\n",
    "#  '51ae2730fa4f439c95fd6e124168a9b2_3.json',\n",
    "#  '141f5f8476764245bc6d34c12f57ecb8_0.json',\n",
    "#  'e4f3a9e6c0f4494a86530298dd3d07e9_2.json',\n",
    "#  '141f5f8476764245bc6d34c12f57ecb8_3.json',\n",
    "#  'b28aba0b803549e4be79d39a9857959f_2.json',\n",
    "#  '00fb634687ed494d969219802e37c3bd_1.json',\n",
    "#  'd5b55bcc441745ecacc267690c8dd13a_2.json',\n",
    "#  '51ae2730fa4f439c95fd6e124168a9b2_0.json',\n",
    "#  '025e48e607604310ad7ad8d20f968ed2_1.json',\n",
    "#  'e48c48be5eb34510a9028bf600431147_1.json',\n",
    "#  '21ba7b6369a3474681968cfed734e2ea_1.json',\n",
    "#  '38f07d0b896141559e7360235c848792_2.json',\n",
    "#  'eef4dd1d3cda418da17ea0b97050b8f8_0.json',\n",
    "#  '3eeeda418e5143cea50ac55f06f9c825_0.json',\n",
    "#  'eef4dd1d3cda418da17ea0b97050b8f8_2.json',\n",
    "#  '7d7d860bd050477ea22a7a334a773e80_1.json',\n",
    "#  'e45cab0b358b4cf89633afd8cc85b583_3.json',\n",
    "#  'e4f3a9e6c0f4494a86530298dd3d07e9_0.json',\n",
    "#  'eef4dd1d3cda418da17ea0b97050b8f8_3.json',\n",
    "#  'e4f3a9e6c0f4494a86530298dd3d07e9_1.json',\n",
    "#  '38f07d0b896141559e7360235c848792_0.json',\n",
    "#  'e45cab0b358b4cf89633afd8cc85b583_1.json',\n",
    "#  '00fb634687ed494d969219802e37c3bd_3.json',\n",
    "#  'a5c5a9ce27e44ceeb8ba9e672347baac_0.json',\n",
    "#  '68c59ba3f331484b88bbcf86dd202dc1_3.json',\n",
    "#  'a5c5a9ce27e44ceeb8ba9e672347baac_3.json',\n",
    "#  '51ae2730fa4f439c95fd6e124168a9b2_1.json',\n",
    "#  '078d71ad4d57420ba17ab55898800cd6_0.json',\n",
    "#  'e48c48be5eb34510a9028bf600431147_2.json',\n",
    "#  '025e48e607604310ad7ad8d20f968ed2_0.json',\n",
    "#  '00fb634687ed494d969219802e37c3bd_0.json']\n",
    "file_names = os.listdir('./conversations')\n",
    "len(file_names)"
   ]
  },
  {
   "cell_type": "code",
   "execution_count": null,
   "metadata": {},
   "outputs": [],
   "source": []
  },
  {
   "cell_type": "code",
   "execution_count": 2,
   "metadata": {
    "scrolled": true
   },
   "outputs": [],
   "source": [
    "def check_valid_convesations(conversation):\n",
    "    for turn in conversation:\n",
    "        if 'success' in turn:\n",
    "            return  True\n",
    "#     print(conversation)\n",
    "    return False"
   ]
  },
  {
   "cell_type": "code",
   "execution_count": 3,
   "metadata": {
    "scrolled": true
   },
   "outputs": [],
   "source": [
    "def check_alphanum(text):\n",
    "    uppercase = string.ascii_uppercase\n",
    "    for char in text:\n",
    "        if not (char in uppercase or char.isdigit()):\n",
    "            return False\n",
    "    return True\n",
    "\n",
    "def check_if_mturk_id(text):\n",
    "    if len(text) >= 12 and check_alphanum(text):\n",
    "        return True\n",
    "    return False    "
   ]
  },
  {
   "cell_type": "code",
   "execution_count": 26,
   "metadata": {
    "scrolled": true
   },
   "outputs": [],
   "source": [
    "def evaluate(model, adj_model, task, speaker, vocab, state, composition, shuffle_order):\n",
    "    print('$$COMPOSITION$$:', composition)\n",
    "    output_dict = dict()\n",
    "    evaluation = None\n",
    "    for i, intent in enumerate(composition.split('AND')[::-1]):\n",
    "        name, args = get_intent_args(intent.strip(), output_dict)\n",
    "        print('$$Name:', name, 'Arguments:', args)\n",
    "        if len(args) > 0 and args[0] != None:\n",
    "            temp = eval('eval_' + name)(model, adj_model, task, speaker, \\\n",
    "                vocab, state._cur_state, shuffle_order, *args[1:])\n",
    "            output_dict[args[0]] = temp[0:2]\n",
    "            evaluation = temp\n",
    "            print('This is the evaluation obtained: %s' % (evaluation,))\n",
    "        else:\n",
    "            evaluation = eval('eval_' + name)(model, adj_model, task, speaker, \\\n",
    "                vocab, state._cur_state, shuffle_order, *args[1:])\n",
    "    return evaluation"
   ]
  },
  {
   "cell_type": "code",
   "execution_count": 5,
   "metadata": {
    "scrolled": true
   },
   "outputs": [],
   "source": [
    "def get_logic_form(cic, utterance):\n",
    "    forms = []\n",
    "    utterance = utterance.lower()\n",
    "    for s in symbol_list:\n",
    "        utterance = (' ' + s + ' ').join(utterance.split(s)).strip()\n",
    "    parse_input = utterance.split()\n",
    "\n",
    "    parse_input = get_correct_sentence(parse_input, t, cic.spellcheck_map)\n",
    "#     print(parse_input)\n",
    "    parse_input = preprocess(parse_input, cic._color_vocab)\n",
    "    parse_trees = chart_parse(parse_input, g, t, n, fs, '<P>')\n",
    "#     print(parse_trees[1].to_str())\n",
    "    for tree in parse_trees:\n",
    "        if not tree:\n",
    "            continue\n",
    "        forms.append(get_logical_form(cic._color_vocab, rimap, irmap, tree, 'G')[0])\n",
    "    return forms"
   ]
  },
  {
   "cell_type": "code",
   "execution_count": 6,
   "metadata": {
    "scrolled": true
   },
   "outputs": [],
   "source": [
    "cic = make_or_load_cic()\n",
    "cic.set_indexes('test')"
   ]
  },
  {
   "cell_type": "code",
   "execution_count": 7,
   "metadata": {
    "scrolled": true
   },
   "outputs": [],
   "source": [
    "(g, t, n, fs) = load_grammar(cic._color_vocab, os.getenv('CFG'))\n",
    "g = pickle.load(open(os.path.dirname(dataset.__file__)  + '/pcfg_5.pkl', 'rb'))\n",
    "(irmap, rimap) = load_grammar_intent_map(os.getenv('INTENT_MAP'))"
   ]
  },
  {
   "cell_type": "code",
   "execution_count": 8,
   "metadata": {
    "scrolled": true
   },
   "outputs": [],
   "source": [
    "def preprocess(sentence, vocabulary):\n",
    "    start = 0\n",
    "    result = []\n",
    "    while start < len(sentence):\n",
    "        max_length = 0\n",
    "        term_ix = -1\n",
    "        for i in range(0, 3):\n",
    "            cur_term = ' '.join(sentence[start:start + i + 1])\n",
    "            try:\n",
    "                term_ix = vocabulary[cur_term]\n",
    "                max_length = i + 1\n",
    "            except Exception as e:\n",
    "                pass\n",
    "        if max_length == 0:\n",
    "            result.append(sentence[start])\n",
    "            start += 1\n",
    "        else:\n",
    "            result.append(str(term_ix))\n",
    "            start += max_length\n",
    "    return result"
   ]
  },
  {
   "cell_type": "code",
   "execution_count": 9,
   "metadata": {
    "scrolled": true
   },
   "outputs": [],
   "source": [
    "def check_if_reject_or_confirm(forms):\n",
    "    for form in forms:\n",
    "        if 'REJECT' in form:\n",
    "            return 1\n",
    "        elif 'CONFIRM' in form:\n",
    "            return 2\n",
    "    return 0"
   ]
  },
  {
   "cell_type": "code",
   "execution_count": 10,
   "metadata": {
    "scrolled": true
   },
   "outputs": [],
   "source": [
    "def get_count(form):\n",
    "    count = 0\n",
    "    for constituent in form.split('AND'):\n",
    "        if 'IDENTIFY' in constituent:\n",
    "            count += 1\n",
    "    return count"
   ]
  },
  {
   "cell_type": "code",
   "execution_count": 28,
   "metadata": {
    "scrolled": true
   },
   "outputs": [
    {
     "name": "stdout",
     "output_type": "stream",
     "text": [
      "%%%%%%%%%%%%%%%%%%%\n",
      "{'name': 'L', 'text': 'lime green or grey green or green?', 'info': '', 'timestamp': '2020-06-30 21:40:58.651941', 'finished': 0}\n",
      "Turn Index: 2\n",
      "%%%%%%%%%%%%%%%%%%%\n",
      "Listener Logic Form: COMPARE_REF(T,[or],A,B) AND IDENTIFY(A,472) AND COMPARE_REF(B,[or],H,I) AND IDENTIFY(H,349) AND ASK_CLARIFICATION(I,J) AND IDENTIFY(J,330)\n",
      "Speaker Logic Form: ['IDENTIFY(A,472)']\n",
      "Going to evaluate this constituent: IDENTIFY(A,472)\n",
      "$$COMPOSITION$$: IDENTIFY(A,472)\n",
      "$$Name: IDENTIFY Arguments: ['A', '472']\n",
      "This is the evaluation obtained: (-0.1, array([0.15382475, 0.00930579, 0.8368695 ], dtype=float32), 'INFORMATION')\n",
      "Going to evaluate this constituent: IDENTIFY(H,349)\n",
      "$$COMPOSITION$$: IDENTIFY(H,349)\n",
      "$$Name: IDENTIFY Arguments: ['H', '349']\n",
      "This is the evaluation obtained: (-0.1, array([0.00316365, 0.99394506, 0.00289129], dtype=float32), 'INFORMATION')\n",
      "Going to evaluate this constituent: IDENTIFY(J,330)\n",
      "$$COMPOSITION$$: IDENTIFY(J,330)\n",
      "$$Name: IDENTIFY Arguments: ['J', '330']\n",
      "This is the evaluation obtained: (-0.1, array([0.1657396 , 0.11045401, 0.72380644], dtype=float32), 'INFORMATION')\n",
      "Found the target: 0\n",
      "$$COMPOSITION$$: COMPARE_REF(T,[or],A,B) AND IDENTIFY(A,472) AND COMPARE_REF(B,[or],H,I) AND IDENTIFY(H,349) AND ASK_CLARIFICATION(I,J) AND IDENTIFY(J,330)\n",
      "$$Name: IDENTIFY Arguments: ['J', '330']\n",
      "This is the evaluation obtained: (-0.1, array([0.1657396 , 0.11045401, 0.72380644], dtype=float32), 'INFORMATION')\n",
      "$$Name: ASK_CLARIFICATION Arguments: ['I', (-0.1, array([0.1657396 , 0.11045401, 0.72380644], dtype=float32))]\n",
      "This is the evaluation obtained: (-0.1, array([0.1657396 , 0.11045401, 0.72380644], dtype=float32), 'ASK_CLARIFICATION')\n",
      "$$Name: IDENTIFY Arguments: ['H', '349']\n",
      "This is the evaluation obtained: (-0.1, array([0.00316365, 0.99394506, 0.00289129], dtype=float32), 'INFORMATION')\n",
      "$$Name: COMPARE_REF Arguments: ['B', ['or'], (-0.1, array([0.00316365, 0.99394506, 0.00289129], dtype=float32)), (-0.1, array([0.1657396 , 0.11045401, 0.72380644], dtype=float32))]\n",
      "This is the evaluation obtained: (-0.1, array([0.08920274, 0.52692044, 0.3838768 ], dtype=float32), 'INFORMATION')\n",
      "$$Name: IDENTIFY Arguments: ['A', '472']\n",
      "This is the evaluation obtained: (-0.1, array([0.15382475, 0.00930579, 0.8368695 ], dtype=float32), 'INFORMATION')\n",
      "$$Name: COMPARE_REF Arguments: ['T', ['or'], (-0.1, array([0.15382475, 0.00930579, 0.8368695 ], dtype=float32)), (-0.1, array([0.08920274, 0.52692044, 0.3838768 ], dtype=float32))]\n",
      "This is the evaluation obtained: (-0.1, array([0.13812609, 0.3200508 , 0.5418231 ], dtype=float32), 'INFORMATION')\n",
      "$$COMPOSITION$$: IDENTIFY(A,472)\n",
      "$$Name: IDENTIFY Arguments: ['A', '472']\n",
      "This is the evaluation obtained: (-0.1, array([0.15382475, 0.00930579, 0.8368695 ], dtype=float32), 'INFORMATION')\n",
      "(-0.1, array([0.15382475, 0.00930579, 0.8368695 ], dtype=float32), 'INFORMATION')\n",
      "^^^^^^^^^^^^^\n",
      "Clarification Evaluation: (-0.1, array([0.13812609, 0.3200508 , 0.5418231 ], dtype=float32), 'INFORMATION') Color Phrase Count: 3\n",
      "^^^^^^^^^^^^^\n",
      "%%%%%%%%%%%%%%%%%%%\n",
      "{'name': 'L', 'text': 'The grass green?', 'info': '', 'timestamp': '2020-06-30 21:41:04.497480', 'finished': 0}\n",
      "Turn Index: 4\n",
      "%%%%%%%%%%%%%%%%%%%\n",
      "Listener Logic Form: ASK_CLARIFICATION(T,A) AND IDENTIFY(A,328)\n",
      "Speaker Logic Form: ['IDENTIFY_SET(T,[bright],-1,None)']\n",
      "Going to evaluate this constituent: IDENTIFY(A,328)\n",
      "$$COMPOSITION$$: IDENTIFY(A,328)\n",
      "$$Name: IDENTIFY Arguments: ['A', '328']\n",
      "This is the evaluation obtained: (-0.1, array([0.13552213, 0.04646924, 0.81800866], dtype=float32), 'INFORMATION')\n",
      "Found the target: 0\n",
      "$$COMPOSITION$$: ASK_CLARIFICATION(T,A) AND IDENTIFY(A,328)\n",
      "$$Name: IDENTIFY Arguments: ['A', '328']\n",
      "This is the evaluation obtained: (-0.1, array([0.13552213, 0.04646924, 0.81800866], dtype=float32), 'INFORMATION')\n",
      "$$Name: ASK_CLARIFICATION Arguments: ['T', (-0.1, array([0.13552213, 0.04646924, 0.81800866], dtype=float32))]\n",
      "This is the evaluation obtained: (-0.1, array([0.13552213, 0.04646924, 0.81800866], dtype=float32), 'ASK_CLARIFICATION')\n",
      "$$COMPOSITION$$: IDENTIFY_SET(T,[bright],-1,None)\n",
      "$$Name: IDENTIFY_SET Arguments: ['T', ['bright'], '1', 'None']\n",
      "This is the evaluation obtained: (-0.1, array([0.33, 0.33, 0.33]), 'INFORMATION')\n",
      "(-0.1, array([0.33, 0.33, 0.33]), 'INFORMATION')\n",
      "^^^^^^^^^^^^^\n",
      "Clarification Evaluation: (-0.1, array([0.13552213, 0.04646924, 0.81800866], dtype=float32), 'ASK_CLARIFICATION') Color Phrase Count: 1\n",
      "^^^^^^^^^^^^^\n",
      "%%%%%%%%%%%%%%%%%%%\n",
      "{'name': 'L', 'text': 'Do you mean light green ?', 'info': '', 'timestamp': '2020-06-30 21:41:12.005207', 'finished': 0}\n",
      "Turn Index: 6\n",
      "%%%%%%%%%%%%%%%%%%%\n",
      "Listener Logic Form: ASK_CLARIFICATION(T,A) AND IDENTIFY(A,418)\n",
      "Speaker Logic Form: []\n",
      "Going to evaluate this constituent: IDENTIFY(A,418)\n",
      "$$COMPOSITION$$: IDENTIFY(A,418)\n",
      "$$Name: IDENTIFY Arguments: ['A', '418']\n",
      "This is the evaluation obtained: (-0.1, array([0.77241373, 0.05715745, 0.17042884], dtype=float32), 'INFORMATION')\n",
      "Found the target: 1\n",
      "$$COMPOSITION$$: ASK_CLARIFICATION(T,A) AND IDENTIFY(A,418)\n",
      "$$Name: IDENTIFY Arguments: ['A', '418']\n",
      "This is the evaluation obtained: (-0.1, array([0.77241373, 0.05715745, 0.17042884], dtype=float32), 'INFORMATION')\n",
      "$$Name: ASK_CLARIFICATION Arguments: ['T', (-0.1, array([0.77241373, 0.05715745, 0.17042884], dtype=float32))]\n",
      "This is the evaluation obtained: (-0.1, array([0.77241373, 0.05715745, 0.17042884], dtype=float32), 'ASK_CLARIFICATION')\n",
      "^^^^^^^^^^^^^\n",
      "Clarification Evaluation: (-0.1, array([0.77241373, 0.05715745, 0.17042884], dtype=float32), 'ASK_CLARIFICATION') Color Phrase Count: 1\n",
      "^^^^^^^^^^^^^\n",
      "%%%%%%%%%%%%%%%%%%%\n",
      "{'name': 'L', 'text': 'Do you mean aqua green ?', 'info': '', 'timestamp': '2020-06-30 21:41:20.596865', 'finished': 0}\n",
      "Turn Index: 10\n",
      "%%%%%%%%%%%%%%%%%%%\n",
      "Listener Logic Form: ASK_CLARIFICATION(T,A) AND IDENTIFY(A,12)\n",
      "Speaker Logic Form: ['CONFIRMATION(T,yes)']\n",
      "Going to evaluate this constituent: IDENTIFY(A,12)\n",
      "$$COMPOSITION$$: IDENTIFY(A,12)\n",
      "$$Name: IDENTIFY Arguments: ['A', '12']\n",
      "This is the evaluation obtained: (-0.1, array([0.9255227 , 0.04800142, 0.02647589], dtype=float32), 'INFORMATION')\n",
      "Found the target: 1\n",
      "$$COMPOSITION$$: ASK_CLARIFICATION(T,A) AND IDENTIFY(A,12)\n",
      "$$Name: IDENTIFY Arguments: ['A', '12']\n",
      "This is the evaluation obtained: (-0.1, array([0.9255227 , 0.04800142, 0.02647589], dtype=float32), 'INFORMATION')\n",
      "$$Name: ASK_CLARIFICATION Arguments: ['T', (-0.1, array([0.9255227 , 0.04800142, 0.02647589], dtype=float32))]\n",
      "This is the evaluation obtained: (-0.1, array([0.9255227 , 0.04800142, 0.02647589], dtype=float32), 'ASK_CLARIFICATION')\n",
      "$$COMPOSITION$$: ASK_CLARIFICATION(T,A) AND IDENTIFY(A,12)\n",
      "$$Name: IDENTIFY Arguments: ['A', '12']\n",
      "This is the evaluation obtained: (-0.1, array([0.9255227 , 0.04800142, 0.02647589], dtype=float32), 'INFORMATION')\n",
      "$$Name: ASK_CLARIFICATION Arguments: ['T', (-0.1, array([0.9255227 , 0.04800142, 0.02647589], dtype=float32))]\n",
      "This is the evaluation obtained: (-0.1, array([0.9255227 , 0.04800142, 0.02647589], dtype=float32), 'ASK_CLARIFICATION')\n",
      "(-0.1, array([0.9255227 , 0.04800142, 0.02647589], dtype=float32), 'ASK_CLARIFICATION')\n",
      "^^^^^^^^^^^^^\n",
      "Clarification Evaluation: (-0.1, array([0.9255227 , 0.04800142, 0.02647589], dtype=float32), 'ASK_CLARIFICATION') Color Phrase Count: 1\n",
      "^^^^^^^^^^^^^\n",
      "%%%%%%%%%%%%%%%%%%%\n",
      "{'name': 'L', 'text': 'Do you mean dark grey ?', 'info': '', 'timestamp': '2020-06-30 22:18:48.644214', 'finished': 0}\n",
      "Turn Index: 2\n",
      "%%%%%%%%%%%%%%%%%%%\n",
      "Listener Logic Form: ASK_CLARIFICATION(T,A) AND IDENTIFY(A,176)\n",
      "Speaker Logic Form: []\n",
      "Going to evaluate this constituent: IDENTIFY(A,176)\n",
      "$$COMPOSITION$$: IDENTIFY(A,176)\n",
      "$$Name: IDENTIFY Arguments: ['A', '176']\n",
      "This is the evaluation obtained: (-0.1, array([9.9993670e-01, 5.9817252e-05, 3.5666765e-06], dtype=float32), 'INFORMATION')\n",
      "Found the target: 1\n",
      "$$COMPOSITION$$: ASK_CLARIFICATION(T,A) AND IDENTIFY(A,176)\n",
      "$$Name: IDENTIFY Arguments: ['A', '176']\n",
      "This is the evaluation obtained: (-0.1, array([9.9993670e-01, 5.9817252e-05, 3.5666765e-06], dtype=float32), 'INFORMATION')\n",
      "$$Name: ASK_CLARIFICATION Arguments: ['T', (-0.1, array([9.9993670e-01, 5.9817252e-05, 3.5666765e-06], dtype=float32))]\n",
      "This is the evaluation obtained: (-0.1, array([9.9993670e-01, 5.9817252e-05, 3.5666765e-06], dtype=float32), 'ASK_CLARIFICATION')\n",
      "^^^^^^^^^^^^^\n",
      "Clarification Evaluation: (-0.1, array([9.9993670e-01, 5.9817252e-05, 3.5666765e-06], dtype=float32), 'ASK_CLARIFICATION') Color Phrase Count: 1\n",
      "^^^^^^^^^^^^^\n",
      "%%%%%%%%%%%%%%%%%%%\n",
      "{'name': 'L', 'text': 'bright purple or pink or lavender?', 'info': '', 'timestamp': '2020-06-30 22:30:49.655296', 'finished': 0}\n",
      "Turn Index: 4\n",
      "%%%%%%%%%%%%%%%%%%%\n"
     ]
    },
    {
     "name": "stdout",
     "output_type": "stream",
     "text": [
      "Listener Logic Form: COMPARE_REF(T,[or],A,B) AND IDENTIFY(A,81) AND COMPARE_REF(B,[or],H,I) AND IDENTIFY(H,608) AND ASK_CLARIFICATION(I,J) AND IDENTIFY(J,394)\n",
      "Speaker Logic Form: ['IDENTIFY(A,608)']\n",
      "Going to evaluate this constituent: IDENTIFY(A,81)\n",
      "$$COMPOSITION$$: IDENTIFY(A,81)\n",
      "$$Name: IDENTIFY Arguments: ['A', '81']\n",
      "This is the evaluation obtained: (-0.1, array([0.06685732, 0.00750475, 0.92563796], dtype=float32), 'INFORMATION')\n",
      "Going to evaluate this constituent: IDENTIFY(H,608)\n",
      "$$COMPOSITION$$: IDENTIFY(H,608)\n",
      "$$Name: IDENTIFY Arguments: ['H', '608']\n",
      "This is the evaluation obtained: (-0.1, array([0.8320601 , 0.07931238, 0.08862758], dtype=float32), 'INFORMATION')\n",
      "Going to evaluate this constituent: IDENTIFY(J,394)\n",
      "$$COMPOSITION$$: IDENTIFY(J,394)\n",
      "$$Name: IDENTIFY Arguments: ['J', '394']\n",
      "This is the evaluation obtained: (-0.1, array([0.24113786, 0.6663514 , 0.09251078], dtype=float32), 'INFORMATION')\n",
      "Found the target: 1\n",
      "$$COMPOSITION$$: COMPARE_REF(T,[or],A,B) AND IDENTIFY(A,81) AND COMPARE_REF(B,[or],H,I) AND IDENTIFY(H,608) AND ASK_CLARIFICATION(I,J) AND IDENTIFY(J,394)\n",
      "$$Name: IDENTIFY Arguments: ['J', '394']\n",
      "This is the evaluation obtained: (-0.1, array([0.24113786, 0.6663514 , 0.09251078], dtype=float32), 'INFORMATION')\n",
      "$$Name: ASK_CLARIFICATION Arguments: ['I', (-0.1, array([0.24113786, 0.6663514 , 0.09251078], dtype=float32))]\n",
      "This is the evaluation obtained: (-0.1, array([0.24113786, 0.6663514 , 0.09251078], dtype=float32), 'ASK_CLARIFICATION')\n",
      "$$Name: IDENTIFY Arguments: ['H', '608']\n",
      "This is the evaluation obtained: (-0.1, array([0.8320601 , 0.07931238, 0.08862758], dtype=float32), 'INFORMATION')\n",
      "$$Name: COMPARE_REF Arguments: ['B', ['or'], (-0.1, array([0.8320601 , 0.07931238, 0.08862758], dtype=float32)), (-0.1, array([0.24113786, 0.6663514 , 0.09251078], dtype=float32))]\n",
      "This is the evaluation obtained: (-0.1, array([0.50195694, 0.398556  , 0.09948707], dtype=float32), 'INFORMATION')\n",
      "$$Name: IDENTIFY Arguments: ['A', '81']\n",
      "This is the evaluation obtained: (-0.1, array([0.06685732, 0.00750475, 0.92563796], dtype=float32), 'INFORMATION')\n",
      "$$Name: COMPARE_REF Arguments: ['T', ['or'], (-0.1, array([0.06685732, 0.00750475, 0.92563796], dtype=float32)), (-0.1, array([0.50195694, 0.398556  , 0.09948707], dtype=float32))]\n",
      "This is the evaluation obtained: (-0.1, array([0.2860244 , 0.21538857, 0.49858698], dtype=float32), 'INFORMATION')\n",
      "$$COMPOSITION$$: IDENTIFY(A,608)\n",
      "$$Name: IDENTIFY Arguments: ['A', '608']\n",
      "This is the evaluation obtained: (-0.1, array([0.8320601 , 0.07931238, 0.08862758], dtype=float32), 'INFORMATION')\n",
      "(-0.1, array([0.8320601 , 0.07931238, 0.08862758], dtype=float32), 'INFORMATION')\n",
      "^^^^^^^^^^^^^\n",
      "Clarification Evaluation: (-0.1, array([0.2860244 , 0.21538857, 0.49858698], dtype=float32), 'INFORMATION') Color Phrase Count: 3\n",
      "^^^^^^^^^^^^^\n",
      "%%%%%%%%%%%%%%%%%%%\n",
      "{'name': 'L', 'text': 'Do you mean mauve or grey?', 'info': '', 'timestamp': '2020-06-30 23:22:31.041326', 'finished': 0}\n",
      "Turn Index: 2\n",
      "%%%%%%%%%%%%%%%%%%%\n",
      "Listener Logic Form: ASK_CLARIFICATION(T,A) AND COMPARE_REF(A,[or],G,H) AND IDENTIFY(G,486) AND IDENTIFY(H,346)\n",
      "Speaker Logic Form: ['IDENTIFY(A,486)']\n",
      "Going to evaluate this constituent: IDENTIFY(G,486)\n",
      "$$COMPOSITION$$: IDENTIFY(G,486)\n",
      "$$Name: IDENTIFY Arguments: ['G', '486']\n",
      "This is the evaluation obtained: (-0.1, array([0.7888584 , 0.16919217, 0.04194943], dtype=float32), 'INFORMATION')\n",
      "Going to evaluate this constituent: IDENTIFY(H,346)\n",
      "$$COMPOSITION$$: IDENTIFY(H,346)\n",
      "$$Name: IDENTIFY Arguments: ['H', '346']\n",
      "This is the evaluation obtained: (-0.1, array([0.02107745, 0.9777855 , 0.00113705], dtype=float32), 'INFORMATION')\n",
      "Found the target: 1\n",
      "$$COMPOSITION$$: ASK_CLARIFICATION(T,A) AND COMPARE_REF(A,[or],G,H) AND IDENTIFY(G,486) AND IDENTIFY(H,346)\n",
      "$$Name: IDENTIFY Arguments: ['H', '346']\n",
      "This is the evaluation obtained: (-0.1, array([0.02107745, 0.9777855 , 0.00113705], dtype=float32), 'INFORMATION')\n",
      "$$Name: IDENTIFY Arguments: ['G', '486']\n",
      "This is the evaluation obtained: (-0.1, array([0.7888584 , 0.16919217, 0.04194943], dtype=float32), 'INFORMATION')\n",
      "$$Name: COMPARE_REF Arguments: ['A', ['or'], (-0.1, array([0.7888584 , 0.16919217, 0.04194943], dtype=float32)), (-0.1, array([0.02107745, 0.9777855 , 0.00113705], dtype=float32))]\n",
      "This is the evaluation obtained: (-0.1, array([0.43638948, 0.5399354 , 0.02367511], dtype=float32), 'INFORMATION')\n",
      "$$Name: ASK_CLARIFICATION Arguments: ['T', (-0.1, array([0.43638948, 0.5399354 , 0.02367511], dtype=float32))]\n",
      "This is the evaluation obtained: (-0.1, array([0.43638948, 0.5399354 , 0.02367511], dtype=float32), 'ASK_CLARIFICATION')\n",
      "$$COMPOSITION$$: IDENTIFY(A,486)\n",
      "$$Name: IDENTIFY Arguments: ['A', '486']\n",
      "This is the evaluation obtained: (-0.1, array([0.7888584 , 0.16919217, 0.04194943], dtype=float32), 'INFORMATION')\n",
      "(-0.1, array([0.7888584 , 0.16919217, 0.04194943], dtype=float32), 'INFORMATION')\n",
      "^^^^^^^^^^^^^\n",
      "Clarification Evaluation: (-0.1, array([0.43638948, 0.5399354 , 0.02367511], dtype=float32), 'ASK_CLARIFICATION') Color Phrase Count: 2\n",
      "^^^^^^^^^^^^^\n",
      "%%%%%%%%%%%%%%%%%%%\n",
      "{'name': 'L', 'text': 'Do you mean mauve or grey or tan?', 'info': '', 'timestamp': '2020-06-30 22:28:26.005530', 'finished': 0}\n",
      "Turn Index: 2\n",
      "%%%%%%%%%%%%%%%%%%%\n",
      "Listener Logic Form: ASK_CLARIFICATION(T,A) AND COMPARE_REF(A,[or],I,J) AND IDENTIFY(I,486) AND COMPARE_REF(J,[or],K,L) AND IDENTIFY(K,346) AND IDENTIFY(L,749)\n",
      "Speaker Logic Form: ['IDENTIFY(A,749)']\n",
      "Going to evaluate this constituent: IDENTIFY(I,486)\n",
      "$$COMPOSITION$$: IDENTIFY(I,486)\n",
      "$$Name: IDENTIFY Arguments: ['I', '486']\n",
      "This is the evaluation obtained: (-0.1, array([0.08598299, 0.01691481, 0.89710224], dtype=float32), 'INFORMATION')\n",
      "Going to evaluate this constituent: IDENTIFY(K,346)\n",
      "$$COMPOSITION$$: IDENTIFY(K,346)\n",
      "$$Name: IDENTIFY Arguments: ['K', '346']\n",
      "This is the evaluation obtained: (-0.1, array([8.8910735e-01, 6.1114819e-04, 1.1028157e-01], dtype=float32), 'INFORMATION')\n",
      "Going to evaluate this constituent: IDENTIFY(L,749)\n",
      "$$COMPOSITION$$: IDENTIFY(L,749)\n",
      "$$Name: IDENTIFY Arguments: ['L', '749']\n",
      "This is the evaluation obtained: (-0.1, array([0.08480065, 0.828182  , 0.08701739], dtype=float32), 'INFORMATION')\n",
      "Found the target: 1\n",
      "$$COMPOSITION$$: ASK_CLARIFICATION(T,A) AND COMPARE_REF(A,[or],I,J) AND IDENTIFY(I,486) AND COMPARE_REF(J,[or],K,L) AND IDENTIFY(K,346) AND IDENTIFY(L,749)\n",
      "$$Name: IDENTIFY Arguments: ['L', '749']\n",
      "This is the evaluation obtained: (-0.1, array([0.08480065, 0.828182  , 0.08701739], dtype=float32), 'INFORMATION')\n",
      "$$Name: IDENTIFY Arguments: ['K', '346']\n",
      "This is the evaluation obtained: (-0.1, array([8.8910735e-01, 6.1114819e-04, 1.1028157e-01], dtype=float32), 'INFORMATION')\n",
      "$$Name: COMPARE_REF Arguments: ['J', ['or'], (-0.1, array([8.8910735e-01, 6.1114819e-04, 1.1028157e-01], dtype=float32)), (-0.1, array([0.08480065, 0.828182  , 0.08701739], dtype=float32))]\n",
      "This is the evaluation obtained: (-0.1, array([0.46931878, 0.43263865, 0.09804258], dtype=float32), 'INFORMATION')\n",
      "$$Name: IDENTIFY Arguments: ['I', '486']\n",
      "This is the evaluation obtained: (-0.1, array([0.08598299, 0.01691481, 0.89710224], dtype=float32), 'INFORMATION')\n",
      "$$Name: COMPARE_REF Arguments: ['A', ['or'], (-0.1, array([0.08598299, 0.01691481, 0.89710224], dtype=float32)), (-0.1, array([0.46931878, 0.43263865, 0.09804258], dtype=float32))]\n",
      "This is the evaluation obtained: (-0.1, array([0.27620435, 0.23720315, 0.4865925 ], dtype=float32), 'INFORMATION')\n",
      "$$Name: ASK_CLARIFICATION Arguments: ['T', (-0.1, array([0.27620435, 0.23720315, 0.4865925 ], dtype=float32))]\n",
      "This is the evaluation obtained: (-0.1, array([0.27620435, 0.23720315, 0.4865925 ], dtype=float32), 'ASK_CLARIFICATION')\n",
      "$$COMPOSITION$$: IDENTIFY(A,749)\n",
      "$$Name: IDENTIFY Arguments: ['A', '749']\n",
      "This is the evaluation obtained: (-0.1, array([0.08480065, 0.828182  , 0.08701739], dtype=float32), 'INFORMATION')\n",
      "(-0.1, array([0.08480065, 0.828182  , 0.08701739], dtype=float32), 'INFORMATION')\n",
      "^^^^^^^^^^^^^\n",
      "Clarification Evaluation: (-0.1, array([0.27620435, 0.23720315, 0.4865925 ], dtype=float32), 'ASK_CLARIFICATION') Color Phrase Count: 3\n",
      "^^^^^^^^^^^^^\n",
      "%%%%%%%%%%%%%%%%%%%\n",
      "{'name': 'L', 'text': 'Do you mean bright purple or blue or purple?', 'info': '', 'timestamp': '2020-06-30 21:40:25.706620', 'finished': 0}\n",
      "Turn Index: 2\n",
      "%%%%%%%%%%%%%%%%%%%\n",
      "Listener Logic Form: ASK_CLARIFICATION(T,A) AND COMPARE_REF(A,[or],I,J) AND IDENTIFY(I,81) AND COMPARE_REF(J,[or],K,L) AND IDENTIFY(K,44) AND IDENTIFY(L,638)\n",
      "Speaker Logic Form: ['IDENTIFY(A,638)']\n",
      "Going to evaluate this constituent: IDENTIFY(I,81)\n",
      "$$COMPOSITION$$: IDENTIFY(I,81)\n",
      "$$Name: IDENTIFY Arguments: ['I', '81']\n",
      "This is the evaluation obtained: (-0.1, array([0.0171308 , 0.9755396 , 0.00732958], dtype=float32), 'INFORMATION')\n",
      "Going to evaluate this constituent: IDENTIFY(K,44)\n",
      "$$COMPOSITION$$: IDENTIFY(K,44)\n",
      "$$Name: IDENTIFY Arguments: ['K', '44']\n",
      "This is the evaluation obtained: (-0.1, array([0.00323467, 0.00260436, 0.994161  ], dtype=float32), 'INFORMATION')\n",
      "Going to evaluate this constituent: IDENTIFY(L,638)\n",
      "$$COMPOSITION$$: IDENTIFY(L,638)\n",
      "$$Name: IDENTIFY Arguments: ['L', '638']\n",
      "This is the evaluation obtained: (-0.1, array([0.78115475, 0.20122756, 0.01761776], dtype=float32), 'INFORMATION')\n",
      "Found the target: 1\n",
      "$$COMPOSITION$$: ASK_CLARIFICATION(T,A) AND COMPARE_REF(A,[or],I,J) AND IDENTIFY(I,81) AND COMPARE_REF(J,[or],K,L) AND IDENTIFY(K,44) AND IDENTIFY(L,638)\n",
      "$$Name: IDENTIFY Arguments: ['L', '638']\n",
      "This is the evaluation obtained: (-0.1, array([0.78115475, 0.20122756, 0.01761776], dtype=float32), 'INFORMATION')\n",
      "$$Name: IDENTIFY Arguments: ['K', '44']\n",
      "This is the evaluation obtained: (-0.1, array([0.00323467, 0.00260436, 0.994161  ], dtype=float32), 'INFORMATION')\n",
      "$$Name: COMPARE_REF Arguments: ['J', ['or'], (-0.1, array([0.00323467, 0.00260436, 0.994161  ], dtype=float32)), (-0.1, array([0.78115475, 0.20122756, 0.01761776], dtype=float32))]\n",
      "This is the evaluation obtained: (-0.1, array([0.39499295, 0.10271008, 0.502297  ], dtype=float32), 'INFORMATION')\n",
      "$$Name: IDENTIFY Arguments: ['I', '81']\n",
      "This is the evaluation obtained: (-0.1, array([0.0171308 , 0.9755396 , 0.00732958], dtype=float32), 'INFORMATION')\n",
      "$$Name: COMPARE_REF Arguments: ['A', ['or'], (-0.1, array([0.0171308 , 0.9755396 , 0.00732958], dtype=float32)), (-0.1, array([0.39499295, 0.10271008, 0.502297  ], dtype=float32))]\n",
      "This is the evaluation obtained: (-0.1, array([0.21454802, 0.51766473, 0.26778728], dtype=float32), 'INFORMATION')\n",
      "$$Name: ASK_CLARIFICATION Arguments: ['T', (-0.1, array([0.21454802, 0.51766473, 0.26778728], dtype=float32))]\n",
      "This is the evaluation obtained: (-0.1, array([0.21454802, 0.51766473, 0.26778728], dtype=float32), 'ASK_CLARIFICATION')\n",
      "$$COMPOSITION$$: IDENTIFY(A,638)\n",
      "$$Name: IDENTIFY Arguments: ['A', '638']\n",
      "This is the evaluation obtained: (-0.1, array([0.78115475, 0.20122756, 0.01761776], dtype=float32), 'INFORMATION')\n",
      "(-0.1, array([0.78115475, 0.20122756, 0.01761776], dtype=float32), 'INFORMATION')\n",
      "^^^^^^^^^^^^^\n",
      "Clarification Evaluation: (-0.1, array([0.21454802, 0.51766473, 0.26778728], dtype=float32), 'ASK_CLARIFICATION') Color Phrase Count: 3\n",
      "^^^^^^^^^^^^^\n",
      "%%%%%%%%%%%%%%%%%%%\n",
      "{'name': 'L', 'text': 'The lavender?', 'info': '', 'timestamp': '2020-06-30 21:40:35.325034', 'finished': 0}\n",
      "Turn Index: 4\n",
      "%%%%%%%%%%%%%%%%%%%\n"
     ]
    },
    {
     "name": "stdout",
     "output_type": "stream",
     "text": [
      "Listener Logic Form: ASK_CLARIFICATION(T,A) AND IDENTIFY(A,394)\n",
      "Speaker Logic Form: ['CONFIRMATION(T,yes)']\n",
      "Going to evaluate this constituent: IDENTIFY(A,394)\n",
      "$$COMPOSITION$$: IDENTIFY(A,394)\n",
      "$$Name: IDENTIFY Arguments: ['A', '394']\n",
      "This is the evaluation obtained: (-0.1, array([0.8697585 , 0.12558644, 0.00465511], dtype=float32), 'INFORMATION')\n",
      "Found the target: 1\n",
      "$$COMPOSITION$$: ASK_CLARIFICATION(T,A) AND IDENTIFY(A,394)\n",
      "$$Name: IDENTIFY Arguments: ['A', '394']\n",
      "This is the evaluation obtained: (-0.1, array([0.8697585 , 0.12558644, 0.00465511], dtype=float32), 'INFORMATION')\n",
      "$$Name: ASK_CLARIFICATION Arguments: ['T', (-0.1, array([0.8697585 , 0.12558644, 0.00465511], dtype=float32))]\n",
      "This is the evaluation obtained: (-0.1, array([0.8697585 , 0.12558644, 0.00465511], dtype=float32), 'ASK_CLARIFICATION')\n",
      "$$COMPOSITION$$: ASK_CLARIFICATION(T,A) AND IDENTIFY(A,394)\n",
      "$$Name: IDENTIFY Arguments: ['A', '394']\n",
      "This is the evaluation obtained: (-0.1, array([0.8697585 , 0.12558644, 0.00465511], dtype=float32), 'INFORMATION')\n",
      "$$Name: ASK_CLARIFICATION Arguments: ['T', (-0.1, array([0.8697585 , 0.12558644, 0.00465511], dtype=float32))]\n",
      "This is the evaluation obtained: (-0.1, array([0.8697585 , 0.12558644, 0.00465511], dtype=float32), 'ASK_CLARIFICATION')\n",
      "(-0.1, array([0.8697585 , 0.12558644, 0.00465511], dtype=float32), 'ASK_CLARIFICATION')\n",
      "^^^^^^^^^^^^^\n",
      "Clarification Evaluation: (-0.1, array([0.8697585 , 0.12558644, 0.00465511], dtype=float32), 'ASK_CLARIFICATION') Color Phrase Count: 1\n",
      "^^^^^^^^^^^^^\n",
      "%%%%%%%%%%%%%%%%%%%\n",
      "{'name': 'L', 'text': 'Do you mean brown or blue grey?', 'info': '', 'timestamp': '2020-06-30 23:42:37.224332', 'finished': 0}\n",
      "Turn Index: 4\n",
      "%%%%%%%%%%%%%%%%%%%\n",
      "Listener Logic Form: ASK_CLARIFICATION(T,A) AND COMPARE_REF(A,[or],G,H) AND IDENTIFY(G,92) AND IDENTIFY(H,46)\n",
      "Speaker Logic Form: ['IDENTIFY(A,46)']\n",
      "Going to evaluate this constituent: IDENTIFY(G,92)\n",
      "$$COMPOSITION$$: IDENTIFY(G,92)\n",
      "$$Name: IDENTIFY Arguments: ['G', '92']\n",
      "This is the evaluation obtained: (-0.1, array([5.1749349e-03, 4.6631458e-04, 9.9435878e-01], dtype=float32), 'INFORMATION')\n",
      "Going to evaluate this constituent: IDENTIFY(H,46)\n",
      "$$COMPOSITION$$: IDENTIFY(H,46)\n",
      "$$Name: IDENTIFY Arguments: ['H', '46']\n",
      "This is the evaluation obtained: (-0.1, array([9.9747729e-01, 1.0098343e-05, 2.5126887e-03], dtype=float32), 'INFORMATION')\n",
      "Found the target: 1\n",
      "$$COMPOSITION$$: ASK_CLARIFICATION(T,A) AND COMPARE_REF(A,[or],G,H) AND IDENTIFY(G,92) AND IDENTIFY(H,46)\n",
      "$$Name: IDENTIFY Arguments: ['H', '46']\n",
      "This is the evaluation obtained: (-0.1, array([9.9747729e-01, 1.0098343e-05, 2.5126887e-03], dtype=float32), 'INFORMATION')\n",
      "$$Name: IDENTIFY Arguments: ['G', '92']\n",
      "This is the evaluation obtained: (-0.1, array([5.1749349e-03, 4.6631458e-04, 9.9435878e-01], dtype=float32), 'INFORMATION')\n",
      "$$Name: COMPARE_REF Arguments: ['A', ['or'], (-0.1, array([5.1749349e-03, 4.6631458e-04, 9.9435878e-01], dtype=float32)), (-0.1, array([9.9747729e-01, 1.0098343e-05, 2.5126887e-03], dtype=float32))]\n",
      "This is the evaluation obtained: (-0.1, array([5.0066280e-01, 2.3909594e-04, 4.9909812e-01], dtype=float32), 'INFORMATION')\n",
      "$$Name: ASK_CLARIFICATION Arguments: ['T', (-0.1, array([5.0066280e-01, 2.3909594e-04, 4.9909812e-01], dtype=float32))]\n",
      "This is the evaluation obtained: (-0.1, array([5.0066280e-01, 2.3909594e-04, 4.9909812e-01], dtype=float32), 'ASK_CLARIFICATION')\n",
      "$$COMPOSITION$$: IDENTIFY(A,46)\n",
      "$$Name: IDENTIFY Arguments: ['A', '46']\n",
      "This is the evaluation obtained: (-0.1, array([9.9747729e-01, 1.0098343e-05, 2.5126887e-03], dtype=float32), 'INFORMATION')\n",
      "(-0.1, array([9.9747729e-01, 1.0098343e-05, 2.5126887e-03], dtype=float32), 'INFORMATION')\n",
      "^^^^^^^^^^^^^\n",
      "Clarification Evaluation: (-0.1, array([5.0066280e-01, 2.3909594e-04, 4.9909812e-01], dtype=float32), 'ASK_CLARIFICATION') Color Phrase Count: 2\n",
      "^^^^^^^^^^^^^\n",
      "%%%%%%%%%%%%%%%%%%%\n",
      "{'name': 'L', 'text': 'The lime green?', 'info': '', 'timestamp': '2020-06-30 22:12:00.823594', 'finished': 0}\n",
      "Turn Index: 2\n",
      "%%%%%%%%%%%%%%%%%%%\n",
      "Listener Logic Form: ASK_CLARIFICATION(T,A) AND IDENTIFY(A,472)\n",
      "Speaker Logic Form: ['REJECTION(T,no)']\n",
      "Going to evaluate this constituent: IDENTIFY(A,472)\n",
      "$$COMPOSITION$$: IDENTIFY(A,472)\n",
      "$$Name: IDENTIFY Arguments: ['A', '472']\n",
      "This is the evaluation obtained: (-0.1, array([1.0544425e-03, 3.0292999e-06, 9.9894255e-01], dtype=float32), 'INFORMATION')\n",
      "Found the target: 0\n",
      "$$COMPOSITION$$: ASK_CLARIFICATION(T,A) AND IDENTIFY(A,472)\n",
      "$$Name: IDENTIFY Arguments: ['A', '472']\n",
      "This is the evaluation obtained: (-0.1, array([1.0544425e-03, 3.0292999e-06, 9.9894255e-01], dtype=float32), 'INFORMATION')\n",
      "$$Name: ASK_CLARIFICATION Arguments: ['T', (-0.1, array([1.0544425e-03, 3.0292999e-06, 9.9894255e-01], dtype=float32))]\n",
      "This is the evaluation obtained: (-0.1, array([1.0544425e-03, 3.0292999e-06, 9.9894255e-01], dtype=float32), 'ASK_CLARIFICATION')\n",
      "$$COMPOSITION$$: ASK_CLARIFICATION(T,A) AND IDENTIFY(A,472)\n",
      "$$Name: IDENTIFY Arguments: ['A', '472']\n",
      "This is the evaluation obtained: (-0.1, array([1.0544425e-03, 3.0292999e-06, 9.9894255e-01], dtype=float32), 'INFORMATION')\n",
      "$$Name: ASK_CLARIFICATION Arguments: ['T', (-0.1, array([1.0544425e-03, 3.0292999e-06, 9.9894255e-01], dtype=float32))]\n",
      "This is the evaluation obtained: (-0.1, array([1.0544425e-03, 3.0292999e-06, 9.9894255e-01], dtype=float32), 'ASK_CLARIFICATION')\n",
      "(-0.1, array([0.49947277, 0.49999848, 0.00052872], dtype=float32), 'ASK_CLARIFICATION')\n",
      "^^^^^^^^^^^^^\n",
      "Clarification Evaluation: (-0.1, array([1.0544425e-03, 3.0292999e-06, 9.9894255e-01], dtype=float32), 'ASK_CLARIFICATION') Color Phrase Count: 1\n",
      "^^^^^^^^^^^^^\n",
      "%%%%%%%%%%%%%%%%%%%\n",
      "{'name': 'L', 'text': 'Do you mean teal or yellow green?', 'info': '', 'timestamp': '2020-06-30 22:12:19.983779', 'finished': 0}\n",
      "Turn Index: 4\n",
      "%%%%%%%%%%%%%%%%%%%\n",
      "Listener Logic Form: ASK_CLARIFICATION(T,A) AND COMPARE_REF(A,[or],G,H) AND IDENTIFY(G,754) AND IDENTIFY(H,820)\n",
      "Speaker Logic Form: ['REJECTION(T,no)']\n",
      "Going to evaluate this constituent: IDENTIFY(G,754)\n",
      "$$COMPOSITION$$: IDENTIFY(G,754)\n",
      "$$Name: IDENTIFY Arguments: ['G', '754']\n",
      "This is the evaluation obtained: (-0.1, array([0.94788784, 0.05049597, 0.00161624], dtype=float32), 'INFORMATION')\n",
      "Going to evaluate this constituent: IDENTIFY(H,820)\n",
      "$$COMPOSITION$$: IDENTIFY(H,820)\n",
      "$$Name: IDENTIFY Arguments: ['H', '820']\n",
      "This is the evaluation obtained: (-0.1, array([7.3382352e-04, 7.4291029e-07, 9.9926543e-01], dtype=float32), 'INFORMATION')\n",
      "Found the target: 1\n",
      "$$COMPOSITION$$: ASK_CLARIFICATION(T,A) AND COMPARE_REF(A,[or],G,H) AND IDENTIFY(G,754) AND IDENTIFY(H,820)\n",
      "$$Name: IDENTIFY Arguments: ['H', '820']\n",
      "This is the evaluation obtained: (-0.1, array([7.3382352e-04, 7.4291029e-07, 9.9926543e-01], dtype=float32), 'INFORMATION')\n",
      "$$Name: IDENTIFY Arguments: ['G', '754']\n",
      "This is the evaluation obtained: (-0.1, array([0.94788784, 0.05049597, 0.00161624], dtype=float32), 'INFORMATION')\n",
      "$$Name: COMPARE_REF Arguments: ['A', ['or'], (-0.1, array([0.94788784, 0.05049597, 0.00161624], dtype=float32)), (-0.1, array([7.3382352e-04, 7.4291029e-07, 9.9926543e-01], dtype=float32))]\n",
      "This is the evaluation obtained: (-0.1, array([0.47451127, 0.02527752, 0.50021124], dtype=float32), 'INFORMATION')\n",
      "$$Name: ASK_CLARIFICATION Arguments: ['T', (-0.1, array([0.47451127, 0.02527752, 0.50021124], dtype=float32))]\n",
      "This is the evaluation obtained: (-0.1, array([0.47451127, 0.02527752, 0.50021124], dtype=float32), 'ASK_CLARIFICATION')\n",
      "$$COMPOSITION$$: ASK_CLARIFICATION(T,A) AND COMPARE_REF(A,[or],G,H) AND IDENTIFY(G,754) AND IDENTIFY(H,820)\n",
      "$$Name: IDENTIFY Arguments: ['H', '820']\n",
      "This is the evaluation obtained: (-0.1, array([7.3382352e-04, 7.4291029e-07, 9.9926543e-01], dtype=float32), 'INFORMATION')\n",
      "$$Name: IDENTIFY Arguments: ['G', '754']\n",
      "This is the evaluation obtained: (-0.1, array([0.94788784, 0.05049597, 0.00161624], dtype=float32), 'INFORMATION')\n",
      "$$Name: COMPARE_REF Arguments: ['A', ['or'], (-0.1, array([0.94788784, 0.05049597, 0.00161624], dtype=float32)), (-0.1, array([7.3382352e-04, 7.4291029e-07, 9.9926543e-01], dtype=float32))]\n",
      "This is the evaluation obtained: (-0.1, array([0.47451127, 0.02527752, 0.50021124], dtype=float32), 'INFORMATION')\n",
      "$$Name: ASK_CLARIFICATION Arguments: ['T', (-0.1, array([0.47451127, 0.02527752, 0.50021124], dtype=float32))]\n",
      "This is the evaluation obtained: (-0.1, array([0.47451127, 0.02527752, 0.50021124], dtype=float32), 'ASK_CLARIFICATION')\n",
      "(-0.1, array([0.26274437, 0.48736125, 0.24989438], dtype=float32), 'ASK_CLARIFICATION')\n",
      "^^^^^^^^^^^^^\n",
      "Clarification Evaluation: (-0.1, array([0.47451127, 0.02527752, 0.50021124], dtype=float32), 'ASK_CLARIFICATION') Color Phrase Count: 2\n",
      "^^^^^^^^^^^^^\n",
      "%%%%%%%%%%%%%%%%%%%\n",
      "{'name': 'L', 'text': 'The blue?', 'info': '', 'timestamp': '2020-06-30 23:03:25.084717', 'finished': 0}\n",
      "Turn Index: 2\n",
      "%%%%%%%%%%%%%%%%%%%\n",
      "Listener Logic Form: ASK_CLARIFICATION(T,A) AND IDENTIFY(A,44)\n",
      "Speaker Logic Form: ['IDENTIFY(A,727)']\n",
      "Going to evaluate this constituent: IDENTIFY(A,44)\n",
      "$$COMPOSITION$$: IDENTIFY(A,44)\n",
      "$$Name: IDENTIFY Arguments: ['A', '44']\n",
      "This is the evaluation obtained: (-0.1, array([0.00188501, 0.98729956, 0.01081545], dtype=float32), 'INFORMATION')\n",
      "Found the target: 0\n",
      "$$COMPOSITION$$: ASK_CLARIFICATION(T,A) AND IDENTIFY(A,44)\n",
      "$$Name: IDENTIFY Arguments: ['A', '44']\n",
      "This is the evaluation obtained: (-0.1, array([0.00188501, 0.98729956, 0.01081545], dtype=float32), 'INFORMATION')\n",
      "$$Name: ASK_CLARIFICATION Arguments: ['T', (-0.1, array([0.00188501, 0.98729956, 0.01081545], dtype=float32))]\n",
      "This is the evaluation obtained: (-0.1, array([0.00188501, 0.98729956, 0.01081545], dtype=float32), 'ASK_CLARIFICATION')\n",
      "$$COMPOSITION$$: IDENTIFY(A,727)\n",
      "$$Name: IDENTIFY Arguments: ['A', '727']\n",
      "This is the evaluation obtained: (-0.1, array([8.9600140e-01, 1.0394208e-01, 5.6541532e-05], dtype=float32), 'INFORMATION')\n",
      "(-0.1, array([8.9600140e-01, 1.0394208e-01, 5.6541532e-05], dtype=float32), 'INFORMATION')\n",
      "^^^^^^^^^^^^^\n",
      "Clarification Evaluation: (-0.1, array([0.00188501, 0.98729956, 0.01081545], dtype=float32), 'ASK_CLARIFICATION') Color Phrase Count: 1\n",
      "^^^^^^^^^^^^^\n",
      "%%%%%%%%%%%%%%%%%%%\n",
      "{'name': 'L', 'text': 'Do you mean grey or teal?', 'info': '', 'timestamp': '2020-06-30 23:03:30.554663', 'finished': 0}\n",
      "Turn Index: 4\n",
      "%%%%%%%%%%%%%%%%%%%\n"
     ]
    },
    {
     "name": "stdout",
     "output_type": "stream",
     "text": [
      "Listener Logic Form: ASK_CLARIFICATION(T,A) AND COMPARE_REF(A,[or],G,H) AND IDENTIFY(G,346) AND IDENTIFY(H,754)\n",
      "Speaker Logic Form: ['IDENTIFY(A,346)']\n",
      "Going to evaluate this constituent: IDENTIFY(G,346)\n",
      "$$COMPOSITION$$: IDENTIFY(G,346)\n",
      "$$Name: IDENTIFY Arguments: ['G', '346']\n",
      "This is the evaluation obtained: (-0.1, array([9.9034691e-01, 9.6141752e-03, 3.8970004e-05], dtype=float32), 'INFORMATION')\n",
      "Going to evaluate this constituent: IDENTIFY(H,754)\n",
      "$$COMPOSITION$$: IDENTIFY(H,754)\n",
      "$$Name: IDENTIFY Arguments: ['H', '754']\n",
      "This is the evaluation obtained: (-0.1, array([0.001186  , 0.8885213 , 0.11029273], dtype=float32), 'INFORMATION')\n",
      "Found the target: 1\n",
      "$$COMPOSITION$$: ASK_CLARIFICATION(T,A) AND COMPARE_REF(A,[or],G,H) AND IDENTIFY(G,346) AND IDENTIFY(H,754)\n",
      "$$Name: IDENTIFY Arguments: ['H', '754']\n",
      "This is the evaluation obtained: (-0.1, array([0.001186  , 0.8885213 , 0.11029273], dtype=float32), 'INFORMATION')\n",
      "$$Name: IDENTIFY Arguments: ['G', '346']\n",
      "This is the evaluation obtained: (-0.1, array([9.9034691e-01, 9.6141752e-03, 3.8970004e-05], dtype=float32), 'INFORMATION')\n",
      "$$Name: COMPARE_REF Arguments: ['A', ['or'], (-0.1, array([9.9034691e-01, 9.6141752e-03, 3.8970004e-05], dtype=float32)), (-0.1, array([0.001186  , 0.8885213 , 0.11029273], dtype=float32))]\n",
      "This is the evaluation obtained: (-0.1, array([0.49759778, 0.44696906, 0.05543315], dtype=float32), 'INFORMATION')\n",
      "$$Name: ASK_CLARIFICATION Arguments: ['T', (-0.1, array([0.49759778, 0.44696906, 0.05543315], dtype=float32))]\n",
      "This is the evaluation obtained: (-0.1, array([0.49759778, 0.44696906, 0.05543315], dtype=float32), 'ASK_CLARIFICATION')\n",
      "$$COMPOSITION$$: IDENTIFY(A,346)\n",
      "$$Name: IDENTIFY Arguments: ['A', '346']\n",
      "This is the evaluation obtained: (-0.1, array([9.9034691e-01, 9.6141752e-03, 3.8970004e-05], dtype=float32), 'INFORMATION')\n",
      "(-0.1, array([9.9034691e-01, 9.6141752e-03, 3.8970004e-05], dtype=float32), 'INFORMATION')\n",
      "^^^^^^^^^^^^^\n",
      "Clarification Evaluation: (-0.1, array([0.49759778, 0.44696906, 0.05543315], dtype=float32), 'ASK_CLARIFICATION') Color Phrase Count: 2\n",
      "^^^^^^^^^^^^^\n",
      "%%%%%%%%%%%%%%%%%%%\n",
      "{'name': 'L', 'text': 'khaki or blue grey or purple grey?', 'info': '', 'timestamp': '2020-06-30 22:47:02.528266', 'finished': 0}\n",
      "Turn Index: 2\n",
      "%%%%%%%%%%%%%%%%%%%\n",
      "Listener Logic Form: COMPARE_REF(T,[or],A,B) AND IDENTIFY(A,390) AND COMPARE_REF(B,[or],H,I) AND IDENTIFY(H,46) AND ASK_CLARIFICATION(I,J) AND IDENTIFY(J,641)\n",
      "Speaker Logic Form: ['IDENTIFY(A,46)']\n",
      "Going to evaluate this constituent: IDENTIFY(A,390)\n",
      "$$COMPOSITION$$: IDENTIFY(A,390)\n",
      "$$Name: IDENTIFY Arguments: ['A', '390']\n",
      "This is the evaluation obtained: (-0.1, array([0.03759854, 0.9062668 , 0.05613464], dtype=float32), 'INFORMATION')\n",
      "Going to evaluate this constituent: IDENTIFY(H,46)\n",
      "$$COMPOSITION$$: IDENTIFY(H,46)\n",
      "$$Name: IDENTIFY Arguments: ['H', '46']\n",
      "This is the evaluation obtained: (-0.1, array([0.9709023 , 0.02290428, 0.00619336], dtype=float32), 'INFORMATION')\n",
      "Going to evaluate this constituent: IDENTIFY(J,641)\n",
      "$$COMPOSITION$$: IDENTIFY(J,641)\n",
      "$$Name: IDENTIFY Arguments: ['J', '641']\n",
      "This is the evaluation obtained: (-0.1, array([0.00375252, 0.00734589, 0.9889016 ], dtype=float32), 'INFORMATION')\n",
      "Found the target: 1\n",
      "$$COMPOSITION$$: COMPARE_REF(T,[or],A,B) AND IDENTIFY(A,390) AND COMPARE_REF(B,[or],H,I) AND IDENTIFY(H,46) AND ASK_CLARIFICATION(I,J) AND IDENTIFY(J,641)\n",
      "$$Name: IDENTIFY Arguments: ['J', '641']\n",
      "This is the evaluation obtained: (-0.1, array([0.00375252, 0.00734589, 0.9889016 ], dtype=float32), 'INFORMATION')\n",
      "$$Name: ASK_CLARIFICATION Arguments: ['I', (-0.1, array([0.00375252, 0.00734589, 0.9889016 ], dtype=float32))]\n",
      "This is the evaluation obtained: (-0.1, array([0.00375252, 0.00734589, 0.9889016 ], dtype=float32), 'ASK_CLARIFICATION')\n",
      "$$Name: IDENTIFY Arguments: ['H', '46']\n",
      "This is the evaluation obtained: (-0.1, array([0.9709023 , 0.02290428, 0.00619336], dtype=float32), 'INFORMATION')\n",
      "$$Name: COMPARE_REF Arguments: ['B', ['or'], (-0.1, array([0.9709023 , 0.02290428, 0.00619336], dtype=float32)), (-0.1, array([0.00375252, 0.00734589, 0.9889016 ], dtype=float32))]\n",
      "This is the evaluation obtained: (-0.1, array([0.48792985, 0.01511606, 0.49695408], dtype=float32), 'INFORMATION')\n",
      "$$Name: IDENTIFY Arguments: ['A', '390']\n",
      "This is the evaluation obtained: (-0.1, array([0.03759854, 0.9062668 , 0.05613464], dtype=float32), 'INFORMATION')\n",
      "$$Name: COMPARE_REF Arguments: ['T', ['or'], (-0.1, array([0.03759854, 0.9062668 , 0.05613464], dtype=float32)), (-0.1, array([0.48792985, 0.01511606, 0.49695408], dtype=float32))]\n",
      "This is the evaluation obtained: (-0.1, array([0.26142657, 0.46786398, 0.27070948], dtype=float32), 'INFORMATION')\n",
      "$$COMPOSITION$$: IDENTIFY(A,46)\n",
      "$$Name: IDENTIFY Arguments: ['A', '46']\n",
      "This is the evaluation obtained: (-0.1, array([0.9709023 , 0.02290428, 0.00619336], dtype=float32), 'INFORMATION')\n",
      "(-0.1, array([0.9709023 , 0.02290428, 0.00619336], dtype=float32), 'INFORMATION')\n",
      "^^^^^^^^^^^^^\n",
      "Clarification Evaluation: (-0.1, array([0.26142657, 0.46786398, 0.27070948], dtype=float32), 'INFORMATION') Color Phrase Count: 3\n",
      "^^^^^^^^^^^^^\n",
      "%%%%%%%%%%%%%%%%%%%\n",
      "{'name': 'L', 'text': 'Do you mean bright purple ?', 'info': '', 'timestamp': '2020-06-30 22:13:28.143653', 'finished': 0}\n",
      "Turn Index: 2\n",
      "%%%%%%%%%%%%%%%%%%%\n",
      "Listener Logic Form: ASK_CLARIFICATION(T,A) AND IDENTIFY(A,81)\n",
      "Speaker Logic Form: ['REJECTION(T,no)']\n",
      "Going to evaluate this constituent: IDENTIFY(A,81)\n",
      "$$COMPOSITION$$: IDENTIFY(A,81)\n",
      "$$Name: IDENTIFY Arguments: ['A', '81']\n",
      "This is the evaluation obtained: (-0.1, array([1.2592055e-03, 6.1730290e-04, 9.9812353e-01], dtype=float32), 'INFORMATION')\n",
      "Found the target: 0\n",
      "$$COMPOSITION$$: ASK_CLARIFICATION(T,A) AND IDENTIFY(A,81)\n",
      "$$Name: IDENTIFY Arguments: ['A', '81']\n",
      "This is the evaluation obtained: (-0.1, array([1.2592055e-03, 6.1730290e-04, 9.9812353e-01], dtype=float32), 'INFORMATION')\n",
      "$$Name: ASK_CLARIFICATION Arguments: ['T', (-0.1, array([1.2592055e-03, 6.1730290e-04, 9.9812353e-01], dtype=float32))]\n",
      "This is the evaluation obtained: (-0.1, array([1.2592055e-03, 6.1730290e-04, 9.9812353e-01], dtype=float32), 'ASK_CLARIFICATION')\n",
      "$$COMPOSITION$$: ASK_CLARIFICATION(T,A) AND IDENTIFY(A,81)\n",
      "$$Name: IDENTIFY Arguments: ['A', '81']\n",
      "This is the evaluation obtained: (-0.1, array([1.2592055e-03, 6.1730290e-04, 9.9812353e-01], dtype=float32), 'INFORMATION')\n",
      "$$Name: ASK_CLARIFICATION Arguments: ['T', (-0.1, array([1.2592055e-03, 6.1730290e-04, 9.9812353e-01], dtype=float32))]\n",
      "This is the evaluation obtained: (-0.1, array([1.2592055e-03, 6.1730290e-04, 9.9812353e-01], dtype=float32), 'ASK_CLARIFICATION')\n",
      "(-0.1, array([0.4993704 , 0.49969134, 0.00093824], dtype=float32), 'ASK_CLARIFICATION')\n",
      "^^^^^^^^^^^^^\n",
      "Clarification Evaluation: (-0.1, array([1.2592055e-03, 6.1730290e-04, 9.9812353e-01], dtype=float32), 'ASK_CLARIFICATION') Color Phrase Count: 1\n",
      "^^^^^^^^^^^^^\n",
      "%%%%%%%%%%%%%%%%%%%\n",
      "{'name': 'L', 'text': 'Do you mean mauve or blue?', 'info': '', 'timestamp': '2020-06-30 22:14:38.156808', 'finished': 0}\n",
      "Turn Index: 4\n",
      "%%%%%%%%%%%%%%%%%%%\n",
      "Listener Logic Form: ASK_CLARIFICATION(T,A) AND COMPARE_REF(A,[or],G,H) AND IDENTIFY(G,486) AND IDENTIFY(H,44)\n",
      "Speaker Logic Form: ['REJECTION(T,no)']\n",
      "Going to evaluate this constituent: IDENTIFY(G,486)\n",
      "$$COMPOSITION$$: IDENTIFY(G,486)\n",
      "$$Name: IDENTIFY Arguments: ['G', '486']\n",
      "This is the evaluation obtained: (-0.1, array([0.10725931, 0.85994065, 0.03280007], dtype=float32), 'INFORMATION')\n",
      "Going to evaluate this constituent: IDENTIFY(H,44)\n",
      "$$COMPOSITION$$: IDENTIFY(H,44)\n",
      "$$Name: IDENTIFY Arguments: ['H', '44']\n",
      "This is the evaluation obtained: (-0.1, array([0.96043646, 0.02355156, 0.01601197], dtype=float32), 'INFORMATION')\n",
      "Found the target: 1\n",
      "$$COMPOSITION$$: ASK_CLARIFICATION(T,A) AND COMPARE_REF(A,[or],G,H) AND IDENTIFY(G,486) AND IDENTIFY(H,44)\n",
      "$$Name: IDENTIFY Arguments: ['H', '44']\n",
      "This is the evaluation obtained: (-0.1, array([0.96043646, 0.02355156, 0.01601197], dtype=float32), 'INFORMATION')\n",
      "$$Name: IDENTIFY Arguments: ['G', '486']\n",
      "This is the evaluation obtained: (-0.1, array([0.10725931, 0.85994065, 0.03280007], dtype=float32), 'INFORMATION')\n",
      "$$Name: COMPARE_REF Arguments: ['A', ['or'], (-0.1, array([0.10725931, 0.85994065, 0.03280007], dtype=float32)), (-0.1, array([0.96043646, 0.02355156, 0.01601197], dtype=float32))]\n",
      "This is the evaluation obtained: (-0.1, array([0.5141653 , 0.46009833, 0.02573643], dtype=float32), 'INFORMATION')\n",
      "$$Name: ASK_CLARIFICATION Arguments: ['T', (-0.1, array([0.5141653 , 0.46009833, 0.02573643], dtype=float32))]\n",
      "This is the evaluation obtained: (-0.1, array([0.5141653 , 0.46009833, 0.02573643], dtype=float32), 'ASK_CLARIFICATION')\n",
      "$$COMPOSITION$$: ASK_CLARIFICATION(T,A) AND COMPARE_REF(A,[or],G,H) AND IDENTIFY(G,486) AND IDENTIFY(H,44)\n",
      "$$Name: IDENTIFY Arguments: ['H', '44']\n",
      "This is the evaluation obtained: (-0.1, array([0.96043646, 0.02355156, 0.01601197], dtype=float32), 'INFORMATION')\n",
      "$$Name: IDENTIFY Arguments: ['G', '486']\n",
      "This is the evaluation obtained: (-0.1, array([0.10725931, 0.85994065, 0.03280007], dtype=float32), 'INFORMATION')\n",
      "$$Name: COMPARE_REF Arguments: ['A', ['or'], (-0.1, array([0.10725931, 0.85994065, 0.03280007], dtype=float32)), (-0.1, array([0.96043646, 0.02355156, 0.01601197], dtype=float32))]\n",
      "This is the evaluation obtained: (-0.1, array([0.5141653 , 0.46009833, 0.02573643], dtype=float32), 'INFORMATION')\n",
      "$$Name: ASK_CLARIFICATION Arguments: ['T', (-0.1, array([0.5141653 , 0.46009833, 0.02573643], dtype=float32))]\n",
      "This is the evaluation obtained: (-0.1, array([0.5141653 , 0.46009833, 0.02573643], dtype=float32), 'ASK_CLARIFICATION')\n",
      "(-0.1, array([0.24291736, 0.26995084, 0.48713177], dtype=float32), 'ASK_CLARIFICATION')\n",
      "^^^^^^^^^^^^^\n",
      "Clarification Evaluation: (-0.1, array([0.5141653 , 0.46009833, 0.02573643], dtype=float32), 'ASK_CLARIFICATION') Color Phrase Count: 2\n",
      "^^^^^^^^^^^^^\n",
      "%%%%%%%%%%%%%%%%%%%\n",
      "{'name': 'L', 'text': 'The light purple?', 'info': '', 'timestamp': '2020-06-30 22:14:43.535113', 'finished': 0}\n",
      "Turn Index: 6\n",
      "%%%%%%%%%%%%%%%%%%%\n",
      "Listener Logic Form: ASK_CLARIFICATION(T,A) AND IDENTIFY(A,447)\n",
      "Speaker Logic Form: ['REJECTION(T,no)']\n",
      "Going to evaluate this constituent: IDENTIFY(A,447)\n",
      "$$COMPOSITION$$: IDENTIFY(A,447)\n",
      "$$Name: IDENTIFY Arguments: ['A', '447']\n",
      "This is the evaluation obtained: (-0.1, array([0.13722204, 0.7263182 , 0.13645983], dtype=float32), 'INFORMATION')\n",
      "Found the target: 0\n",
      "$$COMPOSITION$$: ASK_CLARIFICATION(T,A) AND IDENTIFY(A,447)\n",
      "$$Name: IDENTIFY Arguments: ['A', '447']\n",
      "This is the evaluation obtained: (-0.1, array([0.13722204, 0.7263182 , 0.13645983], dtype=float32), 'INFORMATION')\n",
      "$$Name: ASK_CLARIFICATION Arguments: ['T', (-0.1, array([0.13722204, 0.7263182 , 0.13645983], dtype=float32))]\n",
      "This is the evaluation obtained: (-0.1, array([0.13722204, 0.7263182 , 0.13645983], dtype=float32), 'ASK_CLARIFICATION')\n",
      "$$COMPOSITION$$: ASK_CLARIFICATION(T,A) AND IDENTIFY(A,447)\n",
      "$$Name: IDENTIFY Arguments: ['A', '447']\n",
      "This is the evaluation obtained: (-0.1, array([0.13722204, 0.7263182 , 0.13645983], dtype=float32), 'INFORMATION')\n",
      "$$Name: ASK_CLARIFICATION Arguments: ['T', (-0.1, array([0.13722204, 0.7263182 , 0.13645983], dtype=float32))]\n",
      "This is the evaluation obtained: (-0.1, array([0.13722204, 0.7263182 , 0.13645983], dtype=float32), 'ASK_CLARIFICATION')\n",
      "(-0.1, array([0.43138897, 0.13684091, 0.4317701 ], dtype=float32), 'ASK_CLARIFICATION')\n",
      "^^^^^^^^^^^^^\n",
      "Clarification Evaluation: (-0.1, array([0.13722204, 0.7263182 , 0.13645983], dtype=float32), 'ASK_CLARIFICATION') Color Phrase Count: 1\n",
      "^^^^^^^^^^^^^\n",
      "%%%%%%%%%%%%%%%%%%%\n",
      "{'name': 'L', 'text': 'Do you mean periwinkle ?', 'info': '', 'timestamp': '2020-06-30 22:14:49.535678', 'finished': 0}\n",
      "Turn Index: 8\n",
      "%%%%%%%%%%%%%%%%%%%\n",
      "Listener Logic Form: ASK_CLARIFICATION(T,A) AND IDENTIFY(A,604)\n",
      "Speaker Logic Form: ['REJECTION(T,no)']\n",
      "Going to evaluate this constituent: IDENTIFY(A,604)\n",
      "$$COMPOSITION$$: IDENTIFY(A,604)\n",
      "$$Name: IDENTIFY Arguments: ['A', '604']\n",
      "This is the evaluation obtained: (-0.1, array([0.93149805, 0.05431834, 0.01418363], dtype=float32), 'INFORMATION')\n",
      "Found the target: 1\n",
      "$$COMPOSITION$$: ASK_CLARIFICATION(T,A) AND IDENTIFY(A,604)\n",
      "$$Name: IDENTIFY Arguments: ['A', '604']\n",
      "This is the evaluation obtained: (-0.1, array([0.93149805, 0.05431834, 0.01418363], dtype=float32), 'INFORMATION')\n",
      "$$Name: ASK_CLARIFICATION Arguments: ['T', (-0.1, array([0.93149805, 0.05431834, 0.01418363], dtype=float32))]\n",
      "This is the evaluation obtained: (-0.1, array([0.93149805, 0.05431834, 0.01418363], dtype=float32), 'ASK_CLARIFICATION')\n",
      "$$COMPOSITION$$: ASK_CLARIFICATION(T,A) AND IDENTIFY(A,604)\n",
      "$$Name: IDENTIFY Arguments: ['A', '604']\n",
      "This is the evaluation obtained: (-0.1, array([0.93149805, 0.05431834, 0.01418363], dtype=float32), 'INFORMATION')\n",
      "$$Name: ASK_CLARIFICATION Arguments: ['T', (-0.1, array([0.93149805, 0.05431834, 0.01418363], dtype=float32))]\n",
      "This is the evaluation obtained: (-0.1, array([0.93149805, 0.05431834, 0.01418363], dtype=float32), 'ASK_CLARIFICATION')\n",
      "(-0.1, array([0.03425097, 0.47284082, 0.49290818], dtype=float32), 'ASK_CLARIFICATION')\n",
      "^^^^^^^^^^^^^\n",
      "Clarification Evaluation: (-0.1, array([0.93149805, 0.05431834, 0.01418363], dtype=float32), 'ASK_CLARIFICATION') Color Phrase Count: 1\n",
      "^^^^^^^^^^^^^\n",
      "%%%%%%%%%%%%%%%%%%%\n",
      "{'name': 'L', 'text': 'The lavender?', 'info': '', 'timestamp': '2020-06-30 22:14:53.277686', 'finished': 0}\n",
      "Turn Index: 10\n",
      "%%%%%%%%%%%%%%%%%%%\n"
     ]
    },
    {
     "name": "stdout",
     "output_type": "stream",
     "text": [
      "Listener Logic Form: ASK_CLARIFICATION(T,A) AND IDENTIFY(A,394)\n",
      "Speaker Logic Form: ['REJECTION(T,no)']\n",
      "Going to evaluate this constituent: IDENTIFY(A,394)\n",
      "$$COMPOSITION$$: IDENTIFY(A,394)\n",
      "$$Name: IDENTIFY Arguments: ['A', '394']\n",
      "This is the evaluation obtained: (-0.1, array([0.20817856, 0.74905396, 0.04276751], dtype=float32), 'INFORMATION')\n",
      "Found the target: 0\n",
      "$$COMPOSITION$$: ASK_CLARIFICATION(T,A) AND IDENTIFY(A,394)\n",
      "$$Name: IDENTIFY Arguments: ['A', '394']\n",
      "This is the evaluation obtained: (-0.1, array([0.20817856, 0.74905396, 0.04276751], dtype=float32), 'INFORMATION')\n",
      "$$Name: ASK_CLARIFICATION Arguments: ['T', (-0.1, array([0.20817856, 0.74905396, 0.04276751], dtype=float32))]\n",
      "This is the evaluation obtained: (-0.1, array([0.20817856, 0.74905396, 0.04276751], dtype=float32), 'ASK_CLARIFICATION')\n",
      "$$COMPOSITION$$: ASK_CLARIFICATION(T,A) AND IDENTIFY(A,394)\n",
      "$$Name: IDENTIFY Arguments: ['A', '394']\n",
      "This is the evaluation obtained: (-0.1, array([0.20817856, 0.74905396, 0.04276751], dtype=float32), 'INFORMATION')\n",
      "$$Name: ASK_CLARIFICATION Arguments: ['T', (-0.1, array([0.20817856, 0.74905396, 0.04276751], dtype=float32))]\n",
      "This is the evaluation obtained: (-0.1, array([0.20817856, 0.74905396, 0.04276751], dtype=float32), 'ASK_CLARIFICATION')\n",
      "(-0.1, array([0.3959107 , 0.12547302, 0.47861624], dtype=float32), 'ASK_CLARIFICATION')\n",
      "^^^^^^^^^^^^^\n",
      "Clarification Evaluation: (-0.1, array([0.20817856, 0.74905396, 0.04276751], dtype=float32), 'ASK_CLARIFICATION') Color Phrase Count: 1\n",
      "^^^^^^^^^^^^^\n",
      "%%%%%%%%%%%%%%%%%%%\n",
      "{'name': 'L', 'text': 'The dusty rose?', 'info': '', 'timestamp': '2020-06-30 22:14:58.595883', 'finished': 0}\n",
      "Turn Index: 12\n",
      "%%%%%%%%%%%%%%%%%%%\n",
      "Listener Logic Form: ASK_CLARIFICATION(T,A) AND IDENTIFY(A,277)\n",
      "Speaker Logic Form: ['REJECTION(T,no)']\n",
      "Going to evaluate this constituent: IDENTIFY(A,277)\n",
      "$$COMPOSITION$$: IDENTIFY(A,277)\n",
      "$$Name: IDENTIFY Arguments: ['A', '277']\n",
      "This is the evaluation obtained: (-0.1, array([0.01029056, 0.9831575 , 0.00655194], dtype=float32), 'INFORMATION')\n",
      "Found the target: 0\n",
      "$$COMPOSITION$$: ASK_CLARIFICATION(T,A) AND IDENTIFY(A,277)\n",
      "$$Name: IDENTIFY Arguments: ['A', '277']\n",
      "This is the evaluation obtained: (-0.1, array([0.01029056, 0.9831575 , 0.00655194], dtype=float32), 'INFORMATION')\n",
      "$$Name: ASK_CLARIFICATION Arguments: ['T', (-0.1, array([0.01029056, 0.9831575 , 0.00655194], dtype=float32))]\n",
      "This is the evaluation obtained: (-0.1, array([0.01029056, 0.9831575 , 0.00655194], dtype=float32), 'ASK_CLARIFICATION')\n",
      "$$COMPOSITION$$: ASK_CLARIFICATION(T,A) AND IDENTIFY(A,277)\n",
      "$$Name: IDENTIFY Arguments: ['A', '277']\n",
      "This is the evaluation obtained: (-0.1, array([0.01029056, 0.9831575 , 0.00655194], dtype=float32), 'INFORMATION')\n",
      "$$Name: ASK_CLARIFICATION Arguments: ['T', (-0.1, array([0.01029056, 0.9831575 , 0.00655194], dtype=float32))]\n",
      "This is the evaluation obtained: (-0.1, array([0.01029056, 0.9831575 , 0.00655194], dtype=float32), 'ASK_CLARIFICATION')\n",
      "(-0.1, array([0.49485472, 0.00842124, 0.49672404], dtype=float32), 'ASK_CLARIFICATION')\n",
      "^^^^^^^^^^^^^\n",
      "Clarification Evaluation: (-0.1, array([0.01029056, 0.9831575 , 0.00655194], dtype=float32), 'ASK_CLARIFICATION') Color Phrase Count: 1\n",
      "^^^^^^^^^^^^^\n",
      "%%%%%%%%%%%%%%%%%%%\n",
      "{'name': 'L', 'text': 'Do you mean indigo ?', 'info': '', 'timestamp': '2020-06-30 22:15:03.197233', 'finished': 0}\n",
      "Turn Index: 14\n",
      "%%%%%%%%%%%%%%%%%%%\n",
      "Listener Logic Form: ASK_CLARIFICATION(T,A) AND IDENTIFY(A,378)\n",
      "Speaker Logic Form: ['REJECTION(T,no)']\n",
      "Going to evaluate this constituent: IDENTIFY(A,378)\n",
      "$$COMPOSITION$$: IDENTIFY(A,378)\n",
      "$$Name: IDENTIFY Arguments: ['A', '378']\n",
      "This is the evaluation obtained: (-0.1, array([0.9173245 , 0.04566061, 0.03701493], dtype=float32), 'INFORMATION')\n",
      "Found the target: 1\n",
      "$$COMPOSITION$$: ASK_CLARIFICATION(T,A) AND IDENTIFY(A,378)\n",
      "$$Name: IDENTIFY Arguments: ['A', '378']\n",
      "This is the evaluation obtained: (-0.1, array([0.9173245 , 0.04566061, 0.03701493], dtype=float32), 'INFORMATION')\n",
      "$$Name: ASK_CLARIFICATION Arguments: ['T', (-0.1, array([0.9173245 , 0.04566061, 0.03701493], dtype=float32))]\n",
      "This is the evaluation obtained: (-0.1, array([0.9173245 , 0.04566061, 0.03701493], dtype=float32), 'ASK_CLARIFICATION')\n",
      "$$COMPOSITION$$: ASK_CLARIFICATION(T,A) AND IDENTIFY(A,378)\n",
      "$$Name: IDENTIFY Arguments: ['A', '378']\n",
      "This is the evaluation obtained: (-0.1, array([0.9173245 , 0.04566061, 0.03701493], dtype=float32), 'INFORMATION')\n",
      "$$Name: ASK_CLARIFICATION Arguments: ['T', (-0.1, array([0.9173245 , 0.04566061, 0.03701493], dtype=float32))]\n",
      "This is the evaluation obtained: (-0.1, array([0.9173245 , 0.04566061, 0.03701493], dtype=float32), 'ASK_CLARIFICATION')\n",
      "(-0.1, array([0.04133776, 0.4771697 , 0.48149255], dtype=float32), 'ASK_CLARIFICATION')\n",
      "^^^^^^^^^^^^^\n",
      "Clarification Evaluation: (-0.1, array([0.9173245 , 0.04566061, 0.03701493], dtype=float32), 'ASK_CLARIFICATION') Color Phrase Count: 1\n",
      "^^^^^^^^^^^^^\n",
      "%%%%%%%%%%%%%%%%%%%\n",
      "{'name': 'L', 'text': 'Do you mean lime green ?', 'info': '', 'timestamp': '2020-06-30 22:44:08.507145', 'finished': 0}\n",
      "Turn Index: 2\n",
      "%%%%%%%%%%%%%%%%%%%\n",
      "Listener Logic Form: ASK_CLARIFICATION(T,A) AND IDENTIFY(A,472)\n",
      "Speaker Logic Form: ['CONFIRMATION(T,yes)']\n",
      "Going to evaluate this constituent: IDENTIFY(A,472)\n",
      "$$COMPOSITION$$: IDENTIFY(A,472)\n",
      "$$Name: IDENTIFY Arguments: ['A', '472']\n",
      "This is the evaluation obtained: (-0.1, array([9.5019931e-01, 4.8549824e-05, 4.9752150e-02], dtype=float32), 'INFORMATION')\n",
      "Found the target: 1\n",
      "$$COMPOSITION$$: ASK_CLARIFICATION(T,A) AND IDENTIFY(A,472)\n",
      "$$Name: IDENTIFY Arguments: ['A', '472']\n",
      "This is the evaluation obtained: (-0.1, array([9.5019931e-01, 4.8549824e-05, 4.9752150e-02], dtype=float32), 'INFORMATION')\n",
      "$$Name: ASK_CLARIFICATION Arguments: ['T', (-0.1, array([9.5019931e-01, 4.8549824e-05, 4.9752150e-02], dtype=float32))]\n",
      "This is the evaluation obtained: (-0.1, array([9.5019931e-01, 4.8549824e-05, 4.9752150e-02], dtype=float32), 'ASK_CLARIFICATION')\n",
      "$$COMPOSITION$$: ASK_CLARIFICATION(T,A) AND IDENTIFY(A,472)\n",
      "$$Name: IDENTIFY Arguments: ['A', '472']\n",
      "This is the evaluation obtained: (-0.1, array([9.5019931e-01, 4.8549824e-05, 4.9752150e-02], dtype=float32), 'INFORMATION')\n",
      "$$Name: ASK_CLARIFICATION Arguments: ['T', (-0.1, array([9.5019931e-01, 4.8549824e-05, 4.9752150e-02], dtype=float32))]\n",
      "This is the evaluation obtained: (-0.1, array([9.5019931e-01, 4.8549824e-05, 4.9752150e-02], dtype=float32), 'ASK_CLARIFICATION')\n",
      "(-0.1, array([9.5019931e-01, 4.8549824e-05, 4.9752150e-02], dtype=float32), 'ASK_CLARIFICATION')\n",
      "^^^^^^^^^^^^^\n",
      "Clarification Evaluation: (-0.1, array([9.5019931e-01, 4.8549824e-05, 4.9752150e-02], dtype=float32), 'ASK_CLARIFICATION') Color Phrase Count: 1\n",
      "^^^^^^^^^^^^^\n",
      "%%%%%%%%%%%%%%%%%%%\n",
      "{'name': 'L', 'text': 'The royal blue?', 'info': '', 'timestamp': '2020-06-30 22:55:00.497563', 'finished': 0}\n",
      "Turn Index: 2\n",
      "%%%%%%%%%%%%%%%%%%%\n",
      "Listener Logic Form: ASK_CLARIFICATION(T,A) AND IDENTIFY(A,678)\n",
      "Speaker Logic Form: ['CONFIRMATION(T,yes)']\n",
      "Going to evaluate this constituent: IDENTIFY(A,678)\n",
      "$$COMPOSITION$$: IDENTIFY(A,678)\n",
      "$$Name: IDENTIFY Arguments: ['A', '678']\n",
      "This is the evaluation obtained: (-0.1, array([9.4981939e-01, 5.0179992e-02, 6.5024625e-07], dtype=float32), 'INFORMATION')\n",
      "Found the target: 1\n",
      "$$COMPOSITION$$: ASK_CLARIFICATION(T,A) AND IDENTIFY(A,678)\n",
      "$$Name: IDENTIFY Arguments: ['A', '678']\n",
      "This is the evaluation obtained: (-0.1, array([9.4981939e-01, 5.0179992e-02, 6.5024625e-07], dtype=float32), 'INFORMATION')\n",
      "$$Name: ASK_CLARIFICATION Arguments: ['T', (-0.1, array([9.4981939e-01, 5.0179992e-02, 6.5024625e-07], dtype=float32))]\n",
      "This is the evaluation obtained: (-0.1, array([9.4981939e-01, 5.0179992e-02, 6.5024625e-07], dtype=float32), 'ASK_CLARIFICATION')\n",
      "$$COMPOSITION$$: ASK_CLARIFICATION(T,A) AND IDENTIFY(A,678)\n",
      "$$Name: IDENTIFY Arguments: ['A', '678']\n",
      "This is the evaluation obtained: (-0.1, array([9.4981939e-01, 5.0179992e-02, 6.5024625e-07], dtype=float32), 'INFORMATION')\n",
      "$$Name: ASK_CLARIFICATION Arguments: ['T', (-0.1, array([9.4981939e-01, 5.0179992e-02, 6.5024625e-07], dtype=float32))]\n",
      "This is the evaluation obtained: (-0.1, array([9.4981939e-01, 5.0179992e-02, 6.5024625e-07], dtype=float32), 'ASK_CLARIFICATION')\n",
      "(-0.1, array([9.4981939e-01, 5.0179992e-02, 6.5024625e-07], dtype=float32), 'ASK_CLARIFICATION')\n",
      "^^^^^^^^^^^^^\n",
      "Clarification Evaluation: (-0.1, array([9.4981939e-01, 5.0179992e-02, 6.5024625e-07], dtype=float32), 'ASK_CLARIFICATION') Color Phrase Count: 1\n",
      "^^^^^^^^^^^^^\n",
      "%%%%%%%%%%%%%%%%%%%\n",
      "{'name': 'L', 'text': 'lavender or mauve or grey?', 'info': '', 'timestamp': '2020-06-30 23:03:38.599440', 'finished': 0}\n",
      "Turn Index: 2\n",
      "%%%%%%%%%%%%%%%%%%%\n",
      "Listener Logic Form: COMPARE_REF(T,[or],A,B) AND IDENTIFY(A,394) AND COMPARE_REF(B,[or],H,I) AND IDENTIFY(H,486) AND ASK_CLARIFICATION(I,J) AND IDENTIFY(J,346)\n",
      "Speaker Logic Form: ['IDENTIFY(A,346)']\n",
      "Going to evaluate this constituent: IDENTIFY(A,394)\n",
      "$$COMPOSITION$$: IDENTIFY(A,394)\n",
      "$$Name: IDENTIFY Arguments: ['A', '394']\n",
      "This is the evaluation obtained: (-0.1, array([0.04628928, 0.20474559, 0.74896514], dtype=float32), 'INFORMATION')\n",
      "Going to evaluate this constituent: IDENTIFY(H,486)\n",
      "$$COMPOSITION$$: IDENTIFY(H,486)\n",
      "$$Name: IDENTIFY Arguments: ['H', '486']\n",
      "This is the evaluation obtained: (-0.1, array([0.01479023, 0.7296972 , 0.25551262], dtype=float32), 'INFORMATION')\n",
      "Going to evaluate this constituent: IDENTIFY(J,346)\n",
      "$$COMPOSITION$$: IDENTIFY(J,346)\n",
      "$$Name: IDENTIFY Arguments: ['J', '346']\n",
      "This is the evaluation obtained: (-0.1, array([0.9213648 , 0.00426519, 0.07437001], dtype=float32), 'INFORMATION')\n",
      "Found the target: 1\n",
      "$$COMPOSITION$$: COMPARE_REF(T,[or],A,B) AND IDENTIFY(A,394) AND COMPARE_REF(B,[or],H,I) AND IDENTIFY(H,486) AND ASK_CLARIFICATION(I,J) AND IDENTIFY(J,346)\n",
      "$$Name: IDENTIFY Arguments: ['J', '346']\n",
      "This is the evaluation obtained: (-0.1, array([0.9213648 , 0.00426519, 0.07437001], dtype=float32), 'INFORMATION')\n",
      "$$Name: ASK_CLARIFICATION Arguments: ['I', (-0.1, array([0.9213648 , 0.00426519, 0.07437001], dtype=float32))]\n",
      "This is the evaluation obtained: (-0.1, array([0.9213648 , 0.00426519, 0.07437001], dtype=float32), 'ASK_CLARIFICATION')\n",
      "$$Name: IDENTIFY Arguments: ['H', '486']\n",
      "This is the evaluation obtained: (-0.1, array([0.01479023, 0.7296972 , 0.25551262], dtype=float32), 'INFORMATION')\n",
      "$$Name: COMPARE_REF Arguments: ['B', ['or'], (-0.1, array([0.01479023, 0.7296972 , 0.25551262], dtype=float32)), (-0.1, array([0.9213648 , 0.00426519, 0.07437001], dtype=float32))]\n",
      "This is the evaluation obtained: (-0.1, array([0.46965715, 0.3720744 , 0.15826848], dtype=float32), 'INFORMATION')\n",
      "$$Name: IDENTIFY Arguments: ['A', '394']\n",
      "This is the evaluation obtained: (-0.1, array([0.04628928, 0.20474559, 0.74896514], dtype=float32), 'INFORMATION')\n",
      "$$Name: COMPARE_REF Arguments: ['T', ['or'], (-0.1, array([0.04628928, 0.20474559, 0.74896514], dtype=float32)), (-0.1, array([0.46965715, 0.3720744 , 0.15826848], dtype=float32))]\n",
      "This is the evaluation obtained: (-0.1, array([0.27709267, 0.28069955, 0.44220778], dtype=float32), 'INFORMATION')\n",
      "$$COMPOSITION$$: IDENTIFY(A,346)\n",
      "$$Name: IDENTIFY Arguments: ['A', '346']\n",
      "This is the evaluation obtained: (-0.1, array([0.9213648 , 0.00426519, 0.07437001], dtype=float32), 'INFORMATION')\n",
      "(-0.1, array([0.9213648 , 0.00426519, 0.07437001], dtype=float32), 'INFORMATION')\n",
      "^^^^^^^^^^^^^\n",
      "Clarification Evaluation: (-0.1, array([0.27709267, 0.28069955, 0.44220778], dtype=float32), 'INFORMATION') Color Phrase Count: 3\n",
      "^^^^^^^^^^^^^\n",
      "%%%%%%%%%%%%%%%%%%%\n",
      "{'name': 'L', 'text': 'light purple or bright purple or blue?', 'info': '', 'timestamp': '2020-06-30 22:16:16.676380', 'finished': 0}\n",
      "Turn Index: 2\n",
      "%%%%%%%%%%%%%%%%%%%\n"
     ]
    },
    {
     "name": "stdout",
     "output_type": "stream",
     "text": [
      "Listener Logic Form: COMPARE_REF(T,[or],A,B) AND IDENTIFY(A,447) AND COMPARE_REF(B,[or],H,I) AND IDENTIFY(H,81) AND ASK_CLARIFICATION(I,J) AND IDENTIFY(J,44)\n",
      "Speaker Logic Form: ['IDENTIFY_SET(T,[light],-1,None)']\n",
      "Going to evaluate this constituent: IDENTIFY(A,447)\n",
      "$$COMPOSITION$$: IDENTIFY(A,447)\n",
      "$$Name: IDENTIFY Arguments: ['A', '447']\n",
      "This is the evaluation obtained: (-0.1, array([0.11943053, 0.7536126 , 0.1269569 ], dtype=float32), 'INFORMATION')\n",
      "Going to evaluate this constituent: IDENTIFY(H,81)\n",
      "$$COMPOSITION$$: IDENTIFY(H,81)\n",
      "$$Name: IDENTIFY Arguments: ['H', '81']\n",
      "This is the evaluation obtained: (-0.1, array([0.96854496, 0.020369  , 0.01108603], dtype=float32), 'INFORMATION')\n",
      "Going to evaluate this constituent: IDENTIFY(J,44)\n",
      "$$COMPOSITION$$: IDENTIFY(J,44)\n",
      "$$Name: IDENTIFY Arguments: ['J', '44']\n",
      "This is the evaluation obtained: (-0.1, array([0.06085232, 0.02764789, 0.9114998 ], dtype=float32), 'INFORMATION')\n",
      "Found the target: 1\n",
      "$$COMPOSITION$$: COMPARE_REF(T,[or],A,B) AND IDENTIFY(A,447) AND COMPARE_REF(B,[or],H,I) AND IDENTIFY(H,81) AND ASK_CLARIFICATION(I,J) AND IDENTIFY(J,44)\n",
      "$$Name: IDENTIFY Arguments: ['J', '44']\n",
      "This is the evaluation obtained: (-0.1, array([0.06085232, 0.02764789, 0.9114998 ], dtype=float32), 'INFORMATION')\n",
      "$$Name: ASK_CLARIFICATION Arguments: ['I', (-0.1, array([0.06085232, 0.02764789, 0.9114998 ], dtype=float32))]\n",
      "This is the evaluation obtained: (-0.1, array([0.06085232, 0.02764789, 0.9114998 ], dtype=float32), 'ASK_CLARIFICATION')\n",
      "$$Name: IDENTIFY Arguments: ['H', '81']\n",
      "This is the evaluation obtained: (-0.1, array([0.96854496, 0.020369  , 0.01108603], dtype=float32), 'INFORMATION')\n",
      "$$Name: COMPARE_REF Arguments: ['B', ['or'], (-0.1, array([0.96854496, 0.020369  , 0.01108603], dtype=float32)), (-0.1, array([0.06085232, 0.02764789, 0.9114998 ], dtype=float32))]\n",
      "This is the evaluation obtained: (-0.1, array([0.502726  , 0.02458243, 0.4726916 ], dtype=float32), 'INFORMATION')\n",
      "$$Name: IDENTIFY Arguments: ['A', '447']\n",
      "This is the evaluation obtained: (-0.1, array([0.11943053, 0.7536126 , 0.1269569 ], dtype=float32), 'INFORMATION')\n",
      "$$Name: COMPARE_REF Arguments: ['T', ['or'], (-0.1, array([0.11943053, 0.7536126 , 0.1269569 ], dtype=float32)), (-0.1, array([0.502726  , 0.02458243, 0.4726916 ], dtype=float32))]\n",
      "This is the evaluation obtained: (-0.1, array([0.30198187, 0.40811238, 0.2899058 ], dtype=float32), 'INFORMATION')\n",
      "$$COMPOSITION$$: IDENTIFY_SET(T,[light],-1,None)\n",
      "$$Name: IDENTIFY_SET Arguments: ['T', ['light'], '1', 'None']\n",
      "This is the evaluation obtained: (-0.1, array([0.33, 0.33, 0.33]), 'INFORMATION')\n",
      "(-0.1, array([0.33, 0.33, 0.33]), 'INFORMATION')\n",
      "^^^^^^^^^^^^^\n",
      "Clarification Evaluation: (-0.1, array([0.30198187, 0.40811238, 0.2899058 ], dtype=float32), 'INFORMATION') Color Phrase Count: 3\n",
      "^^^^^^^^^^^^^\n",
      "%%%%%%%%%%%%%%%%%%%\n",
      "{'name': 'L', 'text': 'Do you mean neon purple ?', 'info': '', 'timestamp': '2020-06-30 22:16:21.853961', 'finished': 0}\n",
      "Turn Index: 4\n",
      "%%%%%%%%%%%%%%%%%%%\n",
      "Listener Logic Form: ASK_CLARIFICATION(T,A) AND IDENTIFY(A,532)\n",
      "Speaker Logic Form: ['IDENTIFY(A,447)']\n",
      "Going to evaluate this constituent: IDENTIFY(A,532)\n",
      "$$COMPOSITION$$: IDENTIFY(A,532)\n",
      "$$Name: IDENTIFY Arguments: ['A', '532']\n",
      "This is the evaluation obtained: (-0.1, array([0.9856833 , 0.00767156, 0.00664512], dtype=float32), 'INFORMATION')\n",
      "Found the target: 1\n",
      "$$COMPOSITION$$: ASK_CLARIFICATION(T,A) AND IDENTIFY(A,532)\n",
      "$$Name: IDENTIFY Arguments: ['A', '532']\n",
      "This is the evaluation obtained: (-0.1, array([0.9856833 , 0.00767156, 0.00664512], dtype=float32), 'INFORMATION')\n",
      "$$Name: ASK_CLARIFICATION Arguments: ['T', (-0.1, array([0.9856833 , 0.00767156, 0.00664512], dtype=float32))]\n",
      "This is the evaluation obtained: (-0.1, array([0.9856833 , 0.00767156, 0.00664512], dtype=float32), 'ASK_CLARIFICATION')\n",
      "$$COMPOSITION$$: IDENTIFY(A,447)\n",
      "$$Name: IDENTIFY Arguments: ['A', '447']\n",
      "This is the evaluation obtained: (-0.1, array([0.11943053, 0.7536126 , 0.1269569 ], dtype=float32), 'INFORMATION')\n",
      "(-0.1, array([0.11943053, 0.7536126 , 0.1269569 ], dtype=float32), 'INFORMATION')\n",
      "^^^^^^^^^^^^^\n",
      "Clarification Evaluation: (-0.1, array([0.9856833 , 0.00767156, 0.00664512], dtype=float32), 'ASK_CLARIFICATION') Color Phrase Count: 1\n",
      "^^^^^^^^^^^^^\n",
      "%%%%%%%%%%%%%%%%%%%\n",
      "{'name': 'L', 'text': 'Do you mean lavender ?', 'info': '', 'timestamp': '2020-06-30 22:16:25.106281', 'finished': 0}\n",
      "Turn Index: 6\n",
      "%%%%%%%%%%%%%%%%%%%\n",
      "Listener Logic Form: ASK_CLARIFICATION(T,A) AND IDENTIFY(A,394)\n",
      "Speaker Logic Form: ['REJECTION(T,no)']\n",
      "Going to evaluate this constituent: IDENTIFY(A,394)\n",
      "$$COMPOSITION$$: IDENTIFY(A,394)\n",
      "$$Name: IDENTIFY Arguments: ['A', '394']\n",
      "This is the evaluation obtained: (-0.1, array([0.06331979, 0.77153885, 0.16514136], dtype=float32), 'INFORMATION')\n",
      "Found the target: 0\n",
      "$$COMPOSITION$$: ASK_CLARIFICATION(T,A) AND IDENTIFY(A,394)\n",
      "$$Name: IDENTIFY Arguments: ['A', '394']\n",
      "This is the evaluation obtained: (-0.1, array([0.06331979, 0.77153885, 0.16514136], dtype=float32), 'INFORMATION')\n",
      "$$Name: ASK_CLARIFICATION Arguments: ['T', (-0.1, array([0.06331979, 0.77153885, 0.16514136], dtype=float32))]\n",
      "This is the evaluation obtained: (-0.1, array([0.06331979, 0.77153885, 0.16514136], dtype=float32), 'ASK_CLARIFICATION')\n",
      "$$COMPOSITION$$: ASK_CLARIFICATION(T,A) AND IDENTIFY(A,394)\n",
      "$$Name: IDENTIFY Arguments: ['A', '394']\n",
      "This is the evaluation obtained: (-0.1, array([0.06331979, 0.77153885, 0.16514136], dtype=float32), 'INFORMATION')\n",
      "$$Name: ASK_CLARIFICATION Arguments: ['T', (-0.1, array([0.06331979, 0.77153885, 0.16514136], dtype=float32))]\n",
      "This is the evaluation obtained: (-0.1, array([0.06331979, 0.77153885, 0.16514136], dtype=float32), 'ASK_CLARIFICATION')\n",
      "(-0.1, array([0.4683401 , 0.11423057, 0.41742933], dtype=float32), 'ASK_CLARIFICATION')\n",
      "^^^^^^^^^^^^^\n",
      "Clarification Evaluation: (-0.1, array([0.06331979, 0.77153885, 0.16514136], dtype=float32), 'ASK_CLARIFICATION') Color Phrase Count: 1\n",
      "^^^^^^^^^^^^^\n",
      "%%%%%%%%%%%%%%%%%%%\n",
      "{'name': 'L', 'text': 'Do you mean soft purple ?', 'info': '', 'timestamp': '2020-06-30 22:16:30.360929', 'finished': 0}\n",
      "Turn Index: 8\n",
      "%%%%%%%%%%%%%%%%%%%\n",
      "Listener Logic Form: ASK_CLARIFICATION(T,A) AND IDENTIFY(A,734)\n",
      "Speaker Logic Form: []\n",
      "Going to evaluate this constituent: IDENTIFY(A,734)\n",
      "$$COMPOSITION$$: IDENTIFY(A,734)\n",
      "$$Name: IDENTIFY Arguments: ['A', '734']\n",
      "This is the evaluation obtained: (-0.1, array([0.01174964, 0.8612671 , 0.1269833 ], dtype=float32), 'INFORMATION')\n",
      "Found the target: 0\n",
      "$$COMPOSITION$$: ASK_CLARIFICATION(T,A) AND IDENTIFY(A,734)\n",
      "$$Name: IDENTIFY Arguments: ['A', '734']\n",
      "This is the evaluation obtained: (-0.1, array([0.01174964, 0.8612671 , 0.1269833 ], dtype=float32), 'INFORMATION')\n",
      "$$Name: ASK_CLARIFICATION Arguments: ['T', (-0.1, array([0.01174964, 0.8612671 , 0.1269833 ], dtype=float32))]\n",
      "This is the evaluation obtained: (-0.1, array([0.01174964, 0.8612671 , 0.1269833 ], dtype=float32), 'ASK_CLARIFICATION')\n",
      "^^^^^^^^^^^^^\n",
      "Clarification Evaluation: (-0.1, array([0.01174964, 0.8612671 , 0.1269833 ], dtype=float32), 'ASK_CLARIFICATION') Color Phrase Count: 1\n",
      "^^^^^^^^^^^^^\n",
      "%%%%%%%%%%%%%%%%%%%\n",
      "{'name': 'L', 'text': 'Do you mean blue or red or pink?', 'info': '', 'timestamp': '2020-06-30 23:22:07.205919', 'finished': 0}\n",
      "Turn Index: 2\n",
      "%%%%%%%%%%%%%%%%%%%\n",
      "Listener Logic Form: ASK_CLARIFICATION(T,A) AND COMPARE_REF(A,[or],I,J) AND IDENTIFY(I,44) AND COMPARE_REF(J,[or],K,L) AND IDENTIFY(K,656) AND IDENTIFY(L,608)\n",
      "Speaker Logic Form: ['IDENTIFY(A,608)']\n",
      "Going to evaluate this constituent: IDENTIFY(I,44)\n",
      "$$COMPOSITION$$: IDENTIFY(I,44)\n",
      "$$Name: IDENTIFY Arguments: ['I', '44']\n",
      "This is the evaluation obtained: (-0.1, array([1.1589372e-04, 4.1602590e-04, 9.9946815e-01], dtype=float32), 'INFORMATION')\n",
      "Going to evaluate this constituent: IDENTIFY(K,656)\n",
      "$$COMPOSITION$$: IDENTIFY(K,656)\n",
      "$$Name: IDENTIFY Arguments: ['K', '656']\n",
      "This is the evaluation obtained: (-0.1, array([3.1057934e-03, 9.9659121e-01, 3.0296328e-04], dtype=float32), 'INFORMATION')\n",
      "Going to evaluate this constituent: IDENTIFY(L,608)\n",
      "$$COMPOSITION$$: IDENTIFY(L,608)\n",
      "$$Name: IDENTIFY Arguments: ['L', '608']\n",
      "This is the evaluation obtained: (-0.1, array([9.5261043e-01, 4.7360849e-02, 2.8737499e-05], dtype=float32), 'INFORMATION')\n",
      "Found the target: 1\n",
      "$$COMPOSITION$$: ASK_CLARIFICATION(T,A) AND COMPARE_REF(A,[or],I,J) AND IDENTIFY(I,44) AND COMPARE_REF(J,[or],K,L) AND IDENTIFY(K,656) AND IDENTIFY(L,608)\n",
      "$$Name: IDENTIFY Arguments: ['L', '608']\n",
      "This is the evaluation obtained: (-0.1, array([9.5261043e-01, 4.7360849e-02, 2.8737499e-05], dtype=float32), 'INFORMATION')\n",
      "$$Name: IDENTIFY Arguments: ['K', '656']\n",
      "This is the evaluation obtained: (-0.1, array([3.1057934e-03, 9.9659121e-01, 3.0296328e-04], dtype=float32), 'INFORMATION')\n",
      "$$Name: COMPARE_REF Arguments: ['J', ['or'], (-0.1, array([3.1057934e-03, 9.9659121e-01, 3.0296328e-04], dtype=float32)), (-0.1, array([9.5261043e-01, 4.7360849e-02, 2.8737499e-05], dtype=float32))]\n",
      "This is the evaluation obtained: (-0.1, array([4.8863325e-01, 5.1119667e-01, 1.7011627e-04], dtype=float32), 'INFORMATION')\n",
      "$$Name: IDENTIFY Arguments: ['I', '44']\n",
      "This is the evaluation obtained: (-0.1, array([1.1589372e-04, 4.1602590e-04, 9.9946815e-01], dtype=float32), 'INFORMATION')\n",
      "$$Name: COMPARE_REF Arguments: ['A', ['or'], (-0.1, array([1.1589372e-04, 4.1602590e-04, 9.9946815e-01], dtype=float32)), (-0.1, array([4.8863325e-01, 5.1119667e-01, 1.7011627e-04], dtype=float32))]\n",
      "This is the evaluation obtained: (-0.1, array([0.24439992, 0.25575617, 0.4998439 ], dtype=float32), 'INFORMATION')\n",
      "$$Name: ASK_CLARIFICATION Arguments: ['T', (-0.1, array([0.24439992, 0.25575617, 0.4998439 ], dtype=float32))]\n",
      "This is the evaluation obtained: (-0.1, array([0.24439992, 0.25575617, 0.4998439 ], dtype=float32), 'ASK_CLARIFICATION')\n",
      "$$COMPOSITION$$: IDENTIFY(A,608)\n",
      "$$Name: IDENTIFY Arguments: ['A', '608']\n",
      "This is the evaluation obtained: (-0.1, array([9.5261043e-01, 4.7360849e-02, 2.8737499e-05], dtype=float32), 'INFORMATION')\n",
      "(-0.1, array([9.5261043e-01, 4.7360849e-02, 2.8737499e-05], dtype=float32), 'INFORMATION')\n",
      "^^^^^^^^^^^^^\n",
      "Clarification Evaluation: (-0.1, array([0.24439992, 0.25575617, 0.4998439 ], dtype=float32), 'ASK_CLARIFICATION') Color Phrase Count: 3\n",
      "^^^^^^^^^^^^^\n",
      "%%%%%%%%%%%%%%%%%%%\n",
      "{'name': 'L', 'text': 'bright purple or blue or light purple?', 'info': '', 'timestamp': '2020-06-30 23:23:19.568244', 'finished': 0}\n",
      "Turn Index: 2\n",
      "%%%%%%%%%%%%%%%%%%%\n",
      "Listener Logic Form: COMPARE_REF(T,[or],A,B) AND IDENTIFY(A,81) AND COMPARE_REF(B,[or],H,I) AND IDENTIFY(H,44) AND ASK_CLARIFICATION(I,J) AND IDENTIFY(J,447)\n",
      "Speaker Logic Form: ['IDENTIFY(A,81)']\n",
      "Going to evaluate this constituent: IDENTIFY(A,81)\n",
      "$$COMPOSITION$$: IDENTIFY(A,81)\n",
      "$$Name: IDENTIFY Arguments: ['A', '81']\n",
      "This is the evaluation obtained: (-0.1, array([0.98209655, 0.01552561, 0.00237787], dtype=float32), 'INFORMATION')\n",
      "Going to evaluate this constituent: IDENTIFY(H,44)\n",
      "$$COMPOSITION$$: IDENTIFY(H,44)\n",
      "$$Name: IDENTIFY Arguments: ['H', '44']\n",
      "This is the evaluation obtained: (-0.1, array([0.00670338, 0.00230515, 0.99099153], dtype=float32), 'INFORMATION')\n",
      "Going to evaluate this constituent: IDENTIFY(J,447)\n",
      "$$COMPOSITION$$: IDENTIFY(J,447)\n",
      "$$Name: IDENTIFY Arguments: ['J', '447']\n",
      "This is the evaluation obtained: (-0.1, array([0.1250611 , 0.8176279 , 0.05731101], dtype=float32), 'INFORMATION')\n",
      "Found the target: 1\n",
      "$$COMPOSITION$$: COMPARE_REF(T,[or],A,B) AND IDENTIFY(A,81) AND COMPARE_REF(B,[or],H,I) AND IDENTIFY(H,44) AND ASK_CLARIFICATION(I,J) AND IDENTIFY(J,447)\n",
      "$$Name: IDENTIFY Arguments: ['J', '447']\n",
      "This is the evaluation obtained: (-0.1, array([0.1250611 , 0.8176279 , 0.05731101], dtype=float32), 'INFORMATION')\n",
      "$$Name: ASK_CLARIFICATION Arguments: ['I', (-0.1, array([0.1250611 , 0.8176279 , 0.05731101], dtype=float32))]\n",
      "This is the evaluation obtained: (-0.1, array([0.1250611 , 0.8176279 , 0.05731101], dtype=float32), 'ASK_CLARIFICATION')\n",
      "$$Name: IDENTIFY Arguments: ['H', '44']\n",
      "This is the evaluation obtained: (-0.1, array([0.00670338, 0.00230515, 0.99099153], dtype=float32), 'INFORMATION')\n",
      "$$Name: COMPARE_REF Arguments: ['B', ['or'], (-0.1, array([0.00670338, 0.00230515, 0.99099153], dtype=float32)), (-0.1, array([0.1250611 , 0.8176279 , 0.05731101], dtype=float32))]\n",
      "This is the evaluation obtained: (-0.1, array([0.06747092, 0.4215696 , 0.5109595 ], dtype=float32), 'INFORMATION')\n",
      "$$Name: IDENTIFY Arguments: ['A', '81']\n",
      "This is the evaluation obtained: (-0.1, array([0.98209655, 0.01552561, 0.00237787], dtype=float32), 'INFORMATION')\n",
      "$$Name: COMPARE_REF Arguments: ['T', ['or'], (-0.1, array([0.98209655, 0.01552561, 0.00237787], dtype=float32)), (-0.1, array([0.06747092, 0.4215696 , 0.5109595 ], dtype=float32))]\n",
      "This is the evaluation obtained: (-0.1, array([0.5105484 , 0.2235489 , 0.26590267], dtype=float32), 'INFORMATION')\n",
      "$$COMPOSITION$$: IDENTIFY(A,81)\n",
      "$$Name: IDENTIFY Arguments: ['A', '81']\n",
      "This is the evaluation obtained: (-0.1, array([0.98209655, 0.01552561, 0.00237787], dtype=float32), 'INFORMATION')\n",
      "(-0.1, array([0.98209655, 0.01552561, 0.00237787], dtype=float32), 'INFORMATION')\n",
      "^^^^^^^^^^^^^\n",
      "Clarification Evaluation: (-0.1, array([0.5105484 , 0.2235489 , 0.26590267], dtype=float32), 'INFORMATION') Color Phrase Count: 3\n",
      "^^^^^^^^^^^^^\n",
      "%%%%%%%%%%%%%%%%%%%\n",
      "{'name': 'L', 'text': 'sea green or bright green?', 'info': '', 'timestamp': '2020-06-30 23:03:14.440649', 'finished': 0}\n",
      "Turn Index: 2\n",
      "%%%%%%%%%%%%%%%%%%%\n"
     ]
    },
    {
     "name": "stdout",
     "output_type": "stream",
     "text": [
      "Listener Logic Form: COMPARE_REF(T,[or],A,B) AND IDENTIFY(A,702) AND ASK_CLARIFICATION(B,G) AND IDENTIFY(G,69)\n",
      "Speaker Logic Form: ['IDENTIFY(A,702)']\n",
      "Going to evaluate this constituent: IDENTIFY(A,702)\n",
      "$$COMPOSITION$$: IDENTIFY(A,702)\n",
      "$$Name: IDENTIFY Arguments: ['A', '702']\n",
      "This is the evaluation obtained: (-0.1, array([0.9279417 , 0.0480822 , 0.02397615], dtype=float32), 'INFORMATION')\n",
      "Going to evaluate this constituent: IDENTIFY(G,69)\n",
      "$$COMPOSITION$$: IDENTIFY(G,69)\n",
      "$$Name: IDENTIFY Arguments: ['G', '69']\n",
      "This is the evaluation obtained: (-0.1, array([0.1465798 , 0.00921884, 0.8442014 ], dtype=float32), 'INFORMATION')\n",
      "Found the target: 1\n",
      "$$COMPOSITION$$: COMPARE_REF(T,[or],A,B) AND IDENTIFY(A,702) AND ASK_CLARIFICATION(B,G) AND IDENTIFY(G,69)\n",
      "$$Name: IDENTIFY Arguments: ['G', '69']\n",
      "This is the evaluation obtained: (-0.1, array([0.1465798 , 0.00921884, 0.8442014 ], dtype=float32), 'INFORMATION')\n",
      "$$Name: ASK_CLARIFICATION Arguments: ['B', (-0.1, array([0.1465798 , 0.00921884, 0.8442014 ], dtype=float32))]\n",
      "This is the evaluation obtained: (-0.1, array([0.1465798 , 0.00921884, 0.8442014 ], dtype=float32), 'ASK_CLARIFICATION')\n",
      "$$Name: IDENTIFY Arguments: ['A', '702']\n",
      "This is the evaluation obtained: (-0.1, array([0.9279417 , 0.0480822 , 0.02397615], dtype=float32), 'INFORMATION')\n",
      "$$Name: COMPARE_REF Arguments: ['T', ['or'], (-0.1, array([0.9279417 , 0.0480822 , 0.02397615], dtype=float32)), (-0.1, array([0.1465798 , 0.00921884, 0.8442014 ], dtype=float32))]\n",
      "This is the evaluation obtained: (-0.1, array([0.50914377, 0.03084563, 0.4600106 ], dtype=float32), 'INFORMATION')\n",
      "$$COMPOSITION$$: IDENTIFY(A,702)\n",
      "$$Name: IDENTIFY Arguments: ['A', '702']\n",
      "This is the evaluation obtained: (-0.1, array([0.9279417 , 0.0480822 , 0.02397615], dtype=float32), 'INFORMATION')\n",
      "(-0.1, array([0.9279417 , 0.0480822 , 0.02397615], dtype=float32), 'INFORMATION')\n",
      "^^^^^^^^^^^^^\n",
      "Clarification Evaluation: (-0.1, array([0.50914377, 0.03084563, 0.4600106 ], dtype=float32), 'INFORMATION') Color Phrase Count: 2\n",
      "^^^^^^^^^^^^^\n",
      "%%%%%%%%%%%%%%%%%%%\n",
      "{'name': 'L', 'text': 'The hot pink?', 'info': '', 'timestamp': '2020-06-30 23:03:07.507009', 'finished': 0}\n",
      "Turn Index: 2\n",
      "%%%%%%%%%%%%%%%%%%%\n",
      "Listener Logic Form: ASK_CLARIFICATION(T,A) AND IDENTIFY(A,371)\n",
      "Speaker Logic Form: ['IDENTIFY_SET(T,[slightly],-1,221)']\n",
      "Going to evaluate this constituent: IDENTIFY(A,371)\n",
      "$$COMPOSITION$$: IDENTIFY(A,371)\n",
      "$$Name: IDENTIFY Arguments: ['A', '371']\n",
      "This is the evaluation obtained: (-0.1, array([8.0154377e-01, 9.6755291e-05, 1.9835949e-01], dtype=float32), 'INFORMATION')\n",
      "Found the target: 1\n",
      "$$COMPOSITION$$: ASK_CLARIFICATION(T,A) AND IDENTIFY(A,371)\n",
      "$$Name: IDENTIFY Arguments: ['A', '371']\n",
      "This is the evaluation obtained: (-0.1, array([8.0154377e-01, 9.6755291e-05, 1.9835949e-01], dtype=float32), 'INFORMATION')\n",
      "$$Name: ASK_CLARIFICATION Arguments: ['T', (-0.1, array([8.0154377e-01, 9.6755291e-05, 1.9835949e-01], dtype=float32))]\n",
      "This is the evaluation obtained: (-0.1, array([8.0154377e-01, 9.6755291e-05, 1.9835949e-01], dtype=float32), 'ASK_CLARIFICATION')\n",
      "$$COMPOSITION$$: IDENTIFY_SET(T,[slightly],-1,221)\n",
      "$$Name: IDENTIFY_SET Arguments: ['T', ['slightly'], '1', '221']\n",
      "This is the evaluation obtained: (-0.1, array([0.08330841, 0.02409794, 0.89259374], dtype=float32), 'INFORMATION')\n",
      "(-0.1, array([0.08330841, 0.02409794, 0.89259374], dtype=float32), 'INFORMATION')\n",
      "^^^^^^^^^^^^^\n",
      "Clarification Evaluation: (-0.1, array([8.0154377e-01, 9.6755291e-05, 1.9835949e-01], dtype=float32), 'ASK_CLARIFICATION') Color Phrase Count: 1\n",
      "^^^^^^^^^^^^^\n",
      "%%%%%%%%%%%%%%%%%%%\n",
      "{'name': 'L', 'text': 'magenta or neon purple?', 'info': '', 'timestamp': '2020-06-30 23:03:24.787258', 'finished': 0}\n",
      "Turn Index: 4\n",
      "%%%%%%%%%%%%%%%%%%%\n",
      "Listener Logic Form: COMPARE_REF(T,[or],A,B) AND IDENTIFY(A,477) AND ASK_CLARIFICATION(B,G) AND IDENTIFY(G,532)\n",
      "Speaker Logic Form: ['IDENTIFY(A,532)']\n",
      "Going to evaluate this constituent: IDENTIFY(A,477)\n",
      "$$COMPOSITION$$: IDENTIFY(A,477)\n",
      "$$Name: IDENTIFY Arguments: ['A', '477']\n",
      "This is the evaluation obtained: (-0.1, array([0.27148104, 0.00664142, 0.7218776 ], dtype=float32), 'INFORMATION')\n",
      "Going to evaluate this constituent: IDENTIFY(G,532)\n",
      "$$COMPOSITION$$: IDENTIFY(G,532)\n",
      "$$Name: IDENTIFY Arguments: ['G', '532']\n",
      "This is the evaluation obtained: (-0.1, array([0.9320994 , 0.00751478, 0.06038588], dtype=float32), 'INFORMATION')\n",
      "Found the target: 1\n",
      "$$COMPOSITION$$: COMPARE_REF(T,[or],A,B) AND IDENTIFY(A,477) AND ASK_CLARIFICATION(B,G) AND IDENTIFY(G,532)\n",
      "$$Name: IDENTIFY Arguments: ['G', '532']\n",
      "This is the evaluation obtained: (-0.1, array([0.9320994 , 0.00751478, 0.06038588], dtype=float32), 'INFORMATION')\n",
      "$$Name: ASK_CLARIFICATION Arguments: ['B', (-0.1, array([0.9320994 , 0.00751478, 0.06038588], dtype=float32))]\n",
      "This is the evaluation obtained: (-0.1, array([0.9320994 , 0.00751478, 0.06038588], dtype=float32), 'ASK_CLARIFICATION')\n",
      "$$Name: IDENTIFY Arguments: ['A', '477']\n",
      "This is the evaluation obtained: (-0.1, array([0.27148104, 0.00664142, 0.7218776 ], dtype=float32), 'INFORMATION')\n",
      "$$Name: COMPARE_REF Arguments: ['T', ['or'], (-0.1, array([0.27148104, 0.00664142, 0.7218776 ], dtype=float32)), (-0.1, array([0.9320994 , 0.00751478, 0.06038588], dtype=float32))]\n",
      "This is the evaluation obtained: (-0.1, array([0.55805004, 0.00828171, 0.4336683 ], dtype=float32), 'INFORMATION')\n",
      "$$COMPOSITION$$: IDENTIFY(A,532)\n",
      "$$Name: IDENTIFY Arguments: ['A', '532']\n",
      "This is the evaluation obtained: (-0.1, array([0.9320994 , 0.00751478, 0.06038588], dtype=float32), 'INFORMATION')\n",
      "(-0.1, array([0.9320994 , 0.00751478, 0.06038588], dtype=float32), 'INFORMATION')\n",
      "^^^^^^^^^^^^^\n",
      "Clarification Evaluation: (-0.1, array([0.55805004, 0.00828171, 0.4336683 ], dtype=float32), 'INFORMATION') Color Phrase Count: 2\n",
      "^^^^^^^^^^^^^\n",
      "%%%%%%%%%%%%%%%%%%%\n",
      "{'name': 'L', 'text': 'Do you mean fuchsia ?', 'info': '', 'timestamp': '2020-06-30 23:03:32.527520', 'finished': 0}\n",
      "Turn Index: 6\n",
      "%%%%%%%%%%%%%%%%%%%\n",
      "Listener Logic Form: ASK_CLARIFICATION(T,A) AND IDENTIFY(A,318)\n",
      "Speaker Logic Form: []\n",
      "Going to evaluate this constituent: IDENTIFY(A,318)\n",
      "$$COMPOSITION$$: IDENTIFY(A,318)\n",
      "$$Name: IDENTIFY Arguments: ['A', '318']\n",
      "This is the evaluation obtained: (-0.1, array([0.7212659 , 0.01055789, 0.26817623], dtype=float32), 'INFORMATION')\n",
      "Found the target: 1\n",
      "$$COMPOSITION$$: ASK_CLARIFICATION(T,A) AND IDENTIFY(A,318)\n",
      "$$Name: IDENTIFY Arguments: ['A', '318']\n",
      "This is the evaluation obtained: (-0.1, array([0.7212659 , 0.01055789, 0.26817623], dtype=float32), 'INFORMATION')\n",
      "$$Name: ASK_CLARIFICATION Arguments: ['T', (-0.1, array([0.7212659 , 0.01055789, 0.26817623], dtype=float32))]\n",
      "This is the evaluation obtained: (-0.1, array([0.7212659 , 0.01055789, 0.26817623], dtype=float32), 'ASK_CLARIFICATION')\n",
      "^^^^^^^^^^^^^\n",
      "Clarification Evaluation: (-0.1, array([0.7212659 , 0.01055789, 0.26817623], dtype=float32), 'ASK_CLARIFICATION') Color Phrase Count: 1\n",
      "^^^^^^^^^^^^^\n",
      "%%%%%%%%%%%%%%%%%%%\n",
      "{'name': 'L', 'text': 'The red?', 'info': '', 'timestamp': '2020-06-30 22:59:48.776591', 'finished': 0}\n",
      "Turn Index: 2\n",
      "%%%%%%%%%%%%%%%%%%%\n",
      "Listener Logic Form: ASK_CLARIFICATION(T,A) AND IDENTIFY(A,656)\n",
      "Speaker Logic Form: ['CONFIRMATION(T,yes)']\n",
      "Going to evaluate this constituent: IDENTIFY(A,656)\n",
      "$$COMPOSITION$$: IDENTIFY(A,656)\n",
      "$$Name: IDENTIFY Arguments: ['A', '656']\n",
      "This is the evaluation obtained: (-0.1, array([9.9864769e-01, 2.7420843e-04, 1.0781807e-03], dtype=float32), 'INFORMATION')\n",
      "Found the target: 1\n",
      "$$COMPOSITION$$: ASK_CLARIFICATION(T,A) AND IDENTIFY(A,656)\n",
      "$$Name: IDENTIFY Arguments: ['A', '656']\n",
      "This is the evaluation obtained: (-0.1, array([9.9864769e-01, 2.7420843e-04, 1.0781807e-03], dtype=float32), 'INFORMATION')\n",
      "$$Name: ASK_CLARIFICATION Arguments: ['T', (-0.1, array([9.9864769e-01, 2.7420843e-04, 1.0781807e-03], dtype=float32))]\n",
      "This is the evaluation obtained: (-0.1, array([9.9864769e-01, 2.7420843e-04, 1.0781807e-03], dtype=float32), 'ASK_CLARIFICATION')\n",
      "$$COMPOSITION$$: ASK_CLARIFICATION(T,A) AND IDENTIFY(A,656)\n",
      "$$Name: IDENTIFY Arguments: ['A', '656']\n",
      "This is the evaluation obtained: (-0.1, array([9.9864769e-01, 2.7420843e-04, 1.0781807e-03], dtype=float32), 'INFORMATION')\n",
      "$$Name: ASK_CLARIFICATION Arguments: ['T', (-0.1, array([9.9864769e-01, 2.7420843e-04, 1.0781807e-03], dtype=float32))]\n",
      "This is the evaluation obtained: (-0.1, array([9.9864769e-01, 2.7420843e-04, 1.0781807e-03], dtype=float32), 'ASK_CLARIFICATION')\n",
      "(-0.1, array([9.9864769e-01, 2.7420843e-04, 1.0781807e-03], dtype=float32), 'ASK_CLARIFICATION')\n",
      "^^^^^^^^^^^^^\n",
      "Clarification Evaluation: (-0.1, array([9.9864769e-01, 2.7420843e-04, 1.0781807e-03], dtype=float32), 'ASK_CLARIFICATION') Color Phrase Count: 1\n",
      "^^^^^^^^^^^^^\n",
      "%%%%%%%%%%%%%%%%%%%\n",
      "{'name': 'L', 'text': 'Do you mean canary yellow or yellow green or bright green?', 'info': '', 'timestamp': '2020-06-30 22:20:19.487386', 'finished': 0}\n",
      "Turn Index: 2\n",
      "%%%%%%%%%%%%%%%%%%%\n"
     ]
    },
    {
     "name": "stdout",
     "output_type": "stream",
     "text": [
      "Listener Logic Form: ASK_CLARIFICATION(T,A) AND COMPARE_REF(A,[or],I,J) AND IDENTIFY(I,123) AND COMPARE_REF(J,[or],K,L) AND IDENTIFY(K,820) AND IDENTIFY(L,69)\n",
      "Speaker Logic Form: ['IDENTIFY_FROM_REF(T,A,MULTIPLY,B) AND IDENTIFY(A,820) AND IDENTIFY_SET(B,[most],-1,None)']\n",
      "Going to evaluate this constituent: IDENTIFY(I,123)\n",
      "$$COMPOSITION$$: IDENTIFY(I,123)\n",
      "$$Name: IDENTIFY Arguments: ['I', '123']\n",
      "This is the evaluation obtained: (-0.1, array([2.071102e-03, 4.022430e-06, 9.979249e-01], dtype=float32), 'INFORMATION')\n",
      "Going to evaluate this constituent: IDENTIFY(K,820)\n",
      "$$COMPOSITION$$: IDENTIFY(K,820)\n",
      "$$Name: IDENTIFY Arguments: ['K', '820']\n",
      "This is the evaluation obtained: (-0.1, array([0.9191824 , 0.06244853, 0.01836913], dtype=float32), 'INFORMATION')\n",
      "Going to evaluate this constituent: IDENTIFY(L,69)\n",
      "$$COMPOSITION$$: IDENTIFY(L,69)\n",
      "$$Name: IDENTIFY Arguments: ['L', '69']\n",
      "This is the evaluation obtained: (-0.1, array([4.2844236e-02, 9.5663929e-01, 5.1650911e-04], dtype=float32), 'INFORMATION')\n",
      "Found the target: 1\n",
      "$$COMPOSITION$$: ASK_CLARIFICATION(T,A) AND COMPARE_REF(A,[or],I,J) AND IDENTIFY(I,123) AND COMPARE_REF(J,[or],K,L) AND IDENTIFY(K,820) AND IDENTIFY(L,69)\n",
      "$$Name: IDENTIFY Arguments: ['L', '69']\n",
      "This is the evaluation obtained: (-0.1, array([4.2844236e-02, 9.5663929e-01, 5.1650911e-04], dtype=float32), 'INFORMATION')\n",
      "$$Name: IDENTIFY Arguments: ['K', '820']\n",
      "This is the evaluation obtained: (-0.1, array([0.9191824 , 0.06244853, 0.01836913], dtype=float32), 'INFORMATION')\n",
      "$$Name: COMPARE_REF Arguments: ['J', ['or'], (-0.1, array([0.9191824 , 0.06244853, 0.01836913], dtype=float32)), (-0.1, array([4.2844236e-02, 9.5663929e-01, 5.1650911e-04], dtype=float32))]\n",
      "This is the evaluation obtained: (-0.1, array([0.4853808, 0.5046889, 0.0099303], dtype=float32), 'INFORMATION')\n",
      "$$Name: IDENTIFY Arguments: ['I', '123']\n",
      "This is the evaluation obtained: (-0.1, array([2.071102e-03, 4.022430e-06, 9.979249e-01], dtype=float32), 'INFORMATION')\n",
      "$$Name: COMPARE_REF Arguments: ['A', ['or'], (-0.1, array([2.071102e-03, 4.022430e-06, 9.979249e-01], dtype=float32)), (-0.1, array([0.4853808, 0.5046889, 0.0099303], dtype=float32))]\n",
      "This is the evaluation obtained: (-0.1, array([0.2445582 , 0.25373042, 0.50171137], dtype=float32), 'INFORMATION')\n",
      "$$Name: ASK_CLARIFICATION Arguments: ['T', (-0.1, array([0.2445582 , 0.25373042, 0.50171137], dtype=float32))]\n",
      "This is the evaluation obtained: (-0.1, array([0.2445582 , 0.25373042, 0.50171137], dtype=float32), 'ASK_CLARIFICATION')\n",
      "$$COMPOSITION$$: IDENTIFY_FROM_REF(T,A,MULTIPLY,B) AND IDENTIFY(A,820) AND IDENTIFY_SET(B,[most],-1,None)\n",
      "$$Name: IDENTIFY_SET Arguments: ['B', ['most'], '1', 'None']\n",
      "This is the evaluation obtained: (-0.1, array([0.33, 0.33, 0.33]), 'INFORMATION')\n",
      "$$Name: IDENTIFY Arguments: ['A', '820']\n",
      "This is the evaluation obtained: (-0.1, array([0.9191824 , 0.06244853, 0.01836913], dtype=float32), 'INFORMATION')\n",
      "$$Name: IDENTIFY_FROM_REF Arguments: ['T', (-0.1, array([0.9191824 , 0.06244853, 0.01836913], dtype=float32)), 'MULTIPLY', (-0.1, array([0.33, 0.33, 0.33]))]\n",
      "This is the evaluation obtained: (-0.1, array([0.91918235, 0.06244853, 0.01836913]), 'INFORMATION')\n",
      "(-0.1, array([0.91918235, 0.06244853, 0.01836913]), 'INFORMATION')\n",
      "^^^^^^^^^^^^^\n",
      "Clarification Evaluation: (-0.1, array([0.2445582 , 0.25373042, 0.50171137], dtype=float32), 'ASK_CLARIFICATION') Color Phrase Count: 3\n",
      "^^^^^^^^^^^^^\n",
      "%%%%%%%%%%%%%%%%%%%\n",
      "{'name': 'L', 'text': 'light purple or bright purple or blue?', 'info': '', 'timestamp': '2020-06-30 22:19:01.593859', 'finished': 0}\n",
      "Turn Index: 2\n",
      "%%%%%%%%%%%%%%%%%%%\n",
      "Listener Logic Form: COMPARE_REF(T,[or],A,B) AND IDENTIFY(A,447) AND COMPARE_REF(B,[or],H,I) AND IDENTIFY(H,81) AND ASK_CLARIFICATION(I,J) AND IDENTIFY(J,44)\n",
      "Speaker Logic Form: ['IDENTIFY(A,81)']\n",
      "Going to evaluate this constituent: IDENTIFY(A,447)\n",
      "$$COMPOSITION$$: IDENTIFY(A,447)\n",
      "$$Name: IDENTIFY Arguments: ['A', '447']\n",
      "This is the evaluation obtained: (-0.1, array([0.1250611 , 0.8176279 , 0.05731101], dtype=float32), 'INFORMATION')\n",
      "Going to evaluate this constituent: IDENTIFY(H,81)\n",
      "$$COMPOSITION$$: IDENTIFY(H,81)\n",
      "$$Name: IDENTIFY Arguments: ['H', '81']\n",
      "This is the evaluation obtained: (-0.1, array([0.98209655, 0.01552561, 0.00237787], dtype=float32), 'INFORMATION')\n",
      "Going to evaluate this constituent: IDENTIFY(J,44)\n",
      "$$COMPOSITION$$: IDENTIFY(J,44)\n",
      "$$Name: IDENTIFY Arguments: ['J', '44']\n",
      "This is the evaluation obtained: (-0.1, array([0.00670338, 0.00230515, 0.99099153], dtype=float32), 'INFORMATION')\n",
      "Found the target: 1\n",
      "$$COMPOSITION$$: COMPARE_REF(T,[or],A,B) AND IDENTIFY(A,447) AND COMPARE_REF(B,[or],H,I) AND IDENTIFY(H,81) AND ASK_CLARIFICATION(I,J) AND IDENTIFY(J,44)\n",
      "$$Name: IDENTIFY Arguments: ['J', '44']\n",
      "This is the evaluation obtained: (-0.1, array([0.00670338, 0.00230515, 0.99099153], dtype=float32), 'INFORMATION')\n",
      "$$Name: ASK_CLARIFICATION Arguments: ['I', (-0.1, array([0.00670338, 0.00230515, 0.99099153], dtype=float32))]\n",
      "This is the evaluation obtained: (-0.1, array([0.00670338, 0.00230515, 0.99099153], dtype=float32), 'ASK_CLARIFICATION')\n",
      "$$Name: IDENTIFY Arguments: ['H', '81']\n",
      "This is the evaluation obtained: (-0.1, array([0.98209655, 0.01552561, 0.00237787], dtype=float32), 'INFORMATION')\n",
      "$$Name: COMPARE_REF Arguments: ['B', ['or'], (-0.1, array([0.98209655, 0.01552561, 0.00237787], dtype=float32)), (-0.1, array([0.00670338, 0.00230515, 0.99099153], dtype=float32))]\n",
      "This is the evaluation obtained: (-0.1, array([0.4933222 , 0.00893759, 0.4977402 ], dtype=float32), 'INFORMATION')\n",
      "$$Name: IDENTIFY Arguments: ['A', '447']\n",
      "This is the evaluation obtained: (-0.1, array([0.1250611 , 0.8176279 , 0.05731101], dtype=float32), 'INFORMATION')\n",
      "$$Name: COMPARE_REF Arguments: ['T', ['or'], (-0.1, array([0.1250611 , 0.8176279 , 0.05731101], dtype=float32)), (-0.1, array([0.4933222 , 0.00893759, 0.4977402 ], dtype=float32))]\n",
      "This is the evaluation obtained: (-0.1, array([0.29261306, 0.4306283 , 0.27675864], dtype=float32), 'INFORMATION')\n",
      "$$COMPOSITION$$: IDENTIFY(A,81)\n",
      "$$Name: IDENTIFY Arguments: ['A', '81']\n",
      "This is the evaluation obtained: (-0.1, array([0.98209655, 0.01552561, 0.00237787], dtype=float32), 'INFORMATION')\n",
      "(-0.1, array([0.98209655, 0.01552561, 0.00237787], dtype=float32), 'INFORMATION')\n",
      "^^^^^^^^^^^^^\n",
      "Clarification Evaluation: (-0.1, array([0.29261306, 0.4306283 , 0.27675864], dtype=float32), 'INFORMATION') Color Phrase Count: 3\n",
      "^^^^^^^^^^^^^\n"
     ]
    }
   ],
   "source": [
    "# dirname = 'conversations_v1/'\n",
    "# dirname = './multi-RL/multi/'\n",
    "# dirname = './SEMDIAL/SEMDIAL/'\n",
    "dirname = './multi/'\n",
    "ids = set()\n",
    "all_csvs = []\n",
    "valid = 0\n",
    "invalid = 0\n",
    "models = [QAModel(len(INTENTS)), QAModel(len(INTENTS))]\n",
    "symbol_list = ['.', ',', '?', '/', '\\\\', '?', '-', ';', '!']\n",
    "\n",
    "clarification = {0 : {1: 0, 2: 0, 3 : 0}, 1: {1: 0, 2: 0, 3 : 0}}\n",
    "accurate_clarify = {0 : {1: 0, 2: 0, 3 : 0}, 1: {1: 0, 2: 0, 3 : 0}}\n",
    "total_count = 0\n",
    "\n",
    "max_candidates = []\n",
    "clarification_evaluations = []\n",
    "for i, conv in enumerate(os.listdir(dirname)):\n",
    "# for conv in file_names:\n",
    "    empty_state = state()\n",
    "    if conv[0] == '.':\n",
    "        continue\n",
    "        \n",
    "    move_index = 0\n",
    "    try:\n",
    "        convo_dict = json.load(open(dirname + conv, 'r'))\n",
    "        if not check_valid_convesations(convo_dict):\n",
    "            invalid += 1\n",
    "            continue\n",
    "        valid += 1\n",
    "        index = -1\n",
    "#         if i != 244:\n",
    "#             continue\n",
    "        for j, conv_turn in enumerate(convo_dict):\n",
    "            \n",
    "            utterance = None\n",
    "            if 'name' in conv_turn and conv_turn['name'] == 'L':\n",
    "                utterance = conv_turn['text']\n",
    "                if utterance == 'I could not understand you.':\n",
    "                    continue\n",
    "                index = j\n",
    "            elif 'name' in conv_turn and conv_turn['name'] == 'S':\n",
    "                total_count += 1\n",
    "                continue\n",
    "                \n",
    "            \n",
    "                \n",
    "            if utterance == None or utterance == '' or utterance == 'I could not understand you.':\n",
    "#                 total_count += int(utterance == '')\n",
    "                continue\n",
    "            if index == -1:\n",
    "                continue\n",
    "            print('%%%%%%%%%%%%%%%%%%%')\n",
    "            print(convo_dict[index])\n",
    "            print('Turn Index: %d' % (index,))\n",
    "            print('%%%%%%%%%%%%%%%%%%%')\n",
    "            total_count += 1\n",
    "            cic_index = convo_dict[0]['row_index']\n",
    "            item = cic.get_index_item(cic_index)\n",
    "            colors = item['rgb_colors']\n",
    "            clr_trans = item['x_colors']\n",
    "            shuffled_colors = [tup for tup in zip(clr_trans, colors)]\n",
    "            \n",
    "            listener_logic_form = get_logic_form(cic, convo_dict[index]['text'])[0]\n",
    "            cp_count = get_count(listener_logic_form)\n",
    "#             clarification[found_target][cp_count] += 1\n",
    "            \n",
    "            speaker_logic_forms = get_logic_form(cic, convo_dict[index + 1]['text'])\n",
    "#             move_type = check_if_reject_or_confirm(speaker_logic_forms)\n",
    "            print('Listener Logic Form: %s' % (listener_logic_form,))\n",
    "            print('Speaker Logic Form: %s' % (speaker_logic_forms))\n",
    "        \n",
    "            clr_pair = {'S':clr_trans, 'L': [shuffled_colors[k][0] for k in range(len(shuffled_colors))], \\\n",
    "                        'S_RGB': colors, 'L_RGB' : [shuffled_colors[k][1] for k in range(len(shuffled_colors))]}\n",
    "            \n",
    "            found_target = False\n",
    "            for constt in listener_logic_form.split('AND'):\n",
    "                if 'IDENTIFY' in constt:\n",
    "                    constt = constt.strip()\n",
    "                    print('Going to evaluate this constituent: %s' % (constt,))\n",
    "                    constt_eval = evaluate((item, cic._model[1]), None, clr_pair, 'L', cic._color_vocab, empty_state, \\\n",
    "                                        constt, {'S' : [0, 1, 2], 'L' : [0, 1, 2]})[1]\n",
    "                    \n",
    "                    found_target = ((np.argmax(constt_eval) == 0) or found_target)\n",
    "#             if found_target:\n",
    "            found_target = int(found_target)\n",
    "            print('Found the target: %d' % (found_target,))\n",
    "            clarification[found_target][cp_count] += 1\n",
    "            clarification_eval = evaluate((item, cic._model[1]), None, clr_pair, 'L', cic._color_vocab, empty_state, \\\n",
    "                                        listener_logic_form, {'S' : [0, 1, 2], 'L' : [0, 1, 2]})\n",
    "            \n",
    "#             if 0 in np.argsort(clarification_eval)[:cp_count]:\n",
    "                \n",
    "            \n",
    "            distribution = np.array([0.33, 0.33, 0.33])\n",
    "            for form in speaker_logic_forms:\n",
    "                move_type = check_if_reject_or_confirm([form])\n",
    "                if move_type:\n",
    "                    form = listener_logic_form\n",
    "                    \n",
    "                eval_results = evaluate((item, cic._model[1]), None, clr_pair, 'S', cic._color_vocab, empty_state, \\\n",
    "                                        form, {'S' : [0, 1, 2], 'L' : [0, 1, 2]})\n",
    "                \n",
    "                if move_type == 1:\n",
    "                    eval_results = (eval_results[0], 1 - eval_results[1], eval_results[2])\n",
    "                    eval_results = (eval_results[0], eval_results[1]/sum(eval_results[1]), eval_results[2])\n",
    "                print(eval_results)\n",
    "                distribution = distribution * eval_results[1]\n",
    "                distribution = distribution/sum(distribution)\n",
    "#             if move_type == 1:\n",
    "#                 distribution = 1 - distribution\n",
    "#                 distribution = distribution/sum(distribution)\n",
    "            if distribution.argmax() == 0:\n",
    "                accurate_clarify[found_target][cp_count] += 1\n",
    "            print('^^^^^^^^^^^^^')\n",
    "            print('Clarification Evaluation: %s Color Phrase Count: %d' % (clarification_eval, cp_count))\n",
    "            clarification_evaluations.append((clarification_eval, distribution, cp_count, i))\n",
    "            print('^^^^^^^^^^^^^')\n",
    "#             max_candidates.append(distribution.argmax())\n",
    "            \n",
    "        \n",
    "    except Exception as e:\n",
    "        print(e)\n"
   ]
  },
  {
   "cell_type": "code",
   "execution_count": 31,
   "metadata": {
    "scrolled": true
   },
   "outputs": [
    {
     "name": "stdout",
     "output_type": "stream",
     "text": [
      "{0: {1: 9, 2: 0, 3: 1}, 1: {1: 12, 2: 7, 3: 10}}\n",
      "CP Count Strategy for: 1, and 0 case, Accuracy: 0.444444\n",
      "CP Count Strategy for: 2, and 0 case, Accuracy: 1.000000\n",
      "CP Count Strategy for: 3, and 0 case, Accuracy: 0.000000\n",
      "CP Count Strategy for: 1, and 1 case, Accuracy: 0.666667\n",
      "CP Count Strategy for: 2, and 1 case, Accuracy: 0.714286\n",
      "CP Count Strategy for: 3, and 1 case, Accuracy: 0.900000\n",
      "-------------------------------\n",
      "{0: {1: 9, 2: 0, 3: 1}, 1: {1: 12, 2: 7, 3: 10}} 185\n"
     ]
    },
    {
     "data": {
      "text/plain": [
       "[((-0.1,\n",
       "   array([0.13812609, 0.3200508 , 0.5418231 ], dtype=float32),\n",
       "   'INFORMATION'),\n",
       "  array([0.15382474, 0.00930579, 0.83686946]),\n",
       "  3,\n",
       "  2),\n",
       " ((-0.1,\n",
       "   array([0.13552213, 0.04646924, 0.81800866], dtype=float32),\n",
       "   'ASK_CLARIFICATION'),\n",
       "  array([0.33333333, 0.33333333, 0.33333333]),\n",
       "  1,\n",
       "  2),\n",
       " ((-0.1,\n",
       "   array([0.77241373, 0.05715745, 0.17042884], dtype=float32),\n",
       "   'ASK_CLARIFICATION'),\n",
       "  array([0.33, 0.33, 0.33]),\n",
       "  1,\n",
       "  2),\n",
       " ((-0.1,\n",
       "   array([0.9255227 , 0.04800142, 0.02647589], dtype=float32),\n",
       "   'ASK_CLARIFICATION'),\n",
       "  array([0.92552269, 0.04800142, 0.02647589]),\n",
       "  1,\n",
       "  2),\n",
       " ((-0.1,\n",
       "   array([9.9993670e-01, 5.9817252e-05, 3.5666765e-06], dtype=float32),\n",
       "   'ASK_CLARIFICATION'),\n",
       "  array([0.33, 0.33, 0.33]),\n",
       "  1,\n",
       "  3),\n",
       " ((-0.1,\n",
       "   array([0.2860244 , 0.21538857, 0.49858698], dtype=float32),\n",
       "   'INFORMATION'),\n",
       "  array([0.83206005, 0.07931238, 0.08862757]),\n",
       "  3,\n",
       "  10),\n",
       " ((-0.1,\n",
       "   array([0.43638948, 0.5399354 , 0.02367511], dtype=float32),\n",
       "   'ASK_CLARIFICATION'),\n",
       "  array([0.7888584 , 0.16919216, 0.04194943]),\n",
       "  2,\n",
       "  13),\n",
       " ((-0.1,\n",
       "   array([0.27620435, 0.23720315, 0.4865925 ], dtype=float32),\n",
       "   'ASK_CLARIFICATION'),\n",
       "  array([0.08480065, 0.82818196, 0.08701739]),\n",
       "  3,\n",
       "  14),\n",
       " ((-0.1,\n",
       "   array([0.21454802, 0.51766473, 0.26778728], dtype=float32),\n",
       "   'ASK_CLARIFICATION'),\n",
       "  array([0.78115469, 0.20122755, 0.01761776]),\n",
       "  3,\n",
       "  15),\n",
       " ((-0.1,\n",
       "   array([0.8697585 , 0.12558644, 0.00465511], dtype=float32),\n",
       "   'ASK_CLARIFICATION'),\n",
       "  array([0.86975846, 0.12558643, 0.00465511]),\n",
       "  1,\n",
       "  15),\n",
       " ((-0.1,\n",
       "   array([5.0066280e-01, 2.3909594e-04, 4.9909812e-01], dtype=float32),\n",
       "   'ASK_CLARIFICATION'),\n",
       "  array([9.97477213e-01, 1.00983426e-05, 2.51268855e-03]),\n",
       "  2,\n",
       "  17),\n",
       " ((-0.1,\n",
       "   array([1.0544425e-03, 3.0292999e-06, 9.9894255e-01], dtype=float32),\n",
       "   'ASK_CLARIFICATION'),\n",
       "  array([0.49947278, 0.49999849, 0.00052872]),\n",
       "  1,\n",
       "  22),\n",
       " ((-0.1,\n",
       "   array([0.47451127, 0.02527752, 0.50021124], dtype=float32),\n",
       "   'ASK_CLARIFICATION'),\n",
       "  array([0.26274437, 0.48736125, 0.24989438]),\n",
       "  2,\n",
       "  22),\n",
       " ((-0.1,\n",
       "   array([0.00188501, 0.98729956, 0.01081545], dtype=float32),\n",
       "   'ASK_CLARIFICATION'),\n",
       "  array([8.96001379e-01, 1.03942079e-01, 5.65415309e-05]),\n",
       "  1,\n",
       "  23),\n",
       " ((-0.1,\n",
       "   array([0.49759778, 0.44696906, 0.05543315], dtype=float32),\n",
       "   'ASK_CLARIFICATION'),\n",
       "  array([9.90346855e-01, 9.61417467e-03, 3.89700014e-05]),\n",
       "  2,\n",
       "  23),\n",
       " ((-0.1,\n",
       "   array([0.26142657, 0.46786398, 0.27070948], dtype=float32),\n",
       "   'INFORMATION'),\n",
       "  array([0.97090235, 0.02290429, 0.00619336]),\n",
       "  3,\n",
       "  24),\n",
       " ((-0.1,\n",
       "   array([1.2592055e-03, 6.1730290e-04, 9.9812353e-01], dtype=float32),\n",
       "   'ASK_CLARIFICATION'),\n",
       "  array([0.49937041, 0.49969135, 0.00093824]),\n",
       "  1,\n",
       "  26),\n",
       " ((-0.1,\n",
       "   array([0.5141653 , 0.46009833, 0.02573643], dtype=float32),\n",
       "   'ASK_CLARIFICATION'),\n",
       "  array([0.24291737, 0.26995084, 0.48713179]),\n",
       "  2,\n",
       "  26),\n",
       " ((-0.1,\n",
       "   array([0.13722204, 0.7263182 , 0.13645983], dtype=float32),\n",
       "   'ASK_CLARIFICATION'),\n",
       "  array([0.43138899, 0.13684091, 0.4317701 ]),\n",
       "  1,\n",
       "  26),\n",
       " ((-0.1,\n",
       "   array([0.93149805, 0.05431834, 0.01418363], dtype=float32),\n",
       "   'ASK_CLARIFICATION'),\n",
       "  array([0.03425098, 0.47284083, 0.49290819]),\n",
       "  1,\n",
       "  26),\n",
       " ((-0.1,\n",
       "   array([0.20817856, 0.74905396, 0.04276751], dtype=float32),\n",
       "   'ASK_CLARIFICATION'),\n",
       "  array([0.39591072, 0.12547303, 0.47861625]),\n",
       "  1,\n",
       "  26),\n",
       " ((-0.1,\n",
       "   array([0.01029056, 0.9831575 , 0.00655194], dtype=float32),\n",
       "   'ASK_CLARIFICATION'),\n",
       "  array([0.49485472, 0.00842124, 0.49672404]),\n",
       "  1,\n",
       "  26),\n",
       " ((-0.1,\n",
       "   array([0.9173245 , 0.04566061, 0.03701493], dtype=float32),\n",
       "   'ASK_CLARIFICATION'),\n",
       "  array([0.04133776, 0.47716969, 0.48149255]),\n",
       "  1,\n",
       "  26),\n",
       " ((-0.1,\n",
       "   array([9.5019931e-01, 4.8549824e-05, 4.9752150e-02], dtype=float32),\n",
       "   'ASK_CLARIFICATION'),\n",
       "  array([9.50199301e-01, 4.85498237e-05, 4.97521495e-02]),\n",
       "  1,\n",
       "  41),\n",
       " ((-0.1,\n",
       "   array([9.4981939e-01, 5.0179992e-02, 6.5024625e-07], dtype=float32),\n",
       "   'ASK_CLARIFICATION'),\n",
       "  array([9.49819359e-01, 5.01799905e-02, 6.50246231e-07]),\n",
       "  1,\n",
       "  54),\n",
       " ((-0.1,\n",
       "   array([0.27709267, 0.28069955, 0.44220778], dtype=float32),\n",
       "   'INFORMATION'),\n",
       "  array([0.92136479, 0.00426519, 0.07437001]),\n",
       "  3,\n",
       "  58),\n",
       " ((-0.1,\n",
       "   array([0.30198187, 0.40811238, 0.2899058 ], dtype=float32),\n",
       "   'INFORMATION'),\n",
       "  array([0.33333333, 0.33333333, 0.33333333]),\n",
       "  3,\n",
       "  65),\n",
       " ((-0.1,\n",
       "   array([0.9856833 , 0.00767156, 0.00664512], dtype=float32),\n",
       "   'ASK_CLARIFICATION'),\n",
       "  array([0.11943053, 0.75361258, 0.12695689]),\n",
       "  1,\n",
       "  65),\n",
       " ((-0.1,\n",
       "   array([0.06331979, 0.77153885, 0.16514136], dtype=float32),\n",
       "   'ASK_CLARIFICATION'),\n",
       "  array([0.4683401 , 0.11423057, 0.41742933]),\n",
       "  1,\n",
       "  65),\n",
       " ((-0.1,\n",
       "   array([0.01174964, 0.8612671 , 0.1269833 ], dtype=float32),\n",
       "   'ASK_CLARIFICATION'),\n",
       "  array([0.33, 0.33, 0.33]),\n",
       "  1,\n",
       "  65),\n",
       " ((-0.1,\n",
       "   array([0.24439992, 0.25575617, 0.4998439 ], dtype=float32),\n",
       "   'ASK_CLARIFICATION'),\n",
       "  array([9.52610415e-01, 4.73608477e-02, 2.87374982e-05]),\n",
       "  3,\n",
       "  66),\n",
       " ((-0.1,\n",
       "   array([0.5105484 , 0.2235489 , 0.26590267], dtype=float32),\n",
       "   'INFORMATION'),\n",
       "  array([0.98209653, 0.01552561, 0.00237787]),\n",
       "  3,\n",
       "  71),\n",
       " ((-0.1,\n",
       "   array([0.50914377, 0.03084563, 0.4600106 ], dtype=float32),\n",
       "   'INFORMATION'),\n",
       "  array([0.92794166, 0.04808219, 0.02397615]),\n",
       "  2,\n",
       "  74),\n",
       " ((-0.1,\n",
       "   array([8.0154377e-01, 9.6755291e-05, 1.9835949e-01], dtype=float32),\n",
       "   'ASK_CLARIFICATION'),\n",
       "  array([0.0833084 , 0.02409794, 0.89259366]),\n",
       "  1,\n",
       "  76),\n",
       " ((-0.1,\n",
       "   array([0.55805004, 0.00828171, 0.4336683 ], dtype=float32),\n",
       "   'INFORMATION'),\n",
       "  array([0.93209935, 0.00751478, 0.06038587]),\n",
       "  2,\n",
       "  76),\n",
       " ((-0.1,\n",
       "   array([0.7212659 , 0.01055789, 0.26817623], dtype=float32),\n",
       "   'ASK_CLARIFICATION'),\n",
       "  array([0.33, 0.33, 0.33]),\n",
       "  1,\n",
       "  76),\n",
       " ((-0.1,\n",
       "   array([9.9864769e-01, 2.7420843e-04, 1.0781807e-03], dtype=float32),\n",
       "   'ASK_CLARIFICATION'),\n",
       "  array([9.98647611e-01, 2.74208411e-04, 1.07818065e-03]),\n",
       "  1,\n",
       "  79),\n",
       " ((-0.1,\n",
       "   array([0.2445582 , 0.25373042, 0.50171137], dtype=float32),\n",
       "   'ASK_CLARIFICATION'),\n",
       "  array([0.91918235, 0.06244853, 0.01836913]),\n",
       "  3,\n",
       "  82),\n",
       " ((-0.1,\n",
       "   array([0.29261306, 0.4306283 , 0.27675864], dtype=float32),\n",
       "   'INFORMATION'),\n",
       "  array([0.98209653, 0.01552561, 0.00237787]),\n",
       "  3,\n",
       "  87)]"
      ]
     },
     "execution_count": 31,
     "metadata": {},
     "output_type": "execute_result"
    }
   ],
   "source": [
    "# filtered = list(filter(lambda x: x == 0, max_candidates))\n",
    "# print('Correct Percentage: %f' % (len(filtered)/len(max_candidates),))\n",
    "# clarification\n",
    "# accurate_clarify\n",
    "# total_count = 0\n",
    "print(clarification)\n",
    "print(accurate_clarify)\n",
    "for flag in clarification:\n",
    "#     total_count += clarification[k]\n",
    "    for k in clarification[flag]:\n",
    "        if clarification[flag][k]:\n",
    "            accuracy = (accurate_clarify[flag][k]/clarification[flag][k])\n",
    "        else:\n",
    "            accuracy = 1\n",
    "        print('CP Count Strategy for: %d, and %s case, Accuracy: %f' % (k, flag, accuracy))\n",
    "print('-------------------------------')\n",
    "# for k in clarification:\n",
    "#     strategy_percent = (clarification[k]/total_count)\n",
    "#     print('CP Count Strategy: %d, Percentage Use: %f' % (k, strategy_percent))\n",
    "# print('-------------------------------')\n",
    "print(clarification, total_count)\n",
    "# clarification\n",
    "clarification_evaluations"
   ]
  },
  {
   "cell_type": "code",
   "execution_count": 45,
   "metadata": {
    "scrolled": true
   },
   "outputs": [
    {
     "name": "stdout",
     "output_type": "stream",
     "text": [
      "Item Number: 2\n",
      "Utterance: blue\n",
      "$$COMPOSITION$$: IDENTIFY(A,261)\n",
      "$$Name: IDENTIFY Arguments: ['A', '261']\n",
      "[1.13115837e-02 6.37055174e-05 9.88624711e-01]\n"
     ]
    }
   ],
   "source": [
    "# dirname = 'conversations_v1/'\n",
    "dirname = 'conversations/'\n",
    "ids = set()\n",
    "all_csvs = []\n",
    "valid = 0\n",
    "invalid = 0\n",
    "models = [QAModel(len(INTENTS)), QAModel(len(INTENTS))]\n",
    "symbol_list = ['.', ',', '?', '/', '\\\\', '?', '-', ';', '!']\n",
    "max_candidates = []\n",
    "not_parsed = False\n",
    "for i, conv in enumerate(os.listdir(dirname)):\n",
    "    empty_state = state()\n",
    "    if conv[0] == '.':\n",
    "        continue\n",
    "    move_index = 0\n",
    "    try:\n",
    "        convo_dict = json.load(open(dirname + conv, 'r')) \n",
    "        if not check_valid_convesations(convo_dict):\n",
    "            invalid += 1\n",
    "            continue\n",
    "        valid += 1\n",
    "        utterance = None\n",
    "        index = -1\n",
    "        for i, conv_turn in enumerate(convo_dict):\n",
    "            if 'name' in conv_turn and conv_turn['name'] == 'S':\n",
    "                utterance = conv_turn['text']\n",
    "            if 'name' in conv_turn and conv_turn['name'] == 'L':\n",
    "                if not_parsed:\n",
    "                    continue\n",
    "                else:\n",
    "                    break\n",
    "        print('Item Number: %d' % (i,))\n",
    "        print('Utterance: %s' % (utterance,))\n",
    "#         utterance = 'dull purple'\n",
    "        cic_index = convo_dict[0]['row_index']\n",
    "        item = cic.get_index_item(cic_index)\n",
    "#         item = cic.get_index_item(6926)\n",
    "        \n",
    "        colors = item['rgb_colors']\n",
    "        clr_trans = item['x_colors']\n",
    "        shuffled_colors = [tup for tup in zip(clr_trans, colors)]\n",
    "\n",
    "        logic_forms = get_logic_form(cic, utterance)\n",
    "\n",
    "        clr_pair = {'S':clr_trans, 'L': [shuffled_colors[i][0] for i in range(len(shuffled_colors))], \\\n",
    "                    'S_RGB': colors, 'L_RGB' : [shuffled_colors[i][1] for i in range(len(shuffled_colors))]}\n",
    "        \n",
    "        distribution = np.array([0.33, 0.33, 0.33])\n",
    "        for form in logic_forms:\n",
    "            eval_results = evaluate((item, cic._model[1]), None, clr_pair, 'L', cic._color_vocab, empty_state, \\\n",
    "                                    form, {'S' : [0, 1, 2], 'L' : [0, 1, 2]})\n",
    "#             print(eval_results[1])\n",
    "            distribution = distribution * eval_results[1]\n",
    "            distribution = distribution/sum(distribution)\n",
    "        print(distribution)\n",
    "        if distribution[0] == distribution[1] and distribution[1] == distribution[2]:\n",
    "            not_parsed = True\n",
    "        else:\n",
    "            not_parsed = False\n",
    "            max_candidates.append(distribution.argmax())\n",
    "#         break\n",
    "        print('-----------------------------')\n",
    "    except Exception as e:\n",
    "        print(e)"
   ]
  },
  {
   "cell_type": "code",
   "execution_count": 35,
   "metadata": {
    "scrolled": true
   },
   "outputs": [
    {
     "name": "stdout",
     "output_type": "stream",
     "text": [
      "All Select Accuracy: 0.73\n"
     ]
    }
   ],
   "source": [
    "filtered = list(filter(lambda x: x == 0, max_candidates))\n",
    "print('All Select Accuracy: %.2f' % (len(filtered)/len(max_candidates),))"
   ]
  },
  {
   "cell_type": "code",
   "execution_count": 107,
   "metadata": {},
   "outputs": [
    {
     "name": "stdout",
     "output_type": "stream",
     "text": [
      "close\n",
      "close\n",
      "split\n",
      "far\n",
      "close\n",
      "far\n",
      "close\n",
      "close\n",
      "split\n",
      "far\n",
      "split\n",
      "close\n",
      "split\n",
      "close\n",
      "close\n",
      "far\n",
      "far\n",
      "split\n",
      "far\n",
      "far\n",
      "far\n",
      "split\n",
      "far\n",
      "close\n",
      "close\n",
      "far\n",
      "far\n",
      "close\n",
      "close\n",
      "close\n",
      "far\n",
      "far\n",
      "far\n",
      "far\n",
      "close\n",
      "far\n",
      "close\n",
      "split\n",
      "close\n",
      "split\n",
      "close\n",
      "far\n",
      "close\n",
      "far\n",
      "close\n",
      "far\n",
      "close\n",
      "far\n",
      "close\n",
      "close\n",
      "close\n",
      "split\n",
      "close\n",
      "split\n",
      "split\n",
      "far\n",
      "far\n",
      "close\n",
      "split\n",
      "close\n",
      "far\n",
      "close\n",
      "far\n",
      "far\n",
      "close\n",
      "close\n",
      "close\n",
      "split\n",
      "far\n",
      "far\n",
      "far\n",
      "far\n",
      "close\n",
      "far\n",
      "far\n",
      "far\n",
      "close\n",
      "split\n",
      "close\n",
      "split\n",
      "close\n",
      "far\n",
      "close\n",
      "split\n",
      "split\n",
      "far\n",
      "close\n",
      "far\n",
      "close\n",
      "close\n",
      "far\n",
      "close\n",
      "close\n",
      "close\n",
      "far\n",
      "far\n",
      "split\n",
      "far\n",
      "far\n",
      "far\n",
      "far\n",
      "split\n",
      "close\n",
      "close\n",
      "far\n",
      "far\n",
      "close\n",
      "far\n",
      "split\n",
      "close\n",
      "far\n",
      "close\n",
      "split\n",
      "close\n",
      "close\n",
      "far\n",
      "close\n",
      "close\n",
      "close\n",
      "far\n",
      "far\n",
      "close\n",
      "far\n",
      "far\n",
      "close\n",
      "close\n",
      "far\n",
      "far\n",
      "split\n",
      "close\n",
      "far\n",
      "far\n",
      "far\n",
      "split\n",
      "close\n",
      "far\n",
      "split\n",
      "far\n",
      "far\n",
      "split\n",
      "far\n",
      "close\n",
      "close\n",
      "far\n",
      "far\n",
      "split\n",
      "close\n",
      "split\n",
      "far\n",
      "far\n",
      "far\n",
      "far\n",
      "far\n",
      "split\n",
      "close\n",
      "far\n",
      "far\n",
      "close\n",
      "split\n",
      "split\n",
      "close\n",
      "split\n",
      "split\n",
      "close\n",
      "far\n",
      "far\n",
      "split\n",
      "far\n",
      "close\n",
      "far\n",
      "far\n",
      "close\n",
      "close\n",
      "close\n",
      "far\n",
      "close\n",
      "close\n",
      "far\n",
      "close\n",
      "close\n",
      "far\n",
      "close\n",
      "close\n",
      "far\n",
      "split\n",
      "close\n",
      "close\n",
      "close\n",
      "far\n",
      "far\n",
      "far\n",
      "close\n",
      "far\n",
      "close\n",
      "close\n",
      "far\n",
      "close\n",
      "close\n",
      "split\n",
      "split\n",
      "close\n",
      "far\n",
      "close\n",
      "far\n",
      "close\n",
      "far\n",
      "far\n",
      "far\n",
      "split\n",
      "far\n",
      "far\n",
      "split\n",
      "split\n",
      "close\n",
      "close\n",
      "close\n",
      "far\n",
      "split\n",
      "split\n",
      "close\n",
      "far\n",
      "far\n",
      "far\n",
      "close\n",
      "split\n",
      "far\n",
      "far\n",
      "far\n",
      "far\n",
      "close\n",
      "close\n",
      "close\n",
      "split\n",
      "close\n",
      "close\n",
      "far\n",
      "far\n",
      "far\n",
      "split\n",
      "far\n",
      "close\n",
      "far\n",
      "close\n",
      "split\n",
      "far\n",
      "split\n",
      "far\n",
      "close\n",
      "far\n",
      "far\n",
      "far\n",
      "far\n",
      "close\n",
      "close\n",
      "far\n",
      "close\n",
      "far\n",
      "far\n",
      "close\n",
      "far\n",
      "far\n",
      "far\n",
      "far\n",
      "far\n",
      "far\n",
      "split\n",
      "close\n",
      "close\n",
      "split\n",
      "close\n",
      "close\n",
      "split\n",
      "far\n",
      "split\n",
      "split\n",
      "close\n",
      "far\n",
      "far\n",
      "far\n",
      "close\n",
      "far\n",
      "far\n",
      "far\n",
      "far\n",
      "split\n",
      "far\n",
      "far\n",
      "close\n",
      "far\n",
      "close\n",
      "close\n",
      "far\n",
      "close\n",
      "close\n",
      "split\n",
      "far\n",
      "close\n",
      "close\n",
      "split\n",
      "close\n",
      "split\n",
      "far\n",
      "close\n",
      "close\n",
      "far\n",
      "far\n",
      "close\n",
      "far\n",
      "far\n",
      "close\n",
      "close\n",
      "far\n",
      "close\n",
      "split\n",
      "close\n",
      "close\n",
      "far\n",
      "split\n",
      "far\n",
      "far\n",
      "close\n",
      "far\n",
      "split\n",
      "far\n",
      "close\n",
      "close\n",
      "far\n",
      "close\n",
      "close\n",
      "split\n",
      "far\n",
      "far\n",
      "split\n",
      "far\n",
      "split\n",
      "close\n",
      "far\n",
      "far\n",
      "split\n",
      "close\n",
      "split\n",
      "close\n",
      "far\n",
      "close\n",
      "close\n",
      "close\n",
      "close\n",
      "split\n",
      "split\n",
      "far\n",
      "far\n",
      "close\n",
      "close\n",
      "far\n",
      "close\n",
      "far\n",
      "close\n",
      "close\n",
      "split\n",
      "close\n",
      "split\n",
      "far\n",
      "close\n",
      "close\n",
      "close\n",
      "far\n",
      "far\n",
      "far\n",
      "far\n",
      "split\n",
      "split\n",
      "close\n",
      "far\n",
      "far\n",
      "close\n",
      "close\n",
      "close\n",
      "far\n",
      "far\n",
      "far\n",
      "far\n",
      "close\n",
      "far\n",
      "far\n",
      "close\n",
      "far\n",
      "far\n",
      "close\n",
      "far\n",
      "far\n",
      "far\n",
      "far\n",
      "close\n",
      "far\n",
      "far\n",
      "close\n",
      "far\n",
      "close\n",
      "far\n",
      "close\n",
      "split\n",
      "split\n",
      "close\n",
      "far\n",
      "far\n",
      "split\n",
      "close\n",
      "split\n",
      "split\n",
      "far\n",
      "close\n",
      "far\n",
      "split\n",
      "far\n",
      "far\n",
      "close\n",
      "far\n",
      "close\n",
      "far\n",
      "close\n",
      "split\n",
      "far\n",
      "close\n",
      "close\n",
      "far\n",
      "close\n",
      "far\n",
      "split\n",
      "far\n",
      "close\n",
      "close\n",
      "close\n",
      "far\n",
      "far\n",
      "split\n",
      "close\n",
      "far\n",
      "far\n",
      "close\n",
      "far\n",
      "far\n",
      "close\n",
      "far\n",
      "far\n",
      "far\n",
      "close\n",
      "far\n",
      "far\n",
      "far\n",
      "split\n",
      "split\n",
      "far\n",
      "close\n",
      "far\n",
      "split\n",
      "far\n",
      "far\n",
      "far\n",
      "close\n",
      "far\n",
      "close\n",
      "split\n",
      "split\n",
      "split\n",
      "split\n",
      "far\n",
      "far\n",
      "far\n",
      "close\n",
      "far\n",
      "split\n",
      "far\n",
      "far\n",
      "split\n",
      "far\n",
      "split\n",
      "far\n",
      "split\n",
      "far\n",
      "split\n",
      "close\n",
      "far\n",
      "split\n",
      "close\n",
      "far\n",
      "close\n",
      "close\n",
      "far\n",
      "close\n",
      "close\n",
      "far\n",
      "close\n",
      "far\n",
      "close\n",
      "close\n"
     ]
    }
   ],
   "source": [
    "# dirname = './SemdialBaseline/'\n",
    "dirname = './conversations_RGC5/'\n",
    "trial_colors = []\n",
    "models = [None, QAModel(len(INTENTS))]\n",
    "toplot_clrs = []\n",
    "distributions = []\n",
    "descriptions = []\n",
    "conversations = []\n",
    "allrgb_colors = []\n",
    "difficulty = []\n",
    "conversation_indices = []\n",
    "for i, fname in enumerate(os.listdir(dirname)):\n",
    "# for fname in file_names:\n",
    "#     fig, axes = plt.subplots()\n",
    "    path = dirname + fname\n",
    "    dialogue = json.loads(open(path, 'r').read().strip())\n",
    "    \n",
    "    condition = dialogue[0]['condition']\n",
    "    cic_index = dialogue[0]['row_index']\n",
    "    conversation_indices.append(cic_index)\n",
    "    difficulty.append(condition)\n",
    "    print(condition)\n",
    "    item = cic.get_index_item(cic_index)\n",
    "    allrgb_colors.append(item['rgb_colors'])\n",
    "    \n",
    "#     utterance = ''\n",
    "#     for turn in dialogue:\n",
    "#         if 'name' in turn and turn['name'] == 'S':\n",
    "#             utterance = turn['text']\n",
    "#             break\n",
    "#     #obtain the distribution for color patches\n",
    "#     colors = item['rgb_colors']\n",
    "#     clr_trans = item['x_colors']\n",
    "    \n",
    "#     shuffled_colors = [tup for tup in zip(clr_trans, colors)]\n",
    "    \n",
    "#     clr_pair = {'S':clr_trans, 'L': [shuffled_colors[i][0] for i in range(len(shuffled_colors))], \\\n",
    "#                 'S_RGB': colors, 'L_RGB' : [shuffled_colors[i][1] for i in range(len(shuffled_colors))]}\n",
    "    \n",
    "#     dman = manager(clr_pair, *models, (g, t, n, fs), \\\n",
    "#                     (irmap, rimap), cic=cic, batch_dict=item)\n",
    "    \n",
    "#     dman.get_next_move({'name' : 'S', 'text' : utterance})\n",
    "#     state_rep = dman._state_rep._cur_state\n",
    "#     dist = None\n",
    "#     while state_rep and state_rep.speaker != 'S':\n",
    "#         state_rep = state_rep.prev\n",
    "    \n",
    "#     if not state_rep:\n",
    "#         continue\n",
    "#     dist = state_rep.distribution\n",
    "\n",
    "    clrs = (item['rgb_colors'])\n",
    "    hex_clrs = []\n",
    "    for i, clr in enumerate(clrs):\n",
    "        hexstr = '#'\n",
    "        for val in clr:\n",
    "            converted = hex(val)[2:]\n",
    "            if len(converted) < 2:\n",
    "                converted = '0' + converted\n",
    "            hexstr += converted\n",
    "        hex_clrs.append(hexstr)\n",
    "#         rect1 = matplotlib.patches.Rectangle(corners[i], 1.9, 2, color= hexstr.capitalize())\n",
    "#         axes.add_patch(rect1)\n",
    "    toplot_clrs.append(tuple(hex_clrs))\n",
    "#     distributions.append(dist)\n",
    "#     descriptions.append(utterance)\n",
    "    conversations.append(dialogue)"
   ]
  },
  {
   "cell_type": "code",
   "execution_count": 108,
   "metadata": {
    "scrolled": true
   },
   "outputs": [
    {
     "name": "stdout",
     "output_type": "stream",
     "text": [
      "Conversation Index: 8272 0\n"
     ]
    },
    {
     "data": {
      "image/png": "[encoded data removed]",
      "text/plain": [
       "<Figure size 216x72 with 1 Axes>"
      ]
     },
     "metadata": {},
     "output_type": "display_data"
    },
    {
     "name": "stdout",
     "output_type": "stream",
     "text": [
      "[(57, 197, 101), (59, 195, 150), (112, 169, 85)]\n",
      "Director: Medium green \n",
      "Matcher: The olive?\n",
      "Director: No\n",
      "Matcher: light green or olive green or teal?\n",
      "Director: Light green\n",
      "Matcher: [SELECT]\n",
      "1\n",
      "--------------------------\n",
      "Conversation Index: 1897 1\n"
     ]
    },
    {
     "data": {
      "image/png": "[encoded data removed]",
      "text/plain": [
       "<Figure size 216x72 with 1 Axes>"
      ]
     },
     "metadata": {},
     "output_type": "display_data"
    },
    {
     "name": "stdout",
     "output_type": "stream",
     "text": [
      "[(194, 21, 233), (116, 94, 160), (112, 79, 175)]\n",
      "Director: This patch is the least similar to the others\n",
      "Matcher: Do you mean lavender ?\n",
      "Director: No. I mean, it is more closer to other others?\n",
      "Matcher: royal purple or lilac or magenta?\n",
      "Director: It is closer to the color pink\n",
      "Matcher: The bright purple?\n",
      "Director: Yes that is close enough\n",
      "Matcher: I could not understand you.\n",
      "Director: Yes, the bright purple.\n",
      "Matcher: [SELECT]\n",
      "1\n",
      "--------------------------\n",
      "Conversation Index: 5660 2\n"
     ]
    },
    {
     "data": {
      "image/png": "[encoded data removed]",
      "text/plain": [
       "<Figure size 216x72 with 1 Axes>"
      ]
     },
     "metadata": {},
     "output_type": "display_data"
    },
    {
     "name": "stdout",
     "output_type": "stream",
     "text": [
      "[(193, 61, 96), (82, 154, 172), (183, 71, 120)]\n",
      "Director: It is a darker pink\n",
      "Matcher: The purple?\n",
      "Director: The darker pink\n",
      "Matcher: mauve or blue or red?\n",
      "Director: red\n",
      "Matcher: Do you mean pink ?\n",
      "Director: darker pink \n",
      "Matcher: The rose?\n",
      "Director: yes\n",
      "Matcher: [SELECT]\n",
      "1\n",
      "--------------------------\n",
      "Conversation Index: 12873 3\n"
     ]
    },
    {
     "data": {
      "image/png": "[encoded data removed]",
      "text/plain": [
       "<Figure size 216x72 with 1 Axes>"
      ]
     },
     "metadata": {},
     "output_type": "display_data"
    },
    {
     "name": "stdout",
     "output_type": "stream",
     "text": [
      "[(5, 180, 249), (142, 130, 112), (221, 33, 162)]\n",
      "Director: A1PROY06KPZ2LK\n",
      "Matcher: Thank you for submitting your MturkID. Now please provide me with the target description.\n",
      "Director: The target color patch is blue.\n",
      "Matcher: [SELECT]\n",
      "1\n",
      "--------------------------\n",
      "Conversation Index: 9756 4\n"
     ]
    },
    {
     "data": {
      "image/png": "[encoded data removed]",
      "text/plain": [
       "<Figure size 216x72 with 1 Axes>"
      ]
     },
     "metadata": {},
     "output_type": "display_data"
    },
    {
     "name": "stdout",
     "output_type": "stream",
     "text": [
      "[(93, 161, 147), (145, 146, 108), (102, 153, 148)]\n",
      "Director: darker green\n",
      "Matcher: teal or grey or blue grey?\n",
      "Director: teal\n",
      "Matcher: [SELECT]\n",
      "1\n",
      "--------------------------\n",
      "Conversation Index: 7637 5\n"
     ]
    },
    {
     "data": {
      "image/png": "[encoded data removed]",
      "text/plain": [
       "<Figure size 216x72 with 1 Axes>"
      ]
     },
     "metadata": {},
     "output_type": "display_data"
    },
    {
     "name": "stdout",
     "output_type": "stream",
     "text": [
      "[(252, 2, 239), (96, 43, 211), (127, 201, 53)]\n",
      "Director: A3LSXZR843QSGC\n",
      "Matcher: Thank you for submitting your MturkID. Now please provide me with the target description.\n",
      "--------------------------\n",
      "Conversation Index: 10745 6\n"
     ]
    },
    {
     "data": {
      "image/png": "[encoded data removed]",
      "text/plain": [
       "<Figure size 216x72 with 1 Axes>"
      ]
     },
     "metadata": {},
     "output_type": "display_data"
    },
    {
     "name": "stdout",
     "output_type": "stream",
     "text": [
      "[(154, 100, 139), (137, 117, 124), (153, 110, 102)]\n",
      "Director: the britghtes one\n",
      "Matcher: I could not understand you.\n",
      "Director: the brite one\n",
      "Matcher: I could not understand you.\n",
      "Director: light\n",
      "Matcher: purple or grey?\n",
      "Director: purple\n",
      "Matcher: [SELECT]\n",
      "1\n",
      "--------------------------\n",
      "Conversation Index: 1684 7\n"
     ]
    },
    {
     "data": {
      "image/png": "[encoded data removed]",
      "text/plain": [
       "<Figure size 216x72 with 1 Axes>"
      ]
     },
     "metadata": {},
     "output_type": "display_data"
    },
    {
     "name": "stdout",
     "output_type": "stream",
     "text": [
      "[(22, 232, 89), (63, 201, 53), (139, 198, 56)]\n",
      "Director: aqua green\n",
      "Matcher: [SELECT]\n",
      "1\n",
      "--------------------------\n",
      "Conversation Index: 11618 8\n"
     ]
    },
    {
     "data": {
      "image/png": "[encoded data removed]",
      "text/plain": [
       "<Figure size 216x72 with 1 Axes>"
      ]
     },
     "metadata": {},
     "output_type": "display_data"
    },
    {
     "name": "stdout",
     "output_type": "stream",
     "text": [
      "[(164, 65, 189), (235, 19, 206), (158, 229, 25)]\n",
      "Director: purple\n",
      "Matcher: [SELECT]\n",
      "1\n",
      "--------------------------\n",
      "Conversation Index: 1506 9\n"
     ]
    },
    {
     "data": {
      "image/png": "[encoded data removed]",
      "text/plain": [
       "<Figure size 216x72 with 1 Axes>"
      ]
     },
     "metadata": {},
     "output_type": "display_data"
    },
    {
     "name": "stdout",
     "output_type": "stream",
     "text": [
      "[(65, 137, 189), (225, 29, 88), (237, 160, 17)]\n",
      "Director: A129GA7DAJESE2\n",
      "Matcher: Thank you for submitting your MturkID. Now please provide me with the target description.\n",
      "Director: The target color is what most people would describe the color of the sky on a nice sunny day. It is also a color of many people's eyes. The other 2 colors could not be an eye color.\n",
      "Matcher: [SELECT]\n",
      "1\n",
      "--------------------------\n",
      "Conversation Index: 7839 10\n"
     ]
    },
    {
     "data": {
      "image/png": "[encoded data removed]",
      "text/plain": [
       "<Figure size 216x72 with 1 Axes>"
      ]
     },
     "metadata": {},
     "output_type": "display_data"
    },
    {
     "name": "stdout",
     "output_type": "stream",
     "text": [
      "[(167, 87, 156), (144, 139, 110), (156, 98, 132)]\n",
      "Director: This color is orchid pink.\n",
      "Matcher: Do you mean mauve ?\n",
      "Director: This color box is lavender.\n",
      "Matcher: plum or grey or purple?\n",
      "Director: This color box is purple.\n",
      "Matcher: The grey purple?\n",
      "Director: This color box is plum.\n",
      "Matcher: Do you mean dark pink ?\n",
      "Director: This color box is dark pink.\n",
      "Matcher: [SELECT]\n",
      "0\n",
      "--------------------------\n",
      "Conversation Index: 10310 11\n"
     ]
    },
    {
     "data": {
      "image/png": "[encoded data removed]",
      "text/plain": [
       "<Figure size 216x72 with 1 Axes>"
      ]
     },
     "metadata": {},
     "output_type": "display_data"
    },
    {
     "name": "stdout",
     "output_type": "stream",
     "text": [
      "[(108, 113, 146), (116, 128, 138), (122, 112, 142)]\n",
      "Director: lavender\n",
      "Matcher: [SELECT]\n",
      "0\n",
      "--------------------------\n",
      "Conversation Index: 4338 12\n"
     ]
    },
    {
     "data": {
      "image/png": "[encoded data removed]",
      "text/plain": [
       "<Figure size 216x72 with 1 Axes>"
      ]
     },
     "metadata": {},
     "output_type": "display_data"
    },
    {
     "name": "stdout",
     "output_type": "stream",
     "text": [
      "[(96, 105, 158), (24, 130, 230), (204, 165, 50)]\n",
      "Director: grey\n",
      "Matcher: [SELECT]\n",
      "1\n",
      "--------------------------\n",
      "Conversation Index: 11081 13\n"
     ]
    },
    {
     "data": {
      "image/png": "[encoded data removed]",
      "text/plain": [
       "<Figure size 216x72 with 1 Axes>"
      ]
     },
     "metadata": {},
     "output_type": "display_data"
    },
    {
     "name": "stdout",
     "output_type": "stream",
     "text": [
      "[(193, 218, 36), (223, 203, 31), (220, 189, 34)]\n",
      "--------------------------\n",
      "Conversation Index: 2090 14\n"
     ]
    },
    {
     "data": {
      "image/png": "[encoded data removed]",
      "text/plain": [
       "<Figure size 216x72 with 1 Axes>"
      ]
     },
     "metadata": {},
     "output_type": "display_data"
    },
    {
     "name": "stdout",
     "output_type": "stream",
     "text": [
      "[(216, 38, 68), (196, 58, 95), (220, 34, 46)]\n",
      "Director: Red\n",
      "Matcher: bright red or pink or light red?\n",
      "Director: Light red\n",
      "Matcher: Do you mean hot pink ?\n",
      "Director: No\n",
      "Matcher: Do you mean red orange ?\n",
      "Director: No\n",
      "Matcher: The pinkish red?\n",
      "Director: Yes\n",
      "Matcher: [SELECT]\n",
      "1\n",
      "--------------------------\n",
      "Conversation Index: 13165 15\n"
     ]
    },
    {
     "data": {
      "image/png": "[encoded data removed]",
      "text/plain": [
       "<Figure size 216x72 with 1 Axes>"
      ]
     },
     "metadata": {},
     "output_type": "display_data"
    },
    {
     "name": "stdout",
     "output_type": "stream",
     "text": [
      "[(187, 165, 67), (44, 193, 210), (109, 122, 145)]\n",
      "Director: A2FZ3ALZ2LNQK6\n",
      "Matcher: Thank you for submitting your MturkID. Now please provide me with the target description.\n",
      "Director: pea green\n",
      "Matcher: [SELECT]\n",
      "1\n",
      "--------------------------\n",
      "Conversation Index: 11488 16\n"
     ]
    },
    {
     "data": {
      "image/png": "[encoded data removed]",
      "text/plain": [
       "<Figure size 216x72 with 1 Axes>"
      ]
     },
     "metadata": {},
     "output_type": "display_data"
    },
    {
     "name": "stdout",
     "output_type": "stream",
     "text": [
      "[(26, 228, 77), (132, 93, 161), (253, 1, 148)]\n",
      "Director: A1VMPZVVVZUCS4\n",
      "Matcher: Thank you for submitting your MturkID. Now please provide me with the target description.\n",
      "Director: light green\n",
      "Matcher: [SELECT]\n",
      "1\n",
      "--------------------------\n",
      "Conversation Index: 6212 17\n"
     ]
    },
    {
     "data": {
      "image/png": "[encoded data removed]",
      "text/plain": [
       "<Figure size 216x72 with 1 Axes>"
      ]
     },
     "metadata": {},
     "output_type": "display_data"
    },
    {
     "name": "stdout",
     "output_type": "stream",
     "text": [
      "[(160, 110, 94), (195, 122, 59), (187, 61, 193)]\n",
      "Director: flesh tone\n",
      "Matcher: [SELECT]\n",
      "0\n",
      "--------------------------\n",
      "Conversation Index: 1692 18\n"
     ]
    },
    {
     "data": {
      "image/png": "[encoded data removed]",
      "text/plain": [
       "<Figure size 216x72 with 1 Axes>"
      ]
     },
     "metadata": {},
     "output_type": "display_data"
    },
    {
     "name": "stdout",
     "output_type": "stream",
     "text": [
      "[(79, 90, 175), (70, 184, 181), (198, 184, 56)]\n",
      "Director: A314KKX6ONDO9O\n",
      "Matcher: Thank you for submitting your MturkID. Now please provide me with the target description.\n",
      "Director: This color is a deep color, darker than the others\n",
      "Matcher: I could not understand you.\n",
      "Director: This is the darkest color \n",
      "Matcher: Do you mean yellow ?\n",
      "Director: No, this color is close to that of the deep ocean\n",
      "Matcher: teal or mustard or blue?\n",
      "Director: Blue\n",
      "Matcher: The purple?\n",
      "Director: yes\n",
      "Matcher: [SELECT]\n",
      "1\n",
      "--------------------------\n",
      "Conversation Index: 2680 19\n"
     ]
    },
    {
     "data": {
      "image/png": "[encoded data removed]",
      "text/plain": [
       "<Figure size 216x72 with 1 Axes>"
      ]
     },
     "metadata": {},
     "output_type": "display_data"
    },
    {
     "name": "stdout",
     "output_type": "stream",
     "text": [
      "[(191, 63, 142), (61, 193, 134), (67, 117, 187)]\n",
      "--------------------------\n",
      "Conversation Index: 2748 20\n"
     ]
    },
    {
     "data": {
      "image/png": "[encoded data removed]",
      "text/plain": [
       "<Figure size 216x72 with 1 Axes>"
      ]
     },
     "metadata": {},
     "output_type": "display_data"
    },
    {
     "name": "stdout",
     "output_type": "stream",
     "text": [
      "[(120, 104, 150), (6, 58, 248), (21, 233, 162)]\n",
      "Director: A2SPFVGL8AJ18X\n",
      "Matcher: Thank you for submitting your MturkID. Now please provide me with the target description.\n",
      "--------------------------\n",
      "Conversation Index: 384 21\n"
     ]
    },
    {
     "data": {
      "image/png": "[encoded data removed]",
      "text/plain": [
       "<Figure size 216x72 with 1 Axes>"
      ]
     },
     "metadata": {},
     "output_type": "display_data"
    },
    {
     "name": "stdout",
     "output_type": "stream",
     "text": [
      "[(220, 34, 34), (178, 83, 76), (102, 136, 153)]\n",
      "Director: Orange red\n",
      "Matcher: [SELECT]\n",
      "1\n",
      "--------------------------\n",
      "Conversation Index: 11502 22\n"
     ]
    },
    {
     "data": {
      "image/png": "[encoded data removed]",
      "text/plain": [
       "<Figure size 216x72 with 1 Axes>"
      ]
     },
     "metadata": {},
     "output_type": "display_data"
    },
    {
     "name": "stdout",
     "output_type": "stream",
     "text": [
      "[(209, 162, 45), (86, 168, 119), (170, 19, 235)]\n",
      "Director: AVASQBFN6J692\n",
      "Matcher: Thank you for submitting your MturkID. Now please provide me with the target description.\n",
      "Director: i love this fruit its juicy and grows on trees in Florida and is the color of the sun\n",
      "Matcher: I could not understand you.\n",
      "Director: its a color but also the name of a round juicy fruit \n",
      "Matcher: I could not understand you.\n",
      "Director: not red\n",
      "Matcher: The purple?\n",
      "Director: no\n",
      "Matcher: green or violet or tan?\n",
      "Director: no\n",
      "Matcher: Do you mean teal ?\n",
      "Director: no\n",
      "Matcher: [SELECT]\n",
      "1\n",
      "--------------------------\n",
      "Conversation Index: 7322 23\n"
     ]
    },
    {
     "data": {
      "image/png": "[encoded data removed]",
      "text/plain": [
       "<Figure size 216x72 with 1 Axes>"
      ]
     },
     "metadata": {},
     "output_type": "display_data"
    },
    {
     "name": "stdout",
     "output_type": "stream",
     "text": [
      "[(97, 168, 86), (157, 191, 63), (126, 170, 84)]\n",
      "Director: green\n",
      "Matcher: sea green or yellow green or army green?\n",
      "Director: sea green\n",
      "Matcher: [SELECT]\n",
      "1\n",
      "--------------------------\n",
      "Conversation Index: 913 24\n"
     ]
    },
    {
     "data": {
      "image/png": "[encoded data removed]",
      "text/plain": [
       "<Figure size 216x72 with 1 Axes>"
      ]
     },
     "metadata": {},
     "output_type": "display_data"
    },
    {
     "name": "stdout",
     "output_type": "stream",
     "text": [
      "[(205, 49, 166), (172, 82, 109), (149, 105, 143)]\n",
      "Director: it is purple\n",
      "Matcher: [SELECT]\n",
      "0\n",
      "--------------------------\n",
      "Conversation Index: 9553 25\n"
     ]
    },
    {
     "data": {
      "image/png": "[encoded data removed]",
      "text/plain": [
       "<Figure size 216x72 with 1 Axes>"
      ]
     },
     "metadata": {},
     "output_type": "display_data"
    },
    {
     "name": "stdout",
     "output_type": "stream",
     "text": [
      "[(249, 90, 5), (154, 100, 141), (38, 216, 38)]\n",
      "--------------------------\n",
      "Conversation Index: 8520 26\n"
     ]
    },
    {
     "data": {
      "image/png": "[encoded data removed]",
      "text/plain": [
       "<Figure size 216x72 with 1 Axes>"
      ]
     },
     "metadata": {},
     "output_type": "display_data"
    },
    {
     "name": "stdout",
     "output_type": "stream",
     "text": [
      "[(104, 95, 159), (35, 213, 219), (176, 197, 57)]\n",
      "--------------------------\n",
      "Conversation Index: 13147 27\n"
     ]
    },
    {
     "data": {
      "image/png": "[encoded data removed]",
      "text/plain": [
       "<Figure size 216x72 with 1 Axes>"
      ]
     },
     "metadata": {},
     "output_type": "display_data"
    },
    {
     "name": "stdout",
     "output_type": "stream",
     "text": [
      "[(70, 106, 184), (81, 127, 173), (14, 85, 240)]\n",
      "Director: purple blue\n",
      "Matcher: [SELECT]\n",
      "1\n",
      "--------------------------\n",
      "Conversation Index: 4289 28\n"
     ]
    },
    {
     "data": {
      "image/png": "[encoded data removed]",
      "text/plain": [
       "<Figure size 216x72 with 1 Axes>"
      ]
     },
     "metadata": {},
     "output_type": "display_data"
    },
    {
     "name": "stdout",
     "output_type": "stream",
     "text": [
      "[(29, 22, 232), (86, 44, 210), (5, 58, 249)]\n",
      "Director: Bright cobalt\n",
      "Matcher: Do you mean bright blue ?\n",
      "Director: Electric blue\n",
      "Matcher: sky blue or purple or royal blue?\n",
      "Director: Dark royal blue\n",
      "Matcher: Do you mean blue ?\n",
      "Director: Yes\n",
      "Matcher: The deep blue?\n",
      "Director: Yes\n",
      "Matcher: [SELECT]\n",
      "1\n",
      "--------------------------\n",
      "Conversation Index: 13440 29\n"
     ]
    },
    {
     "data": {
      "image/png": "[encoded data removed]",
      "text/plain": [
       "<Figure size 216x72 with 1 Axes>"
      ]
     },
     "metadata": {},
     "output_type": "display_data"
    },
    {
     "name": "stdout",
     "output_type": "stream",
     "text": [
      "[(135, 110, 144), (159, 95, 130), (132, 122, 127)]\n",
      "Director: lavender\n",
      "Matcher: [SELECT]\n",
      "1\n",
      "--------------------------\n",
      "Conversation Index: 7979 30\n"
     ]
    },
    {
     "data": {
      "image/png": "[encoded data removed]",
      "text/plain": [
       "<Figure size 216x72 with 1 Axes>"
      ]
     },
     "metadata": {},
     "output_type": "display_data"
    },
    {
     "name": "stdout",
     "output_type": "stream",
     "text": [
      "[(174, 105, 80), (218, 36, 190), (128, 137, 117)]\n",
      "--------------------------\n",
      "Conversation Index: 219 31\n"
     ]
    },
    {
     "data": {
      "image/png": "[encoded data removed]",
      "text/plain": [
       "<Figure size 216x72 with 1 Axes>"
      ]
     },
     "metadata": {},
     "output_type": "display_data"
    },
    {
     "name": "stdout",
     "output_type": "stream",
     "text": [
      "[(3, 251, 152), (142, 159, 95), (165, 77, 177)]\n",
      "Director: A3OOD9IMOHPPFQ\n",
      "Matcher: Thank you for submitting your MturkID. Now please provide me with the target description.\n",
      "Director: a mixture of blue and yellow\n",
      "Matcher: The olive?\n",
      "Director: no\n",
      "Matcher: teal or olive green or purple?\n",
      "Director: teal\n",
      "Matcher: [SELECT]\n",
      "1\n",
      "--------------------------\n",
      "Conversation Index: 4015 32\n"
     ]
    },
    {
     "data": {
      "image/png": "[encoded data removed]",
      "text/plain": [
       "<Figure size 216x72 with 1 Axes>"
      ]
     },
     "metadata": {},
     "output_type": "display_data"
    },
    {
     "name": "stdout",
     "output_type": "stream",
     "text": [
      "[(91, 163, 151), (126, 127, 128), (60, 246, 8)]\n",
      "--------------------------\n",
      "Conversation Index: 1276 33\n"
     ]
    },
    {
     "data": {
      "image/png": "[encoded data removed]",
      "text/plain": [
       "<Figure size 216x72 with 1 Axes>"
      ]
     },
     "metadata": {},
     "output_type": "display_data"
    },
    {
     "name": "stdout",
     "output_type": "stream",
     "text": [
      "[(67, 187, 147), (58, 237, 17), (142, 119, 112)]\n",
      "Director: teal\n",
      "Matcher: [SELECT]\n",
      "1\n",
      "--------------------------\n",
      "Conversation Index: 2641 34\n"
     ]
    },
    {
     "data": {
      "image/png": "[encoded data removed]",
      "text/plain": [
       "<Figure size 216x72 with 1 Axes>"
      ]
     },
     "metadata": {},
     "output_type": "display_data"
    },
    {
     "name": "stdout",
     "output_type": "stream",
     "text": [
      "[(135, 149, 105), (106, 154, 100), (81, 192, 62)]\n",
      "Director: green\n",
      "Matcher: Do you mean lime green ?\n",
      "Director: no\n",
      "Matcher: forest green or light green or grey?\n",
      "Director: forest\n",
      "Matcher: [SELECT]\n",
      "0\n",
      "--------------------------\n",
      "Conversation Index: 8826 35\n"
     ]
    },
    {
     "data": {
      "image/png": "[encoded data removed]",
      "text/plain": [
       "<Figure size 216x72 with 1 Axes>"
      ]
     },
     "metadata": {},
     "output_type": "display_data"
    },
    {
     "name": "stdout",
     "output_type": "stream",
     "text": [
      "[(185, 189, 65), (118, 131, 136), (181, 73, 86)]\n",
      "--------------------------\n",
      "Conversation Index: 4568 36\n"
     ]
    },
    {
     "data": {
      "image/png": "[encoded data removed]",
      "text/plain": [
       "<Figure size 216x72 with 1 Axes>"
      ]
     },
     "metadata": {},
     "output_type": "display_data"
    },
    {
     "name": "stdout",
     "output_type": "stream",
     "text": [
      "[(76, 178, 117), (112, 178, 76), (75, 179, 139)]\n",
      "Director: less bluish but not olive green\n",
      "Matcher: Do you mean teal ?\n",
      "Director: yes\n",
      "Matcher: The turquoise?\n",
      "Director: the darker turquoise\n",
      "Matcher: [SELECT]\n",
      "0\n",
      "--------------------------\n",
      "Conversation Index: 4827 37\n"
     ]
    },
    {
     "data": {
      "image/png": "[encoded data removed]",
      "text/plain": [
       "<Figure size 216x72 with 1 Axes>"
      ]
     },
     "metadata": {},
     "output_type": "display_data"
    },
    {
     "name": "stdout",
     "output_type": "stream",
     "text": [
      "[(8, 182, 246), (195, 59, 109), (40, 182, 214)]\n",
      "Director: Aqua blue\n",
      "Matcher: Do you mean teal ?\n",
      "Director: Sky blue\n",
      "Matcher: bright blue or pink or turquoise?\n",
      "Director: Bright Blue\n",
      "Matcher: The electric blue?\n",
      "Director: Electric blue\n",
      "Matcher: [SELECT]\n",
      "1\n",
      "--------------------------\n",
      "Conversation Index: 13055 38\n"
     ]
    },
    {
     "data": {
      "image/png": "[encoded data removed]",
      "text/plain": [
       "<Figure size 216x72 with 1 Axes>"
      ]
     },
     "metadata": {},
     "output_type": "display_data"
    },
    {
     "name": "stdout",
     "output_type": "stream",
     "text": [
      "[(128, 93, 161), (91, 85, 169), (112, 108, 146)]\n",
      "Director: the brightest color\n",
      "Matcher: grey or blue?\n",
      "Director: no\n",
      "Matcher: The purple?\n",
      "Director: yes\n",
      "Matcher: Do you mean light purple ?\n",
      "Director: yes\n",
      "Matcher: [SELECT]\n",
      "1\n",
      "--------------------------\n",
      "Conversation Index: 7948 39\n"
     ]
    },
    {
     "data": {
      "image/png": "[encoded data removed]",
      "text/plain": [
       "<Figure size 216x72 with 1 Axes>"
      ]
     },
     "metadata": {},
     "output_type": "display_data"
    },
    {
     "name": "stdout",
     "output_type": "stream",
     "text": [
      "[(132, 80, 174), (150, 104, 144), (145, 122, 109)]\n",
      "Director: medium purple\n",
      "Matcher: Do you mean lavender ?\n",
      "Director: yes\n",
      "Matcher: The mauve?\n",
      "Director: no\n",
      "Matcher: Do you mean light purple ?\n",
      "Director: yes\n",
      "Matcher: The lilac?\n",
      "Director: yes\n",
      "Matcher: [SELECT]\n",
      "0\n",
      "--------------------------\n",
      "Conversation Index: 754 40\n"
     ]
    },
    {
     "data": {
      "image/png": "[encoded data removed]",
      "text/plain": [
       "<Figure size 216x72 with 1 Axes>"
      ]
     },
     "metadata": {},
     "output_type": "display_data"
    },
    {
     "name": "stdout",
     "output_type": "stream",
     "text": [
      "[(112, 142, 141), (127, 127, 127), (119, 127, 135)]\n",
      "Director: the brighter more vibrant blue one\n",
      "Matcher: [SELECT]\n",
      "1\n",
      "--------------------------\n",
      "Conversation Index: 11521 41\n"
     ]
    },
    {
     "data": {
      "image/png": "[encoded data removed]",
      "text/plain": [
       "<Figure size 216x72 with 1 Axes>"
      ]
     },
     "metadata": {},
     "output_type": "display_data"
    },
    {
     "name": "stdout",
     "output_type": "stream",
     "text": [
      "[(234, 20, 31), (49, 205, 200), (179, 75, 162)]\n",
      "--------------------------\n",
      "Conversation Index: 1659 42\n"
     ]
    },
    {
     "data": {
      "image/png": "[encoded data removed]",
      "text/plain": [
       "<Figure size 216x72 with 1 Axes>"
      ]
     },
     "metadata": {},
     "output_type": "display_data"
    },
    {
     "name": "stdout",
     "output_type": "stream",
     "text": [
      "[(131, 123, 125), (138, 116, 128), (100, 107, 154)]\n",
      "Director: brown\n",
      "Matcher: [SELECT]\n",
      "0\n",
      "--------------------------\n",
      "Conversation Index: 8475 43\n"
     ]
    },
    {
     "data": {
      "image/png": "[encoded data removed]",
      "text/plain": [
       "<Figure size 216x72 with 1 Axes>"
      ]
     },
     "metadata": {},
     "output_type": "display_data"
    },
    {
     "name": "stdout",
     "output_type": "stream",
     "text": [
      "[(72, 160, 182), (134, 138, 116), (183, 71, 114)]\n",
      "Director: A1S8KMGKJACGVO\n",
      "Matcher: Thank you for submitting your MturkID. Now please provide me with the target description.\n",
      "Director: It's the blue rectangle.\n",
      "Matcher: [SELECT]\n",
      "1\n",
      "--------------------------\n",
      "Conversation Index: 922 44\n"
     ]
    },
    {
     "data": {
      "image/png": "[encoded data removed]",
      "text/plain": [
       "<Figure size 216x72 with 1 Axes>"
      ]
     },
     "metadata": {},
     "output_type": "display_data"
    },
    {
     "name": "stdout",
     "output_type": "stream",
     "text": [
      "[(121, 91, 163), (153, 40, 214), (103, 66, 188)]\n",
      "Director: dull purple\n",
      "Matcher: [SELECT]\n",
      "1\n",
      "--------------------------\n",
      "Conversation Index: 8021 45\n"
     ]
    },
    {
     "data": {
      "image/png": "[encoded data removed]",
      "text/plain": [
       "<Figure size 216x72 with 1 Axes>"
      ]
     },
     "metadata": {},
     "output_type": "display_data"
    },
    {
     "name": "stdout",
     "output_type": "stream",
     "text": [
      "[(127, 126, 128), (43, 211, 124), (174, 80, 127)]\n",
      "--------------------------\n",
      "Conversation Index: 10603 46\n"
     ]
    },
    {
     "data": {
      "image/png": "[encoded data removed]",
      "text/plain": [
       "<Figure size 216x72 with 1 Axes>"
      ]
     },
     "metadata": {},
     "output_type": "display_data"
    },
    {
     "name": "stdout",
     "output_type": "stream",
     "text": [
      "[(117, 137, 118), (140, 153, 102), (93, 161, 112)]\n",
      "Director: green\n",
      "Matcher: [SELECT]\n",
      "0\n",
      "--------------------------\n",
      "Conversation Index: 1394 47\n"
     ]
    },
    {
     "data": {
      "image/png": "[encoded data removed]",
      "text/plain": [
       "<Figure size 216x72 with 1 Axes>"
      ]
     },
     "metadata": {},
     "output_type": "display_data"
    },
    {
     "name": "stdout",
     "output_type": "stream",
     "text": [
      "[(84, 170, 128), (79, 119, 175), (193, 87, 61)]\n",
      "--------------------------\n",
      "Conversation Index: 13287 48\n"
     ]
    },
    {
     "data": {
      "image/png": "[encoded data removed]",
      "text/plain": [
       "<Figure size 216x72 with 1 Axes>"
      ]
     },
     "metadata": {},
     "output_type": "display_data"
    },
    {
     "name": "stdout",
     "output_type": "stream",
     "text": [
      "[(14, 101, 240), (102, 130, 153), (71, 116, 183)]\n",
      "Director: This is the bright blue color, not the duller blue colors. It is the one that is most prominently and unmistakably blue.\n",
      "Matcher: [SELECT]\n",
      "1\n",
      "--------------------------\n",
      "Conversation Index: 13722 49\n"
     ]
    },
    {
     "data": {
      "image/png": "[encoded data removed]",
      "text/plain": [
       "<Figure size 216x72 with 1 Axes>"
      ]
     },
     "metadata": {},
     "output_type": "display_data"
    },
    {
     "name": "stdout",
     "output_type": "stream",
     "text": [
      "[(186, 8, 246), (142, 86, 168), (78, 21, 233)]\n",
      "Director: the color is purple\n",
      "Matcher: The lavender?\n",
      "Director: yes\n",
      "Matcher: [SELECT]\n",
      "0\n",
      "--------------------------\n",
      "Conversation Index: 10729 50\n"
     ]
    },
    {
     "data": {
      "image/png": "[encoded data removed]",
      "text/plain": [
       "<Figure size 216x72 with 1 Axes>"
      ]
     },
     "metadata": {},
     "output_type": "display_data"
    },
    {
     "name": "stdout",
     "output_type": "stream",
     "text": [
      "[(193, 61, 178), (162, 33, 221), (127, 49, 205)]\n",
      "Director: pink\n",
      "Matcher: [SELECT]\n",
      "1\n",
      "--------------------------\n",
      "Conversation Index: 6013 51\n"
     ]
    },
    {
     "data": {
      "image/png": "[encoded data removed]",
      "text/plain": [
       "<Figure size 216x72 with 1 Axes>"
      ]
     },
     "metadata": {},
     "output_type": "display_data"
    },
    {
     "name": "stdout",
     "output_type": "stream",
     "text": [
      "[(64, 16, 238), (57, 62, 197), (94, 192, 62)]\n",
      "Director: vibrant blue \n",
      "Matcher: [SELECT]\n",
      "1\n",
      "--------------------------\n",
      "Conversation Index: 480 52\n"
     ]
    },
    {
     "data": {
      "image/png": "[encoded data removed]",
      "text/plain": [
       "<Figure size 216x72 with 1 Axes>"
      ]
     },
     "metadata": {},
     "output_type": "display_data"
    },
    {
     "name": "stdout",
     "output_type": "stream",
     "text": [
      "[(150, 65, 189), (141, 95, 159), (157, 16, 238)]\n",
      "Director: bright purple\n",
      "Matcher: [SELECT]\n",
      "0\n",
      "--------------------------\n",
      "Conversation Index: 2427 53\n"
     ]
    },
    {
     "data": {
      "image/png": "[encoded data removed]",
      "text/plain": [
       "<Figure size 216x72 with 1 Axes>"
      ]
     },
     "metadata": {},
     "output_type": "display_data"
    },
    {
     "name": "stdout",
     "output_type": "stream",
     "text": [
      "[(93, 116, 161), (36, 151, 218), (3, 40, 251)]\n",
      "Director: it is more of a periwinkle color it is deeper and more muted than the bright blue and the other blue\n",
      "Matcher: Do you mean royal blue ?\n",
      "Director: it is more dull than the royal blue\n",
      "Matcher: electric blue or blue grey or sky blue?\n",
      "Director: blue grey\n",
      "Matcher: [SELECT]\n",
      "0\n",
      "--------------------------\n",
      "Conversation Index: 12427 54\n"
     ]
    },
    {
     "data": {
      "image/png": "[encoded data removed]",
      "text/plain": [
       "<Figure size 216x72 with 1 Axes>"
      ]
     },
     "metadata": {},
     "output_type": "display_data"
    },
    {
     "name": "stdout",
     "output_type": "stream",
     "text": [
      "[(148, 104, 150), (108, 146, 125), (100, 84, 170)]\n",
      "Director: Lilac\n",
      "Matcher: [SELECT]\n",
      "1\n",
      "--------------------------\n",
      "Conversation Index: 13385 55\n"
     ]
    },
    {
     "data": {
      "image/png": "[encoded data removed]",
      "text/plain": [
       "<Figure size 216x72 with 1 Axes>"
      ]
     },
     "metadata": {},
     "output_type": "display_data"
    },
    {
     "name": "stdout",
     "output_type": "stream",
     "text": [
      "[(117, 113, 141), (21, 233, 134), (107, 147, 127)]\n",
      "Director: A1EQ9FNRE0AMFK\n",
      "Matcher: Thank you for submitting your MturkID. Now please provide me with the target description.\n",
      "Director: Target is the color patch with black borders.\n",
      "Matcher: I do not see the same ordering of color patches as you nor the black borders. Please provide me with a color description.\n",
      "--------------------------\n",
      "Conversation Index: 11711 56\n"
     ]
    },
    {
     "data": {
      "image/png": "[encoded data removed]",
      "text/plain": [
       "<Figure size 216x72 with 1 Axes>"
      ]
     },
     "metadata": {},
     "output_type": "display_data"
    },
    {
     "name": "stdout",
     "output_type": "stream",
     "text": [
      "[(124, 109, 145), (173, 127, 81), (108, 240, 14)]\n",
      "Director: A4GXHVTRGW5P8\n",
      "Matcher: Thank you for submitting your MturkID. Now please provide me with the target description.\n",
      "Director: purple\n",
      "Matcher: [SELECT]\n",
      "1\n",
      "--------------------------\n",
      "Conversation Index: 3390 57\n"
     ]
    },
    {
     "data": {
      "image/png": "[encoded data removed]",
      "text/plain": [
       "<Figure size 216x72 with 1 Axes>"
      ]
     },
     "metadata": {},
     "output_type": "display_data"
    },
    {
     "name": "stdout",
     "output_type": "stream",
     "text": [
      "[(124, 112, 142), (136, 118, 128), (145, 109, 141)]\n",
      "Director: Light purple\n",
      "Matcher: [SELECT]\n",
      "0\n",
      "--------------------------\n",
      "Conversation Index: 12947 58\n"
     ]
    },
    {
     "data": {
      "image/png": "[encoded data removed]",
      "text/plain": [
       "<Figure size 216x72 with 1 Axes>"
      ]
     },
     "metadata": {},
     "output_type": "display_data"
    },
    {
     "name": "stdout",
     "output_type": "stream",
     "text": [
      "[(134, 94, 160), (179, 75, 78), (106, 65, 189)]\n",
      "Director: purple\n",
      "Matcher: The lavender?\n",
      "Director: yes\n",
      "Matcher: [SELECT]\n",
      "1\n",
      "--------------------------\n",
      "Conversation Index: 13168 59\n"
     ]
    },
    {
     "data": {
      "image/png": "[encoded data removed]",
      "text/plain": [
       "<Figure size 216x72 with 1 Axes>"
      ]
     },
     "metadata": {},
     "output_type": "display_data"
    },
    {
     "name": "stdout",
     "output_type": "stream",
     "text": [
      "[(145, 109, 130), (172, 82, 146), (196, 58, 145)]\n",
      "Director: Mejenda \n",
      "Matcher: I could not understand you.\n",
      "Director: Pink\n",
      "Matcher: [SELECT]\n",
      "0\n",
      "--------------------------\n",
      "Conversation Index: 8449 60\n"
     ]
    },
    {
     "data": {
      "image/png": "[encoded data removed]",
      "text/plain": [
       "<Figure size 216x72 with 1 Axes>"
      ]
     },
     "metadata": {},
     "output_type": "display_data"
    },
    {
     "name": "stdout",
     "output_type": "stream",
     "text": [
      "[(189, 216, 38), (212, 87, 42), (108, 153, 102)]\n",
      "--------------------------\n",
      "Conversation Index: 10776 61\n"
     ]
    },
    {
     "data": {
      "image/png": "[encoded data removed]",
      "text/plain": [
       "<Figure size 216x72 with 1 Axes>"
      ]
     },
     "metadata": {},
     "output_type": "display_data"
    },
    {
     "name": "stdout",
     "output_type": "stream",
     "text": [
      "[(91, 163, 91), (73, 181, 120), (155, 204, 50)]\n",
      "Director: The target color patch is dark green.\n",
      "Matcher: Do you mean forest green ?\n",
      "Director: Yes.\n",
      "Matcher: [SELECT]\n",
      "1\n",
      "--------------------------\n",
      "Conversation Index: 7333 62\n"
     ]
    },
    {
     "data": {
      "image/png": "[encoded data removed]",
      "text/plain": [
       "<Figure size 216x72 with 1 Axes>"
      ]
     },
     "metadata": {},
     "output_type": "display_data"
    },
    {
     "name": "stdout",
     "output_type": "stream",
     "text": [
      "[(99, 155, 148), (35, 219, 78), (106, 103, 151)]\n",
      "--------------------------\n",
      "Conversation Index: 598 63\n"
     ]
    },
    {
     "data": {
      "image/png": "[encoded data removed]",
      "text/plain": [
       "<Figure size 216x72 with 1 Axes>"
      ]
     },
     "metadata": {},
     "output_type": "display_data"
    },
    {
     "name": "stdout",
     "output_type": "stream",
     "text": [
      "[(117, 76, 178), (212, 42, 99), (200, 139, 54)]\n",
      "--------------------------\n",
      "Conversation Index: 4395 64\n"
     ]
    },
    {
     "data": {
      "image/png": "[encoded data removed]",
      "text/plain": [
       "<Figure size 216x72 with 1 Axes>"
      ]
     },
     "metadata": {},
     "output_type": "display_data"
    },
    {
     "name": "stdout",
     "output_type": "stream",
     "text": [
      "[(122, 132, 131), (140, 137, 114), (146, 125, 108)]\n",
      "Director: Grey\n",
      "Matcher: blue grey or brown or khaki?\n",
      "Director: blue grey\n",
      "Matcher: [SELECT]\n",
      "1\n",
      "--------------------------\n",
      "Conversation Index: 7551 65\n"
     ]
    },
    {
     "data": {
      "image/png": "[encoded data removed]",
      "text/plain": [
       "<Figure size 216x72 with 1 Axes>"
      ]
     },
     "metadata": {},
     "output_type": "display_data"
    },
    {
     "name": "stdout",
     "output_type": "stream",
     "text": [
      "[(123, 129, 131), (138, 91, 163), (234, 20, 181)]\n",
      "Director: Grey\n",
      "Matcher: [SELECT]\n",
      "1\n",
      "--------------------------\n",
      "Conversation Index: 4936 66\n"
     ]
    },
    {
     "data": {
      "image/png": "[encoded data removed]",
      "text/plain": [
       "<Figure size 216x72 with 1 Axes>"
      ]
     },
     "metadata": {},
     "output_type": "display_data"
    },
    {
     "name": "stdout",
     "output_type": "stream",
     "text": [
      "[(153, 71, 183), (129, 59, 195), (156, 93, 161)]\n",
      "Director: Pick the dark purple.\n",
      "Matcher: The lavender?\n",
      "Director: Violet\n",
      "Matcher: indigo or purple or light purple?\n",
      "Director: Purple\n",
      "Matcher: The magenta?\n",
      "Director: Magenta\n",
      "Matcher: [SELECT]\n",
      "1\n",
      "--------------------------\n",
      "Conversation Index: 1539 67\n"
     ]
    },
    {
     "data": {
      "image/png": "[encoded data removed]",
      "text/plain": [
       "<Figure size 216x72 with 1 Axes>"
      ]
     },
     "metadata": {},
     "output_type": "display_data"
    },
    {
     "name": "stdout",
     "output_type": "stream",
     "text": [
      "[(76, 216, 38), (121, 133, 127), (151, 228, 26)]\n",
      "Director: it is the color of grass and isn't light green\n",
      "Matcher: The lime green?\n",
      "Director: no, the other\n",
      "Matcher: I could not understand you.\n",
      "Director: Not the lime green\n",
      "Matcher: green or grey or yellow green?\n",
      "Director: green\n",
      "Matcher: Do you mean bright green ?\n",
      "Director: No, I mean darker green.\n",
      "Matcher: [SELECT]\n",
      "1\n",
      "--------------------------\n",
      "Conversation Index: 8587 68\n"
     ]
    },
    {
     "data": {
      "image/png": "[encoded data removed]",
      "text/plain": [
       "<Figure size 216x72 with 1 Axes>"
      ]
     },
     "metadata": {},
     "output_type": "display_data"
    },
    {
     "name": "stdout",
     "output_type": "stream",
     "text": [
      "[(141, 127, 113), (229, 161, 25), (144, 110, 136)]\n",
      "Director: A76WEZ9QGREEM\n",
      "Matcher: Thank you for submitting your MturkID. Now please provide me with the target description.\n",
      "Director: Brown\n",
      "Matcher: [SELECT]\n",
      "1\n",
      "--------------------------\n",
      "Conversation Index: 13208 69\n"
     ]
    },
    {
     "data": {
      "image/png": "[encoded data removed]",
      "text/plain": [
       "<Figure size 216x72 with 1 Axes>"
      ]
     },
     "metadata": {},
     "output_type": "display_data"
    },
    {
     "name": "stdout",
     "output_type": "stream",
     "text": [
      "[(242, 20, 12), (171, 197, 57), (130, 124, 126)]\n",
      "Director: stop\n",
      "Matcher: I could not understand you.\n",
      "Director: ABUU4QXC2IU4G\n",
      "Matcher: Thank you for submitting your MturkID. Now please provide me with the target description.\n",
      "Director: stop\n",
      "Matcher: I could not understand you.\n",
      "Director: blood\n",
      "Matcher: [SELECT]\n",
      "1\n",
      "--------------------------\n",
      "Conversation Index: 7698 70\n"
     ]
    },
    {
     "data": {
      "image/png": "[encoded data removed]",
      "text/plain": [
       "<Figure size 216x72 with 1 Axes>"
      ]
     },
     "metadata": {},
     "output_type": "display_data"
    },
    {
     "name": "stdout",
     "output_type": "stream",
     "text": [
      "[(187, 189, 65), (1, 72, 253), (31, 223, 38)]\n",
      "--------------------------\n",
      "Conversation Index: 3507 71\n"
     ]
    },
    {
     "data": {
      "image/png": "[encoded data removed]",
      "text/plain": [
       "<Figure size 216x72 with 1 Axes>"
      ]
     },
     "metadata": {},
     "output_type": "display_data"
    },
    {
     "name": "stdout",
     "output_type": "stream",
     "text": [
      "[(90, 26, 228), (76, 178, 112), (58, 171, 196)]\n",
      "Director: It is a royal blue\n",
      "Matcher: [SELECT]\n",
      "1\n",
      "--------------------------\n",
      "Conversation Index: 12094 72\n"
     ]
    },
    {
     "data": {
      "image/png": "[encoded data removed]",
      "text/plain": [
       "<Figure size 216x72 with 1 Axes>"
      ]
     },
     "metadata": {},
     "output_type": "display_data"
    },
    {
     "name": "stdout",
     "output_type": "stream",
     "text": [
      "[(59, 62, 195), (109, 89, 165), (26, 117, 228)]\n",
      "Director: This color is blue.\n",
      "Matcher: Do you mean sky blue ?\n",
      "Director: This color box is Persian blue.\n",
      "Matcher: light blue or purple or royal blue?\n",
      "Director: This color is royal blue.\n",
      "Matcher: The dark blue?\n",
      "Director: This color box is sapphire blue.\n",
      "Matcher: The deep blue?\n",
      "Director: This color box is deep blue.\n",
      "Matcher: [SELECT]\n",
      "1\n",
      "--------------------------\n",
      "Conversation Index: 6315 73\n"
     ]
    },
    {
     "data": {
      "image/png": "[encoded data removed]",
      "text/plain": [
       "<Figure size 216x72 with 1 Axes>"
      ]
     },
     "metadata": {},
     "output_type": "display_data"
    },
    {
     "name": "stdout",
     "output_type": "stream",
     "text": [
      "[(58, 194, 196), (151, 103, 113), (68, 192, 62)]\n",
      "--------------------------\n",
      "Conversation Index: 8749 74\n"
     ]
    },
    {
     "data": {
      "image/png": "[encoded data removed]",
      "text/plain": [
       "<Figure size 216x72 with 1 Axes>"
      ]
     },
     "metadata": {},
     "output_type": "display_data"
    },
    {
     "name": "stdout",
     "output_type": "stream",
     "text": [
      "[(42, 212, 124), (177, 115, 77), (106, 39, 215)]\n",
      "--------------------------\n",
      "Conversation Index: 9979 75\n"
     ]
    },
    {
     "data": {
      "image/png": "[encoded data removed]",
      "text/plain": [
       "<Figure size 216x72 with 1 Axes>"
      ]
     },
     "metadata": {},
     "output_type": "display_data"
    },
    {
     "name": "stdout",
     "output_type": "stream",
     "text": [
      "[(252, 2, 10), (62, 215, 39), (148, 57, 197)]\n",
      "--------------------------\n",
      "Conversation Index: 9167 76\n"
     ]
    },
    {
     "data": {
      "image/png": "[encoded data removed]",
      "text/plain": [
       "<Figure size 216x72 with 1 Axes>"
      ]
     },
     "metadata": {},
     "output_type": "display_data"
    },
    {
     "name": "stdout",
     "output_type": "stream",
     "text": [
      "[(189, 65, 104), (175, 79, 130), (153, 102, 102)]\n",
      "Director: pink\n",
      "Matcher: [SELECT]\n",
      "1\n",
      "--------------------------\n",
      "Conversation Index: 8378 77\n"
     ]
    },
    {
     "data": {
      "image/png": "[encoded data removed]",
      "text/plain": [
       "<Figure size 216x72 with 1 Axes>"
      ]
     },
     "metadata": {},
     "output_type": "display_data"
    },
    {
     "name": "stdout",
     "output_type": "stream",
     "text": [
      "[(107, 116, 147), (125, 114, 140), (243, 181, 11)]\n",
      "Director: almost the color of sky\n",
      "Matcher: Do you mean blue ?\n",
      "Director: yes\n",
      "Matcher: [SELECT]\n",
      "1\n",
      "--------------------------\n",
      "Conversation Index: 7019 78\n"
     ]
    },
    {
     "data": {
      "image/png": "[encoded data removed]",
      "text/plain": [
       "<Figure size 216x72 with 1 Axes>"
      ]
     },
     "metadata": {},
     "output_type": "display_data"
    },
    {
     "name": "stdout",
     "output_type": "stream",
     "text": [
      "[(220, 34, 139), (228, 11, 243), (205, 49, 187)]\n",
      "Director: It has less blue in it than the others\n",
      "Matcher: I could not understand you.\n",
      "Director: it is more red\n",
      "Matcher: [SELECT]\n",
      "1\n",
      "--------------------------\n",
      "Conversation Index: 1792 79\n"
     ]
    },
    {
     "data": {
      "image/png": "[encoded data removed]",
      "text/plain": [
       "<Figure size 216x72 with 1 Axes>"
      ]
     },
     "metadata": {},
     "output_type": "display_data"
    },
    {
     "name": "stdout",
     "output_type": "stream",
     "text": [
      "[(85, 149, 169), (202, 52, 92), (86, 112, 168)]\n",
      "Director: not red\n",
      "Matcher: Do you mean blue ?\n",
      "Director: not dark\n",
      "Matcher: I could not understand you.\n",
      "--------------------------\n",
      "Conversation Index: 2295 80\n"
     ]
    },
    {
     "data": {
      "image/png": "[encoded data removed]",
      "text/plain": [
       "<Figure size 216x72 with 1 Axes>"
      ]
     },
     "metadata": {},
     "output_type": "display_data"
    },
    {
     "name": "stdout",
     "output_type": "stream",
     "text": [
      "[(102, 153, 123), (133, 131, 121), (131, 151, 103)]\n",
      "Director: It is the color of Christmas trees. A little on the darker side than the army side\n",
      "Matcher: grey or olive or teal?\n",
      "Director: not grey or olive but it looks greener to me than teal\n",
      "Matcher: [SELECT]\n",
      "1\n",
      "--------------------------\n",
      "Conversation Index: 10011 81\n"
     ]
    },
    {
     "data": {
      "image/png": "[encoded data removed]",
      "text/plain": [
       "<Figure size 216x72 with 1 Axes>"
      ]
     },
     "metadata": {},
     "output_type": "display_data"
    },
    {
     "name": "stdout",
     "output_type": "stream",
     "text": [
      "[(53, 125, 201), (39, 215, 68), (123, 122, 132)]\n",
      "Director: AJ4B5W7LPJEQO\n",
      "Matcher: Thank you for submitting your MturkID. Now please provide me with the target description.\n",
      "Director: the target is the color of a clear sky in daylight\n",
      "Matcher: I could not understand you.\n",
      "Director: the color is associated with cold\n",
      "Matcher: I could not understand you.\n",
      "Director: the target isn't green or gray\n",
      "Matcher: I could not understand you.\n",
      "Director: the color starts withg b\n",
      "Matcher: I could not understand you.\n",
      "Director: the color is a mix of yellow and green\n",
      "Matcher: [SELECT]\n",
      "0\n",
      "--------------------------\n",
      "Conversation Index: 7628 82\n"
     ]
    },
    {
     "data": {
      "image/png": "[encoded data removed]",
      "text/plain": [
       "<Figure size 216x72 with 1 Axes>"
      ]
     },
     "metadata": {},
     "output_type": "display_data"
    },
    {
     "name": "stdout",
     "output_type": "stream",
     "text": [
      "[(126, 130, 124), (104, 150, 136), (98, 145, 156)]\n",
      "Director: grey\n",
      "Matcher: [SELECT]\n",
      "1\n",
      "--------------------------\n",
      "Conversation Index: 8705 83\n"
     ]
    },
    {
     "data": {
      "image/png": "[encoded data removed]",
      "text/plain": [
       "<Figure size 216x72 with 1 Axes>"
      ]
     },
     "metadata": {},
     "output_type": "display_data"
    },
    {
     "name": "stdout",
     "output_type": "stream",
     "text": [
      "[(62, 92, 192), (124, 38, 216), (154, 148, 100)]\n",
      "Director: blue\n",
      "Matcher: [SELECT]\n",
      "1\n",
      "--------------------------\n",
      "Conversation Index: 7344 84\n"
     ]
    },
    {
     "data": {
      "image/png": "[encoded data removed]",
      "text/plain": [
       "<Figure size 216x72 with 1 Axes>"
      ]
     },
     "metadata": {},
     "output_type": "display_data"
    },
    {
     "name": "stdout",
     "output_type": "stream",
     "text": [
      "[(10, 244, 186), (104, 163, 91), (26, 253, 1)]\n",
      "Director: it's the color of shallow waters in the ocean\n",
      "Matcher: [SELECT]\n",
      "1\n",
      "--------------------------\n",
      "Conversation Index: 765 85\n"
     ]
    },
    {
     "data": {
      "image/png": "[encoded data removed]",
      "text/plain": [
       "<Figure size 216x72 with 1 Axes>"
      ]
     },
     "metadata": {},
     "output_type": "display_data"
    },
    {
     "name": "stdout",
     "output_type": "stream",
     "text": [
      "[(6, 248, 34), (233, 187, 21), (202, 97, 52)]\n",
      "Director: grass\n",
      "Matcher: [SELECT]\n",
      "1\n",
      "--------------------------\n",
      "Conversation Index: 5891 86\n"
     ]
    },
    {
     "data": {
      "image/png": "[encoded data removed]",
      "text/plain": [
       "<Figure size 216x72 with 1 Axes>"
      ]
     },
     "metadata": {},
     "output_type": "display_data"
    },
    {
     "name": "stdout",
     "output_type": "stream",
     "text": [
      "[(99, 106, 155), (128, 126, 126), (113, 112, 142)]\n",
      "Director: Darkest\n",
      "Matcher: Do you mean grey or blue?\n",
      "Director: Periwinkle \n",
      "Matcher: [SELECT]\n",
      "1\n",
      "--------------------------\n",
      "Conversation Index: 2525 87\n"
     ]
    },
    {
     "data": {
      "image/png": "[encoded data removed]",
      "text/plain": [
       "<Figure size 216x72 with 1 Axes>"
      ]
     },
     "metadata": {},
     "output_type": "display_data"
    },
    {
     "name": "stdout",
     "output_type": "stream",
     "text": [
      "[(122, 132, 128), (142, 112, 137), (35, 242, 12)]\n",
      "Director: A15F2JTVAJXITI\n",
      "Matcher: Thank you for submitting your MturkID. Now please provide me with the target description.\n",
      "Director: the color takes up most of the patch and is in a square shape\n",
      "Matcher: I could not understand you.\n",
      "Director: the patch is a rectangle and the color takes up most of it\n",
      "Matcher: I could not understand you.\n",
      "Director: what is confusing?\n",
      "Matcher: I could not understand you.\n",
      "Director: can you guess the color?\n",
      "Matcher: I could not understand you.\n",
      "--------------------------\n",
      "Conversation Index: 3763 88\n"
     ]
    },
    {
     "data": {
      "image/png": "[encoded data removed]",
      "text/plain": [
       "<Figure size 216x72 with 1 Axes>"
      ]
     },
     "metadata": {},
     "output_type": "display_data"
    },
    {
     "name": "stdout",
     "output_type": "stream",
     "text": [
      "[(131, 122, 132), (126, 128, 127), (118, 121, 136)]\n",
      "Director: Mauve\n",
      "Matcher: [SELECT]\n",
      "1\n",
      "--------------------------\n",
      "Conversation Index: 337 89\n"
     ]
    },
    {
     "data": {
      "image/png": "[encoded data removed]",
      "text/plain": [
       "<Figure size 216x72 with 1 Axes>"
      ]
     },
     "metadata": {},
     "output_type": "display_data"
    },
    {
     "name": "stdout",
     "output_type": "stream",
     "text": [
      "[(197, 57, 118), (175, 79, 91), (159, 95, 98)]\n",
      "Director: fuchsia color\n",
      "Matcher: [SELECT]\n",
      "1\n",
      "--------------------------\n",
      "Conversation Index: 8890 90\n"
     ]
    },
    {
     "data": {
      "image/png": "[encoded data removed]",
      "text/plain": [
       "<Figure size 216x72 with 1 Axes>"
      ]
     },
     "metadata": {},
     "output_type": "display_data"
    },
    {
     "name": "stdout",
     "output_type": "stream",
     "text": [
      "[(172, 157, 82), (54, 200, 100), (223, 130, 31)]\n",
      "--------------------------\n",
      "Conversation Index: 7690 91\n"
     ]
    },
    {
     "data": {
      "image/png": "[encoded data removed]",
      "text/plain": [
       "<Figure size 216x72 with 1 Axes>"
      ]
     },
     "metadata": {},
     "output_type": "display_data"
    },
    {
     "name": "stdout",
     "output_type": "stream",
     "text": [
      "[(161, 34, 220), (133, 94, 160), (193, 61, 136)]\n",
      "Director: it is dark purple\n",
      "Matcher: [SELECT]\n",
      "0\n",
      "--------------------------\n",
      "Conversation Index: 13819 92\n"
     ]
    },
    {
     "data": {
      "image/png": "[encoded data removed]",
      "text/plain": [
       "<Figure size 216x72 with 1 Axes>"
      ]
     },
     "metadata": {},
     "output_type": "display_data"
    },
    {
     "name": "stdout",
     "output_type": "stream",
     "text": [
      "[(24, 161, 230), (109, 128, 145), (105, 122, 149)]\n",
      "Director: Teal blue\n",
      "Matcher: [SELECT]\n",
      "1\n",
      "--------------------------\n",
      "Conversation Index: 10730 93\n"
     ]
    },
    {
     "data": {
      "image/png": "[encoded data removed]",
      "text/plain": [
       "<Figure size 216x72 with 1 Axes>"
      ]
     },
     "metadata": {},
     "output_type": "display_data"
    },
    {
     "name": "stdout",
     "output_type": "stream",
     "text": [
      "[(205, 34, 220), (175, 79, 154), (171, 25, 229)]\n",
      "Director: The brightest color\n",
      "Matcher: mauve or purple?\n",
      "Director: the other one\n",
      "Matcher: I could not understand you.\n",
      "Director: not mauve or purple\n",
      "Matcher: The magenta?\n",
      "Director: yes\n",
      "Matcher: Do you mean fuchsia ?\n",
      "Director: yes\n",
      "Matcher: [SELECT]\n",
      "1\n",
      "--------------------------\n",
      "Conversation Index: 11456 94\n"
     ]
    },
    {
     "data": {
      "image/png": "[encoded data removed]",
      "text/plain": [
       "<Figure size 216x72 with 1 Axes>"
      ]
     },
     "metadata": {},
     "output_type": "display_data"
    },
    {
     "name": "stdout",
     "output_type": "stream",
     "text": [
      "[(223, 31, 133), (58, 24, 230), (57, 197, 78)]\n",
      "--------------------------\n",
      "Conversation Index: 3267 95\n"
     ]
    },
    {
     "data": {
      "image/png": "[encoded data removed]",
      "text/plain": [
       "<Figure size 216x72 with 1 Axes>"
      ]
     },
     "metadata": {},
     "output_type": "display_data"
    },
    {
     "name": "stdout",
     "output_type": "stream",
     "text": [
      "[(91, 163, 150), (246, 202, 8), (45, 251, 3)]\n",
      "Director: A1S8KMGKJACGVO\n",
      "Matcher: Thank you for submitting your MturkID. Now please provide me with the target description.\n",
      "Director: Pastel green\n",
      "Matcher: [SELECT]\n",
      "1\n",
      "--------------------------\n",
      "Conversation Index: 10125 96\n"
     ]
    },
    {
     "data": {
      "image/png": "[encoded data removed]",
      "text/plain": [
       "<Figure size 216x72 with 1 Axes>"
      ]
     },
     "metadata": {},
     "output_type": "display_data"
    },
    {
     "name": "stdout",
     "output_type": "stream",
     "text": [
      "[(164, 111, 90), (146, 121, 108), (216, 38, 157)]\n",
      "Director: beige\n",
      "Matcher: Do you mean grey ?\n",
      "Director: No\n",
      "Matcher: brown or pink or grey brown?\n",
      "Director: grey brown\n",
      "Matcher: The light brown?\n",
      "Director: The light brown\n",
      "Matcher: [SELECT]\n",
      "1\n",
      "--------------------------\n",
      "Conversation Index: 735 97\n"
     ]
    },
    {
     "data": {
      "image/png": "[encoded data removed]",
      "text/plain": [
       "<Figure size 216x72 with 1 Axes>"
      ]
     },
     "metadata": {},
     "output_type": "display_data"
    },
    {
     "name": "stdout",
     "output_type": "stream",
     "text": [
      "[(17, 237, 72), (193, 61, 187), (94, 93, 161)]\n",
      "Director: A1DEM7D620T7X\n",
      "Matcher: Thank you for submitting your MturkID. Now please provide me with the target description.\n",
      "Director: color made with blue and yellow\n",
      "Matcher: [SELECT]\n",
      "0\n",
      "--------------------------\n",
      "Conversation Index: 9056 98\n"
     ]
    },
    {
     "data": {
      "image/png": "[encoded data removed]",
      "text/plain": [
       "<Figure size 216x72 with 1 Axes>"
      ]
     },
     "metadata": {},
     "output_type": "display_data"
    },
    {
     "name": "stdout",
     "output_type": "stream",
     "text": [
      "[(248, 6, 50), (109, 119, 145), (53, 65, 201)]\n",
      "--------------------------\n",
      "Conversation Index: 8185 99\n"
     ]
    },
    {
     "data": {
      "image/png": "[encoded data removed]",
      "text/plain": [
       "<Figure size 216x72 with 1 Axes>"
      ]
     },
     "metadata": {},
     "output_type": "display_data"
    },
    {
     "name": "stdout",
     "output_type": "stream",
     "text": [
      "[(188, 14, 240), (110, 104, 150), (195, 195, 59)]\n",
      "--------------------------\n",
      "Conversation Index: 5271 100\n"
     ]
    },
    {
     "data": {
      "image/png": "[encoded data removed]",
      "text/plain": [
       "<Figure size 216x72 with 1 Axes>"
      ]
     },
     "metadata": {},
     "output_type": "display_data"
    },
    {
     "name": "stdout",
     "output_type": "stream",
     "text": [
      "[(107, 147, 124), (3, 218, 251), (226, 28, 51)]\n",
      "Director: A146MSML39KY98\n",
      "Matcher: Thank you for submitting your MturkID. Now please provide me with the target description.\n",
      "Director: Olive\n",
      "Matcher: [SELECT]\n",
      "1\n",
      "--------------------------\n",
      "Conversation Index: 9014 101\n"
     ]
    },
    {
     "data": {
      "image/png": "[encoded data removed]",
      "text/plain": [
       "<Figure size 216x72 with 1 Axes>"
      ]
     },
     "metadata": {},
     "output_type": "display_data"
    },
    {
     "name": "stdout",
     "output_type": "stream",
     "text": [
      "[(135, 63, 191), (182, 72, 145), (82, 130, 172)]\n",
      "Director: it is purple\n",
      "Matcher: [SELECT]\n",
      "1\n",
      "--------------------------\n",
      "Conversation Index: 385 102\n"
     ]
    },
    {
     "data": {
      "image/png": "[encoded data removed]",
      "text/plain": [
       "<Figure size 216x72 with 1 Axes>"
      ]
     },
     "metadata": {},
     "output_type": "display_data"
    },
    {
     "name": "stdout",
     "output_type": "stream",
     "text": [
      "[(154, 100, 115), (123, 90, 164), (154, 94, 160)]\n",
      "Director: grey\n",
      "Matcher: [SELECT]\n",
      "1\n",
      "--------------------------\n",
      "Conversation Index: 13295 103\n"
     ]
    },
    {
     "data": {
      "image/png": "[encoded data removed]",
      "text/plain": [
       "<Figure size 216x72 with 1 Axes>"
      ]
     },
     "metadata": {},
     "output_type": "display_data"
    },
    {
     "name": "stdout",
     "output_type": "stream",
     "text": [
      "[(189, 2, 252), (111, 84, 170), (131, 3, 251)]\n",
      "Director: The brighter purple almost neon\n",
      "Matcher: The magenta?\n",
      "Director: sure\n",
      "Matcher: I could not understand you.\n",
      "Director: yes the magenta\n",
      "Matcher: [SELECT]\n",
      "1\n",
      "--------------------------\n",
      "Conversation Index: 2083 104\n"
     ]
    },
    {
     "data": {
      "image/png": "[encoded data removed]",
      "text/plain": [
       "<Figure size 216x72 with 1 Axes>"
      ]
     },
     "metadata": {},
     "output_type": "display_data"
    },
    {
     "name": "stdout",
     "output_type": "stream",
     "text": [
      "[(31, 188, 223), (179, 165, 75), (14, 14, 240)]\n",
      "Director: ASN25PIODXIPJ\n",
      "Matcher: Thank you for submitting your MturkID. Now please provide me with the target description.\n",
      "Director: a medium color that looks like water\n",
      "Matcher: I could not understand you.\n",
      "Director: turquoise\n",
      "Matcher: [SELECT]\n",
      "1\n",
      "--------------------------\n",
      "Conversation Index: 11970 105\n"
     ]
    },
    {
     "data": {
      "image/png": "[encoded data removed]",
      "text/plain": [
       "<Figure size 216x72 with 1 Axes>"
      ]
     },
     "metadata": {},
     "output_type": "display_data"
    },
    {
     "name": "stdout",
     "output_type": "stream",
     "text": [
      "[(47, 178, 207), (141, 173, 81), (127, 127, 127)]\n",
      "Director: A2D0VRPMZRH3J3\n",
      "Matcher: Thank you for submitting your MturkID. Now please provide me with the target description.\n",
      "Director: Target is the color patch with black borders. Only you can see the black borders so don't refer to them. Please try to describe the target color patch to listener using messages which distinguish it from the other two. Colors may not be in the same order for both. When you finish this round, please click 'Next Game' button. Please complete four rounds before closing this Browser tab. \n",
      "Matcher: I do not see the same ordering of color patches as you nor the black borders. Please provide me with a color description.\n",
      "Director: the britest one\n",
      "Matcher: I could not understand you.\n",
      "Director: the color of the sky\n",
      "Matcher: [SELECT]\n",
      "1\n",
      "--------------------------\n",
      "Conversation Index: 2861 106\n"
     ]
    },
    {
     "data": {
      "image/png": "[encoded data removed]",
      "text/plain": [
       "<Figure size 216x72 with 1 Axes>"
      ]
     },
     "metadata": {},
     "output_type": "display_data"
    },
    {
     "name": "stdout",
     "output_type": "stream",
     "text": [
      "[(109, 145, 112), (133, 150, 104), (119, 135, 124)]\n",
      "Director: Medium green\n",
      "Matcher: [SELECT]\n",
      "1\n",
      "--------------------------\n",
      "Conversation Index: 10045 107\n"
     ]
    },
    {
     "data": {
      "image/png": "[encoded data removed]",
      "text/plain": [
       "<Figure size 216x72 with 1 Axes>"
      ]
     },
     "metadata": {},
     "output_type": "display_data"
    },
    {
     "name": "stdout",
     "output_type": "stream",
     "text": [
      "[(66, 162, 188), (144, 110, 117), (116, 21, 233)]\n",
      "--------------------------\n",
      "Conversation Index: 3881 108\n"
     ]
    },
    {
     "data": {
      "image/png": "[encoded data removed]",
      "text/plain": [
       "<Figure size 216x72 with 1 Axes>"
      ]
     },
     "metadata": {},
     "output_type": "display_data"
    },
    {
     "name": "stdout",
     "output_type": "stream",
     "text": [
      "[(31, 223, 130), (59, 195, 84), (209, 45, 162)]\n",
      "Director: green\n",
      "Matcher: [SELECT]\n",
      "0\n",
      "--------------------------\n",
      "Conversation Index: 256 109\n"
     ]
    },
    {
     "data": {
      "image/png": "[encoded data removed]",
      "text/plain": [
       "<Figure size 216x72 with 1 Axes>"
      ]
     },
     "metadata": {},
     "output_type": "display_data"
    },
    {
     "name": "stdout",
     "output_type": "stream",
     "text": [
      "[(167, 87, 159), (207, 17, 237), (140, 93, 161)]\n",
      "Director: This one is not the lightest or the darkest\n",
      "Matcher: I could not understand you.\n",
      "Director: Not the brightest one\n",
      "Matcher: I could not understand you.\n",
      "Director: This color is closest to a dull pink\n",
      "Matcher: [SELECT]\n",
      "1\n",
      "--------------------------\n",
      "Conversation Index: 3735 110\n"
     ]
    },
    {
     "data": {
      "image/png": "[encoded data removed]",
      "text/plain": [
       "<Figure size 216x72 with 1 Axes>"
      ]
     },
     "metadata": {},
     "output_type": "display_data"
    },
    {
     "name": "stdout",
     "output_type": "stream",
     "text": [
      "[(70, 221, 33), (184, 70, 146), (40, 63, 214)]\n",
      "Director: A3K1P4SPR8XS7R\n",
      "Matcher: Thank you for submitting your MturkID. Now please provide me with the target description.\n",
      "Director: grass color\n",
      "Matcher: [SELECT]\n",
      "1\n",
      "--------------------------\n",
      "Conversation Index: 7785 111\n"
     ]
    },
    {
     "data": {
      "image/png": "[encoded data removed]",
      "text/plain": [
       "<Figure size 216x72 with 1 Axes>"
      ]
     },
     "metadata": {},
     "output_type": "display_data"
    },
    {
     "name": "stdout",
     "output_type": "stream",
     "text": [
      "[(127, 242, 12), (118, 197, 57), (40, 214, 98)]\n",
      "Director: Lime green\n",
      "Matcher: [SELECT]\n",
      "1\n",
      "--------------------------\n",
      "Conversation Index: 5195 112\n"
     ]
    },
    {
     "data": {
      "image/png": "[encoded data removed]",
      "text/plain": [
       "<Figure size 216x72 with 1 Axes>"
      ]
     },
     "metadata": {},
     "output_type": "display_data"
    },
    {
     "name": "stdout",
     "output_type": "stream",
     "text": [
      "[(158, 96, 157), (130, 138, 116), (108, 70, 184)]\n",
      "Director: plum\n",
      "Matcher: [SELECT]\n",
      "1\n",
      "--------------------------\n",
      "Conversation Index: 5217 113\n"
     ]
    },
    {
     "data": {
      "image/png": "[encoded data removed]",
      "text/plain": [
       "<Figure size 216x72 with 1 Axes>"
      ]
     },
     "metadata": {},
     "output_type": "display_data"
    },
    {
     "name": "stdout",
     "output_type": "stream",
     "text": [
      "[(154, 244, 10), (66, 188, 90), (17, 240, 14)]\n",
      "Director: It is a color we use to highlight the text.\n",
      "Matcher: I could not understand you.\n",
      "Director: It is color between green and orange in a rainbow\n",
      "Matcher: I could not understand you.\n",
      "Director: It is the color of lemon\n",
      "Matcher: [SELECT]\n",
      "1\n",
      "--------------------------\n",
      "Conversation Index: 4498 114\n"
     ]
    },
    {
     "data": {
      "image/png": "[encoded data removed]",
      "text/plain": [
       "<Figure size 216x72 with 1 Axes>"
      ]
     },
     "metadata": {},
     "output_type": "display_data"
    },
    {
     "name": "stdout",
     "output_type": "stream",
     "text": [
      "[(130, 225, 29), (71, 183, 99), (32, 240, 14)]\n",
      "Director: this more of a fluroscent color \n",
      "Matcher: I could not understand you.\n",
      "Director: this is not dark green or green\n",
      "Matcher: The lime green?\n",
      "Director: yes\n",
      "Matcher: The yellow green?\n",
      "Director: yes\n",
      "Matcher: [SELECT]\n",
      "1\n",
      "--------------------------\n",
      "Conversation Index: 4268 115\n"
     ]
    },
    {
     "data": {
      "image/png": "[encoded data removed]",
      "text/plain": [
       "<Figure size 216x72 with 1 Axes>"
      ]
     },
     "metadata": {},
     "output_type": "display_data"
    },
    {
     "name": "stdout",
     "output_type": "stream",
     "text": [
      "[(235, 141, 19), (165, 177, 77), (1, 43, 253)]\n",
      "--------------------------\n",
      "Conversation Index: 12450 116\n"
     ]
    },
    {
     "data": {
      "image/png": "[encoded data removed]",
      "text/plain": [
       "<Figure size 216x72 with 1 Axes>"
      ]
     },
     "metadata": {},
     "output_type": "display_data"
    },
    {
     "name": "stdout",
     "output_type": "stream",
     "text": [
      "[(163, 94, 91), (189, 65, 106), (189, 65, 139)]\n",
      "Director: It is the color of a pumpkin if it was burnt. \n",
      "Matcher: [SELECT]\n",
      "1\n",
      "--------------------------\n",
      "Conversation Index: 8383 117\n"
     ]
    },
    {
     "data": {
      "image/png": "[encoded data removed]",
      "text/plain": [
       "<Figure size 216x72 with 1 Axes>"
      ]
     },
     "metadata": {},
     "output_type": "display_data"
    },
    {
     "name": "stdout",
     "output_type": "stream",
     "text": [
      "[(26, 248, 6), (113, 209, 45), (56, 198, 101)]\n",
      "Director: bright green\n",
      "Matcher: [SELECT]\n",
      "1\n",
      "--------------------------\n",
      "Conversation Index: 3141 118\n"
     ]
    },
    {
     "data": {
      "image/png": "[encoded data removed]",
      "text/plain": [
       "<Figure size 216x72 with 1 Axes>"
      ]
     },
     "metadata": {},
     "output_type": "display_data"
    },
    {
     "name": "stdout",
     "output_type": "stream",
     "text": [
      "[(165, 89, 149), (247, 7, 215), (202, 52, 137)]\n",
      "Director: it's the color of a carnation\n",
      "Matcher: The dark pink?\n",
      "Director: a light carnation\n",
      "Matcher: rose or purple or hot pink?\n",
      "Director: rose\n",
      "Matcher: [SELECT]\n",
      "0\n",
      "--------------------------\n",
      "Conversation Index: 1314 119\n"
     ]
    },
    {
     "data": {
      "image/png": "[encoded data removed]",
      "text/plain": [
       "<Figure size 216x72 with 1 Axes>"
      ]
     },
     "metadata": {},
     "output_type": "display_data"
    },
    {
     "name": "stdout",
     "output_type": "stream",
     "text": [
      "[(135, 210, 44), (140, 114, 129), (28, 57, 226)]\n",
      "Director: A1ADAWW4IHPCQ7\n",
      "Matcher: Thank you for submitting your MturkID. Now please provide me with the target description.\n",
      "Director: it's the one most similar to the color of grass\n",
      "Matcher: [SELECT]\n",
      "1\n",
      "--------------------------\n",
      "Conversation Index: 7338 120\n"
     ]
    },
    {
     "data": {
      "image/png": "[encoded data removed]",
      "text/plain": [
       "<Figure size 216x72 with 1 Axes>"
      ]
     },
     "metadata": {},
     "output_type": "display_data"
    },
    {
     "name": "stdout",
     "output_type": "stream",
     "text": [
      "[(48, 240, 14), (47, 146, 207), (239, 15, 239)]\n",
      "--------------------------\n",
      "Conversation Index: 3018 121\n"
     ]
    },
    {
     "data": {
      "image/png": "[encoded data removed]",
      "text/plain": [
       "<Figure size 216x72 with 1 Axes>"
      ]
     },
     "metadata": {},
     "output_type": "display_data"
    },
    {
     "name": "stdout",
     "output_type": "stream",
     "text": [
      "[(90, 168, 86), (150, 212, 42), (10, 244, 143)]\n",
      "Director: the darker green one\n",
      "Matcher: [SELECT]\n",
      "1\n",
      "--------------------------\n",
      "Conversation Index: 12816 122\n"
     ]
    },
    {
     "data": {
      "image/png": "[encoded data removed]",
      "text/plain": [
       "<Figure size 216x72 with 1 Axes>"
      ]
     },
     "metadata": {},
     "output_type": "display_data"
    },
    {
     "name": "stdout",
     "output_type": "stream",
     "text": [
      "[(212, 198, 42), (50, 181, 204), (34, 68, 220)]\n",
      "--------------------------\n",
      "Conversation Index: 144 123\n"
     ]
    },
    {
     "data": {
      "image/png": "[encoded data removed]",
      "text/plain": [
       "<Figure size 216x72 with 1 Axes>"
      ]
     },
     "metadata": {},
     "output_type": "display_data"
    },
    {
     "name": "stdout",
     "output_type": "stream",
     "text": [
      "[(121, 124, 133), (193, 178, 61), (45, 209, 203)]\n",
      "Director: A3211VPCMNHVL5\n",
      "Matcher: Thank you for submitting your MturkID. Now please provide me with the target description.\n",
      "Director: Orange\n",
      "Matcher: [SELECT]\n",
      "0\n",
      "--------------------------\n",
      "Conversation Index: 5349 124\n"
     ]
    },
    {
     "data": {
      "image/png": "[encoded data removed]",
      "text/plain": [
       "<Figure size 216x72 with 1 Axes>"
      ]
     },
     "metadata": {},
     "output_type": "display_data"
    },
    {
     "name": "stdout",
     "output_type": "stream",
     "text": [
      "[(72, 182, 142), (56, 198, 146), (28, 226, 147)]\n",
      "Director: Forest greens\n",
      "Matcher: blue or green or turquoise?\n",
      "Director: Light green\n",
      "Matcher: The mint green?\n",
      "Director: Mint green\n",
      "Matcher: The seafoam green?\n",
      "Director: Seafoam green\n",
      "Matcher: [SELECT]\n",
      "0\n",
      "--------------------------\n",
      "Conversation Index: 10305 125\n"
     ]
    },
    {
     "data": {
      "image/png": "[encoded data removed]",
      "text/plain": [
       "<Figure size 216x72 with 1 Axes>"
      ]
     },
     "metadata": {},
     "output_type": "display_data"
    },
    {
     "name": "stdout",
     "output_type": "stream",
     "text": [
      "[(87, 82, 172), (10, 41, 244), (145, 72, 182)]\n",
      "Director: It is a blue-toned purple.\n",
      "Matcher: Do you mean light purple ?\n",
      "Director: yes\n",
      "Matcher: [SELECT]\n",
      "0\n",
      "--------------------------\n",
      "Conversation Index: 5447 126\n"
     ]
    },
    {
     "data": {
      "image/png": "[encoded data removed]",
      "text/plain": [
       "<Figure size 216x72 with 1 Axes>"
      ]
     },
     "metadata": {},
     "output_type": "display_data"
    },
    {
     "name": "stdout",
     "output_type": "stream",
     "text": [
      "[(243, 11, 57), (209, 45, 184), (127, 209, 45)]\n",
      "--------------------------\n",
      "Conversation Index: 1276 127\n"
     ]
    },
    {
     "data": {
      "image/png": "[encoded data removed]",
      "text/plain": [
       "<Figure size 216x72 with 1 Axes>"
      ]
     },
     "metadata": {},
     "output_type": "display_data"
    },
    {
     "name": "stdout",
     "output_type": "stream",
     "text": [
      "[(67, 187, 147), (58, 237, 17), (142, 119, 112)]\n",
      "--------------------------\n",
      "Conversation Index: 11222 128\n"
     ]
    },
    {
     "data": {
      "image/png": "[encoded data removed]",
      "text/plain": [
       "<Figure size 216x72 with 1 Axes>"
      ]
     },
     "metadata": {},
     "output_type": "display_data"
    },
    {
     "name": "stdout",
     "output_type": "stream",
     "text": [
      "[(139, 77, 177), (193, 61, 184), (12, 184, 242)]\n",
      "Director: Purple that is a sharp purple. \n",
      "Matcher: The lavender?\n",
      "Director: It's darker than a lavender in my opinion. \n",
      "Matcher: I could not understand you.\n",
      "Director: It is like Barney purple. Like the dinosaur kids show. \n",
      "Matcher: I could not understand you.\n",
      "Director: Click on the purple one. \n",
      "Matcher: violet or blue or magenta?\n",
      "Director: violet\n",
      "Matcher: [SELECT]\n",
      "1\n",
      "--------------------------\n",
      "Conversation Index: 10848 129\n"
     ]
    },
    {
     "data": {
      "image/png": "[encoded data removed]",
      "text/plain": [
       "<Figure size 216x72 with 1 Axes>"
      ]
     },
     "metadata": {},
     "output_type": "display_data"
    },
    {
     "name": "stdout",
     "output_type": "stream",
     "text": [
      "[(158, 125, 96), (140, 144, 110), (127, 127, 127)]\n",
      "Director: pink\n",
      "Matcher: [SELECT]\n",
      "1\n",
      "--------------------------\n",
      "Conversation Index: 1166 130\n"
     ]
    },
    {
     "data": {
      "image/png": "[encoded data removed]",
      "text/plain": [
       "<Figure size 216x72 with 1 Axes>"
      ]
     },
     "metadata": {},
     "output_type": "display_data"
    },
    {
     "name": "stdout",
     "output_type": "stream",
     "text": [
      "[(99, 33, 221), (251, 106, 3), (47, 207, 100)]\n",
      "--------------------------\n",
      "Conversation Index: 9981 131\n"
     ]
    },
    {
     "data": {
      "image/png": "[encoded data removed]",
      "text/plain": [
       "<Figure size 216x72 with 1 Axes>"
      ]
     },
     "metadata": {},
     "output_type": "display_data"
    },
    {
     "name": "stdout",
     "output_type": "stream",
     "text": [
      "[(104, 150, 145), (174, 80, 155), (206, 61, 48)]\n",
      "--------------------------\n",
      "Conversation Index: 10223 132\n"
     ]
    },
    {
     "data": {
      "image/png": "[encoded data removed]",
      "text/plain": [
       "<Figure size 216x72 with 1 Axes>"
      ]
     },
     "metadata": {},
     "output_type": "display_data"
    },
    {
     "name": "stdout",
     "output_type": "stream",
     "text": [
      "[(81, 147, 173), (156, 253, 1), (116, 149, 105)]\n",
      "Director: A2W434UNNBRS4L\n",
      "Matcher: Thank you for submitting your MturkID. Now please provide me with the target description.\n",
      "Director: the blue one\n",
      "Matcher: [SELECT]\n",
      "1\n",
      "--------------------------\n",
      "Conversation Index: 8487 133\n"
     ]
    },
    {
     "data": {
      "image/png": "[encoded data removed]",
      "text/plain": [
       "<Figure size 216x72 with 1 Axes>"
      ]
     },
     "metadata": {},
     "output_type": "display_data"
    },
    {
     "name": "stdout",
     "output_type": "stream",
     "text": [
      "[(189, 112, 65), (219, 161, 35), (251, 3, 32)]\n",
      "Director: yellow\n",
      "Matcher: [SELECT]\n",
      "0\n",
      "--------------------------\n",
      "Conversation Index: 10236 134\n"
     ]
    },
    {
     "data": {
      "image/png": "[encoded data removed]",
      "text/plain": [
       "<Figure size 216x72 with 1 Axes>"
      ]
     },
     "metadata": {},
     "output_type": "display_data"
    },
    {
     "name": "stdout",
     "output_type": "stream",
     "text": [
      "[(155, 221, 33), (39, 229, 25), (36, 218, 97)]\n",
      "--------------------------\n",
      "Conversation Index: 13782 135\n"
     ]
    },
    {
     "data": {
      "image/png": "[encoded data removed]",
      "text/plain": [
       "<Figure size 216x72 with 1 Axes>"
      ]
     },
     "metadata": {},
     "output_type": "display_data"
    },
    {
     "name": "stdout",
     "output_type": "stream",
     "text": [
      "[(160, 94, 130), (31, 223, 133), (109, 52, 202)]\n",
      "Director: A20K99JZE0L8HU\n",
      "Matcher: Thank you for submitting your MturkID. Now please provide me with the target description.\n",
      "Director: it is the color patch without borders\n",
      "Matcher: I do not see the same ordering of color patches as you nor the black borders. Please provide me with a color description.\n",
      "Director: one color out of three is going to be bordered\n",
      "Matcher: I could not understand you.\n",
      "--------------------------\n",
      "Conversation Index: 10153 136\n"
     ]
    },
    {
     "data": {
      "image/png": "[encoded data removed]",
      "text/plain": [
       "<Figure size 216x72 with 1 Axes>"
      ]
     },
     "metadata": {},
     "output_type": "display_data"
    },
    {
     "name": "stdout",
     "output_type": "stream",
     "text": [
      "[(70, 184, 100), (189, 65, 123), (28, 226, 34)]\n",
      "Director: The green is a light color.\n",
      "Matcher: sea green or pink or bright green?\n",
      "Director: Sea green\n",
      "Matcher: [SELECT]\n",
      "1\n",
      "--------------------------\n",
      "Conversation Index: 7354 137\n"
     ]
    },
    {
     "data": {
      "image/png": "[encoded data removed]",
      "text/plain": [
       "<Figure size 216x72 with 1 Axes>"
      ]
     },
     "metadata": {},
     "output_type": "display_data"
    },
    {
     "name": "stdout",
     "output_type": "stream",
     "text": [
      "[(139, 248, 6), (28, 180, 226), (63, 191, 155)]\n",
      "Director: ASN25PIODXIPJ\n",
      "Matcher: Thank you for submitting your MturkID. Now please provide me with the target description.\n",
      "Director: yellow green\n",
      "Matcher: [SELECT]\n",
      "1\n",
      "--------------------------\n",
      "Conversation Index: 10779 138\n"
     ]
    },
    {
     "data": {
      "image/png": "[encoded data removed]",
      "text/plain": [
       "<Figure size 216x72 with 1 Axes>"
      ]
     },
     "metadata": {},
     "output_type": "display_data"
    },
    {
     "name": "stdout",
     "output_type": "stream",
     "text": [
      "[(127, 127, 127), (221, 152, 33), (85, 178, 76)]\n",
      "--------------------------\n",
      "Conversation Index: 13388 139\n"
     ]
    },
    {
     "data": {
      "image/png": "[encoded data removed]",
      "text/plain": [
       "<Figure size 216x72 with 1 Axes>"
      ]
     },
     "metadata": {},
     "output_type": "display_data"
    },
    {
     "name": "stdout",
     "output_type": "stream",
     "text": [
      "[(132, 45, 209), (19, 170, 235), (213, 20, 234)]\n",
      "Director: barney\n",
      "Matcher: The magenta?\n",
      "Director: purple\n",
      "Matcher: violet or blue or fuchsia?\n",
      "Director: violet\n",
      "Matcher: The indigo?\n",
      "Director: indigo\n",
      "Matcher: [SELECT]\n",
      "1\n",
      "--------------------------\n",
      "Conversation Index: 6772 140\n"
     ]
    },
    {
     "data": {
      "image/png": "[encoded data removed]",
      "text/plain": [
       "<Figure size 216x72 with 1 Axes>"
      ]
     },
     "metadata": {},
     "output_type": "display_data"
    },
    {
     "name": "stdout",
     "output_type": "stream",
     "text": [
      "[(156, 195, 59), (114, 80, 174), (36, 160, 218)]\n",
      "--------------------------\n",
      "Conversation Index: 1658 141\n"
     ]
    },
    {
     "data": {
      "image/png": "[encoded data removed]",
      "text/plain": [
       "<Figure size 216x72 with 1 Axes>"
      ]
     },
     "metadata": {},
     "output_type": "display_data"
    },
    {
     "name": "stdout",
     "output_type": "stream",
     "text": [
      "[(209, 51, 45), (154, 100, 106), (211, 43, 110)]\n",
      "Director: red\n",
      "Matcher: [SELECT]\n",
      "1\n",
      "--------------------------\n",
      "Conversation Index: 11764 142\n"
     ]
    },
    {
     "data": {
      "image/png": "[encoded data removed]",
      "text/plain": [
       "<Figure size 216x72 with 1 Axes>"
      ]
     },
     "metadata": {},
     "output_type": "display_data"
    },
    {
     "name": "stdout",
     "output_type": "stream",
     "text": [
      "[(169, 92, 85), (172, 103, 82), (230, 24, 82)]\n",
      "Director: Ash\n",
      "Matcher: I could not understand you.\n",
      "Director: Pink\n",
      "Matcher: [SELECT]\n",
      "0\n",
      "--------------------------\n",
      "Conversation Index: 5423 143\n"
     ]
    },
    {
     "data": {
      "image/png": "[encoded data removed]",
      "text/plain": [
       "<Figure size 216x72 with 1 Axes>"
      ]
     },
     "metadata": {},
     "output_type": "display_data"
    },
    {
     "name": "stdout",
     "output_type": "stream",
     "text": [
      "[(5, 98, 249), (252, 131, 2), (81, 184, 70)]\n",
      "--------------------------\n",
      "Conversation Index: 8715 144\n"
     ]
    },
    {
     "data": {
      "image/png": "[encoded data removed]",
      "text/plain": [
       "<Figure size 216x72 with 1 Axes>"
      ]
     },
     "metadata": {},
     "output_type": "display_data"
    },
    {
     "name": "stdout",
     "output_type": "stream",
     "text": [
      "[(252, 210, 2), (181, 73, 172), (50, 204, 193)]\n",
      "Director: A2UME0TSE7N41G\n",
      "Matcher: Thank you for submitting your MturkID. Now please provide me with the target description.\n",
      "Director: It is the brightest of the colors and the only one I would put on my hotdog\n",
      "Matcher: I could not understand you.\n",
      "Director: A2UME0TSE7N41G\n",
      "Matcher: Thank you for submitting your MturkID. Now please provide me with the target description.\n",
      "Director: It is the brightest\n",
      "Matcher: purple or yellow?\n",
      "Director: It goes on a hotdog\n",
      "Matcher: I could not understand you.\n",
      "Director: It is like the sun\n",
      "Matcher: I could not understand you.\n",
      "Director: It is shiny\n",
      "Matcher: I could not understand you.\n",
      "Director: A2UME0TSE7N41G\n",
      "Matcher: Thank you for submitting your MturkID. Now please provide me with the target description.\n",
      "Director: it is the brightest\n",
      "Matcher: The teal?\n",
      "Director: It starts with y\n",
      "Matcher: I could not understand you.\n",
      "Director: A2UME0TSE7N41G\n",
      "Matcher: Thank you for submitting your MturkID. Now please provide me with the target description.\n",
      "Director: It starts with y\n",
      "Matcher: I could not understand you.\n",
      "Director: A2UME0TSE7N41G\n",
      "Matcher: Thank you for submitting your MturkID. Now please provide me with the target description.\n",
      "Director: It is the brightest.  \n",
      "Matcher: magenta or blue or goldenrod?\n",
      "--------------------------\n",
      "Conversation Index: 291 145\n"
     ]
    },
    {
     "data": {
      "image/png": "[encoded data removed]",
      "text/plain": [
       "<Figure size 216x72 with 1 Axes>"
      ]
     },
     "metadata": {},
     "output_type": "display_data"
    },
    {
     "name": "stdout",
     "output_type": "stream",
     "text": [
      "[(148, 197, 57), (70, 184, 106), (160, 106, 94)]\n",
      "Director: the mostly yellowish one\n",
      "Matcher: [SELECT]\n",
      "1\n",
      "--------------------------\n",
      "Conversation Index: 1358 146\n"
     ]
    },
    {
     "data": {
      "image/png": "[encoded data removed]",
      "text/plain": [
       "<Figure size 216x72 with 1 Axes>"
      ]
     },
     "metadata": {},
     "output_type": "display_data"
    },
    {
     "name": "stdout",
     "output_type": "stream",
     "text": [
      "[(192, 235, 19), (183, 215, 39), (57, 243, 11)]\n",
      "Director: lime green\n",
      "Matcher: bright green or puke green or yellow?\n",
      "Director: puke green\n",
      "Matcher: The pea green?\n",
      "Director: no more yellow\n",
      "Matcher: [SELECT]\n",
      "1\n",
      "--------------------------\n",
      "Conversation Index: 11714 147\n"
     ]
    },
    {
     "data": {
      "image/png": "[encoded data removed]",
      "text/plain": [
       "<Figure size 216x72 with 1 Axes>"
      ]
     },
     "metadata": {},
     "output_type": "display_data"
    },
    {
     "name": "stdout",
     "output_type": "stream",
     "text": [
      "[(76, 72, 182), (87, 91, 167), (178, 115, 76)]\n",
      "Director: blue\n",
      "Matcher: The royal blue?\n",
      "Director: royal blue\n",
      "Matcher: deep blue or brown or periwinkle?\n",
      "Director: deep blue\n",
      "Matcher: [SELECT]\n",
      "1\n",
      "--------------------------\n",
      "Conversation Index: 1059 148\n"
     ]
    },
    {
     "data": {
      "image/png": "[encoded data removed]",
      "text/plain": [
       "<Figure size 216x72 with 1 Axes>"
      ]
     },
     "metadata": {},
     "output_type": "display_data"
    },
    {
     "name": "stdout",
     "output_type": "stream",
     "text": [
      "[(189, 187, 65), (79, 50, 204), (57, 148, 197)]\n",
      "Director: A1XCQA727LJVL2\n",
      "Matcher: Thank you for submitting your MturkID. Now please provide me with the target description.\n",
      "Director: Color is like a light olive green with a tinge of yellow\n",
      "Matcher: [SELECT]\n",
      "1\n",
      "--------------------------\n",
      "Conversation Index: 2319 149\n"
     ]
    },
    {
     "data": {
      "image/png": "[encoded data removed]",
      "text/plain": [
       "<Figure size 216x72 with 1 Axes>"
      ]
     },
     "metadata": {},
     "output_type": "display_data"
    },
    {
     "name": "stdout",
     "output_type": "stream",
     "text": [
      "[(68, 119, 186), (69, 19, 235), (150, 104, 120)]\n",
      "Director: A38ZLHQKD09JMM\n",
      "Matcher: Thank you for submitting your MturkID. Now please provide me with the target description.\n",
      "Director: a light blue...hints of gray\n",
      "Matcher: [SELECT]\n",
      "1\n",
      "--------------------------\n",
      "Conversation Index: 1100 150\n"
     ]
    },
    {
     "data": {
      "image/png": "[encoded data removed]",
      "text/plain": [
       "<Figure size 216x72 with 1 Axes>"
      ]
     },
     "metadata": {},
     "output_type": "display_data"
    },
    {
     "name": "stdout",
     "output_type": "stream",
     "text": [
      "[(154, 115, 100), (31, 223, 127), (123, 94, 160)]\n",
      "Director: A23K0YTNUJ0GKR\n",
      "Matcher: Thank you for submitting your MturkID. Now please provide me with the target description.\n",
      "--------------------------\n",
      "Conversation Index: 9056 151\n"
     ]
    },
    {
     "data": {
      "image/png": "[encoded data removed]",
      "text/plain": [
       "<Figure size 216x72 with 1 Axes>"
      ]
     },
     "metadata": {},
     "output_type": "display_data"
    },
    {
     "name": "stdout",
     "output_type": "stream",
     "text": [
      "[(248, 6, 50), (109, 119, 145), (53, 65, 201)]\n",
      "--------------------------\n",
      "Conversation Index: 8274 152\n"
     ]
    },
    {
     "data": {
      "image/png": "[encoded data removed]",
      "text/plain": [
       "<Figure size 216x72 with 1 Axes>"
      ]
     },
     "metadata": {},
     "output_type": "display_data"
    },
    {
     "name": "stdout",
     "output_type": "stream",
     "text": [
      "[(176, 188, 66), (127, 126, 128), (38, 127, 216)]\n",
      "--------------------------\n",
      "Conversation Index: 9186 153\n"
     ]
    },
    {
     "data": {
      "image/png": "[encoded data removed]",
      "text/plain": [
       "<Figure size 216x72 with 1 Axes>"
      ]
     },
     "metadata": {},
     "output_type": "display_data"
    },
    {
     "name": "stdout",
     "output_type": "stream",
     "text": [
      "[(117, 121, 137), (127, 127, 127), (45, 59, 209)]\n",
      "Director: blue gray\n",
      "Matcher: [SELECT]\n",
      "0\n",
      "--------------------------\n",
      "Conversation Index: 8176 154\n"
     ]
    },
    {
     "data": {
      "image/png": "[encoded data removed]",
      "text/plain": [
       "<Figure size 216x72 with 1 Axes>"
      ]
     },
     "metadata": {},
     "output_type": "display_data"
    },
    {
     "name": "stdout",
     "output_type": "stream",
     "text": [
      "[(186, 68, 139), (200, 54, 91), (147, 107, 128)]\n",
      "Director: A mix of pink and purple not the hot pink one either\n",
      "Matcher: [SELECT]\n",
      "1\n",
      "--------------------------\n",
      "Conversation Index: 11814 155\n"
     ]
    },
    {
     "data": {
      "image/png": "[encoded data removed]",
      "text/plain": [
       "<Figure size 216x72 with 1 Axes>"
      ]
     },
     "metadata": {},
     "output_type": "display_data"
    },
    {
     "name": "stdout",
     "output_type": "stream",
     "text": [
      "[(193, 61, 138), (37, 30, 224), (238, 57, 16)]\n",
      "Director: A3L7TVDAMZM0FG\n",
      "Matcher: Thank you for submitting your MturkID. Now please provide me with the target description.\n",
      "Director: Majanta\n",
      "Matcher: I could not understand you.\n",
      "Director: Light majanta\n",
      "Matcher: Do you mean pink or blue?\n",
      "Director: pink\n",
      "Matcher: [SELECT]\n",
      "1\n",
      "--------------------------\n",
      "Conversation Index: 9333 156\n"
     ]
    },
    {
     "data": {
      "image/png": "[encoded data removed]",
      "text/plain": [
       "<Figure size 216x72 with 1 Axes>"
      ]
     },
     "metadata": {},
     "output_type": "display_data"
    },
    {
     "name": "stdout",
     "output_type": "stream",
     "text": [
      "[(53, 201, 95), (135, 126, 119), (234, 170, 20)]\n",
      "Director: A3B8CHEB2ZS31K\n",
      "Matcher: Thank you for submitting your MturkID. Now please provide me with the target description.\n",
      "--------------------------\n",
      "Conversation Index: 5370 157\n"
     ]
    },
    {
     "data": {
      "image/png": "[encoded data removed]",
      "text/plain": [
       "<Figure size 216x72 with 1 Axes>"
      ]
     },
     "metadata": {},
     "output_type": "display_data"
    },
    {
     "name": "stdout",
     "output_type": "stream",
     "text": [
      "[(225, 29, 114), (246, 8, 155), (183, 71, 131)]\n",
      "Director: magenta\n",
      "Matcher: red or purple or hot pink?\n",
      "Director: hot pink\n",
      "Matcher: The pink?\n",
      "Director: pink\n",
      "Matcher: Do you mean bright pink ?\n",
      "Director: yes\n",
      "Matcher: [SELECT]\n",
      "0\n",
      "--------------------------\n",
      "Conversation Index: 5980 158\n"
     ]
    },
    {
     "data": {
      "image/png": "[encoded data removed]",
      "text/plain": [
       "<Figure size 216x72 with 1 Axes>"
      ]
     },
     "metadata": {},
     "output_type": "display_data"
    },
    {
     "name": "stdout",
     "output_type": "stream",
     "text": [
      "[(109, 102, 153), (219, 151, 35), (133, 114, 140)]\n",
      "Director: Purple\n",
      "Matcher: The blue?\n",
      "Director: Bright purple\n",
      "Matcher: periwinkle or orange or grey?\n",
      "Director: Periwinkle\n",
      "Matcher: [SELECT]\n",
      "1\n",
      "--------------------------\n",
      "Conversation Index: 7420 159\n"
     ]
    },
    {
     "data": {
      "image/png": "[encoded data removed]",
      "text/plain": [
       "<Figure size 216x72 with 1 Axes>"
      ]
     },
     "metadata": {},
     "output_type": "display_data"
    },
    {
     "name": "stdout",
     "output_type": "stream",
     "text": [
      "[(156, 98, 99), (98, 138, 156), (168, 86, 113)]\n",
      "Director: This color is kinda sandy\n",
      "Matcher: The brown?\n",
      "Director: Yes, that's it.\n",
      "Matcher: I could not understand you.\n",
      "Director: Yes, it is cloes to brown\n",
      "Matcher: taupe or blue or purple?\n",
      "Director: taupe\n",
      "Matcher: [SELECT]\n",
      "1\n",
      "--------------------------\n",
      "Conversation Index: 8899 160\n"
     ]
    },
    {
     "data": {
      "image/png": "[encoded data removed]",
      "text/plain": [
       "<Figure size 216x72 with 1 Axes>"
      ]
     },
     "metadata": {},
     "output_type": "display_data"
    },
    {
     "name": "stdout",
     "output_type": "stream",
     "text": [
      "[(127, 126, 128), (156, 114, 98), (142, 136, 112)]\n",
      "Director: closest to purple\n",
      "Matcher: [SELECT]\n",
      "0\n",
      "--------------------------\n",
      "Conversation Index: 4052 161\n"
     ]
    },
    {
     "data": {
      "image/png": "[encoded data removed]",
      "text/plain": [
       "<Figure size 216x72 with 1 Axes>"
      ]
     },
     "metadata": {},
     "output_type": "display_data"
    },
    {
     "name": "stdout",
     "output_type": "stream",
     "text": [
      "[(63, 191, 172), (100, 154, 130), (80, 206, 48)]\n",
      "Director: Bright aqua\n",
      "Matcher: [SELECT]\n",
      "1\n",
      "--------------------------\n",
      "Conversation Index: 5746 162\n"
     ]
    },
    {
     "data": {
      "image/png": "[encoded data removed]",
      "text/plain": [
       "<Figure size 216x72 with 1 Axes>"
      ]
     },
     "metadata": {},
     "output_type": "display_data"
    },
    {
     "name": "stdout",
     "output_type": "stream",
     "text": [
      "[(98, 223, 31), (123, 186, 68), (134, 62, 192)]\n",
      "Director: Green\n",
      "Matcher: Do you mean olive ?\n",
      "Director: No\n",
      "Matcher: lime green or purple or olive green?\n",
      "Director: Lime green\n",
      "Matcher: [SELECT]\n",
      "1\n",
      "--------------------------\n",
      "Conversation Index: 12772 163\n"
     ]
    },
    {
     "data": {
      "image/png": "[encoded data removed]",
      "text/plain": [
       "<Figure size 216x72 with 1 Axes>"
      ]
     },
     "metadata": {},
     "output_type": "display_data"
    },
    {
     "name": "stdout",
     "output_type": "stream",
     "text": [
      "[(83, 178, 76), (55, 230, 24), (161, 183, 71)]\n",
      "Director: Green\n",
      "Matcher: forest green or olive or bright green?\n",
      "Director: Forest green\n",
      "Matcher: [SELECT]\n",
      "1\n",
      "--------------------------\n",
      "Conversation Index: 5688 164\n"
     ]
    },
    {
     "data": {
      "image/png": "[encoded data removed]",
      "text/plain": [
       "<Figure size 216x72 with 1 Axes>"
      ]
     },
     "metadata": {},
     "output_type": "display_data"
    },
    {
     "name": "stdout",
     "output_type": "stream",
     "text": [
      "[(95, 159, 133), (134, 102, 153), (128, 127, 126)]\n",
      "--------------------------\n",
      "Conversation Index: 4625 165\n"
     ]
    },
    {
     "data": {
      "image/png": "[encoded data removed]",
      "text/plain": [
       "<Figure size 216x72 with 1 Axes>"
      ]
     },
     "metadata": {},
     "output_type": "display_data"
    },
    {
     "name": "stdout",
     "output_type": "stream",
     "text": [
      "[(138, 116, 138), (98, 148, 156), (62, 116, 192)]\n",
      "--------------------------\n",
      "Conversation Index: 11641 166\n"
     ]
    },
    {
     "data": {
      "image/png": "[encoded data removed]",
      "text/plain": [
       "<Figure size 216x72 with 1 Axes>"
      ]
     },
     "metadata": {},
     "output_type": "display_data"
    },
    {
     "name": "stdout",
     "output_type": "stream",
     "text": [
      "[(59, 179, 195), (20, 234, 34), (112, 142, 128)]\n",
      "Director: the color is blue\n",
      "Matcher: [SELECT]\n",
      "1\n",
      "--------------------------\n",
      "Conversation Index: 12596 167\n"
     ]
    },
    {
     "data": {
      "image/png": "[encoded data removed]",
      "text/plain": [
       "<Figure size 216x72 with 1 Axes>"
      ]
     },
     "metadata": {},
     "output_type": "display_data"
    },
    {
     "name": "stdout",
     "output_type": "stream",
     "text": [
      "[(237, 17, 109), (134, 17, 237), (148, 163, 91)]\n",
      "Director: A3QDZ935V5U31J\n",
      "Matcher: Thank you for submitting your MturkID. Now please provide me with the target description.\n",
      "Director: It is the color pink\n",
      "Matcher: [SELECT]\n",
      "1\n",
      "--------------------------\n",
      "Conversation Index: 4161 168\n"
     ]
    },
    {
     "data": {
      "image/png": "[encoded data removed]",
      "text/plain": [
       "<Figure size 216x72 with 1 Axes>"
      ]
     },
     "metadata": {},
     "output_type": "display_data"
    },
    {
     "name": "stdout",
     "output_type": "stream",
     "text": [
      "[(29, 225, 68), (25, 229, 178), (79, 175, 111)]\n",
      "Director: the color of grass\n",
      "Matcher: Do you mean forest green ?\n",
      "Director: brighter\n",
      "Matcher: pale green or teal or bright green?\n",
      "Director: bright green\n",
      "Matcher: [SELECT]\n",
      "1\n",
      "--------------------------\n",
      "Conversation Index: 9535 169\n"
     ]
    },
    {
     "data": {
      "image/png": "[encoded data removed]",
      "text/plain": [
       "<Figure size 216x72 with 1 Axes>"
      ]
     },
     "metadata": {},
     "output_type": "display_data"
    },
    {
     "name": "stdout",
     "output_type": "stream",
     "text": [
      "[(11, 228, 243), (105, 149, 117), (112, 99, 155)]\n",
      "Director: A1FG2G9TZSDN\n",
      "Matcher: Thank you for submitting your MturkID. Now please provide me with the target description.\n",
      "Director: the color patch that is the brightest\n",
      "Matcher: Do you mean purple ?\n",
      "Director: no\n",
      "Matcher: green or lavender or cyan?\n",
      "Director: turquoise\n",
      "Matcher: [SELECT]\n",
      "1\n",
      "--------------------------\n",
      "Conversation Index: 4288 170\n"
     ]
    },
    {
     "data": {
      "image/png": "[encoded data removed]",
      "text/plain": [
       "<Figure size 216x72 with 1 Axes>"
      ]
     },
     "metadata": {},
     "output_type": "display_data"
    },
    {
     "name": "stdout",
     "output_type": "stream",
     "text": [
      "[(155, 90, 164), (91, 163, 159), (183, 170, 71)]\n",
      "--------------------------\n",
      "Conversation Index: 8509 171\n"
     ]
    },
    {
     "data": {
      "image/png": "[encoded data removed]",
      "text/plain": [
       "<Figure size 216x72 with 1 Axes>"
      ]
     },
     "metadata": {},
     "output_type": "display_data"
    },
    {
     "name": "stdout",
     "output_type": "stream",
     "text": [
      "[(136, 71, 183), (121, 35, 219), (125, 94, 160)]\n",
      "Director: purple\n",
      "Matcher: magenta or lavender or blue?\n",
      "Director: purple without gray tones\n",
      "Matcher: I could not understand you.\n",
      "Director: lavender\n",
      "Matcher: Do you mean light purple ?\n",
      "Director: yes\n",
      "Matcher: Do you mean lilac ?\n",
      "Director: yes\n",
      "Matcher: [SELECT]\n",
      "0\n",
      "--------------------------\n",
      "Conversation Index: 4130 172\n"
     ]
    },
    {
     "data": {
      "image/png": "[encoded data removed]",
      "text/plain": [
       "<Figure size 216x72 with 1 Axes>"
      ]
     },
     "metadata": {},
     "output_type": "display_data"
    },
    {
     "name": "stdout",
     "output_type": "stream",
     "text": [
      "[(102, 116, 153), (125, 124, 130), (100, 101, 154)]\n",
      "Director: purple\n",
      "Matcher: [SELECT]\n",
      "0\n",
      "--------------------------\n",
      "Conversation Index: 2527 173\n"
     ]
    },
    {
     "data": {
      "image/png": "[encoded data removed]",
      "text/plain": [
       "<Figure size 216x72 with 1 Axes>"
      ]
     },
     "metadata": {},
     "output_type": "display_data"
    },
    {
     "name": "stdout",
     "output_type": "stream",
     "text": [
      "[(151, 173, 81), (105, 168, 86), (146, 138, 108)]\n",
      "Director: green\n",
      "Matcher: [SELECT]\n",
      "0\n",
      "--------------------------\n",
      "Conversation Index: 7608 174\n"
     ]
    },
    {
     "data": {
      "image/png": "[encoded data removed]",
      "text/plain": [
       "<Figure size 216x72 with 1 Axes>"
      ]
     },
     "metadata": {},
     "output_type": "display_data"
    },
    {
     "name": "stdout",
     "output_type": "stream",
     "text": [
      "[(137, 134, 117), (219, 51, 35), (145, 90, 164)]\n",
      "Director: AVASQBFN6J692\n",
      "Matcher: Thank you for submitting your MturkID. Now please provide me with the target description.\n",
      "Director: its a relaxing color that also is an essential oil and is a pale color\n",
      "Matcher: Do you mean grey ?\n",
      "Director: yes\n",
      "Matcher: [SELECT]\n",
      "1\n",
      "--------------------------\n",
      "Conversation Index: 1963 175\n"
     ]
    },
    {
     "data": {
      "image/png": "[encoded data removed]",
      "text/plain": [
       "<Figure size 216x72 with 1 Axes>"
      ]
     },
     "metadata": {},
     "output_type": "display_data"
    },
    {
     "name": "stdout",
     "output_type": "stream",
     "text": [
      "[(189, 29, 225), (105, 80, 174), (175, 73, 181)]\n",
      "Director: light bright pink\n",
      "Matcher: [SELECT]\n",
      "1\n",
      "--------------------------\n",
      "Conversation Index: 10148 176\n"
     ]
    },
    {
     "data": {
      "image/png": "[encoded data removed]",
      "text/plain": [
       "<Figure size 216x72 with 1 Axes>"
      ]
     },
     "metadata": {},
     "output_type": "display_data"
    },
    {
     "name": "stdout",
     "output_type": "stream",
     "text": [
      "[(7, 79, 247), (107, 72, 182), (135, 80, 174)]\n",
      "Director: Blue\n",
      "Matcher: [SELECT]\n",
      "1\n",
      "--------------------------\n",
      "Conversation Index: 8327 177\n"
     ]
    },
    {
     "data": {
      "image/png": "[encoded data removed]",
      "text/plain": [
       "<Figure size 216x72 with 1 Axes>"
      ]
     },
     "metadata": {},
     "output_type": "display_data"
    },
    {
     "name": "stdout",
     "output_type": "stream",
     "text": [
      "[(215, 39, 186), (159, 169, 85), (26, 228, 97)]\n",
      "Director: A39J5RLVDTM6SM\n",
      "Matcher: Thank you for submitting your MturkID. Now please provide me with the target description.\n",
      "--------------------------\n",
      "Conversation Index: 8600 178\n"
     ]
    },
    {
     "data": {
      "image/png": "[encoded data removed]",
      "text/plain": [
       "<Figure size 216x72 with 1 Axes>"
      ]
     },
     "metadata": {},
     "output_type": "display_data"
    },
    {
     "name": "stdout",
     "output_type": "stream",
     "text": [
      "[(123, 127, 131), (132, 132, 122), (141, 113, 124)]\n",
      "Director: It's sort of a bluish gray, not greenish, nor purple-ish.  Also was I supposed to put my Mturk ID in the last round?  Anyway it's A1LVYEU1MRRDID?\n",
      "Matcher: I could not understand you.\n",
      "--------------------------\n",
      "Conversation Index: 5753 179\n"
     ]
    },
    {
     "data": {
      "image/png": "[encoded data removed]",
      "text/plain": [
       "<Figure size 216x72 with 1 Axes>"
      ]
     },
     "metadata": {},
     "output_type": "display_data"
    },
    {
     "name": "stdout",
     "output_type": "stream",
     "text": [
      "[(114, 140, 118), (112, 142, 136), (100, 154, 123)]\n",
      "Director: dark grey green\n",
      "Matcher: [SELECT]\n",
      "1\n",
      "--------------------------\n",
      "Conversation Index: 11046 180\n"
     ]
    },
    {
     "data": {
      "image/png": "[encoded data removed]",
      "text/plain": [
       "<Figure size 216x72 with 1 Axes>"
      ]
     },
     "metadata": {},
     "output_type": "display_data"
    },
    {
     "name": "stdout",
     "output_type": "stream",
     "text": [
      "[(213, 28, 226), (125, 119, 135), (28, 226, 47)]\n",
      "Director: A3M40SGP17FJJM\n",
      "Matcher: Thank you for submitting your MturkID. Now please provide me with the target description.\n",
      "Director: One color is shorter in height than the others.\n",
      "Matcher: I could not understand you.\n",
      "Director: Shorter height\n",
      "Matcher: I could not understand you.\n",
      "Director: Missing color at the top and bottom\n",
      "Matcher: I could not understand you.\n",
      "Director: Smaller color\n",
      "Matcher: I could not understand you.\n",
      "Director: Dog\n",
      "Matcher: I could not understand you.\n",
      "Director: I could not understand you.\n",
      "Matcher: I could not understand you.\n",
      "Director: Pink\n",
      "Matcher: [SELECT]\n",
      "1\n",
      "--------------------------\n",
      "Conversation Index: 9762 181\n"
     ]
    },
    {
     "data": {
      "image/png": "[encoded data removed]",
      "text/plain": [
       "<Figure size 216x72 with 1 Axes>"
      ]
     },
     "metadata": {},
     "output_type": "display_data"
    },
    {
     "name": "stdout",
     "output_type": "stream",
     "text": [
      "[(38, 216, 169), (87, 167, 138), (102, 153, 129)]\n",
      "Director: teal\n",
      "Matcher: The aqua?\n",
      "Director: neon\n",
      "Matcher: I could not understand you.\n",
      "Director: aqua\n",
      "Matcher: turquoise or grey green or dark cyan?\n",
      "Director: turquoise\n",
      "Matcher: [SELECT]\n",
      "1\n",
      "--------------------------\n",
      "Conversation Index: 10020 182\n"
     ]
    },
    {
     "data": {
      "image/png": "[encoded data removed]",
      "text/plain": [
       "<Figure size 216x72 with 1 Axes>"
      ]
     },
     "metadata": {},
     "output_type": "display_data"
    },
    {
     "name": "stdout",
     "output_type": "stream",
     "text": [
      "[(123, 20, 234), (100, 89, 165), (19, 55, 235)]\n",
      "Director: bright purple\n",
      "Matcher: [SELECT]\n",
      "1\n",
      "--------------------------\n",
      "Conversation Index: 7750 183\n"
     ]
    },
    {
     "data": {
      "image/png": "[encoded data removed]",
      "text/plain": [
       "<Figure size 216x72 with 1 Axes>"
      ]
     },
     "metadata": {},
     "output_type": "display_data"
    },
    {
     "name": "stdout",
     "output_type": "stream",
     "text": [
      "[(128, 126, 127), (20, 202, 234), (244, 10, 233)]\n",
      "Director: AP9GRAU77J5G\n",
      "Matcher: Thank you for submitting your MturkID. Now please provide me with the target description.\n",
      "Director: It's the color that is neither blue nor pink\n",
      "Matcher: [SELECT]\n",
      "0\n",
      "--------------------------\n",
      "Conversation Index: 699 184\n"
     ]
    },
    {
     "data": {
      "image/png": "[encoded data removed]",
      "text/plain": [
       "<Figure size 216x72 with 1 Axes>"
      ]
     },
     "metadata": {},
     "output_type": "display_data"
    },
    {
     "name": "stdout",
     "output_type": "stream",
     "text": [
      "[(115, 113, 141), (42, 212, 113), (127, 127, 127)]\n",
      "Director: grey\n",
      "Matcher: [SELECT]\n",
      "0\n",
      "--------------------------\n",
      "Conversation Index: 739 185\n"
     ]
    },
    {
     "data": {
      "image/png": "[encoded data removed]",
      "text/plain": [
       "<Figure size 216x72 with 1 Axes>"
      ]
     },
     "metadata": {},
     "output_type": "display_data"
    },
    {
     "name": "stdout",
     "output_type": "stream",
     "text": [
      "[(7, 247, 175), (43, 211, 65), (97, 216, 38)]\n",
      "Director: teal\n",
      "Matcher: [SELECT]\n",
      "1\n",
      "--------------------------\n",
      "Conversation Index: 11064 186\n"
     ]
    },
    {
     "data": {
      "image/png": "[encoded data removed]",
      "text/plain": [
       "<Figure size 216x72 with 1 Axes>"
      ]
     },
     "metadata": {},
     "output_type": "display_data"
    },
    {
     "name": "stdout",
     "output_type": "stream",
     "text": [
      "[(91, 163, 97), (90, 164, 139), (133, 175, 79)]\n",
      "Director: green\n",
      "Matcher: The forest green?\n",
      "Director: forest green\n",
      "Matcher: dark green or teal or olive?\n",
      "Director: olive\n",
      "Matcher: The mint green?\n",
      "Director: no\n",
      "Matcher: Do you mean olive green ?\n",
      "Director: olive green\n",
      "Matcher: [SELECT]\n",
      "0\n",
      "--------------------------\n",
      "Conversation Index: 1509 187\n"
     ]
    },
    {
     "data": {
      "image/png": "[encoded data removed]",
      "text/plain": [
       "<Figure size 216x72 with 1 Axes>"
      ]
     },
     "metadata": {},
     "output_type": "display_data"
    },
    {
     "name": "stdout",
     "output_type": "stream",
     "text": [
      "[(117, 137, 136), (123, 123, 131), (138, 121, 116)]\n",
      "Director: It's the one most reminiscent of what you would think sea foam to be\n",
      "Matcher: [SELECT]\n",
      "1\n",
      "--------------------------\n",
      "Conversation Index: 11420 188\n"
     ]
    },
    {
     "data": {
      "image/png": "[encoded data removed]",
      "text/plain": [
       "<Figure size 216x72 with 1 Axes>"
      ]
     },
     "metadata": {},
     "output_type": "display_data"
    },
    {
     "name": "stdout",
     "output_type": "stream",
     "text": [
      "[(3, 106, 251), (183, 71, 120), (116, 118, 138)]\n",
      "Director: A1LDO8EYGXOA9D\n",
      "Matcher: Thank you for submitting your MturkID. Now please provide me with the target description.\n",
      "Director: The color is a combination of yellow and green. It is on the american flag along with red and white. It is the color of the deep sea\n",
      "Matcher: [SELECT]\n",
      "1\n",
      "--------------------------\n",
      "Conversation Index: 12361 189\n"
     ]
    },
    {
     "data": {
      "image/png": "[encoded data removed]",
      "text/plain": [
       "<Figure size 216x72 with 1 Axes>"
      ]
     },
     "metadata": {},
     "output_type": "display_data"
    },
    {
     "name": "stdout",
     "output_type": "stream",
     "text": [
      "[(114, 130, 140), (246, 8, 206), (107, 5, 249)]\n",
      "--------------------------\n",
      "Conversation Index: 8965 190\n"
     ]
    },
    {
     "data": {
      "image/png": "[encoded data removed]",
      "text/plain": [
       "<Figure size 216x72 with 1 Axes>"
      ]
     },
     "metadata": {},
     "output_type": "display_data"
    },
    {
     "name": "stdout",
     "output_type": "stream",
     "text": [
      "[(235, 105, 19), (150, 104, 130), (35, 161, 219)]\n",
      "--------------------------\n",
      "Conversation Index: 113 191\n"
     ]
    },
    {
     "data": {
      "image/png": "[encoded data removed]",
      "text/plain": [
       "<Figure size 216x72 with 1 Axes>"
      ]
     },
     "metadata": {},
     "output_type": "display_data"
    },
    {
     "name": "stdout",
     "output_type": "stream",
     "text": [
      "[(169, 135, 85), (169, 169, 85), (212, 173, 42)]\n",
      "Director: tan\n",
      "Matcher: [SELECT]\n",
      "1\n",
      "--------------------------\n",
      "Conversation Index: 2366 192\n"
     ]
    },
    {
     "data": {
      "image/png": "[encoded data removed]",
      "text/plain": [
       "<Figure size 216x72 with 1 Axes>"
      ]
     },
     "metadata": {},
     "output_type": "display_data"
    },
    {
     "name": "stdout",
     "output_type": "stream",
     "text": [
      "[(123, 113, 141), (127, 45, 209), (81, 173, 165)]\n",
      "Director: A2H0VR477QHYO7\n",
      "Matcher: Thank you for submitting your MturkID. Now please provide me with the target description.\n",
      "Director: medium to light shade of Prince's favorite color. You will see this color in the latter phase of a sunset.\n",
      "Matcher: I could not understand you.\n",
      "--------------------------\n",
      "Conversation Index: 4797 193\n"
     ]
    },
    {
     "data": {
      "image/png": "[encoded data removed]",
      "text/plain": [
       "<Figure size 216x72 with 1 Axes>"
      ]
     },
     "metadata": {},
     "output_type": "display_data"
    },
    {
     "name": "stdout",
     "output_type": "stream",
     "text": [
      "[(209, 173, 45), (139, 173, 81), (148, 158, 96)]\n",
      "Director: It's a yellow that is a light yellow than the actual yellow color. \n",
      "Matcher: [SELECT]\n",
      "1\n",
      "--------------------------\n",
      "Conversation Index: 5164 194\n"
     ]
    },
    {
     "data": {
      "image/png": "[encoded data removed]",
      "text/plain": [
       "<Figure size 216x72 with 1 Axes>"
      ]
     },
     "metadata": {},
     "output_type": "display_data"
    },
    {
     "name": "stdout",
     "output_type": "stream",
     "text": [
      "[(242, 12, 51), (214, 87, 40), (248, 54, 6)]\n",
      "Director: pink\n",
      "Matcher: [SELECT]\n",
      "1\n",
      "--------------------------\n",
      "Conversation Index: 13527 195\n"
     ]
    },
    {
     "data": {
      "image/png": "[encoded data removed]",
      "text/plain": [
       "<Figure size 216x72 with 1 Axes>"
      ]
     },
     "metadata": {},
     "output_type": "display_data"
    },
    {
     "name": "stdout",
     "output_type": "stream",
     "text": [
      "[(20, 213, 234), (77, 94, 177), (153, 155, 99)]\n",
      "--------------------------\n",
      "Conversation Index: 9054 196\n"
     ]
    },
    {
     "data": {
      "image/png": "[encoded data removed]",
      "text/plain": [
       "<Figure size 216x72 with 1 Axes>"
      ]
     },
     "metadata": {},
     "output_type": "display_data"
    },
    {
     "name": "stdout",
     "output_type": "stream",
     "text": [
      "[(86, 100, 168), (106, 81, 173), (50, 79, 204)]\n",
      "Director: blue\n",
      "Matcher: [SELECT]\n",
      "0\n",
      "--------------------------\n",
      "Conversation Index: 337 197\n"
     ]
    },
    {
     "data": {
      "image/png": "[encoded data removed]",
      "text/plain": [
       "<Figure size 216x72 with 1 Axes>"
      ]
     },
     "metadata": {},
     "output_type": "display_data"
    },
    {
     "name": "stdout",
     "output_type": "stream",
     "text": [
      "[(197, 57, 118), (175, 79, 91), (159, 95, 98)]\n",
      "Director: It's the hottest, brightest pink\n",
      "Matcher: [SELECT]\n",
      "1\n",
      "--------------------------\n",
      "Conversation Index: 11124 198\n"
     ]
    },
    {
     "data": {
      "image/png": "[encoded data removed]",
      "text/plain": [
       "<Figure size 216x72 with 1 Axes>"
      ]
     },
     "metadata": {},
     "output_type": "display_data"
    },
    {
     "name": "stdout",
     "output_type": "stream",
     "text": [
      "[(164, 90, 159), (129, 123, 131), (237, 17, 204)]\n",
      "Director: lavender\n",
      "Matcher: [SELECT]\n",
      "1\n",
      "--------------------------\n",
      "Conversation Index: 7505 199\n"
     ]
    },
    {
     "data": {
      "image/png": "[encoded data removed]",
      "text/plain": [
       "<Figure size 216x72 with 1 Axes>"
      ]
     },
     "metadata": {},
     "output_type": "display_data"
    },
    {
     "name": "stdout",
     "output_type": "stream",
     "text": [
      "[(47, 35, 219), (129, 130, 124), (130, 47, 207)]\n",
      "Director: blue\n",
      "Matcher: [SELECT]\n",
      "1\n",
      "--------------------------\n",
      "Conversation Index: 7937 200\n"
     ]
    },
    {
     "data": {
      "image/png": "[encoded data removed]",
      "text/plain": [
       "<Figure size 216x72 with 1 Axes>"
      ]
     },
     "metadata": {},
     "output_type": "display_data"
    },
    {
     "name": "stdout",
     "output_type": "stream",
     "text": [
      "[(190, 202, 52), (44, 230, 24), (38, 216, 70)]\n",
      "Director: pick the greenish yellow color\n",
      "Matcher: [SELECT]\n",
      "1\n",
      "--------------------------\n",
      "Conversation Index: 13782 201\n"
     ]
    },
    {
     "data": {
      "image/png": "[encoded data removed]",
      "text/plain": [
       "<Figure size 216x72 with 1 Axes>"
      ]
     },
     "metadata": {},
     "output_type": "display_data"
    },
    {
     "name": "stdout",
     "output_type": "stream",
     "text": [
      "[(160, 94, 130), (31, 223, 133), (109, 52, 202)]\n",
      "Director: purple\n",
      "Matcher: Do you mean blue ?\n",
      "Director: no\n",
      "Matcher: mauve or green or indigo?\n",
      "Director: no\n",
      "Matcher: Do you mean lavender ?\n",
      "Director: yes\n",
      "Matcher: [SELECT]\n",
      "1\n",
      "--------------------------\n",
      "Conversation Index: 1968 202\n"
     ]
    },
    {
     "data": {
      "image/png": "[encoded data removed]",
      "text/plain": [
       "<Figure size 216x72 with 1 Axes>"
      ]
     },
     "metadata": {},
     "output_type": "display_data"
    },
    {
     "name": "stdout",
     "output_type": "stream",
     "text": [
      "[(137, 117, 118), (136, 127, 118), (119, 116, 138)]\n",
      "Director: The target color patch is light brown.\n",
      "Matcher: The mauve?\n",
      "Director: Yes.\n",
      "Matcher: [SELECT]\n",
      "1\n",
      "--------------------------\n",
      "Conversation Index: 8324 203\n"
     ]
    },
    {
     "data": {
      "image/png": "[encoded data removed]",
      "text/plain": [
       "<Figure size 216x72 with 1 Axes>"
      ]
     },
     "metadata": {},
     "output_type": "display_data"
    },
    {
     "name": "stdout",
     "output_type": "stream",
     "text": [
      "[(44, 212, 42), (123, 125, 131), (116, 150, 104)]\n",
      "--------------------------\n",
      "Conversation Index: 3198 204\n"
     ]
    },
    {
     "data": {
      "image/png": "[encoded data removed]",
      "text/plain": [
       "<Figure size 216x72 with 1 Axes>"
      ]
     },
     "metadata": {},
     "output_type": "display_data"
    },
    {
     "name": "stdout",
     "output_type": "stream",
     "text": [
      "[(127, 127, 127), (122, 132, 131), (103, 110, 151)]\n",
      "Director: the color of steel\n",
      "Matcher: Do you mean slate grey ?\n",
      "Director: yes\n",
      "Matcher: [SELECT]\n",
      "0\n",
      "--------------------------\n",
      "Conversation Index: 10981 205\n"
     ]
    },
    {
     "data": {
      "image/png": "[encoded data removed]",
      "text/plain": [
       "<Figure size 216x72 with 1 Axes>"
      ]
     },
     "metadata": {},
     "output_type": "display_data"
    },
    {
     "name": "stdout",
     "output_type": "stream",
     "text": [
      "[(223, 188, 31), (6, 151, 248), (127, 3, 251)]\n",
      "--------------------------\n",
      "Conversation Index: 8661 206\n"
     ]
    },
    {
     "data": {
      "image/png": "[encoded data removed]",
      "text/plain": [
       "<Figure size 216x72 with 1 Axes>"
      ]
     },
     "metadata": {},
     "output_type": "display_data"
    },
    {
     "name": "stdout",
     "output_type": "stream",
     "text": [
      "[(112, 237, 17), (131, 125, 123), (63, 159, 191)]\n",
      "--------------------------\n",
      "Conversation Index: 8573 207\n"
     ]
    },
    {
     "data": {
      "image/png": "[encoded data removed]",
      "text/plain": [
       "<Figure size 216x72 with 1 Axes>"
      ]
     },
     "metadata": {},
     "output_type": "display_data"
    },
    {
     "name": "stdout",
     "output_type": "stream",
     "text": [
      "[(94, 97, 160), (201, 53, 196), (79, 223, 31)]\n",
      "Director: A5IVXEND57C2R\n",
      "Matcher: Thank you for submitting your MturkID. Now please provide me with the target description.\n",
      "Director: metallic blue\n",
      "Matcher: [SELECT]\n",
      "1\n",
      "--------------------------\n",
      "Conversation Index: 12947 208\n"
     ]
    },
    {
     "data": {
      "image/png": "[encoded data removed]",
      "text/plain": [
       "<Figure size 216x72 with 1 Axes>"
      ]
     },
     "metadata": {},
     "output_type": "display_data"
    },
    {
     "name": "stdout",
     "output_type": "stream",
     "text": [
      "[(134, 94, 160), (179, 75, 78), (106, 65, 189)]\n",
      "Director: Violet\n",
      "Matcher: blue or red or purple?\n",
      "Director: Purple\n",
      "Matcher: Do you mean lavender ?\n",
      "Director: Lavender\n",
      "Matcher: Do you mean light purple ?\n",
      "Director: Lavender\n",
      "Matcher: [SELECT]\n",
      "1\n",
      "--------------------------\n",
      "Conversation Index: 8013 209\n"
     ]
    },
    {
     "data": {
      "image/png": "[encoded data removed]",
      "text/plain": [
       "<Figure size 216x72 with 1 Axes>"
      ]
     },
     "metadata": {},
     "output_type": "display_data"
    },
    {
     "name": "stdout",
     "output_type": "stream",
     "text": [
      "[(65, 189, 73), (103, 87, 167), (108, 143, 146)]\n",
      "--------------------------\n",
      "Conversation Index: 7499 210\n"
     ]
    },
    {
     "data": {
      "image/png": "[encoded data removed]",
      "text/plain": [
       "<Figure size 216x72 with 1 Axes>"
      ]
     },
     "metadata": {},
     "output_type": "display_data"
    },
    {
     "name": "stdout",
     "output_type": "stream",
     "text": [
      "[(117, 99, 155), (53, 201, 154), (91, 20, 234)]\n",
      "Director: AG2YM9OWQP690\n",
      "Matcher: Thank you for submitting your MturkID. Now please provide me with the target description.\n",
      "Director: it is not green\n",
      "Matcher: Do you mean purple ?\n",
      "Director: it is lighter shade of purple not the dark\n",
      "Matcher: lavender or teal or blue?\n",
      "Director: lavender\n",
      "Matcher: [SELECT]\n",
      "1\n",
      "--------------------------\n",
      "Conversation Index: 4443 211\n"
     ]
    },
    {
     "data": {
      "image/png": "[encoded data removed]",
      "text/plain": [
       "<Figure size 216x72 with 1 Axes>"
      ]
     },
     "metadata": {},
     "output_type": "display_data"
    },
    {
     "name": "stdout",
     "output_type": "stream",
     "text": [
      "[(80, 147, 174), (73, 181, 73), (108, 144, 146)]\n",
      "Director: The color of the sea\n",
      "Matcher: The blue?\n",
      "Director: If it matches the sky\n",
      "Matcher: light blue or green or grey?\n",
      "Director: A boy color at birth\n",
      "Matcher: I could not understand you.\n",
      "Director: Its the color of the sky.\n",
      "Matcher: The sky blue?\n",
      "Director: Yes\n",
      "Matcher: [SELECT]\n",
      "1\n",
      "--------------------------\n",
      "Conversation Index: 11908 212\n"
     ]
    },
    {
     "data": {
      "image/png": "[encoded data removed]",
      "text/plain": [
       "<Figure size 216x72 with 1 Axes>"
      ]
     },
     "metadata": {},
     "output_type": "display_data"
    },
    {
     "name": "stdout",
     "output_type": "stream",
     "text": [
      "[(184, 191, 63), (122, 204, 50), (126, 144, 110)]\n",
      "Director: pea green\n",
      "Matcher: [SELECT]\n",
      "1\n",
      "--------------------------\n",
      "Conversation Index: 8831 213\n"
     ]
    },
    {
     "data": {
      "image/png": "[encoded data removed]",
      "text/plain": [
       "<Figure size 216x72 with 1 Axes>"
      ]
     },
     "metadata": {},
     "output_type": "display_data"
    },
    {
     "name": "stdout",
     "output_type": "stream",
     "text": [
      "[(114, 140, 127), (106, 156, 98), (99, 155, 133)]\n",
      "Director: lightest color\n",
      "Matcher: Do you mean green or teal?\n",
      "Director: teal\n",
      "Matcher: [SELECT]\n",
      "0\n",
      "--------------------------\n",
      "Conversation Index: 3390 214\n"
     ]
    },
    {
     "data": {
      "image/png": "[encoded data removed]",
      "text/plain": [
       "<Figure size 216x72 with 1 Axes>"
      ]
     },
     "metadata": {},
     "output_type": "display_data"
    },
    {
     "name": "stdout",
     "output_type": "stream",
     "text": [
      "[(124, 112, 142), (136, 118, 128), (145, 109, 141)]\n",
      "Director: darkest shade of purple\n",
      "Matcher: [SELECT]\n",
      "0\n",
      "--------------------------\n",
      "Conversation Index: 11066 215\n"
     ]
    },
    {
     "data": {
      "image/png": "[encoded data removed]",
      "text/plain": [
       "<Figure size 216x72 with 1 Axes>"
      ]
     },
     "metadata": {},
     "output_type": "display_data"
    },
    {
     "name": "stdout",
     "output_type": "stream",
     "text": [
      "[(106, 71, 183), (113, 109, 145), (122, 98, 156)]\n",
      "Director: It's the deeper, darker purple one\n",
      "Matcher: The lavender?\n",
      "Director: Yes, the darker one\n",
      "Matcher: [SELECT]\n",
      "0\n",
      "--------------------------\n",
      "Conversation Index: 5589 216\n"
     ]
    },
    {
     "data": {
      "image/png": "[encoded data removed]",
      "text/plain": [
       "<Figure size 216x72 with 1 Axes>"
      ]
     },
     "metadata": {},
     "output_type": "display_data"
    },
    {
     "name": "stdout",
     "output_type": "stream",
     "text": [
      "[(1, 253, 1), (151, 103, 135), (86, 33, 221)]\n",
      "Director: A2R89RXGEVG05I\n",
      "Matcher: Thank you for submitting your MturkID. Now please provide me with the target description.\n",
      "Director: it is green\n",
      "Matcher: [SELECT]\n",
      "1\n",
      "--------------------------\n",
      "Conversation Index: 9523 217\n"
     ]
    },
    {
     "data": {
      "image/png": "[encoded data removed]",
      "text/plain": [
       "<Figure size 216x72 with 1 Axes>"
      ]
     },
     "metadata": {},
     "output_type": "display_data"
    },
    {
     "name": "stdout",
     "output_type": "stream",
     "text": [
      "[(128, 133, 121), (24, 230, 68), (96, 158, 114)]\n",
      "Director: dark green\n",
      "Matcher: [SELECT]\n",
      "0\n",
      "--------------------------\n",
      "Conversation Index: 2011 218\n"
     ]
    },
    {
     "data": {
      "image/png": "[encoded data removed]",
      "text/plain": [
       "<Figure size 216x72 with 1 Axes>"
      ]
     },
     "metadata": {},
     "output_type": "display_data"
    },
    {
     "name": "stdout",
     "output_type": "stream",
     "text": [
      "[(181, 73, 88), (204, 223, 31), (235, 19, 87)]\n",
      "Director: It's the dull, reddish-brown one\n",
      "Matcher: [SELECT]\n",
      "1\n",
      "--------------------------\n",
      "Conversation Index: 12739 219\n"
     ]
    },
    {
     "data": {
      "image/png": "[encoded data removed]",
      "text/plain": [
       "<Figure size 216x72 with 1 Axes>"
      ]
     },
     "metadata": {},
     "output_type": "display_data"
    },
    {
     "name": "stdout",
     "output_type": "stream",
     "text": [
      "[(228, 26, 73), (183, 73, 71), (228, 26, 100)]\n",
      "Director: pink\n",
      "Matcher: [SELECT]\n",
      "0\n",
      "--------------------------\n",
      "Conversation Index: 3113 220\n"
     ]
    },
    {
     "data": {
      "image/png": "[encoded data removed]",
      "text/plain": [
       "<Figure size 216x72 with 1 Axes>"
      ]
     },
     "metadata": {},
     "output_type": "display_data"
    },
    {
     "name": "stdout",
     "output_type": "stream",
     "text": [
      "[(103, 187, 67), (175, 79, 96), (188, 19, 235)]\n",
      "Director: A2R0Y8A3SSZ30S\n",
      "Matcher: Thank you for submitting your MturkID. Now please provide me with the target description.\n",
      "Director: the color of grass\n",
      "Matcher: [SELECT]\n",
      "1\n",
      "--------------------------\n",
      "Conversation Index: 13513 221\n"
     ]
    },
    {
     "data": {
      "image/png": "[encoded data removed]",
      "text/plain": [
       "<Figure size 216x72 with 1 Axes>"
      ]
     },
     "metadata": {},
     "output_type": "display_data"
    },
    {
     "name": "stdout",
     "output_type": "stream",
     "text": [
      "[(136, 165, 89), (96, 77, 177), (26, 228, 157)]\n",
      "--------------------------\n",
      "Conversation Index: 10045 222\n"
     ]
    },
    {
     "data": {
      "image/png": "[encoded data removed]",
      "text/plain": [
       "<Figure size 216x72 with 1 Axes>"
      ]
     },
     "metadata": {},
     "output_type": "display_data"
    },
    {
     "name": "stdout",
     "output_type": "stream",
     "text": [
      "[(66, 162, 188), (144, 110, 117), (116, 21, 233)]\n",
      "Director: A25R2OI9L2Q1OW\n",
      "Matcher: Thank you for submitting your MturkID. Now please provide me with the target description.\n",
      "--------------------------\n",
      "Conversation Index: 5680 223\n"
     ]
    },
    {
     "data": {
      "image/png": "[encoded data removed]",
      "text/plain": [
       "<Figure size 216x72 with 1 Axes>"
      ]
     },
     "metadata": {},
     "output_type": "display_data"
    },
    {
     "name": "stdout",
     "output_type": "stream",
     "text": [
      "[(138, 160, 94), (186, 207, 47), (160, 170, 84)]\n",
      "Director: This is a dark green. It is like a military green. \n",
      "Matcher: [SELECT]\n",
      "1\n",
      "--------------------------\n",
      "Conversation Index: 3837 224\n"
     ]
    },
    {
     "data": {
      "image/png": "[encoded data removed]",
      "text/plain": [
       "<Figure size 216x72 with 1 Axes>"
      ]
     },
     "metadata": {},
     "output_type": "display_data"
    },
    {
     "name": "stdout",
     "output_type": "stream",
     "text": [
      "[(74, 196, 58), (96, 168, 86), (174, 39, 215)]\n",
      "Director: Lime green\n",
      "Matcher: [SELECT]\n",
      "1\n",
      "--------------------------\n",
      "Conversation Index: 2681 225\n"
     ]
    },
    {
     "data": {
      "image/png": "[encoded data removed]",
      "text/plain": [
       "<Figure size 216x72 with 1 Axes>"
      ]
     },
     "metadata": {},
     "output_type": "display_data"
    },
    {
     "name": "stdout",
     "output_type": "stream",
     "text": [
      "[(67, 169, 187), (34, 220, 180), (175, 79, 83)]\n",
      "Director: ASNMT3I94HZ44\n",
      "Matcher: Thank you for submitting your MturkID. Now please provide me with the target description.\n",
      "--------------------------\n",
      "Conversation Index: 97 226\n"
     ]
    },
    {
     "data": {
      "image/png": "[encoded data removed]",
      "text/plain": [
       "<Figure size 216x72 with 1 Axes>"
      ]
     },
     "metadata": {},
     "output_type": "display_data"
    },
    {
     "name": "stdout",
     "output_type": "stream",
     "text": [
      "[(166, 38, 216), (232, 50, 22), (58, 196, 161)]\n",
      "--------------------------\n",
      "Conversation Index: 11411 227\n"
     ]
    },
    {
     "data": {
      "image/png": "[encoded data removed]",
      "text/plain": [
       "<Figure size 216x72 with 1 Axes>"
      ]
     },
     "metadata": {},
     "output_type": "display_data"
    },
    {
     "name": "stdout",
     "output_type": "stream",
     "text": [
      "[(165, 80, 174), (179, 97, 75), (44, 121, 210)]\n",
      "Director: A3S5AA4R3RIEEP\n",
      "Matcher: Thank you for submitting your MturkID. Now please provide me with the target description.\n",
      "Director: Blue\n",
      "Matcher: [SELECT]\n",
      "0\n",
      "--------------------------\n",
      "Conversation Index: 4999 228\n"
     ]
    },
    {
     "data": {
      "image/png": "[encoded data removed]",
      "text/plain": [
       "<Figure size 216x72 with 1 Axes>"
      ]
     },
     "metadata": {},
     "output_type": "display_data"
    },
    {
     "name": "stdout",
     "output_type": "stream",
     "text": [
      "[(239, 108, 15), (123, 238, 16), (29, 62, 225)]\n",
      "--------------------------\n",
      "Conversation Index: 12190 229\n"
     ]
    },
    {
     "data": {
      "image/png": "[encoded data removed]",
      "text/plain": [
       "<Figure size 216x72 with 1 Axes>"
      ]
     },
     "metadata": {},
     "output_type": "display_data"
    },
    {
     "name": "stdout",
     "output_type": "stream",
     "text": [
      "[(148, 81, 173), (150, 104, 149), (203, 43, 211)]\n",
      "Director: This is a color associated with little girls, but a little bit darker.\n",
      "Matcher: purple or magenta or lavender?\n",
      "Director: yes!\n",
      "Matcher: The violet?\n",
      "Director: i would say so.\n",
      "Matcher: I could not understand you.\n",
      "Director: yes\n",
      "Matcher: The royal purple?\n",
      "Director: violet was correct\n",
      "Matcher: Do you mean fuchsia ?\n",
      "Director: no\n",
      "Matcher: [SELECT]\n",
      "1\n",
      "--------------------------\n",
      "Conversation Index: 12625 230\n"
     ]
    },
    {
     "data": {
      "image/png": "[encoded data removed]",
      "text/plain": [
       "<Figure size 216x72 with 1 Axes>"
      ]
     },
     "metadata": {},
     "output_type": "display_data"
    },
    {
     "name": "stdout",
     "output_type": "stream",
     "text": [
      "[(94, 160, 141), (95, 165, 89), (122, 173, 81)]\n",
      "Director: The color is one I associate with crstal-clear Carribean oceans.\n",
      "Matcher: I could not understand you.\n",
      "Director: The color of a sea with a little bit more variation, lighter than the deepest parts of the sea.\n",
      "Matcher: [SELECT]\n",
      "1\n",
      "--------------------------\n",
      "Conversation Index: 8118 231\n"
     ]
    },
    {
     "data": {
      "image/png": "[encoded data removed]",
      "text/plain": [
       "<Figure size 216x72 with 1 Axes>"
      ]
     },
     "metadata": {},
     "output_type": "display_data"
    },
    {
     "name": "stdout",
     "output_type": "stream",
     "text": [
      "[(71, 183, 75), (151, 179, 75), (29, 225, 98)]\n",
      "--------------------------\n",
      "Conversation Index: 921 232\n"
     ]
    },
    {
     "data": {
      "image/png": "[encoded data removed]",
      "text/plain": [
       "<Figure size 216x72 with 1 Axes>"
      ]
     },
     "metadata": {},
     "output_type": "display_data"
    },
    {
     "name": "stdout",
     "output_type": "stream",
     "text": [
      "[(62, 99, 192), (253, 1, 30), (114, 29, 225)]\n",
      "Director: blue\n",
      "Matcher: [SELECT]\n",
      "1\n",
      "--------------------------\n",
      "Conversation Index: 2473 233\n"
     ]
    },
    {
     "data": {
      "image/png": "[encoded data removed]",
      "text/plain": [
       "<Figure size 216x72 with 1 Axes>"
      ]
     },
     "metadata": {},
     "output_type": "display_data"
    },
    {
     "name": "stdout",
     "output_type": "stream",
     "text": [
      "[(147, 113, 107), (158, 96, 143), (155, 101, 99)]\n",
      "Director: brown\n",
      "Matcher: [SELECT]\n",
      "1\n",
      "--------------------------\n",
      "Conversation Index: 9263 234\n"
     ]
    },
    {
     "data": {
      "image/png": "[encoded data removed]",
      "text/plain": [
       "<Figure size 216x72 with 1 Axes>"
      ]
     },
     "metadata": {},
     "output_type": "display_data"
    },
    {
     "name": "stdout",
     "output_type": "stream",
     "text": [
      "[(84, 198, 56), (104, 150, 106), (138, 167, 87)]\n",
      "Director: green\n",
      "Matcher: [SELECT]\n",
      "1\n",
      "--------------------------\n",
      "Conversation Index: 5997 235\n"
     ]
    },
    {
     "data": {
      "image/png": "[encoded data removed]",
      "text/plain": [
       "<Figure size 216x72 with 1 Axes>"
      ]
     },
     "metadata": {},
     "output_type": "display_data"
    },
    {
     "name": "stdout",
     "output_type": "stream",
     "text": [
      "[(50, 204, 63), (93, 99, 161), (209, 45, 162)]\n",
      "Director: grass\n",
      "Matcher: [SELECT]\n",
      "1\n",
      "--------------------------\n",
      "Conversation Index: 10023 236\n"
     ]
    },
    {
     "data": {
      "image/png": "[encoded data removed]",
      "text/plain": [
       "<Figure size 216x72 with 1 Axes>"
      ]
     },
     "metadata": {},
     "output_type": "display_data"
    },
    {
     "name": "stdout",
     "output_type": "stream",
     "text": [
      "[(175, 79, 127), (30, 140, 224), (197, 202, 52)]\n",
      "Director: pink\n",
      "Matcher: [SELECT]\n",
      "1\n",
      "--------------------------\n",
      "Conversation Index: 2888 237\n"
     ]
    },
    {
     "data": {
      "image/png": "[encoded data removed]",
      "text/plain": [
       "<Figure size 216x72 with 1 Axes>"
      ]
     },
     "metadata": {},
     "output_type": "display_data"
    },
    {
     "name": "stdout",
     "output_type": "stream",
     "text": [
      "[(182, 72, 92), (114, 89, 165), (181, 109, 73)]\n",
      "Director: A351BKQC7NEH3A\n",
      "Matcher: Thank you for submitting your MturkID. Now please provide me with the target description.\n",
      "Director: a color of a rose\n",
      "Matcher: [SELECT]\n",
      "1\n",
      "--------------------------\n",
      "Conversation Index: 1427 238\n"
     ]
    },
    {
     "data": {
      "image/png": "[encoded data removed]",
      "text/plain": [
       "<Figure size 216x72 with 1 Axes>"
      ]
     },
     "metadata": {},
     "output_type": "display_data"
    },
    {
     "name": "stdout",
     "output_type": "stream",
     "text": [
      "[(63, 114, 191), (210, 216, 38), (84, 59, 195)]\n",
      "Director: ocean\n",
      "Matcher: [SELECT]\n",
      "1\n",
      "--------------------------\n",
      "Conversation Index: 5744 239\n"
     ]
    },
    {
     "data": {
      "image/png": "[encoded data removed]",
      "text/plain": [
       "<Figure size 216x72 with 1 Axes>"
      ]
     },
     "metadata": {},
     "output_type": "display_data"
    },
    {
     "name": "stdout",
     "output_type": "stream",
     "text": [
      "[(19, 22, 235), (120, 110, 144), (138, 137, 116)]\n",
      "--------------------------\n",
      "Conversation Index: 217 240\n"
     ]
    },
    {
     "data": {
      "image/png": "[encoded data removed]",
      "text/plain": [
       "<Figure size 216x72 with 1 Axes>"
      ]
     },
     "metadata": {},
     "output_type": "display_data"
    },
    {
     "name": "stdout",
     "output_type": "stream",
     "text": [
      "[(116, 160, 94), (184, 179, 70), (144, 154, 100)]\n",
      "Director: sea green\n",
      "Matcher: [SELECT]\n",
      "1\n",
      "--------------------------\n",
      "Conversation Index: 13240 241\n"
     ]
    },
    {
     "data": {
      "image/png": "[encoded data removed]",
      "text/plain": [
       "<Figure size 216x72 with 1 Axes>"
      ]
     },
     "metadata": {},
     "output_type": "display_data"
    },
    {
     "name": "stdout",
     "output_type": "stream",
     "text": [
      "[(33, 130, 221), (202, 77, 52), (135, 137, 117)]\n",
      "--------------------------\n",
      "Conversation Index: 13279 242\n"
     ]
    },
    {
     "data": {
      "image/png": "[encoded data removed]",
      "text/plain": [
       "<Figure size 216x72 with 1 Axes>"
      ]
     },
     "metadata": {},
     "output_type": "display_data"
    },
    {
     "name": "stdout",
     "output_type": "stream",
     "text": [
      "[(115, 114, 140), (123, 100, 154), (124, 125, 130)]\n",
      "Director: This is between purple and grey\n",
      "Matcher: Do you mean blue grey ?\n",
      "Director: yes\n",
      "Matcher: The grey blue?\n",
      "Director: yes\n",
      "Matcher: [SELECT]\n",
      "1\n",
      "--------------------------\n",
      "Conversation Index: 5647 243\n"
     ]
    },
    {
     "data": {
      "image/png": "[encoded data removed]",
      "text/plain": [
       "<Figure size 216x72 with 1 Axes>"
      ]
     },
     "metadata": {},
     "output_type": "display_data"
    },
    {
     "name": "stdout",
     "output_type": "stream",
     "text": [
      "[(138, 130, 116), (17, 237, 79), (168, 161, 86)]\n",
      "Director: the color of an elephant\n",
      "Matcher: I could not understand you.\n",
      "Director: the most bland color\n",
      "Matcher: green or grey?\n",
      "Director: the second one you said\n",
      "Matcher: I do not see the same ordering of color patches as you nor the black borders. Please provide me with a color description.\n",
      "Director: the color of a road\n",
      "Matcher: I could not understand you.\n",
      "Director: not green\n",
      "Matcher: The dark grey?\n",
      "Director: yes\n",
      "Matcher: [SELECT]\n",
      "1\n",
      "--------------------------\n",
      "Conversation Index: 3356 244\n"
     ]
    },
    {
     "data": {
      "image/png": "[encoded data removed]",
      "text/plain": [
       "<Figure size 216x72 with 1 Axes>"
      ]
     },
     "metadata": {},
     "output_type": "display_data"
    },
    {
     "name": "stdout",
     "output_type": "stream",
     "text": [
      "[(105, 140, 149), (205, 49, 137), (80, 174, 132)]\n",
      "Director: A20IA63WXHF683\n",
      "Matcher: Thank you for submitting your MturkID. Now please provide me with the target description.\n",
      "Director: The target color is somewhat that of the sky. It is a cool color and there's a crayon in it's shade named after a flower.\n",
      "Matcher: I could not understand you.\n",
      "Director: It belongs to the same color as the color of the sky.\n",
      "Matcher: [SELECT]\n",
      "1\n",
      "--------------------------\n",
      "Conversation Index: 940 245\n"
     ]
    },
    {
     "data": {
      "image/png": "[encoded data removed]",
      "text/plain": [
       "<Figure size 216x72 with 1 Axes>"
      ]
     },
     "metadata": {},
     "output_type": "display_data"
    },
    {
     "name": "stdout",
     "output_type": "stream",
     "text": [
      "[(133, 121, 121), (153, 102, 133), (155, 173, 81)]\n",
      "Director: Pick the grey one.\n",
      "Matcher: [SELECT]\n",
      "1\n",
      "--------------------------\n",
      "Conversation Index: 3082 246\n"
     ]
    },
    {
     "data": {
      "image/png": "[encoded data removed]",
      "text/plain": [
       "<Figure size 216x72 with 1 Axes>"
      ]
     },
     "metadata": {},
     "output_type": "display_data"
    },
    {
     "name": "stdout",
     "output_type": "stream",
     "text": [
      "[(61, 160, 193), (156, 98, 108), (6, 248, 232)]\n",
      "Director: A1H5Q9HRH4RPZU\n",
      "Matcher: Thank you for submitting your MturkID. Now please provide me with the target description.\n",
      "Director: blue\n",
      "Matcher: [SELECT]\n",
      "1\n",
      "--------------------------\n",
      "Conversation Index: 13668 247\n"
     ]
    },
    {
     "data": {
      "image/png": "[encoded data removed]",
      "text/plain": [
       "<Figure size 216x72 with 1 Axes>"
      ]
     },
     "metadata": {},
     "output_type": "display_data"
    },
    {
     "name": "stdout",
     "output_type": "stream",
     "text": [
      "[(59, 45, 209), (142, 77, 177), (185, 19, 235)]\n",
      "Director: purple\n",
      "Matcher: The lavender?\n",
      "Director: no\n",
      "Matcher: bright purple or blue or light purple?\n",
      "Director: dark purple\n",
      "Matcher: The lilac?\n",
      "Director: yes\n",
      "Matcher: [SELECT]\n",
      "0\n",
      "--------------------------\n",
      "Conversation Index: 10382 248\n"
     ]
    },
    {
     "data": {
      "image/png": "[encoded data removed]",
      "text/plain": [
       "<Figure size 216x72 with 1 Axes>"
      ]
     },
     "metadata": {},
     "output_type": "display_data"
    },
    {
     "name": "stdout",
     "output_type": "stream",
     "text": [
      "[(202, 185, 52), (75, 179, 110), (158, 96, 153)]\n",
      "Director: A3L1DZWXQFWB90\n",
      "Matcher: Thank you for submitting your MturkID. Now please provide me with the target description.\n",
      "--------------------------\n",
      "Conversation Index: 5562 249\n"
     ]
    },
    {
     "data": {
      "image/png": "[encoded data removed]",
      "text/plain": [
       "<Figure size 216x72 with 1 Axes>"
      ]
     },
     "metadata": {},
     "output_type": "display_data"
    },
    {
     "name": "stdout",
     "output_type": "stream",
     "text": [
      "[(215, 68, 39), (125, 136, 118), (117, 29, 225)]\n",
      "Director:  793316\n",
      "Matcher: I could not understand you.\n",
      "Director: A84KYYIRZ3K00\n",
      "Matcher: Thank you for submitting your MturkID. Now please provide me with the target description.\n",
      "Director: violet looking\n",
      "Matcher: I could not understand you.\n",
      "Director: has black border\n",
      "Matcher: I do not see the same ordering of color patches as you nor the black borders. Please provide me with a color description.\n",
      "Director: has black in it \n",
      "Matcher: I do not see the same ordering of color patches as you nor the black borders. Please provide me with a color description.\n",
      "Director: cropped\n",
      "Matcher: I could not understand you.\n",
      "Director: shade of orange\n",
      "Matcher: [SELECT]\n",
      "1\n",
      "--------------------------\n",
      "Conversation Index: 2178 250\n"
     ]
    },
    {
     "data": {
      "image/png": "[encoded data removed]",
      "text/plain": [
       "<Figure size 216x72 with 1 Axes>"
      ]
     },
     "metadata": {},
     "output_type": "display_data"
    },
    {
     "name": "stdout",
     "output_type": "stream",
     "text": [
      "[(43, 211, 46), (239, 75, 15), (142, 112, 114)]\n",
      "Director: A2RJ4DUP52FKVG\n",
      "Matcher: Thank you for submitting your MturkID. Now please provide me with the target description.\n",
      "Director: It the color of bright grass\n",
      "Matcher: [SELECT]\n",
      "1\n",
      "--------------------------\n",
      "Conversation Index: 716 251\n"
     ]
    },
    {
     "data": {
      "image/png": "[encoded data removed]",
      "text/plain": [
       "<Figure size 216x72 with 1 Axes>"
      ]
     },
     "metadata": {},
     "output_type": "display_data"
    },
    {
     "name": "stdout",
     "output_type": "stream",
     "text": [
      "[(98, 252, 2), (49, 16, 238), (147, 133, 107)]\n",
      "Director: A3211VPCMNHVL5\n",
      "Matcher: Thank you for submitting your MturkID. Now please provide me with the target description.\n",
      "Director: yellow\n",
      "Matcher: [SELECT]\n",
      "1\n",
      "--------------------------\n",
      "Conversation Index: 6891 252\n"
     ]
    },
    {
     "data": {
      "image/png": "[encoded data removed]",
      "text/plain": [
       "<Figure size 216x72 with 1 Axes>"
      ]
     },
     "metadata": {},
     "output_type": "display_data"
    },
    {
     "name": "stdout",
     "output_type": "stream",
     "text": [
      "[(158, 96, 147), (131, 123, 129), (99, 104, 155)]\n",
      "Director: Violet\n",
      "Matcher: [SELECT]\n",
      "1\n",
      "--------------------------\n",
      "Conversation Index: 11555 253\n"
     ]
    },
    {
     "data": {
      "image/png": "[encoded data removed]",
      "text/plain": [
       "<Figure size 216x72 with 1 Axes>"
      ]
     },
     "metadata": {},
     "output_type": "display_data"
    },
    {
     "name": "stdout",
     "output_type": "stream",
     "text": [
      "[(106, 79, 175), (132, 56, 198), (45, 89, 209)]\n",
      "Director: The dark purple\n",
      "Matcher: [SELECT]\n",
      "1\n",
      "--------------------------\n",
      "Conversation Index: 2774 254\n"
     ]
    },
    {
     "data": {
      "image/png": "[encoded data removed]",
      "text/plain": [
       "<Figure size 216x72 with 1 Axes>"
      ]
     },
     "metadata": {},
     "output_type": "display_data"
    },
    {
     "name": "stdout",
     "output_type": "stream",
     "text": [
      "[(6, 248, 50), (128, 126, 127), (132, 99, 155)]\n",
      "--------------------------\n",
      "Conversation Index: 2050 255\n"
     ]
    },
    {
     "data": {
      "image/png": "[encoded data removed]",
      "text/plain": [
       "<Figure size 216x72 with 1 Axes>"
      ]
     },
     "metadata": {},
     "output_type": "display_data"
    },
    {
     "name": "stdout",
     "output_type": "stream",
     "text": [
      "[(80, 88, 174), (109, 72, 182), (169, 48, 206)]\n",
      "Director: purple\n",
      "Matcher: The bright purple?\n",
      "Director: no\n",
      "Matcher: lavender or magenta or blue?\n",
      "Director: blue\n",
      "Matcher: The periwinkle?\n",
      "Director: yes\n",
      "Matcher: [SELECT]\n",
      "1\n",
      "--------------------------\n",
      "Conversation Index: 10018 256\n"
     ]
    },
    {
     "data": {
      "image/png": "[encoded data removed]",
      "text/plain": [
       "<Figure size 216x72 with 1 Axes>"
      ]
     },
     "metadata": {},
     "output_type": "display_data"
    },
    {
     "name": "stdout",
     "output_type": "stream",
     "text": [
      "[(105, 76, 178), (8, 246, 194), (122, 126, 132)]\n",
      "Director: A20XJDZ9VQPAHK\n",
      "Matcher: Thank you for submitting your MturkID. Now please provide me with the target description.\n",
      "Director: purple\n",
      "Matcher: [SELECT]\n",
      "1\n",
      "--------------------------\n",
      "Conversation Index: 9246 257\n"
     ]
    },
    {
     "data": {
      "image/png": "[encoded data removed]",
      "text/plain": [
       "<Figure size 216x72 with 1 Axes>"
      ]
     },
     "metadata": {},
     "output_type": "display_data"
    },
    {
     "name": "stdout",
     "output_type": "stream",
     "text": [
      "[(221, 174, 33), (126, 128, 126), (66, 188, 176)]\n",
      "Director: A2WYYXWIUQ697I\n",
      "Matcher: Thank you for submitting your MturkID. Now please provide me with the target description.\n",
      "Director: It is a warm color.\n",
      "Matcher: I could not understand you.\n",
      "Director: It's yellow.\n",
      "Matcher: [SELECT]\n",
      "1\n",
      "--------------------------\n",
      "Conversation Index: 11495 258\n"
     ]
    },
    {
     "data": {
      "image/png": "[encoded data removed]",
      "text/plain": [
       "<Figure size 216x72 with 1 Axes>"
      ]
     },
     "metadata": {},
     "output_type": "display_data"
    },
    {
     "name": "stdout",
     "output_type": "stream",
     "text": [
      "[(7, 67, 247), (77, 65, 189), (36, 103, 218)]\n",
      "Director: bright blue\n",
      "Matcher: [SELECT]\n",
      "1\n",
      "--------------------------\n",
      "Conversation Index: 13091 259\n"
     ]
    },
    {
     "data": {
      "image/png": "[encoded data removed]",
      "text/plain": [
       "<Figure size 216x72 with 1 Axes>"
      ]
     },
     "metadata": {},
     "output_type": "display_data"
    },
    {
     "name": "stdout",
     "output_type": "stream",
     "text": [
      "[(47, 170, 207), (122, 132, 123), (127, 218, 36)]\n",
      "--------------------------\n",
      "Conversation Index: 13860 260\n"
     ]
    },
    {
     "data": {
      "image/png": "[encoded data removed]",
      "text/plain": [
       "<Figure size 216x72 with 1 Axes>"
      ]
     },
     "metadata": {},
     "output_type": "display_data"
    },
    {
     "name": "stdout",
     "output_type": "stream",
     "text": [
      "[(99, 155, 125), (253, 1, 140), (44, 210, 75)]\n",
      "--------------------------\n",
      "Conversation Index: 9008 261\n"
     ]
    },
    {
     "data": {
      "image/png": "[encoded data removed]",
      "text/plain": [
       "<Figure size 216x72 with 1 Axes>"
      ]
     },
     "metadata": {},
     "output_type": "display_data"
    },
    {
     "name": "stdout",
     "output_type": "stream",
     "text": [
      "[(50, 204, 58), (137, 129, 117), (249, 54, 5)]\n",
      "Director: A84KYYIRZ3K00\n",
      "Matcher: Thank you for submitting your MturkID. Now please provide me with the target description.\n",
      "Director: orange\n",
      "Matcher: [SELECT]\n",
      "0\n",
      "--------------------------\n",
      "Conversation Index: 9008 262\n"
     ]
    },
    {
     "data": {
      "image/png": "[encoded data removed]",
      "text/plain": [
       "<Figure size 216x72 with 1 Axes>"
      ]
     },
     "metadata": {},
     "output_type": "display_data"
    },
    {
     "name": "stdout",
     "output_type": "stream",
     "text": [
      "[(50, 204, 58), (137, 129, 117), (249, 54, 5)]\n",
      "--------------------------\n",
      "Conversation Index: 8327 263\n"
     ]
    },
    {
     "data": {
      "image/png": "[encoded data removed]",
      "text/plain": [
       "<Figure size 216x72 with 1 Axes>"
      ]
     },
     "metadata": {},
     "output_type": "display_data"
    },
    {
     "name": "stdout",
     "output_type": "stream",
     "text": [
      "[(215, 39, 186), (159, 169, 85), (26, 228, 97)]\n",
      "--------------------------\n",
      "Conversation Index: 8541 264\n"
     ]
    },
    {
     "data": {
      "image/png": "[encoded data removed]",
      "text/plain": [
       "<Figure size 216x72 with 1 Axes>"
      ]
     },
     "metadata": {},
     "output_type": "display_data"
    },
    {
     "name": "stdout",
     "output_type": "stream",
     "text": [
      "[(126, 128, 127), (226, 28, 167), (40, 214, 92)]\n",
      "Director: A2PRLCEP7GEQXI \n",
      "Matcher: I could not understand you.\n",
      "Director: A2PRLCEP7GEQXI\n",
      "Matcher: Thank you for submitting your MturkID. Now please provide me with the target description.\n",
      "Director: looking for color patches\n",
      "Matcher: I could not understand you.\n",
      "Director: Seeking colors\n",
      "Matcher: I could not understand you.\n",
      "--------------------------\n",
      "Conversation Index: 1720 265\n"
     ]
    },
    {
     "data": {
      "image/png": "[encoded data removed]",
      "text/plain": [
       "<Figure size 216x72 with 1 Axes>"
      ]
     },
     "metadata": {},
     "output_type": "display_data"
    },
    {
     "name": "stdout",
     "output_type": "stream",
     "text": [
      "[(167, 173, 81), (240, 59, 14), (151, 160, 94)]\n",
      "Director: green\n",
      "Matcher: The tan?\n",
      "Director: the light green\n",
      "Matcher: puke green or orange or grey green?\n",
      "Director: puke green\n",
      "Matcher: [SELECT]\n",
      "1\n",
      "--------------------------\n",
      "Conversation Index: 5531 266\n"
     ]
    },
    {
     "data": {
      "image/png": "[encoded data removed]",
      "text/plain": [
       "<Figure size 216x72 with 1 Axes>"
      ]
     },
     "metadata": {},
     "output_type": "display_data"
    },
    {
     "name": "stdout",
     "output_type": "stream",
     "text": [
      "[(204, 50, 73), (178, 79, 76), (223, 31, 121)]\n",
      "Director: medium red\n",
      "Matcher: Do you mean pinkish red ?\n",
      "Director: no\n",
      "Matcher: crimson or pink or mauve?\n",
      "Director: crimson\n",
      "Matcher: Do you mean red pink ?\n",
      "Director: no red\n",
      "Matcher: [SELECT]\n",
      "1\n",
      "--------------------------\n",
      "Conversation Index: 56 267\n"
     ]
    },
    {
     "data": {
      "image/png": "[encoded data removed]",
      "text/plain": [
       "<Figure size 216x72 with 1 Axes>"
      ]
     },
     "metadata": {},
     "output_type": "display_data"
    },
    {
     "name": "stdout",
     "output_type": "stream",
     "text": [
      "[(142, 112, 136), (164, 65, 189), (197, 57, 127)]\n",
      "Director: It is a lighter purple\n",
      "Matcher: [SELECT]\n",
      "0\n",
      "--------------------------\n",
      "Conversation Index: 10465 268\n"
     ]
    },
    {
     "data": {
      "image/png": "[encoded data removed]",
      "text/plain": [
       "<Figure size 216x72 with 1 Axes>"
      ]
     },
     "metadata": {},
     "output_type": "display_data"
    },
    {
     "name": "stdout",
     "output_type": "stream",
     "text": [
      "[(144, 110, 121), (127, 127, 127), (22, 232, 96)]\n",
      "Director: a warm color, not the brightest \n",
      "Matcher: I could not understand you.\n",
      "Director: it's a warm shade\n",
      "Matcher: I could not understand you.\n",
      "--------------------------\n",
      "Conversation Index: 13533 269\n"
     ]
    },
    {
     "data": {
      "image/png": "[encoded data removed]",
      "text/plain": [
       "<Figure size 216x72 with 1 Axes>"
      ]
     },
     "metadata": {},
     "output_type": "display_data"
    },
    {
     "name": "stdout",
     "output_type": "stream",
     "text": [
      "[(108, 146, 116), (147, 160, 94), (81, 173, 138)]\n",
      "Director: not olive green\n",
      "Matcher: Do you mean teal ?\n",
      "Director: yes\n",
      "Matcher: Do you mean turquoise ?\n",
      "Director: no\n",
      "Matcher: The grey?\n",
      "Director: yes\n",
      "Matcher: [SELECT]\n",
      "1\n",
      "--------------------------\n",
      "Conversation Index: 7031 270\n"
     ]
    },
    {
     "data": {
      "image/png": "[encoded data removed]",
      "text/plain": [
       "<Figure size 216x72 with 1 Axes>"
      ]
     },
     "metadata": {},
     "output_type": "display_data"
    },
    {
     "name": "stdout",
     "output_type": "stream",
     "text": [
      "[(15, 206, 239), (25, 171, 229), (63, 150, 191)]\n",
      "Director: This is the lightest/brightest of the three.\n",
      "Matcher: The cyan?\n",
      "Director: Yes?\n",
      "Matcher: Do you mean aqua ?\n",
      "Director: No.\n",
      "Matcher: The blue?\n",
      "Director: No.\n",
      "Matcher: Do you mean sky blue ?\n",
      "Director: No.\n",
      "Matcher: The grey blue?\n",
      "Director: Cyan.\n",
      "Matcher: [SELECT]\n",
      "1\n",
      "--------------------------\n",
      "Conversation Index: 2376 271\n"
     ]
    },
    {
     "data": {
      "image/png": "[encoded data removed]",
      "text/plain": [
       "<Figure size 216x72 with 1 Axes>"
      ]
     },
     "metadata": {},
     "output_type": "display_data"
    },
    {
     "name": "stdout",
     "output_type": "stream",
     "text": [
      "[(124, 214, 40), (120, 156, 98), (41, 15, 239)]\n",
      "Director: A lime green\n",
      "Matcher: [SELECT]\n",
      "1\n",
      "--------------------------\n",
      "Conversation Index: 109 272\n"
     ]
    },
    {
     "data": {
      "image/png": "[encoded data removed]",
      "text/plain": [
       "<Figure size 216x72 with 1 Axes>"
      ]
     },
     "metadata": {},
     "output_type": "display_data"
    },
    {
     "name": "stdout",
     "output_type": "stream",
     "text": [
      "[(187, 177, 67), (132, 128, 122), (19, 178, 235)]\n",
      "--------------------------\n",
      "Conversation Index: 2203 273\n"
     ]
    },
    {
     "data": {
      "image/png": "[encoded data removed]",
      "text/plain": [
       "<Figure size 216x72 with 1 Axes>"
      ]
     },
     "metadata": {},
     "output_type": "display_data"
    },
    {
     "name": "stdout",
     "output_type": "stream",
     "text": [
      "[(158, 79, 175), (99, 155, 125), (131, 89, 165)]\n",
      "Director: Purple\n",
      "Matcher: Do you mean magenta ?\n",
      "Director: No\n",
      "Matcher: lavender or green or fuchsia?\n",
      "Director: No\n",
      "Matcher: Do you mean lilac ?\n",
      "Director: No\n",
      "Matcher: The dark purple?\n",
      "Director: yes\n",
      "Matcher: [SELECT]\n",
      "0\n",
      "--------------------------\n",
      "Conversation Index: 571 274\n"
     ]
    },
    {
     "data": {
      "image/png": "[encoded data removed]",
      "text/plain": [
       "<Figure size 216x72 with 1 Axes>"
      ]
     },
     "metadata": {},
     "output_type": "display_data"
    },
    {
     "name": "stdout",
     "output_type": "stream",
     "text": [
      "[(251, 3, 172), (173, 20, 234), (93, 173, 81)]\n",
      "Director: Pink\n",
      "Matcher: [SELECT]\n",
      "1\n",
      "--------------------------\n",
      "Conversation Index: 10014 275\n"
     ]
    },
    {
     "data": {
      "image/png": "[encoded data removed]",
      "text/plain": [
       "<Figure size 216x72 with 1 Axes>"
      ]
     },
     "metadata": {},
     "output_type": "display_data"
    },
    {
     "name": "stdout",
     "output_type": "stream",
     "text": [
      "[(156, 135, 98), (119, 135, 125), (127, 127, 127)]\n",
      "Director: pick the brown\n",
      "Matcher: [SELECT]\n",
      "1\n",
      "--------------------------\n",
      "Conversation Index: 11896 276\n"
     ]
    },
    {
     "data": {
      "image/png": "[encoded data removed]",
      "text/plain": [
       "<Figure size 216x72 with 1 Axes>"
      ]
     },
     "metadata": {},
     "output_type": "display_data"
    },
    {
     "name": "stdout",
     "output_type": "stream",
     "text": [
      "[(138, 123, 116), (179, 65, 189), (43, 135, 211)]\n",
      "--------------------------\n",
      "Conversation Index: 3830 277\n"
     ]
    },
    {
     "data": {
      "image/png": "[encoded data removed]",
      "text/plain": [
       "<Figure size 216x72 with 1 Axes>"
      ]
     },
     "metadata": {},
     "output_type": "display_data"
    },
    {
     "name": "stdout",
     "output_type": "stream",
     "text": [
      "[(110, 179, 75), (235, 152, 19), (14, 119, 240)]\n",
      "Director: ARR3UJTM2ZGK4\n",
      "Matcher: Thank you for submitting your MturkID. Now please provide me with the target description.\n",
      "Director: the color of grass\n",
      "Matcher: [SELECT]\n",
      "1\n",
      "--------------------------\n",
      "Conversation Index: 6545 278\n"
     ]
    },
    {
     "data": {
      "image/png": "[encoded data removed]",
      "text/plain": [
       "<Figure size 216x72 with 1 Axes>"
      ]
     },
     "metadata": {},
     "output_type": "display_data"
    },
    {
     "name": "stdout",
     "output_type": "stream",
     "text": [
      "[(179, 209, 45), (181, 73, 179), (47, 207, 156)]\n",
      "Director: A2XFLC9IUFS35U\n",
      "Matcher: Thank you for submitting your MturkID. Now please provide me with the target description.\n",
      "Director: lime green\n",
      "Matcher: [SELECT]\n",
      "1\n",
      "--------------------------\n",
      "Conversation Index: 1503 279\n"
     ]
    },
    {
     "data": {
      "image/png": "[encoded data removed]",
      "text/plain": [
       "<Figure size 216x72 with 1 Axes>"
      ]
     },
     "metadata": {},
     "output_type": "display_data"
    },
    {
     "name": "stdout",
     "output_type": "stream",
     "text": [
      "[(201, 53, 83), (173, 81, 90), (204, 50, 145)]\n",
      "Director: This color is the color of fire\n",
      "Matcher: I could not understand you.\n",
      "Director: It is the one closest to the color of a fire truck\n",
      "Matcher: I could not understand you.\n",
      "Director: The first color of the rainbow\n",
      "Matcher: I do not see the same ordering of color patches as you nor the black borders. Please provide me with a color description.\n",
      "Director: Color of a strawberry\n",
      "Matcher: [SELECT]\n",
      "1\n",
      "--------------------------\n",
      "Conversation Index: 8328 280\n"
     ]
    },
    {
     "data": {
      "image/png": "[encoded data removed]",
      "text/plain": [
       "<Figure size 216x72 with 1 Axes>"
      ]
     },
     "metadata": {},
     "output_type": "display_data"
    },
    {
     "name": "stdout",
     "output_type": "stream",
     "text": [
      "[(22, 82, 232), (124, 107, 147), (226, 28, 140)]\n",
      "--------------------------\n",
      "Conversation Index: 261 281\n"
     ]
    },
    {
     "data": {
      "image/png": "[encoded data removed]",
      "text/plain": [
       "<Figure size 216x72 with 1 Axes>"
      ]
     },
     "metadata": {},
     "output_type": "display_data"
    },
    {
     "name": "stdout",
     "output_type": "stream",
     "text": [
      "[(127, 126, 128), (2, 206, 252), (159, 95, 141)]\n",
      "--------------------------\n",
      "Conversation Index: 9875 282\n"
     ]
    },
    {
     "data": {
      "image/png": "[encoded data removed]",
      "text/plain": [
       "<Figure size 216x72 with 1 Axes>"
      ]
     },
     "metadata": {},
     "output_type": "display_data"
    },
    {
     "name": "stdout",
     "output_type": "stream",
     "text": [
      "[(72, 8, 246), (119, 113, 141), (127, 233, 21)]\n",
      "Director: A1BDJJ3Z71CDKL\n",
      "Matcher: Thank you for submitting your MturkID. Now please provide me with the target description.\n",
      "Director: It is a similar color to the sky without clouds\n",
      "Matcher: I could not understand you.\n",
      "Director: it is blue\n",
      "Matcher: [SELECT]\n",
      "1\n",
      "--------------------------\n",
      "Conversation Index: 10636 283\n"
     ]
    },
    {
     "data": {
      "image/png": "[encoded data removed]",
      "text/plain": [
       "<Figure size 216x72 with 1 Axes>"
      ]
     },
     "metadata": {},
     "output_type": "display_data"
    },
    {
     "name": "stdout",
     "output_type": "stream",
     "text": [
      "[(95, 138, 159), (223, 153, 31), (239, 97, 15)]\n",
      "Director: AGRKG3YT3KMD8\n",
      "Matcher: Thank you for submitting your MturkID. Now please provide me with the target description.\n",
      "Director: blue\n",
      "Matcher: [SELECT]\n",
      "1\n",
      "--------------------------\n",
      "Conversation Index: 9996 284\n"
     ]
    },
    {
     "data": {
      "image/png": "[encoded data removed]",
      "text/plain": [
       "<Figure size 216x72 with 1 Axes>"
      ]
     },
     "metadata": {},
     "output_type": "display_data"
    },
    {
     "name": "stdout",
     "output_type": "stream",
     "text": [
      "[(20, 234, 156), (216, 198, 38), (5, 249, 196)]\n",
      "Director: This is the brighter of the shades of green.\n",
      "Matcher: The light green?\n",
      "Director: Yes.\n",
      "Matcher: [SELECT]\n",
      "1\n",
      "--------------------------\n",
      "Conversation Index: 2034 285\n"
     ]
    },
    {
     "data": {
      "image/png": "[encoded data removed]",
      "text/plain": [
       "<Figure size 216x72 with 1 Axes>"
      ]
     },
     "metadata": {},
     "output_type": "display_data"
    },
    {
     "name": "stdout",
     "output_type": "stream",
     "text": [
      "[(218, 133, 36), (93, 48, 206), (39, 215, 162)]\n",
      "--------------------------\n",
      "Conversation Index: 8448 286\n"
     ]
    },
    {
     "data": {
      "image/png": "[encoded data removed]",
      "text/plain": [
       "<Figure size 216x72 with 1 Axes>"
      ]
     },
     "metadata": {},
     "output_type": "display_data"
    },
    {
     "name": "stdout",
     "output_type": "stream",
     "text": [
      "[(137, 226, 28), (110, 144, 127), (239, 15, 19)]\n",
      "--------------------------\n",
      "Conversation Index: 618 287\n"
     ]
    },
    {
     "data": {
      "image/png": "[encoded data removed]",
      "text/plain": [
       "<Figure size 216x72 with 1 Axes>"
      ]
     },
     "metadata": {},
     "output_type": "display_data"
    },
    {
     "name": "stdout",
     "output_type": "stream",
     "text": [
      "[(191, 63, 114), (188, 66, 158), (230, 24, 210)]\n",
      "Director: red\n",
      "Matcher: [SELECT]\n",
      "1\n",
      "--------------------------\n",
      "Conversation Index: 336 288\n"
     ]
    },
    {
     "data": {
      "image/png": "[encoded data removed]",
      "text/plain": [
       "<Figure size 216x72 with 1 Axes>"
      ]
     },
     "metadata": {},
     "output_type": "display_data"
    },
    {
     "name": "stdout",
     "output_type": "stream",
     "text": [
      "[(94, 134, 160), (155, 129, 99), (219, 35, 54)]\n",
      "--------------------------\n",
      "Conversation Index: 7537 289\n"
     ]
    },
    {
     "data": {
      "image/png": "[encoded data removed]",
      "text/plain": [
       "<Figure size 216x72 with 1 Axes>"
      ]
     },
     "metadata": {},
     "output_type": "display_data"
    },
    {
     "name": "stdout",
     "output_type": "stream",
     "text": [
      "[(108, 146, 127), (76, 158, 178), (93, 161, 156)]\n",
      "Director: olive gray\n",
      "Matcher: [SELECT]\n",
      "1\n",
      "--------------------------\n",
      "Conversation Index: 4608 290\n"
     ]
    },
    {
     "data": {
      "image/png": "[encoded data removed]",
      "text/plain": [
       "<Figure size 216x72 with 1 Axes>"
      ]
     },
     "metadata": {},
     "output_type": "display_data"
    },
    {
     "name": "stdout",
     "output_type": "stream",
     "text": [
      "[(147, 123, 107), (140, 114, 124), (153, 102, 114)]\n",
      "Director: grey\n",
      "Matcher: Do you mean purple grey ?\n",
      "Director: brown grey\n",
      "Matcher: brown or purple or grey purple?\n",
      "Director: grey purple\n",
      "Matcher: The greyish purple?\n",
      "Director: yes\n",
      "Matcher: [SELECT]\n",
      "0\n",
      "--------------------------\n",
      "Conversation Index: 12208 291\n"
     ]
    },
    {
     "data": {
      "image/png": "[encoded data removed]",
      "text/plain": [
       "<Figure size 216x72 with 1 Axes>"
      ]
     },
     "metadata": {},
     "output_type": "display_data"
    },
    {
     "name": "stdout",
     "output_type": "stream",
     "text": [
      "[(217, 30, 224), (2, 164, 252), (112, 142, 122)]\n",
      "--------------------------\n",
      "Conversation Index: 8095 292\n"
     ]
    },
    {
     "data": {
      "image/png": "[encoded data removed]",
      "text/plain": [
       "<Figure size 216x72 with 1 Axes>"
      ]
     },
     "metadata": {},
     "output_type": "display_data"
    },
    {
     "name": "stdout",
     "output_type": "stream",
     "text": [
      "[(99, 167, 87), (17, 237, 120), (38, 216, 38)]\n",
      "Director: Olive green\n",
      "Matcher: [SELECT]\n",
      "1\n",
      "--------------------------\n",
      "Conversation Index: 10231 293\n"
     ]
    },
    {
     "data": {
      "image/png": "[encoded data removed]",
      "text/plain": [
       "<Figure size 216x72 with 1 Axes>"
      ]
     },
     "metadata": {},
     "output_type": "display_data"
    },
    {
     "name": "stdout",
     "output_type": "stream",
     "text": [
      "[(11, 243, 142), (57, 197, 141), (118, 192, 62)]\n",
      "Director: bright green\n",
      "Matcher: [SELECT]\n",
      "1\n",
      "--------------------------\n",
      "Conversation Index: 117 294\n"
     ]
    },
    {
     "data": {
      "image/png": "[encoded data removed]",
      "text/plain": [
       "<Figure size 216x72 with 1 Axes>"
      ]
     },
     "metadata": {},
     "output_type": "display_data"
    },
    {
     "name": "stdout",
     "output_type": "stream",
     "text": [
      "[(210, 83, 44), (66, 188, 127), (233, 53, 21)]\n",
      "Director: not green or red\n",
      "Matcher: orange or bright red?\n",
      "Director: orange\n",
      "Matcher: [SELECT]\n",
      "1\n",
      "--------------------------\n",
      "Conversation Index: 9406 295\n"
     ]
    },
    {
     "data": {
      "image/png": "[encoded data removed]",
      "text/plain": [
       "<Figure size 216x72 with 1 Axes>"
      ]
     },
     "metadata": {},
     "output_type": "display_data"
    },
    {
     "name": "stdout",
     "output_type": "stream",
     "text": [
      "[(109, 145, 114), (184, 186, 68), (60, 253, 1)]\n",
      "Director: A3OV174HQJIJK8\n",
      "Matcher: Thank you for submitting your MturkID. Now please provide me with the target description.\n",
      "Director: olive green\n",
      "Matcher: [SELECT]\n",
      "0\n",
      "--------------------------\n",
      "Conversation Index: 3466 296\n"
     ]
    },
    {
     "data": {
      "image/png": "[encoded data removed]",
      "text/plain": [
       "<Figure size 216x72 with 1 Axes>"
      ]
     },
     "metadata": {},
     "output_type": "display_data"
    },
    {
     "name": "stdout",
     "output_type": "stream",
     "text": [
      "[(77, 89, 177), (138, 43, 211), (54, 22, 232)]\n",
      "Director: perple\n",
      "Matcher: [SELECT]\n",
      "0\n",
      "--------------------------\n",
      "Conversation Index: 11687 297\n"
     ]
    },
    {
     "data": {
      "image/png": "[encoded data removed]",
      "text/plain": [
       "<Figure size 216x72 with 1 Axes>"
      ]
     },
     "metadata": {},
     "output_type": "display_data"
    },
    {
     "name": "stdout",
     "output_type": "stream",
     "text": [
      "[(130, 170, 84), (95, 159, 103), (53, 201, 83)]\n",
      "Director: olive green\n",
      "Matcher: [SELECT]\n",
      "1\n",
      "--------------------------\n",
      "Conversation Index: 4730 298\n"
     ]
    },
    {
     "data": {
      "image/png": "[encoded data removed]",
      "text/plain": [
       "<Figure size 216x72 with 1 Axes>"
      ]
     },
     "metadata": {},
     "output_type": "display_data"
    },
    {
     "name": "stdout",
     "output_type": "stream",
     "text": [
      "[(125, 112, 142), (39, 186, 215), (170, 84, 113)]\n",
      "Director: it is not teal or pink\n",
      "Matcher: Do you mean grey or blue?\n",
      "Director: its not blue or pink\n",
      "Matcher: The lavender?\n",
      "Director: yes\n",
      "Matcher: [SELECT]\n",
      "1\n",
      "--------------------------\n",
      "Conversation Index: 6845 299\n"
     ]
    },
    {
     "data": {
      "image/png": "[encoded data removed]",
      "text/plain": [
       "<Figure size 216x72 with 1 Axes>"
      ]
     },
     "metadata": {},
     "output_type": "display_data"
    },
    {
     "name": "stdout",
     "output_type": "stream",
     "text": [
      "[(112, 161, 93), (102, 202, 52), (135, 177, 77)]\n",
      "Director: it is deeper than the bright green but it is more dull than the regular green\n",
      "Matcher: [SELECT]\n",
      "0\n",
      "--------------------------\n",
      "Conversation Index: 6743 300\n"
     ]
    },
    {
     "data": {
      "image/png": "[encoded data removed]",
      "text/plain": [
       "<Figure size 216x72 with 1 Axes>"
      ]
     },
     "metadata": {},
     "output_type": "display_data"
    },
    {
     "name": "stdout",
     "output_type": "stream",
     "text": [
      "[(91, 163, 125), (76, 179, 75), (108, 133, 146)]\n",
      "Director: Forrest green\n",
      "Matcher: Do you mean teal ?\n",
      "Director: Teal\n",
      "Matcher: sea green or grey or green?\n",
      "Director: Sea green\n",
      "Matcher: [SELECT]\n",
      "1\n",
      "--------------------------\n",
      "Conversation Index: 6403 301\n"
     ]
    },
    {
     "data": {
      "image/png": "[encoded data removed]",
      "text/plain": [
       "<Figure size 216x72 with 1 Axes>"
      ]
     },
     "metadata": {},
     "output_type": "display_data"
    },
    {
     "name": "stdout",
     "output_type": "stream",
     "text": [
      "[(192, 166, 62), (229, 25, 222), (95, 98, 159)]\n",
      "Director: Well it's sort of close to the color you might see on a squash.   The other two colors look nothing like you'd find on a squash.  \n",
      "Matcher: [SELECT]\n",
      "1\n",
      "--------------------------\n",
      "Conversation Index: 13780 302\n"
     ]
    },
    {
     "data": {
      "image/png": "[encoded data removed]",
      "text/plain": [
       "<Figure size 216x72 with 1 Axes>"
      ]
     },
     "metadata": {},
     "output_type": "display_data"
    },
    {
     "name": "stdout",
     "output_type": "stream",
     "text": [
      "[(45, 215, 39), (111, 175, 79), (25, 229, 130)]\n",
      "Director: This color can be described as the color of grass in a yard. It is a little bit lighter but still the same category color.\n",
      "Matcher: Do you mean olive ?\n",
      "Director: no\n",
      "Matcher: teal or olive green or bright green?\n",
      "Director: no \n",
      "Matcher: Do you mean lime green ?\n",
      "Director: yes\n",
      "Matcher: [SELECT]\n",
      "1\n",
      "--------------------------\n",
      "Conversation Index: 11126 303\n"
     ]
    },
    {
     "data": {
      "image/png": "[encoded data removed]",
      "text/plain": [
       "<Figure size 216x72 with 1 Axes>"
      ]
     },
     "metadata": {},
     "output_type": "display_data"
    },
    {
     "name": "stdout",
     "output_type": "stream",
     "text": [
      "[(156, 98, 142), (174, 80, 99), (147, 107, 117)]\n",
      "--------------------------\n",
      "Conversation Index: 6765 304\n"
     ]
    },
    {
     "data": {
      "image/png": "[encoded data removed]",
      "text/plain": [
       "<Figure size 216x72 with 1 Axes>"
      ]
     },
     "metadata": {},
     "output_type": "display_data"
    },
    {
     "name": "stdout",
     "output_type": "stream",
     "text": [
      "[(198, 56, 167), (40, 101, 214), (93, 161, 113)]\n",
      "--------------------------\n",
      "Conversation Index: 2843 305\n"
     ]
    },
    {
     "data": {
      "image/png": "[encoded data removed]",
      "text/plain": [
       "<Figure size 216x72 with 1 Axes>"
      ]
     },
     "metadata": {},
     "output_type": "display_data"
    },
    {
     "name": "stdout",
     "output_type": "stream",
     "text": [
      "[(204, 181, 50), (67, 109, 187), (252, 2, 160)]\n",
      "Director: ASN25PIODXIPJ\n",
      "Matcher: Thank you for submitting your MturkID. Now please provide me with the target description.\n",
      "Director: yellow\n",
      "Matcher: [SELECT]\n",
      "1\n",
      "--------------------------\n",
      "Conversation Index: 10992 306\n"
     ]
    },
    {
     "data": {
      "image/png": "[encoded data removed]",
      "text/plain": [
       "<Figure size 216x72 with 1 Axes>"
      ]
     },
     "metadata": {},
     "output_type": "display_data"
    },
    {
     "name": "stdout",
     "output_type": "stream",
     "text": [
      "[(158, 96, 143), (151, 103, 115), (124, 117, 137)]\n",
      "Director: it is not peach or dark color\n",
      "Matcher: Do you mean grey or purple?\n",
      "Director:      it is light and bright\n",
      "Matcher: Do you mean blue grey ?\n",
      "Director:    blue grey yes it is not t hat one\n",
      "Matcher: I could not understand you.\n",
      "Director: its the color red and white mixed toghether\n",
      "Matcher: Do you mean mauve ?\n",
      "Director: is mauve a pink\n",
      "Matcher: Do you mean brown ?\n",
      "Director: no its not the brown\n",
      "Matcher: [SELECT]\n",
      "1\n",
      "--------------------------\n",
      "Conversation Index: 2000 307\n"
     ]
    },
    {
     "data": {
      "image/png": "[encoded data removed]",
      "text/plain": [
       "<Figure size 216x72 with 1 Axes>"
      ]
     },
     "metadata": {},
     "output_type": "display_data"
    },
    {
     "name": "stdout",
     "output_type": "stream",
     "text": [
      "[(130, 124, 129), (148, 251, 3), (144, 26, 228)]\n",
      "--------------------------\n",
      "Conversation Index: 11446 308\n"
     ]
    },
    {
     "data": {
      "image/png": "[encoded data removed]",
      "text/plain": [
       "<Figure size 216x72 with 1 Axes>"
      ]
     },
     "metadata": {},
     "output_type": "display_data"
    },
    {
     "name": "stdout",
     "output_type": "stream",
     "text": [
      "[(90, 16, 238), (127, 127, 127), (56, 198, 177)]\n",
      "Director: A3K2I1RP5MQN8Y\n",
      "Matcher: Thank you for submitting your MturkID. Now please provide me with the target description.\n",
      "Director: It's a solid color but most definitely has its own range\n",
      "Matcher: Do you mean teal ?\n",
      "Director: yuh teal\n",
      "Matcher: turquoise or grey or purple?\n",
      "--------------------------\n",
      "Conversation Index: 3713 309\n"
     ]
    },
    {
     "data": {
      "image/png": "[encoded data removed]",
      "text/plain": [
       "<Figure size 216x72 with 1 Axes>"
      ]
     },
     "metadata": {},
     "output_type": "display_data"
    },
    {
     "name": "stdout",
     "output_type": "stream",
     "text": [
      "[(85, 169, 147), (119, 137, 117), (94, 160, 107)]\n",
      "Director: It is teal.\n",
      "Matcher: [SELECT]\n",
      "1\n",
      "--------------------------\n",
      "Conversation Index: 4340 310\n"
     ]
    },
    {
     "data": {
      "image/png": "[encoded data removed]",
      "text/plain": [
       "<Figure size 216x72 with 1 Axes>"
      ]
     },
     "metadata": {},
     "output_type": "display_data"
    },
    {
     "name": "stdout",
     "output_type": "stream",
     "text": [
      "[(167, 237, 17), (16, 238, 57), (36, 218, 130)]\n",
      "Director: yellow green\n",
      "Matcher: [SELECT]\n",
      "1\n",
      "--------------------------\n",
      "Conversation Index: 10284 311\n"
     ]
    },
    {
     "data": {
      "image/png": "[encoded data removed]",
      "text/plain": [
       "<Figure size 216x72 with 1 Axes>"
      ]
     },
     "metadata": {},
     "output_type": "display_data"
    },
    {
     "name": "stdout",
     "output_type": "stream",
     "text": [
      "[(94, 160, 130), (132, 122, 128), (42, 212, 79)]\n",
      "Director: A76WEZ9QGREEM\n",
      "Matcher: Thank you for submitting your MturkID. Now please provide me with the target description.\n",
      "Director: Forest greens\n",
      "Matcher: [SELECT]\n",
      "1\n",
      "--------------------------\n",
      "Conversation Index: 13220 312\n"
     ]
    },
    {
     "data": {
      "image/png": "[encoded data removed]",
      "text/plain": [
       "<Figure size 216x72 with 1 Axes>"
      ]
     },
     "metadata": {},
     "output_type": "display_data"
    },
    {
     "name": "stdout",
     "output_type": "stream",
     "text": [
      "[(122, 196, 58), (34, 220, 53), (204, 248, 6)]\n",
      "Director: fluorescent green\n",
      "Matcher: The bright green?\n",
      "Director: bright\n",
      "Matcher: green or light green or yellow?\n",
      "Director: yellow\n",
      "Matcher: [SELECT]\n",
      "0\n",
      "--------------------------\n",
      "Conversation Index: 8405 313\n"
     ]
    },
    {
     "data": {
      "image/png": "[encoded data removed]",
      "text/plain": [
       "<Figure size 216x72 with 1 Axes>"
      ]
     },
     "metadata": {},
     "output_type": "display_data"
    },
    {
     "name": "stdout",
     "output_type": "stream",
     "text": [
      "[(56, 56, 198), (175, 17, 237), (48, 206, 48)]\n",
      "Director: This is the blue color, the one that is the most purely blue.\n",
      "Matcher: [SELECT]\n",
      "1\n",
      "--------------------------\n",
      "Conversation Index: 171 314\n"
     ]
    },
    {
     "data": {
      "image/png": "[encoded data removed]",
      "text/plain": [
       "<Figure size 216x72 with 1 Axes>"
      ]
     },
     "metadata": {},
     "output_type": "display_data"
    },
    {
     "name": "stdout",
     "output_type": "stream",
     "text": [
      "[(186, 215, 39), (152, 163, 91), (219, 204, 35)]\n",
      "Director: This color feels like a mix of two colors\n",
      "Matcher: I could not understand you.\n",
      "Director: It is kinda yellow and kinda green\n",
      "Matcher: [SELECT]\n",
      "1\n",
      "--------------------------\n",
      "Conversation Index: 5053 315\n"
     ]
    },
    {
     "data": {
      "image/png": "[encoded data removed]",
      "text/plain": [
       "<Figure size 216x72 with 1 Axes>"
      ]
     },
     "metadata": {},
     "output_type": "display_data"
    },
    {
     "name": "stdout",
     "output_type": "stream",
     "text": [
      "[(73, 115, 181), (17, 101, 237), (93, 102, 161)]\n",
      "Director: This is a sky blue color\n",
      "Matcher: Do you mean bright blue ?\n",
      "Director: no\n",
      "Matcher: blue or electric blue or purple?\n",
      "Director: blue\n",
      "Matcher: [SELECT]\n",
      "1\n",
      "--------------------------\n",
      "Conversation Index: 9882 316\n"
     ]
    },
    {
     "data": {
      "image/png": "[encoded data removed]",
      "text/plain": [
       "<Figure size 216x72 with 1 Axes>"
      ]
     },
     "metadata": {},
     "output_type": "display_data"
    },
    {
     "name": "stdout",
     "output_type": "stream",
     "text": [
      "[(151, 103, 138), (49, 205, 73), (36, 181, 218)]\n",
      "--------------------------\n",
      "Conversation Index: 8595 317\n"
     ]
    },
    {
     "data": {
      "image/png": "[encoded data removed]",
      "text/plain": [
       "<Figure size 216x72 with 1 Axes>"
      ]
     },
     "metadata": {},
     "output_type": "display_data"
    },
    {
     "name": "stdout",
     "output_type": "stream",
     "text": [
      "[(118, 135, 136), (178, 125, 76), (68, 154, 186)]\n",
      "Director: blue-gray\n",
      "Matcher: I could not understand you.\n",
      "Director: cornflower blue\n",
      "Matcher: [SELECT]\n",
      "0\n",
      "--------------------------\n",
      "Conversation Index: 13026 318\n"
     ]
    },
    {
     "data": {
      "image/png": "[encoded data removed]",
      "text/plain": [
       "<Figure size 216x72 with 1 Axes>"
      ]
     },
     "metadata": {},
     "output_type": "display_data"
    },
    {
     "name": "stdout",
     "output_type": "stream",
     "text": [
      "[(36, 218, 202), (17, 237, 90), (108, 116, 146)]\n",
      "--------------------------\n",
      "Conversation Index: 4653 319\n"
     ]
    },
    {
     "data": {
      "image/png": "[encoded data removed]",
      "text/plain": [
       "<Figure size 216x72 with 1 Axes>"
      ]
     },
     "metadata": {},
     "output_type": "display_data"
    },
    {
     "name": "stdout",
     "output_type": "stream",
     "text": [
      "[(155, 115, 99), (149, 239, 15), (43, 119, 211)]\n",
      "Director: A3TIRLWM8AB3JY\n",
      "Matcher: Thank you for submitting your MturkID. Now please provide me with the target description.\n",
      "Director: It is a darker color comparable to what is under the grass\n",
      "Matcher: [SELECT]\n",
      "0\n",
      "--------------------------\n",
      "Conversation Index: 8458 320\n"
     ]
    },
    {
     "data": {
      "image/png": "[encoded data removed]",
      "text/plain": [
       "<Figure size 216x72 with 1 Axes>"
      ]
     },
     "metadata": {},
     "output_type": "display_data"
    },
    {
     "name": "stdout",
     "output_type": "stream",
     "text": [
      "[(3, 78, 251), (94, 16, 238), (106, 94, 160)]\n",
      "Director: blue color\n",
      "Matcher: [SELECT]\n",
      "1\n",
      "--------------------------\n",
      "Conversation Index: 1438 321\n"
     ]
    },
    {
     "data": {
      "image/png": "[encoded data removed]",
      "text/plain": [
       "<Figure size 216x72 with 1 Axes>"
      ]
     },
     "metadata": {},
     "output_type": "display_data"
    },
    {
     "name": "stdout",
     "output_type": "stream",
     "text": [
      "[(19, 235, 196), (75, 150, 179), (206, 172, 48)]\n",
      "Director: teal\n",
      "Matcher: [SELECT]\n",
      "1\n",
      "--------------------------\n",
      "Conversation Index: 1211 322\n"
     ]
    },
    {
     "data": {
      "image/png": "[encoded data removed]",
      "text/plain": [
       "<Figure size 216x72 with 1 Axes>"
      ]
     },
     "metadata": {},
     "output_type": "display_data"
    },
    {
     "name": "stdout",
     "output_type": "stream",
     "text": [
      "[(126, 130, 124), (148, 233, 21), (102, 153, 126)]\n",
      "Director: it is a darker grey\n",
      "Matcher: [SELECT]\n",
      "1\n",
      "--------------------------\n",
      "Conversation Index: 729 323\n"
     ]
    },
    {
     "data": {
      "image/png": "[encoded data removed]",
      "text/plain": [
       "<Figure size 216x72 with 1 Axes>"
      ]
     },
     "metadata": {},
     "output_type": "display_data"
    },
    {
     "name": "stdout",
     "output_type": "stream",
     "text": [
      "[(31, 121, 223), (42, 212, 76), (209, 45, 124)]\n",
      "--------------------------\n",
      "Conversation Index: 6675 324\n"
     ]
    },
    {
     "data": {
      "image/png": "[encoded data removed]",
      "text/plain": [
       "<Figure size 216x72 with 1 Axes>"
      ]
     },
     "metadata": {},
     "output_type": "display_data"
    },
    {
     "name": "stdout",
     "output_type": "stream",
     "text": [
      "[(87, 212, 42), (16, 238, 171), (85, 174, 80)]\n",
      "Director: light green\n",
      "Matcher: teal or lime green?\n",
      "Director: lime\n",
      "Matcher: [SELECT]\n",
      "1\n",
      "--------------------------\n",
      "Conversation Index: 13320 325\n"
     ]
    },
    {
     "data": {
      "image/png": "[encoded data removed]",
      "text/plain": [
       "<Figure size 216x72 with 1 Axes>"
      ]
     },
     "metadata": {},
     "output_type": "display_data"
    },
    {
     "name": "stdout",
     "output_type": "stream",
     "text": [
      "[(96, 116, 158), (127, 127, 127), (86, 127, 168)]\n",
      "Director: light blue\n",
      "Matcher: [SELECT]\n",
      "0\n",
      "--------------------------\n",
      "Conversation Index: 1390 326\n"
     ]
    },
    {
     "data": {
      "image/png": "[encoded data removed]",
      "text/plain": [
       "<Figure size 216x72 with 1 Axes>"
      ]
     },
     "metadata": {},
     "output_type": "display_data"
    },
    {
     "name": "stdout",
     "output_type": "stream",
     "text": [
      "[(124, 82, 172), (233, 187, 21), (68, 182, 186)]\n",
      "Director: AGWWUXDX6CI38\n",
      "Matcher: Thank you for submitting your MturkID. Now please provide me with the target description.\n",
      "Director: purple\n",
      "Matcher: [SELECT]\n",
      "1\n",
      "--------------------------\n",
      "Conversation Index: 9003 327\n"
     ]
    },
    {
     "data": {
      "image/png": "[encoded data removed]",
      "text/plain": [
       "<Figure size 216x72 with 1 Axes>"
      ]
     },
     "metadata": {},
     "output_type": "display_data"
    },
    {
     "name": "stdout",
     "output_type": "stream",
     "text": [
      "[(29, 101, 225), (91, 96, 163), (72, 132, 182)]\n",
      "Director: it is bolder and brighter \n",
      "Matcher: Do you mean bright blue ?\n",
      "Director: yes\n",
      "Matcher: [SELECT]\n",
      "1\n",
      "--------------------------\n",
      "Conversation Index: 624 328\n"
     ]
    },
    {
     "data": {
      "image/png": "[encoded data removed]",
      "text/plain": [
       "<Figure size 216x72 with 1 Axes>"
      ]
     },
     "metadata": {},
     "output_type": "display_data"
    },
    {
     "name": "stdout",
     "output_type": "stream",
     "text": [
      "[(138, 109, 145), (158, 96, 111), (187, 67, 111)]\n",
      "Director: Resemble a plum\n",
      "Matcher: The mauve?\n",
      "Director: Relate fo purple\n",
      "Matcher: lavender or pink or brown?\n",
      "Director: Lighter side of purple\n",
      "Matcher: The light purple?\n",
      "Director: Yes\n",
      "Matcher: [SELECT]\n",
      "1\n",
      "--------------------------\n",
      "Conversation Index: 158 329\n"
     ]
    },
    {
     "data": {
      "image/png": "[encoded data removed]",
      "text/plain": [
       "<Figure size 216x72 with 1 Axes>"
      ]
     },
     "metadata": {},
     "output_type": "display_data"
    },
    {
     "name": "stdout",
     "output_type": "stream",
     "text": [
      "[(139, 40, 214), (91, 85, 169), (71, 151, 183)]\n",
      "Director: bright purple\n",
      "Matcher: [SELECT]\n",
      "1\n",
      "--------------------------\n",
      "Conversation Index: 9671 330\n"
     ]
    },
    {
     "data": {
      "image/png": "[encoded data removed]",
      "text/plain": [
       "<Figure size 216x72 with 1 Axes>"
      ]
     },
     "metadata": {},
     "output_type": "display_data"
    },
    {
     "name": "stdout",
     "output_type": "stream",
     "text": [
      "[(131, 113, 141), (127, 131, 123), (61, 87, 193)]\n",
      "--------------------------\n",
      "Conversation Index: 597 331\n"
     ]
    },
    {
     "data": {
      "image/png": "[encoded data removed]",
      "text/plain": [
       "<Figure size 216x72 with 1 Axes>"
      ]
     },
     "metadata": {},
     "output_type": "display_data"
    },
    {
     "name": "stdout",
     "output_type": "stream",
     "text": [
      "[(67, 209, 45), (155, 44, 210), (105, 149, 110)]\n",
      "Director: A8289AEOKHKV4\n",
      "Matcher: Thank you for submitting your MturkID. Now please provide me with the target description.\n",
      "Director: green\n",
      "Matcher: [SELECT]\n",
      "1\n",
      "--------------------------\n",
      "Conversation Index: 2201 332\n"
     ]
    },
    {
     "data": {
      "image/png": "[encoded data removed]",
      "text/plain": [
       "<Figure size 216x72 with 1 Axes>"
      ]
     },
     "metadata": {},
     "output_type": "display_data"
    },
    {
     "name": "stdout",
     "output_type": "stream",
     "text": [
      "[(54, 59, 200), (110, 104, 150), (159, 154, 95)]\n",
      "Director: This color is the same as the sky\n",
      "Matcher: [SELECT]\n",
      "1\n",
      "--------------------------\n",
      "Conversation Index: 2705 333\n"
     ]
    },
    {
     "data": {
      "image/png": "[encoded data removed]",
      "text/plain": [
       "<Figure size 216x72 with 1 Axes>"
      ]
     },
     "metadata": {},
     "output_type": "display_data"
    },
    {
     "name": "stdout",
     "output_type": "stream",
     "text": [
      "[(232, 155, 22), (212, 64, 42), (23, 234, 20)]\n",
      "Director: A3211VPCMNHVL5\n",
      "Matcher: Thank you for submitting your MturkID. Now please provide me with the target description.\n",
      "Director: Red\n",
      "Matcher: [SELECT]\n",
      "0\n",
      "--------------------------\n",
      "Conversation Index: 12130 334\n"
     ]
    },
    {
     "data": {
      "image/png": "[encoded data removed]",
      "text/plain": [
       "<Figure size 216x72 with 1 Axes>"
      ]
     },
     "metadata": {},
     "output_type": "display_data"
    },
    {
     "name": "stdout",
     "output_type": "stream",
     "text": [
      "[(77, 177, 114), (115, 218, 36), (199, 1, 253)]\n",
      "Director: mint green\n",
      "Matcher: [SELECT]\n",
      "1\n",
      "--------------------------\n",
      "Conversation Index: 11725 335\n"
     ]
    },
    {
     "data": {
      "image/png": "[encoded data removed]",
      "text/plain": [
       "<Figure size 216x72 with 1 Axes>"
      ]
     },
     "metadata": {},
     "output_type": "display_data"
    },
    {
     "name": "stdout",
     "output_type": "stream",
     "text": [
      "[(101, 191, 63), (104, 155, 99), (134, 164, 90)]\n",
      "Director: the target color is the most vibrant of the green colors.\n",
      "Matcher: Do you mean light green ?\n",
      "Director: yes\n",
      "Matcher: [SELECT]\n",
      "1\n",
      "--------------------------\n",
      "Conversation Index: 1727 336\n"
     ]
    },
    {
     "data": {
      "image/png": "[encoded data removed]",
      "text/plain": [
       "<Figure size 216x72 with 1 Axes>"
      ]
     },
     "metadata": {},
     "output_type": "display_data"
    },
    {
     "name": "stdout",
     "output_type": "stream",
     "text": [
      "[(116, 130, 138), (142, 218, 36), (147, 145, 107)]\n",
      "Director: It is the color of sky\n",
      "Matcher: Do you mean blue grey ?\n",
      "Director: yes\n",
      "Matcher: [SELECT]\n",
      "1\n",
      "--------------------------\n",
      "Conversation Index: 4047 337\n"
     ]
    },
    {
     "data": {
      "image/png": "[encoded data removed]",
      "text/plain": [
       "<Figure size 216x72 with 1 Axes>"
      ]
     },
     "metadata": {},
     "output_type": "display_data"
    },
    {
     "name": "stdout",
     "output_type": "stream",
     "text": [
      "[(47, 189, 207), (94, 130, 160), (123, 65, 189)]\n",
      "Director: A30ZX8YX21449F\n",
      "Matcher: Thank you for submitting your MturkID. Now please provide me with the target description.\n",
      "Director: Turquoise\n",
      "Matcher: [SELECT]\n",
      "1\n",
      "--------------------------\n",
      "Conversation Index: 5554 338\n"
     ]
    },
    {
     "data": {
      "image/png": "[encoded data removed]",
      "text/plain": [
       "<Figure size 216x72 with 1 Axes>"
      ]
     },
     "metadata": {},
     "output_type": "display_data"
    },
    {
     "name": "stdout",
     "output_type": "stream",
     "text": [
      "[(198, 56, 172), (165, 174, 80), (123, 131, 130)]\n",
      "Director: red\n",
      "Matcher: [SELECT]\n",
      "1\n",
      "--------------------------\n",
      "Conversation Index: 9905 339\n"
     ]
    },
    {
     "data": {
      "image/png": "[encoded data removed]",
      "text/plain": [
       "<Figure size 216x72 with 1 Axes>"
      ]
     },
     "metadata": {},
     "output_type": "display_data"
    },
    {
     "name": "stdout",
     "output_type": "stream",
     "text": [
      "[(200, 31, 223), (160, 89, 165), (193, 61, 189)]\n",
      "Director: purple\n",
      "Matcher: lavender or pink?\n",
      "Director: lavender\n",
      "Matcher: [SELECT]\n",
      "0\n",
      "--------------------------\n",
      "Conversation Index: 7374 340\n"
     ]
    },
    {
     "data": {
      "image/png": "[encoded data removed]",
      "text/plain": [
       "<Figure size 216x72 with 1 Axes>"
      ]
     },
     "metadata": {},
     "output_type": "display_data"
    },
    {
     "name": "stdout",
     "output_type": "stream",
     "text": [
      "[(156, 121, 98), (201, 100, 53), (108, 71, 183)]\n",
      "Director: it's close to brown\n",
      "Matcher: [SELECT]\n",
      "1\n",
      "--------------------------\n",
      "Conversation Index: 9223 341\n"
     ]
    },
    {
     "data": {
      "image/png": "[encoded data removed]",
      "text/plain": [
       "<Figure size 216x72 with 1 Axes>"
      ]
     },
     "metadata": {},
     "output_type": "display_data"
    },
    {
     "name": "stdout",
     "output_type": "stream",
     "text": [
      "[(107, 138, 147), (65, 127, 189), (105, 130, 149)]\n",
      "Director: it is more of a sage green\n",
      "Matcher: [SELECT]\n",
      "1\n",
      "--------------------------\n",
      "Conversation Index: 6715 342\n"
     ]
    },
    {
     "data": {
      "image/png": "[encoded data removed]",
      "text/plain": [
       "<Figure size 216x72 with 1 Axes>"
      ]
     },
     "metadata": {},
     "output_type": "display_data"
    },
    {
     "name": "stdout",
     "output_type": "stream",
     "text": [
      "[(108, 123, 146), (138, 134, 116), (90, 206, 48)]\n",
      "--------------------------\n",
      "Conversation Index: 13845 343\n"
     ]
    },
    {
     "data": {
      "image/png": "[encoded data removed]",
      "text/plain": [
       "<Figure size 216x72 with 1 Axes>"
      ]
     },
     "metadata": {},
     "output_type": "display_data"
    },
    {
     "name": "stdout",
     "output_type": "stream",
     "text": [
      "[(98, 123, 156), (119, 123, 135), (113, 108, 146)]\n",
      "Director: This color is a lighter shade of a Barney the dinosaur color.\n",
      "Matcher: I could not understand you.\n",
      "Director: If you mix red and blue you get this color.\n",
      "Matcher: Do you mean grey blue ?\n",
      "Director: no\n",
      "Matcher: purple or grey or blue grey?\n",
      "Director: yes\n",
      "Matcher: Do you mean lavender ?\n",
      "Director: almost\n",
      "Matcher: The purple grey?\n",
      "Director: the sky color and ?\n",
      "Matcher: I could not understand you.\n",
      "Director: You said it already\n",
      "Matcher: I could not understand you.\n",
      "Director: Color of a grape\n",
      "Matcher: [SELECT]\n",
      "0\n",
      "--------------------------\n",
      "Conversation Index: 9304 344\n"
     ]
    },
    {
     "data": {
      "image/png": "[encoded data removed]",
      "text/plain": [
       "<Figure size 216x72 with 1 Axes>"
      ]
     },
     "metadata": {},
     "output_type": "display_data"
    },
    {
     "name": "stdout",
     "output_type": "stream",
     "text": [
      "[(96, 79, 175), (135, 89, 165), (127, 31, 223)]\n",
      "Director: darker violet\n",
      "Matcher: blue or bright purple or light purple?\n",
      "Director: blue\n",
      "Matcher: [SELECT]\n",
      "1\n",
      "--------------------------\n",
      "Conversation Index: 141 345\n"
     ]
    },
    {
     "data": {
      "image/png": "[encoded data removed]",
      "text/plain": [
       "<Figure size 216x72 with 1 Axes>"
      ]
     },
     "metadata": {},
     "output_type": "display_data"
    },
    {
     "name": "stdout",
     "output_type": "stream",
     "text": [
      "[(123, 89, 165), (29, 84, 225), (80, 94, 174)]\n",
      "Director: purple\n",
      "Matcher: [SELECT]\n",
      "1\n",
      "--------------------------\n",
      "Conversation Index: 7846 346\n"
     ]
    },
    {
     "data": {
      "image/png": "[encoded data removed]",
      "text/plain": [
       "<Figure size 216x72 with 1 Axes>"
      ]
     },
     "metadata": {},
     "output_type": "display_data"
    },
    {
     "name": "stdout",
     "output_type": "stream",
     "text": [
      "[(232, 22, 106), (167, 89, 87), (249, 5, 82)]\n",
      "Director: pink\n",
      "Matcher: The magenta?\n",
      "Director: no\n",
      "Matcher: red or mauve or fuchsia?\n",
      "Director: fuchsia\n",
      "Matcher: Do you mean dark pink ?\n",
      "Director: no\n",
      "Matcher: Do you mean bright pink ?\n",
      "Director: yes\n",
      "Matcher: [SELECT]\n",
      "1\n",
      "--------------------------\n",
      "Conversation Index: 3056 347\n"
     ]
    },
    {
     "data": {
      "image/png": "[encoded data removed]",
      "text/plain": [
       "<Figure size 216x72 with 1 Axes>"
      ]
     },
     "metadata": {},
     "output_type": "display_data"
    },
    {
     "name": "stdout",
     "output_type": "stream",
     "text": [
      "[(90, 48, 206), (78, 186, 68), (42, 11, 243)]\n",
      "Director: purple\n",
      "Matcher: [SELECT]\n",
      "1\n",
      "--------------------------\n",
      "Conversation Index: 5490 348\n"
     ]
    },
    {
     "data": {
      "image/png": "[encoded data removed]",
      "text/plain": [
       "<Figure size 216x72 with 1 Axes>"
      ]
     },
     "metadata": {},
     "output_type": "display_data"
    },
    {
     "name": "stdout",
     "output_type": "stream",
     "text": [
      "[(103, 232, 22), (243, 142, 11), (34, 220, 143)]\n",
      "Director: this color is much more vibrant that the two others, and is almost neon.\n",
      "Matcher: Do you mean teal ?\n",
      "Director: no it's really neon green\n",
      "Matcher: lime green or turquoise or orange?\n",
      "Director: more like lime\n",
      "Matcher: [SELECT]\n",
      "1\n",
      "--------------------------\n",
      "Conversation Index: 6406 349\n"
     ]
    },
    {
     "data": {
      "image/png": "[encoded data removed]",
      "text/plain": [
       "<Figure size 216x72 with 1 Axes>"
      ]
     },
     "metadata": {},
     "output_type": "display_data"
    },
    {
     "name": "stdout",
     "output_type": "stream",
     "text": [
      "[(73, 181, 97), (179, 158, 75), (25, 229, 222)]\n",
      "--------------------------\n",
      "Conversation Index: 5243 350\n"
     ]
    },
    {
     "data": {
      "image/png": "[encoded data removed]",
      "text/plain": [
       "<Figure size 216x72 with 1 Axes>"
      ]
     },
     "metadata": {},
     "output_type": "display_data"
    },
    {
     "name": "stdout",
     "output_type": "stream",
     "text": [
      "[(128, 128, 126), (226, 110, 28), (47, 194, 207)]\n",
      "Director: not black and not white\n",
      "Matcher: I do not see the same ordering of color patches as you nor the black borders. Please provide me with a color description.\n",
      "Director: A2DQ9P2NT6QN0U\n",
      "Matcher: Thank you for submitting your MturkID. Now please provide me with the target description.\n",
      "Director: It is a medium shade of gray\n",
      "Matcher: I could not understand you.\n",
      "--------------------------\n",
      "Conversation Index: 4486 351\n"
     ]
    },
    {
     "data": {
      "image/png": "[encoded data removed]",
      "text/plain": [
       "<Figure size 216x72 with 1 Axes>"
      ]
     },
     "metadata": {},
     "output_type": "display_data"
    },
    {
     "name": "stdout",
     "output_type": "stream",
     "text": [
      "[(122, 132, 124), (86, 168, 135), (80, 157, 174)]\n",
      "Director: it's the color of an overcast sky\n",
      "Matcher: [SELECT]\n",
      "0\n",
      "--------------------------\n",
      "Conversation Index: 5228 352\n"
     ]
    },
    {
     "data": {
      "image/png": "[encoded data removed]",
      "text/plain": [
       "<Figure size 216x72 with 1 Axes>"
      ]
     },
     "metadata": {},
     "output_type": "display_data"
    },
    {
     "name": "stdout",
     "output_type": "stream",
     "text": [
      "[(127, 119, 135), (104, 120, 150), (102, 131, 153)]\n",
      "Director: it is a standard grey\n",
      "Matcher: The purple grey?\n",
      "Director: no, dark grey\n",
      "Matcher: grey purple or blue or periwinkle?\n",
      "Director: grey purple \n",
      "Matcher: [SELECT]\n",
      "1\n",
      "--------------------------\n",
      "Conversation Index: 12940 353\n"
     ]
    },
    {
     "data": {
      "image/png": "[encoded data removed]",
      "text/plain": [
       "<Figure size 216x72 with 1 Axes>"
      ]
     },
     "metadata": {},
     "output_type": "display_data"
    },
    {
     "name": "stdout",
     "output_type": "stream",
     "text": [
      "[(64, 238, 16), (153, 113, 102), (246, 8, 80)]\n",
      "Director: ASN25PIODXIPJ\n",
      "Matcher: Thank you for submitting your MturkID. Now please provide me with the target description.\n",
      "Director: green\n",
      "Matcher: [SELECT]\n",
      "1\n",
      "--------------------------\n",
      "Conversation Index: 7367 354\n"
     ]
    },
    {
     "data": {
      "image/png": "[encoded data removed]",
      "text/plain": [
       "<Figure size 216x72 with 1 Axes>"
      ]
     },
     "metadata": {},
     "output_type": "display_data"
    },
    {
     "name": "stdout",
     "output_type": "stream",
     "text": [
      "[(84, 144, 170), (119, 135, 127), (108, 128, 146)]\n",
      "Director: a cold shade color, brightest of the 3\n",
      "Matcher: The blue?\n",
      "Director: yes\n",
      "Matcher: [SELECT]\n",
      "1\n",
      "--------------------------\n",
      "Conversation Index: 10423 355\n"
     ]
    },
    {
     "data": {
      "image/png": "[encoded data removed]",
      "text/plain": [
       "<Figure size 216x72 with 1 Axes>"
      ]
     },
     "metadata": {},
     "output_type": "display_data"
    },
    {
     "name": "stdout",
     "output_type": "stream",
     "text": [
      "[(61, 109, 193), (130, 123, 131), (175, 65, 189)]\n",
      "Director: A3GTPW3MYSLMR7\n",
      "Matcher: Thank you for submitting your MturkID. Now please provide me with the target description.\n",
      "Director: Blue\n",
      "Matcher: [SELECT]\n",
      "1\n",
      "--------------------------\n",
      "Conversation Index: 10269 356\n"
     ]
    },
    {
     "data": {
      "image/png": "[encoded data removed]",
      "text/plain": [
       "<Figure size 216x72 with 1 Axes>"
      ]
     },
     "metadata": {},
     "output_type": "display_data"
    },
    {
     "name": "stdout",
     "output_type": "stream",
     "text": [
      "[(150, 12, 242), (12, 89, 242), (58, 19, 235)]\n",
      "Director: Purple\n",
      "Matcher: [SELECT]\n",
      "1\n",
      "--------------------------\n",
      "Conversation Index: 8477 357\n"
     ]
    },
    {
     "data": {
      "image/png": "[encoded data removed]",
      "text/plain": [
       "<Figure size 216x72 with 1 Axes>"
      ]
     },
     "metadata": {},
     "output_type": "display_data"
    },
    {
     "name": "stdout",
     "output_type": "stream",
     "text": [
      "[(164, 90, 116), (167, 103, 87), (234, 20, 95)]\n",
      "Director: it's the color of a rose\n",
      "Matcher: The purple?\n",
      "Director: yes\n",
      "Matcher: [SELECT]\n",
      "1\n",
      "--------------------------\n",
      "Conversation Index: 12574 358\n"
     ]
    },
    {
     "data": {
      "image/png": "[encoded data removed]",
      "text/plain": [
       "<Figure size 216x72 with 1 Axes>"
      ]
     },
     "metadata": {},
     "output_type": "display_data"
    },
    {
     "name": "stdout",
     "output_type": "stream",
     "text": [
      "[(171, 229, 25), (253, 9, 1), (127, 195, 59)]\n",
      "Director: Green\n",
      "Matcher: [SELECT]\n",
      "0\n",
      "--------------------------\n",
      "Conversation Index: 12056 359\n"
     ]
    },
    {
     "data": {
      "image/png": "[encoded data removed]",
      "text/plain": [
       "<Figure size 216x72 with 1 Axes>"
      ]
     },
     "metadata": {},
     "output_type": "display_data"
    },
    {
     "name": "stdout",
     "output_type": "stream",
     "text": [
      "[(93, 168, 86), (31, 223, 95), (14, 240, 150)]\n",
      "Director: darker green than the other greens, more of an \"army green\"\n",
      "Matcher: I could not understand you.\n",
      "Director: an \"army\" green. a little darker than the others\n",
      "Matcher: I could not understand you.\n",
      "Director: a grass color green\n",
      "Matcher: Do you mean forest green ?\n",
      "Director: yes\n",
      "Matcher: [SELECT]\n",
      "1\n",
      "--------------------------\n",
      "Conversation Index: 13724 360\n"
     ]
    },
    {
     "data": {
      "image/png": "[encoded data removed]",
      "text/plain": [
       "<Figure size 216x72 with 1 Axes>"
      ]
     },
     "metadata": {},
     "output_type": "display_data"
    },
    {
     "name": "stdout",
     "output_type": "stream",
     "text": [
      "[(165, 155, 89), (100, 142, 154), (108, 153, 102)]\n",
      "Director: a mustard green color\n",
      "Matcher: [SELECT]\n",
      "1\n",
      "--------------------------\n",
      "Conversation Index: 1571 361\n"
     ]
    },
    {
     "data": {
      "image/png": "[encoded data removed]",
      "text/plain": [
       "<Figure size 216x72 with 1 Axes>"
      ]
     },
     "metadata": {},
     "output_type": "display_data"
    },
    {
     "name": "stdout",
     "output_type": "stream",
     "text": [
      "[(141, 230, 24), (154, 100, 114), (65, 167, 189)]\n",
      "Director: It's the lightest green one\n",
      "Matcher: [SELECT]\n",
      "1\n",
      "--------------------------\n",
      "Conversation Index: 11400 362\n"
     ]
    },
    {
     "data": {
      "image/png": "[encoded data removed]",
      "text/plain": [
       "<Figure size 216x72 with 1 Axes>"
      ]
     },
     "metadata": {},
     "output_type": "display_data"
    },
    {
     "name": "stdout",
     "output_type": "stream",
     "text": [
      "[(206, 48, 177), (170, 28, 226), (136, 95, 159)]\n",
      "Director: the color patch that is magenta\n",
      "Matcher: [SELECT]\n",
      "1\n",
      "--------------------------\n",
      "Conversation Index: 8972 363\n"
     ]
    },
    {
     "data": {
      "image/png": "[encoded data removed]",
      "text/plain": [
       "<Figure size 216x72 with 1 Axes>"
      ]
     },
     "metadata": {},
     "output_type": "display_data"
    },
    {
     "name": "stdout",
     "output_type": "stream",
     "text": [
      "[(98, 81, 173), (149, 71, 183), (57, 54, 200)]\n",
      "Director: lavender\n",
      "Matcher: Do you mean periwinkle ?\n",
      "Director: yeah sure\n",
      "Matcher: [SELECT]\n",
      "1\n",
      "--------------------------\n",
      "Conversation Index: 4152 364\n"
     ]
    },
    {
     "data": {
      "image/png": "[encoded data removed]",
      "text/plain": [
       "<Figure size 216x72 with 1 Axes>"
      ]
     },
     "metadata": {},
     "output_type": "display_data"
    },
    {
     "name": "stdout",
     "output_type": "stream",
     "text": [
      "[(77, 228, 26), (87, 175, 79), (87, 191, 63)]\n",
      "Director: This is a neon Green.\n",
      "Matcher: [SELECT]\n",
      "1\n",
      "--------------------------\n",
      "Conversation Index: 2273 365\n"
     ]
    },
    {
     "data": {
      "image/png": "[encoded data removed]",
      "text/plain": [
       "<Figure size 216x72 with 1 Axes>"
      ]
     },
     "metadata": {},
     "output_type": "display_data"
    },
    {
     "name": "stdout",
     "output_type": "stream",
     "text": [
      "[(8, 127, 246), (243, 158, 11), (249, 5, 196)]\n",
      "--------------------------\n",
      "Conversation Index: 11782 366\n"
     ]
    },
    {
     "data": {
      "image/png": "[encoded data removed]",
      "text/plain": [
       "<Figure size 216x72 with 1 Axes>"
      ]
     },
     "metadata": {},
     "output_type": "display_data"
    },
    {
     "name": "stdout",
     "output_type": "stream",
     "text": [
      "[(153, 102, 131), (95, 135, 159), (109, 145, 115)]\n",
      "--------------------------\n",
      "Conversation Index: 687 367\n"
     ]
    },
    {
     "data": {
      "image/png": "[encoded data removed]",
      "text/plain": [
       "<Figure size 216x72 with 1 Axes>"
      ]
     },
     "metadata": {},
     "output_type": "display_data"
    },
    {
     "name": "stdout",
     "output_type": "stream",
     "text": [
      "[(94, 38, 216), (238, 16, 46), (142, 200, 54)]\n",
      "Director: A265ZA1Q2R2TGT\n",
      "Matcher: Thank you for submitting your MturkID. Now please provide me with the target description.\n",
      "--------------------------\n",
      "Conversation Index: 8096 368\n"
     ]
    },
    {
     "data": {
      "image/png": "[encoded data removed]",
      "text/plain": [
       "<Figure size 216x72 with 1 Axes>"
      ]
     },
     "metadata": {},
     "output_type": "display_data"
    },
    {
     "name": "stdout",
     "output_type": "stream",
     "text": [
      "[(232, 158, 22), (107, 141, 147), (79, 175, 124)]\n",
      "--------------------------\n",
      "Conversation Index: 12097 369\n"
     ]
    },
    {
     "data": {
      "image/png": "[encoded data removed]",
      "text/plain": [
       "<Figure size 216x72 with 1 Axes>"
      ]
     },
     "metadata": {},
     "output_type": "display_data"
    },
    {
     "name": "stdout",
     "output_type": "stream",
     "text": [
      "[(151, 103, 137), (131, 127, 123), (224, 30, 98)]\n",
      "Director: purple\n",
      "Matcher: [SELECT]\n",
      "1\n",
      "--------------------------\n",
      "Conversation Index: 12853 370\n"
     ]
    },
    {
     "data": {
      "image/png": "[encoded data removed]",
      "text/plain": [
       "<Figure size 216x72 with 1 Axes>"
      ]
     },
     "metadata": {},
     "output_type": "display_data"
    },
    {
     "name": "stdout",
     "output_type": "stream",
     "text": [
      "[(120, 201, 53), (114, 136, 140), (144, 232, 22)]\n",
      "Director: darker of the green\n",
      "Matcher: The grass green?\n",
      "Director: yes\n",
      "Matcher: [SELECT]\n",
      "1\n",
      "--------------------------\n",
      "Conversation Index: 13503 371\n"
     ]
    },
    {
     "data": {
      "image/png": "[encoded data removed]",
      "text/plain": [
       "<Figure size 216x72 with 1 Axes>"
      ]
     },
     "metadata": {},
     "output_type": "display_data"
    },
    {
     "name": "stdout",
     "output_type": "stream",
     "text": [
      "[(28, 229, 25), (24, 230, 110), (33, 221, 140)]\n",
      "Director: This color is very bright and almost neon green, It is the most yellowish of all the colors and also the brightest.\n",
      "Matcher: The teal?\n",
      "Director: No, the very bright green, like a lime green.\n",
      "Matcher: neon green or turquoise or green?\n",
      "Director: neon green\n",
      "Matcher: [SELECT]\n",
      "1\n",
      "--------------------------\n",
      "Conversation Index: 10029 372\n"
     ]
    },
    {
     "data": {
      "image/png": "[encoded data removed]",
      "text/plain": [
       "<Figure size 216x72 with 1 Axes>"
      ]
     },
     "metadata": {},
     "output_type": "display_data"
    },
    {
     "name": "stdout",
     "output_type": "stream",
     "text": [
      "[(48, 48, 206), (116, 240, 14), (204, 150, 50)]\n",
      "--------------------------\n",
      "Conversation Index: 11735 373\n"
     ]
    },
    {
     "data": {
      "image/png": "[encoded data removed]",
      "text/plain": [
       "<Figure size 216x72 with 1 Axes>"
      ]
     },
     "metadata": {},
     "output_type": "display_data"
    },
    {
     "name": "stdout",
     "output_type": "stream",
     "text": [
      "[(155, 99, 127), (28, 150, 226), (174, 174, 80)]\n",
      "Director: pink\n",
      "Matcher: [SELECT]\n",
      "1\n",
      "--------------------------\n",
      "Conversation Index: 12616 374\n"
     ]
    },
    {
     "data": {
      "image/png": "[encoded data removed]",
      "text/plain": [
       "<Figure size 216x72 with 1 Axes>"
      ]
     },
     "metadata": {},
     "output_type": "display_data"
    },
    {
     "name": "stdout",
     "output_type": "stream",
     "text": [
      "[(96, 129, 158), (68, 119, 186), (104, 109, 150)]\n",
      "Director: Pastel blue one\n",
      "Matcher: [SELECT]\n",
      "0\n",
      "--------------------------\n",
      "Conversation Index: 3569 375\n"
     ]
    },
    {
     "data": {
      "image/png": "[encoded data removed]",
      "text/plain": [
       "<Figure size 216x72 with 1 Axes>"
      ]
     },
     "metadata": {},
     "output_type": "display_data"
    },
    {
     "name": "stdout",
     "output_type": "stream",
     "text": [
      "[(96, 182, 72), (102, 153, 102), (99, 155, 131)]\n",
      "Director: turtle\n",
      "Matcher: I could not understand you.\n",
      "Director: olive \n",
      "Matcher: [SELECT]\n",
      "0\n",
      "--------------------------\n",
      "Conversation Index: 9917 376\n"
     ]
    },
    {
     "data": {
      "image/png": "[encoded data removed]",
      "text/plain": [
       "<Figure size 216x72 with 1 Axes>"
      ]
     },
     "metadata": {},
     "output_type": "display_data"
    },
    {
     "name": "stdout",
     "output_type": "stream",
     "text": [
      "[(134, 71, 183), (50, 96, 204), (98, 116, 156)]\n",
      "Director: pastel purple\n",
      "Matcher: [SELECT]\n",
      "1\n",
      "--------------------------\n",
      "Conversation Index: 5461 377\n"
     ]
    },
    {
     "data": {
      "image/png": "[encoded data removed]",
      "text/plain": [
       "<Figure size 216x72 with 1 Axes>"
      ]
     },
     "metadata": {},
     "output_type": "display_data"
    },
    {
     "name": "stdout",
     "output_type": "stream",
     "text": [
      "[(207, 135, 47), (219, 219, 35), (146, 65, 189)]\n",
      "Director: orange\n",
      "Matcher: [SELECT]\n",
      "1\n",
      "--------------------------\n",
      "Conversation Index: 1247 378\n"
     ]
    },
    {
     "data": {
      "image/png": "[encoded data removed]",
      "text/plain": [
       "<Figure size 216x72 with 1 Axes>"
      ]
     },
     "metadata": {},
     "output_type": "display_data"
    },
    {
     "name": "stdout",
     "output_type": "stream",
     "text": [
      "[(63, 123, 191), (53, 201, 169), (90, 57, 197)]\n",
      "Director: A2IBTYRQIZX1N6\n",
      "Matcher: Thank you for submitting your MturkID. Now please provide me with the target description.\n",
      "Director: It is a blue color, approximately the shade of the sky.\n",
      "Matcher: [SELECT]\n",
      "1\n",
      "--------------------------\n",
      "Conversation Index: 731 379\n"
     ]
    },
    {
     "data": {
      "image/png": "[encoded data removed]",
      "text/plain": [
       "<Figure size 216x72 with 1 Axes>"
      ]
     },
     "metadata": {},
     "output_type": "display_data"
    },
    {
     "name": "stdout",
     "output_type": "stream",
     "text": [
      "[(70, 33, 221), (207, 47, 49), (115, 110, 144)]\n",
      "Director: A2GAORYRN1WMD8\n",
      "Matcher: Thank you for submitting your MturkID. Now please provide me with the target description.\n",
      "Director: Red\n",
      "Matcher: [SELECT]\n",
      "0\n",
      "--------------------------\n",
      "Conversation Index: 1731 380\n"
     ]
    },
    {
     "data": {
      "image/png": "[encoded data removed]",
      "text/plain": [
       "<Figure size 216x72 with 1 Axes>"
      ]
     },
     "metadata": {},
     "output_type": "display_data"
    },
    {
     "name": "stdout",
     "output_type": "stream",
     "text": [
      "[(230, 31, 24), (249, 5, 127), (163, 73, 181)]\n",
      "Director: A76WEZ9QGREEM\n",
      "Matcher: Thank you for submitting your MturkID. Now please provide me with the target description.\n",
      "Director: Color of a stop sign\n",
      "Matcher: I could not understand you.\n",
      "Director: Stop sign\n",
      "Matcher: I could not understand you.\n",
      "Director: Fire engine\n",
      "Matcher: I could not understand you.\n",
      "Director: Red\n",
      "Matcher: [SELECT]\n",
      "1\n",
      "--------------------------\n",
      "Conversation Index: 3198 381\n"
     ]
    },
    {
     "data": {
      "image/png": "[encoded data removed]",
      "text/plain": [
       "<Figure size 216x72 with 1 Axes>"
      ]
     },
     "metadata": {},
     "output_type": "display_data"
    },
    {
     "name": "stdout",
     "output_type": "stream",
     "text": [
      "[(127, 127, 127), (122, 132, 131), (103, 110, 151)]\n",
      "Director: light brown\n",
      "Matcher: [SELECT]\n",
      "1\n",
      "--------------------------\n",
      "Conversation Index: 1582 382\n"
     ]
    },
    {
     "data": {
      "image/png": "[encoded data removed]",
      "text/plain": [
       "<Figure size 216x72 with 1 Axes>"
      ]
     },
     "metadata": {},
     "output_type": "display_data"
    },
    {
     "name": "stdout",
     "output_type": "stream",
     "text": [
      "[(234, 88, 20), (68, 186, 111), (154, 124, 100)]\n",
      "--------------------------\n",
      "Conversation Index: 6704 383\n"
     ]
    },
    {
     "data": {
      "image/png": "[encoded data removed]",
      "text/plain": [
       "<Figure size 216x72 with 1 Axes>"
      ]
     },
     "metadata": {},
     "output_type": "display_data"
    },
    {
     "name": "stdout",
     "output_type": "stream",
     "text": [
      "[(34, 220, 161), (136, 130, 118), (86, 166, 168)]\n",
      "Director: A2AS2Z9P0VV2NP\n",
      "Matcher: Thank you for submitting your MturkID. Now please provide me with the target description.\n",
      "Director: This color box is seafoam green.\n",
      "Matcher: [SELECT]\n",
      "1\n",
      "--------------------------\n",
      "Conversation Index: 5528 384\n"
     ]
    },
    {
     "data": {
      "image/png": "[encoded data removed]",
      "text/plain": [
       "<Figure size 216x72 with 1 Axes>"
      ]
     },
     "metadata": {},
     "output_type": "display_data"
    },
    {
     "name": "stdout",
     "output_type": "stream",
     "text": [
      "[(123, 151, 103), (138, 150, 104), (105, 167, 87)]\n",
      "Director: light green\n",
      "Matcher: [SELECT]\n",
      "0\n",
      "--------------------------\n",
      "Conversation Index: 4712 385\n"
     ]
    },
    {
     "data": {
      "image/png": "[encoded data removed]",
      "text/plain": [
       "<Figure size 216x72 with 1 Axes>"
      ]
     },
     "metadata": {},
     "output_type": "display_data"
    },
    {
     "name": "stdout",
     "output_type": "stream",
     "text": [
      "[(84, 118, 170), (25, 229, 185), (112, 183, 71)]\n",
      "Director: blue\n",
      "Matcher: [SELECT]\n",
      "1\n",
      "--------------------------\n",
      "Conversation Index: 10808 386\n"
     ]
    },
    {
     "data": {
      "image/png": "[encoded data removed]",
      "text/plain": [
       "<Figure size 216x72 with 1 Axes>"
      ]
     },
     "metadata": {},
     "output_type": "display_data"
    },
    {
     "name": "stdout",
     "output_type": "stream",
     "text": [
      "[(195, 59, 177), (17, 207, 237), (84, 243, 11)]\n",
      "Director: A3EKWPKR0OX8P8\n",
      "Matcher: Thank you for submitting your MturkID. Now please provide me with the target description.\n",
      "Director: The color of barney\n",
      "Matcher: [SELECT]\n",
      "1\n",
      "--------------------------\n",
      "Conversation Index: 532 387\n"
     ]
    },
    {
     "data": {
      "image/png": "[encoded data removed]",
      "text/plain": [
       "<Figure size 216x72 with 1 Axes>"
      ]
     },
     "metadata": {},
     "output_type": "display_data"
    },
    {
     "name": "stdout",
     "output_type": "stream",
     "text": [
      "[(66, 234, 20), (114, 205, 49), (137, 225, 29)]\n",
      "Director: neon\n",
      "Matcher: I could not understand you.\n",
      "Director: bright green\n",
      "Matcher: [SELECT]\n",
      "1\n",
      "--------------------------\n",
      "Conversation Index: 1506 388\n"
     ]
    },
    {
     "data": {
      "image/png": "[encoded data removed]",
      "text/plain": [
       "<Figure size 216x72 with 1 Axes>"
      ]
     },
     "metadata": {},
     "output_type": "display_data"
    },
    {
     "name": "stdout",
     "output_type": "stream",
     "text": [
      "[(65, 137, 189), (225, 29, 88), (237, 160, 17)]\n",
      "--------------------------\n",
      "Conversation Index: 5425 389\n"
     ]
    },
    {
     "data": {
      "image/png": "[encoded data removed]",
      "text/plain": [
       "<Figure size 216x72 with 1 Axes>"
      ]
     },
     "metadata": {},
     "output_type": "display_data"
    },
    {
     "name": "stdout",
     "output_type": "stream",
     "text": [
      "[(87, 167, 89), (109, 105, 149), (25, 205, 229)]\n",
      "Director: A1H6DME332958N\n",
      "Matcher: Thank you for submitting your MturkID. Now please provide me with the target description.\n",
      "Director: A1H6DME332958N\n",
      "Matcher: Thank you for submitting your MturkID. Now please provide me with the target description.\n",
      "Director: WISCONSIN\n",
      "Matcher: I could not understand you.\n",
      "--------------------------\n",
      "Conversation Index: 5452 390\n"
     ]
    },
    {
     "data": {
      "image/png": "[encoded data removed]",
      "text/plain": [
       "<Figure size 216x72 with 1 Axes>"
      ]
     },
     "metadata": {},
     "output_type": "display_data"
    },
    {
     "name": "stdout",
     "output_type": "stream",
     "text": [
      "[(235, 247, 7), (134, 117, 137), (47, 207, 197)]\n",
      "--------------------------\n",
      "Conversation Index: 5946 391\n"
     ]
    },
    {
     "data": {
      "image/png": "[encoded data removed]",
      "text/plain": [
       "<Figure size 216x72 with 1 Axes>"
      ]
     },
     "metadata": {},
     "output_type": "display_data"
    },
    {
     "name": "stdout",
     "output_type": "stream",
     "text": [
      "[(127, 224, 30), (147, 145, 107), (175, 79, 143)]\n",
      "--------------------------\n",
      "Conversation Index: 12625 392\n"
     ]
    },
    {
     "data": {
      "image/png": "[encoded data removed]",
      "text/plain": [
       "<Figure size 216x72 with 1 Axes>"
      ]
     },
     "metadata": {},
     "output_type": "display_data"
    },
    {
     "name": "stdout",
     "output_type": "stream",
     "text": [
      "[(94, 160, 141), (95, 165, 89), (122, 173, 81)]\n",
      "Director: it is green\n",
      "Matcher: The forest green?\n",
      "Director: yes\n",
      "Matcher: [SELECT]\n",
      "0\n",
      "--------------------------\n",
      "Conversation Index: 828 393\n"
     ]
    },
    {
     "data": {
      "image/png": "[encoded data removed]",
      "text/plain": [
       "<Figure size 216x72 with 1 Axes>"
      ]
     },
     "metadata": {},
     "output_type": "display_data"
    },
    {
     "name": "stdout",
     "output_type": "stream",
     "text": [
      "[(177, 77, 112), (145, 215, 39), (80, 114, 174)]\n",
      "Director: ABQB1NLFBHTXJ\n",
      "Matcher: Thank you for submitting your MturkID. Now please provide me with the target description.\n",
      "--------------------------\n",
      "Conversation Index: 11579 394\n"
     ]
    },
    {
     "data": {
      "image/png": "[encoded data removed]",
      "text/plain": [
       "<Figure size 216x72 with 1 Axes>"
      ]
     },
     "metadata": {},
     "output_type": "display_data"
    },
    {
     "name": "stdout",
     "output_type": "stream",
     "text": [
      "[(95, 159, 119), (167, 87, 147), (22, 248, 6)]\n",
      "Director: A28P3ZGZB3XG9P\n",
      "Matcher: Thank you for submitting your MturkID. Now please provide me with the target description.\n",
      "--------------------------\n",
      "Conversation Index: 8933 395\n"
     ]
    },
    {
     "data": {
      "image/png": "[encoded data removed]",
      "text/plain": [
       "<Figure size 216x72 with 1 Axes>"
      ]
     },
     "metadata": {},
     "output_type": "display_data"
    },
    {
     "name": "stdout",
     "output_type": "stream",
     "text": [
      "[(126, 107, 147), (124, 127, 130), (108, 104, 150)]\n",
      "Director: brighter light purple\n",
      "Matcher: [SELECT]\n",
      "1\n",
      "--------------------------\n",
      "Conversation Index: 4353 396\n"
     ]
    },
    {
     "data": {
      "image/png": "[encoded data removed]",
      "text/plain": [
       "<Figure size 216x72 with 1 Axes>"
      ]
     },
     "metadata": {},
     "output_type": "display_data"
    },
    {
     "name": "stdout",
     "output_type": "stream",
     "text": [
      "[(191, 114, 63), (7, 247, 111), (65, 148, 189)]\n",
      "Director: A3211VPCMNHVL5\n",
      "Matcher: Thank you for submitting your MturkID. Now please provide me with the target description.\n",
      "Director: green\n",
      "Matcher: [SELECT]\n",
      "0\n",
      "--------------------------\n",
      "Conversation Index: 5803 397\n"
     ]
    },
    {
     "data": {
      "image/png": "[encoded data removed]",
      "text/plain": [
       "<Figure size 216x72 with 1 Axes>"
      ]
     },
     "metadata": {},
     "output_type": "display_data"
    },
    {
     "name": "stdout",
     "output_type": "stream",
     "text": [
      "[(121, 127, 133), (87, 91, 167), (118, 122, 136)]\n",
      "Director: the color of elephants\n",
      "Matcher: I could not understand you.\n",
      "Director: the color of a stormy sky\n",
      "Matcher: [SELECT]\n",
      "0\n",
      "--------------------------\n",
      "Conversation Index: 11389 398\n"
     ]
    },
    {
     "data": {
      "image/png": "[encoded data removed]",
      "text/plain": [
       "<Figure size 216x72 with 1 Axes>"
      ]
     },
     "metadata": {},
     "output_type": "display_data"
    },
    {
     "name": "stdout",
     "output_type": "stream",
     "text": [
      "[(20, 73, 234), (225, 212, 29), (240, 17, 14)]\n",
      "Director: blue\n",
      "Matcher: [SELECT]\n",
      "1\n",
      "--------------------------\n",
      "Conversation Index: 11776 399\n"
     ]
    },
    {
     "data": {
      "image/png": "[encoded data removed]",
      "text/plain": [
       "<Figure size 216x72 with 1 Axes>"
      ]
     },
     "metadata": {},
     "output_type": "display_data"
    },
    {
     "name": "stdout",
     "output_type": "stream",
     "text": [
      "[(33, 80, 221), (45, 56, 209), (115, 39, 215)]\n",
      "Director: blue\n",
      "Matcher: The bright blue?\n",
      "Director: yes\n",
      "Matcher: The light blue?\n",
      "Director: yes\n",
      "Matcher: [SELECT]\n",
      "1\n",
      "--------------------------\n",
      "Conversation Index: 2341 400\n"
     ]
    },
    {
     "data": {
      "image/png": "[encoded data removed]",
      "text/plain": [
       "<Figure size 216x72 with 1 Axes>"
      ]
     },
     "metadata": {},
     "output_type": "display_data"
    },
    {
     "name": "stdout",
     "output_type": "stream",
     "text": [
      "[(107, 187, 67), (127, 126, 128), (54, 219, 35)]\n",
      "Director: There are two colors very similar, it is the one not as bright\n",
      "Matcher: The grey?\n",
      "Director: No, more similar to grass\n",
      "Matcher: light green or dark grey or bright green?\n",
      "Director: there's two colors the same but one is lighter. It's the lighter one\n",
      "Matcher: The olive green?\n",
      "Director: think of a fruit like a lemon\n",
      "Matcher: [SELECT]\n",
      "1\n",
      "--------------------------\n",
      "Conversation Index: 13226 401\n"
     ]
    },
    {
     "data": {
      "image/png": "[encoded data removed]",
      "text/plain": [
       "<Figure size 216x72 with 1 Axes>"
      ]
     },
     "metadata": {},
     "output_type": "display_data"
    },
    {
     "name": "stdout",
     "output_type": "stream",
     "text": [
      "[(102, 126, 153), (160, 94, 157), (131, 123, 126)]\n",
      "Director: This color is like the color of the sky at dusk.\n",
      "Matcher: [SELECT]\n",
      "1\n",
      "--------------------------\n",
      "Conversation Index: 11859 402\n"
     ]
    },
    {
     "data": {
      "image/png": "[encoded data removed]",
      "text/plain": [
       "<Figure size 216x72 with 1 Axes>"
      ]
     },
     "metadata": {},
     "output_type": "display_data"
    },
    {
     "name": "stdout",
     "output_type": "stream",
     "text": [
      "[(29, 225, 75), (159, 181, 73), (36, 218, 118)]\n",
      "Director: green\n",
      "Matcher: bright green or olive or sea green?\n",
      "Director: bright green\n",
      "Matcher: [SELECT]\n",
      "1\n",
      "--------------------------\n",
      "Conversation Index: 3360 403\n"
     ]
    },
    {
     "data": {
      "image/png": "[encoded data removed]",
      "text/plain": [
       "<Figure size 216x72 with 1 Axes>"
      ]
     },
     "metadata": {},
     "output_type": "display_data"
    },
    {
     "name": "stdout",
     "output_type": "stream",
     "text": [
      "[(112, 173, 81), (114, 112, 142), (183, 148, 71)]\n",
      "--------------------------\n",
      "Conversation Index: 3264 404\n"
     ]
    },
    {
     "data": {
      "image/png": "[encoded data removed]",
      "text/plain": [
       "<Figure size 216x72 with 1 Axes>"
      ]
     },
     "metadata": {},
     "output_type": "display_data"
    },
    {
     "name": "stdout",
     "output_type": "stream",
     "text": [
      "[(40, 214, 173), (125, 132, 122), (73, 109, 181)]\n",
      "Director: A2DU76P3SED4T6\n",
      "Matcher: Thank you for submitting your MturkID. Now please provide me with the target description.\n",
      "--------------------------\n",
      "Conversation Index: 12648 405\n"
     ]
    },
    {
     "data": {
      "image/png": "[encoded data removed]",
      "text/plain": [
       "<Figure size 216x72 with 1 Axes>"
      ]
     },
     "metadata": {},
     "output_type": "display_data"
    },
    {
     "name": "stdout",
     "output_type": "stream",
     "text": [
      "[(212, 39, 215), (89, 133, 165), (223, 31, 191)]\n",
      "Director: magenta\n",
      "Matcher: The pink?\n",
      "Director: yes\n",
      "Matcher: [SELECT]\n",
      "0\n",
      "--------------------------\n",
      "Conversation Index: 1323 406\n"
     ]
    },
    {
     "data": {
      "image/png": "[encoded data removed]",
      "text/plain": [
       "<Figure size 216x72 with 1 Axes>"
      ]
     },
     "metadata": {},
     "output_type": "display_data"
    },
    {
     "name": "stdout",
     "output_type": "stream",
     "text": [
      "[(132, 99, 155), (191, 63, 133), (228, 26, 184)]\n",
      "Director: please i don't know what you want i don't know what this color is called\n",
      "Matcher: I could not understand you.\n",
      "Director: purple\n",
      "Matcher: [SELECT]\n",
      "1\n",
      "--------------------------\n",
      "Conversation Index: 3963 407\n"
     ]
    },
    {
     "data": {
      "image/png": "[encoded data removed]",
      "text/plain": [
       "<Figure size 216x72 with 1 Axes>"
      ]
     },
     "metadata": {},
     "output_type": "display_data"
    },
    {
     "name": "stdout",
     "output_type": "stream",
     "text": [
      "[(191, 63, 97), (149, 105, 148), (42, 87, 212)]\n",
      "Director: red\n",
      "Matcher: [SELECT]\n",
      "1\n",
      "--------------------------\n",
      "Conversation Index: 507 408\n"
     ]
    },
    {
     "data": {
      "image/png": "[encoded data removed]",
      "text/plain": [
       "<Figure size 216x72 with 1 Axes>"
      ]
     },
     "metadata": {},
     "output_type": "display_data"
    },
    {
     "name": "stdout",
     "output_type": "stream",
     "text": [
      "[(238, 8, 246), (184, 42, 212), (224, 75, 30)]\n",
      "Director: it is the color of bubblegum only a little brighter. You would call the color hot\n",
      "Matcher: The pink?\n",
      "Director: yes\n",
      "Matcher: [SELECT]\n",
      "1\n",
      "--------------------------\n",
      "Conversation Index: 1905 409\n"
     ]
    },
    {
     "data": {
      "image/png": "[encoded data removed]",
      "text/plain": [
       "<Figure size 216x72 with 1 Axes>"
      ]
     },
     "metadata": {},
     "output_type": "display_data"
    },
    {
     "name": "stdout",
     "output_type": "stream",
     "text": [
      "[(88, 172, 82), (148, 251, 3), (36, 36, 218)]\n",
      "Director: A1G4DA61N4XPLL\n",
      "Matcher: Thank you for submitting your MturkID. Now please provide me with the target description.\n",
      "Director: Green\n",
      "Matcher: [SELECT]\n",
      "1\n",
      "--------------------------\n",
      "Conversation Index: 1518 410\n"
     ]
    },
    {
     "data": {
      "image/png": "[encoded data removed]",
      "text/plain": [
       "<Figure size 216x72 with 1 Axes>"
      ]
     },
     "metadata": {},
     "output_type": "display_data"
    },
    {
     "name": "stdout",
     "output_type": "stream",
     "text": [
      "[(119, 135, 121), (122, 164, 90), (128, 146, 108)]\n",
      "Director: although similar to the two other colors, this shade is darker and less vibrant, a light olive dab as compared to the others.\n",
      "Matcher: Do you mean grey green ?\n",
      "Director: yes pretty much\n",
      "Matcher: [SELECT]\n",
      "0\n",
      "--------------------------\n",
      "Conversation Index: 6719 411\n"
     ]
    },
    {
     "data": {
      "image/png": "[encoded data removed]",
      "text/plain": [
       "<Figure size 216x72 with 1 Axes>"
      ]
     },
     "metadata": {},
     "output_type": "display_data"
    },
    {
     "name": "stdout",
     "output_type": "stream",
     "text": [
      "[(67, 185, 187), (154, 193, 61), (221, 33, 212)]\n",
      "Director: AWMQYV1RQM94M\n",
      "Matcher: Thank you for submitting your MturkID. Now please provide me with the target description.\n",
      "Director: the target color is colder than the other ones, yet it reminds of a quiet tropical ocean.\n",
      "Matcher: [SELECT]\n",
      "1\n",
      "--------------------------\n",
      "Conversation Index: 1433 412\n"
     ]
    },
    {
     "data": {
      "image/png": "[encoded data removed]",
      "text/plain": [
       "<Figure size 216x72 with 1 Axes>"
      ]
     },
     "metadata": {},
     "output_type": "display_data"
    },
    {
     "name": "stdout",
     "output_type": "stream",
     "text": [
      "[(218, 36, 211), (201, 53, 75), (199, 19, 235)]\n",
      "Director: The target color patch is hot pink.\n",
      "Matcher: The magenta?\n",
      "Director: Yes.\n",
      "Matcher: [SELECT]\n",
      "1\n",
      "--------------------------\n",
      "Conversation Index: 5277 413\n"
     ]
    },
    {
     "data": {
      "image/png": "[encoded data removed]",
      "text/plain": [
       "<Figure size 216x72 with 1 Axes>"
      ]
     },
     "metadata": {},
     "output_type": "display_data"
    },
    {
     "name": "stdout",
     "output_type": "stream",
     "text": [
      "[(120, 156, 98), (53, 201, 194), (133, 109, 145)]\n",
      "Director: AKWIRTRUXO6R5\n",
      "Matcher: Thank you for submitting your MturkID. Now please provide me with the target description.\n",
      "Director: The color of the sky on a rainy day.\n",
      "Matcher: [SELECT]\n",
      "0\n",
      "--------------------------\n",
      "Conversation Index: 4342 414\n"
     ]
    },
    {
     "data": {
      "image/png": "[encoded data removed]",
      "text/plain": [
       "<Figure size 216x72 with 1 Axes>"
      ]
     },
     "metadata": {},
     "output_type": "display_data"
    },
    {
     "name": "stdout",
     "output_type": "stream",
     "text": [
      "[(162, 10, 244), (126, 160, 94), (184, 70, 104)]\n",
      "Director: purple\n",
      "Matcher: [SELECT]\n",
      "1\n",
      "--------------------------\n",
      "Conversation Index: 12903 415\n"
     ]
    },
    {
     "data": {
      "image/png": "[encoded data removed]",
      "text/plain": [
       "<Figure size 216x72 with 1 Axes>"
      ]
     },
     "metadata": {},
     "output_type": "display_data"
    },
    {
     "name": "stdout",
     "output_type": "stream",
     "text": [
      "[(85, 169, 159), (116, 138, 128), (134, 145, 109)]\n",
      "Director: This color box is mint green?\n",
      "Matcher: The teal?\n",
      "Director: This color box is teal.\n",
      "Matcher: blue or olive or blue grey?\n",
      "Director: This color box is ocean green.\n",
      "Matcher: The turquoise?\n",
      "Director: This color box is turquoise.\n",
      "Matcher: [SELECT]\n",
      "1\n",
      "--------------------------\n",
      "Conversation Index: 10061 416\n"
     ]
    },
    {
     "data": {
      "image/png": "[encoded data removed]",
      "text/plain": [
       "<Figure size 216x72 with 1 Axes>"
      ]
     },
     "metadata": {},
     "output_type": "display_data"
    },
    {
     "name": "stdout",
     "output_type": "stream",
     "text": [
      "[(157, 192, 62), (190, 10, 244), (35, 161, 219)]\n",
      "Director: A11BACV6DY5S8M\n",
      "Matcher: Thank you for submitting your MturkID. Now please provide me with the target description.\n",
      "Director: Green\n",
      "Matcher: [SELECT]\n",
      "1\n",
      "--------------------------\n",
      "Conversation Index: 10544 417\n"
     ]
    },
    {
     "data": {
      "image/png": "[encoded data removed]",
      "text/plain": [
       "<Figure size 216x72 with 1 Axes>"
      ]
     },
     "metadata": {},
     "output_type": "display_data"
    },
    {
     "name": "stdout",
     "output_type": "stream",
     "text": [
      "[(198, 56, 122), (156, 98, 113), (248, 6, 131)]\n",
      "Director: It is a pink color, more vibrant than rose, but not as bright as fuscia.\n",
      "Matcher: Do you mean magenta ?\n",
      "Director: Yes\n",
      "Matcher: Do you mean dark pink ?\n",
      "Director: No\n",
      "Matcher: The hot pink?\n",
      "Director: No\n",
      "Matcher: Do you mean dark magenta ?\n",
      "Director: Yes\n",
      "Matcher: [SELECT]\n",
      "1\n",
      "--------------------------\n",
      "Conversation Index: 1846 418\n"
     ]
    },
    {
     "data": {
      "image/png": "[encoded data removed]",
      "text/plain": [
       "<Figure size 216x72 with 1 Axes>"
      ]
     },
     "metadata": {},
     "output_type": "display_data"
    },
    {
     "name": "stdout",
     "output_type": "stream",
     "text": [
      "[(172, 94, 82), (49, 140, 205), (85, 169, 113)]\n",
      "Director: A2BEH9YQPHKP6A\n",
      "Matcher: Thank you for submitting your MturkID. Now please provide me with the target description.\n",
      "Director: not blue or green\n",
      "Matcher: Do you mean brown or light blue?\n",
      "Director: no\n",
      "Matcher: mauve or sky blue or teal?\n",
      "Director: mauve\n",
      "Matcher: [SELECT]\n",
      "1\n",
      "--------------------------\n",
      "Conversation Index: 7821 419\n"
     ]
    },
    {
     "data": {
      "image/png": "[encoded data removed]",
      "text/plain": [
       "<Figure size 216x72 with 1 Axes>"
      ]
     },
     "metadata": {},
     "output_type": "display_data"
    },
    {
     "name": "stdout",
     "output_type": "stream",
     "text": [
      "[(184, 70, 175), (168, 86, 156), (183, 71, 125)]\n",
      "Director: purple\n",
      "Matcher: lavender or pink or bright purple?\n",
      "Director: bright purple\n",
      "Matcher: [SELECT]\n",
      "1\n",
      "--------------------------\n",
      "Conversation Index: 10167 420\n"
     ]
    },
    {
     "data": {
      "image/png": "[encoded data removed]",
      "text/plain": [
       "<Figure size 216x72 with 1 Axes>"
      ]
     },
     "metadata": {},
     "output_type": "display_data"
    },
    {
     "name": "stdout",
     "output_type": "stream",
     "text": [
      "[(122, 197, 57), (105, 99, 155), (158, 165, 89)]\n",
      "Director: bright green\n",
      "Matcher: [SELECT]\n",
      "1\n",
      "--------------------------\n",
      "Conversation Index: 13094 421\n"
     ]
    },
    {
     "data": {
      "image/png": "[encoded data removed]",
      "text/plain": [
       "<Figure size 216x72 with 1 Axes>"
      ]
     },
     "metadata": {},
     "output_type": "display_data"
    },
    {
     "name": "stdout",
     "output_type": "stream",
     "text": [
      "[(50, 204, 160), (155, 90, 164), (157, 197, 57)]\n",
      "Director: A3G3TIX6FEMN8R\n",
      "Matcher: Thank you for submitting your MturkID. Now please provide me with the target description.\n",
      "Director: a Easter green and aqua. \n",
      "Matcher: [SELECT]\n",
      "1\n",
      "--------------------------\n",
      "Conversation Index: 5735 422\n"
     ]
    },
    {
     "data": {
      "image/png": "[encoded data removed]",
      "text/plain": [
       "<Figure size 216x72 with 1 Axes>"
      ]
     },
     "metadata": {},
     "output_type": "display_data"
    },
    {
     "name": "stdout",
     "output_type": "stream",
     "text": [
      "[(243, 11, 208), (211, 43, 152), (154, 73, 181)]\n",
      "Director: It is a hot, bright pink\n",
      "Matcher: Do you mean hot pink ?\n",
      "Director: but very bright also\n",
      "Matcher: pink or purple or dark pink?\n",
      "Director: pink\n",
      "Matcher: Do you mean neon pink ?\n",
      "--------------------------\n",
      "Conversation Index: 1758 423\n"
     ]
    },
    {
     "data": {
      "image/png": "[encoded data removed]",
      "text/plain": [
       "<Figure size 216x72 with 1 Axes>"
      ]
     },
     "metadata": {},
     "output_type": "display_data"
    },
    {
     "name": "stdout",
     "output_type": "stream",
     "text": [
      "[(135, 119, 123), (108, 112, 146), (122, 117, 137)]\n",
      "Director: the color of a flower\n",
      "Matcher: I could not understand you.\n",
      "Director: the color of a purple flower\n",
      "Matcher: The blue?\n",
      "Director: np\n",
      "Matcher: I could not understand you.\n",
      "Director: no\n",
      "Matcher: grey purple or blue grey or grey?\n",
      "Director: grey purple\n",
      "Matcher: [SELECT]\n",
      "0\n",
      "--------------------------\n",
      "Conversation Index: 3559 424\n"
     ]
    },
    {
     "data": {
      "image/png": "[encoded data removed]",
      "text/plain": [
       "<Figure size 216x72 with 1 Axes>"
      ]
     },
     "metadata": {},
     "output_type": "display_data"
    },
    {
     "name": "stdout",
     "output_type": "stream",
     "text": [
      "[(19, 174, 235), (198, 56, 177), (111, 109, 145)]\n",
      "--------------------------\n",
      "Conversation Index: 2295 425\n"
     ]
    },
    {
     "data": {
      "image/png": "[encoded data removed]",
      "text/plain": [
       "<Figure size 216x72 with 1 Axes>"
      ]
     },
     "metadata": {},
     "output_type": "display_data"
    },
    {
     "name": "stdout",
     "output_type": "stream",
     "text": [
      "[(102, 153, 123), (133, 131, 121), (131, 151, 103)]\n",
      "Director: the color is indigo\n",
      "Matcher: The teal?\n",
      "Director: yes\n",
      "Matcher: [SELECT]\n",
      "1\n",
      "--------------------------\n",
      "Conversation Index: 13769 426\n"
     ]
    },
    {
     "data": {
      "image/png": "[encoded data removed]",
      "text/plain": [
       "<Figure size 216x72 with 1 Axes>"
      ]
     },
     "metadata": {},
     "output_type": "display_data"
    },
    {
     "name": "stdout",
     "output_type": "stream",
     "text": [
      "[(2, 252, 94), (40, 118, 214), (68, 186, 150)]\n",
      "Director: AFNUSU88JD9NC\n",
      "Matcher: Thank you for submitting your MturkID. Now please provide me with the target description.\n",
      "Director: this is one of the brightest colors\n",
      "Matcher: The blue?\n",
      "Director: no\n",
      "Matcher: green or sky blue or teal?\n",
      "Director: the brightest green\n",
      "Matcher: [SELECT]\n",
      "1\n",
      "--------------------------\n",
      "Conversation Index: 11546 427\n"
     ]
    },
    {
     "data": {
      "image/png": "[encoded data removed]",
      "text/plain": [
       "<Figure size 216x72 with 1 Axes>"
      ]
     },
     "metadata": {},
     "output_type": "display_data"
    },
    {
     "name": "stdout",
     "output_type": "stream",
     "text": [
      "[(109, 187, 67), (85, 75, 179), (68, 186, 135)]\n",
      "Director: it has more yellow in it\n",
      "Matcher: I could not understand you.\n",
      "Director: the color of grass\n",
      "Matcher: [SELECT]\n",
      "1\n",
      "--------------------------\n",
      "Conversation Index: 3473 428\n"
     ]
    },
    {
     "data": {
      "image/png": "[encoded data removed]",
      "text/plain": [
       "<Figure size 216x72 with 1 Axes>"
      ]
     },
     "metadata": {},
     "output_type": "display_data"
    },
    {
     "name": "stdout",
     "output_type": "stream",
     "text": [
      "[(124, 121, 133), (59, 195, 141), (164, 58, 196)]\n",
      "--------------------------\n",
      "Conversation Index: 7616 429\n"
     ]
    },
    {
     "data": {
      "image/png": "[encoded data removed]",
      "text/plain": [
       "<Figure size 216x72 with 1 Axes>"
      ]
     },
     "metadata": {},
     "output_type": "display_data"
    },
    {
     "name": "stdout",
     "output_type": "stream",
     "text": [
      "[(130, 85, 169), (233, 21, 180), (141, 43, 211)]\n",
      "Director: Dark purple\n",
      "Matcher: [SELECT]\n",
      "1\n",
      "--------------------------\n",
      "Conversation Index: 651 430\n"
     ]
    },
    {
     "data": {
      "image/png": "[encoded data removed]",
      "text/plain": [
       "<Figure size 216x72 with 1 Axes>"
      ]
     },
     "metadata": {},
     "output_type": "display_data"
    },
    {
     "name": "stdout",
     "output_type": "stream",
     "text": [
      "[(169, 85, 127), (141, 113, 132), (127, 116, 138)]\n",
      "Director: flora color\n",
      "Matcher: I could not understand you.\n",
      "Director: a happy flower color\n",
      "Matcher: I could not understand you.\n",
      "Director: a female color\n",
      "Matcher: I could not understand you.\n",
      "Director: i am a girly color\n",
      "Matcher: I could not understand you.\n",
      "Director: the color fits in a small childs room\n",
      "Matcher: I could not understand you.\n",
      "Director: why can't you understand me\n",
      "Matcher: I could not understand you.\n",
      "Director: the color is pink\n",
      "Matcher: [SELECT]\n",
      "1\n",
      "--------------------------\n",
      "Conversation Index: 8373 431\n"
     ]
    },
    {
     "data": {
      "image/png": "[encoded data removed]",
      "text/plain": [
       "<Figure size 216x72 with 1 Axes>"
      ]
     },
     "metadata": {},
     "output_type": "display_data"
    },
    {
     "name": "stdout",
     "output_type": "stream",
     "text": [
      "[(57, 197, 94), (103, 207, 47), (3, 251, 57)]\n",
      "Director: green\n",
      "Matcher: Do you mean sea green or yellow green?\n",
      "Director: no\n",
      "Matcher: The mint green?\n",
      "Director: yes\n",
      "Matcher: Do you mean seafoam green ?\n",
      "Director: no\n",
      "Matcher: The teal?\n",
      "Director: no\n",
      "Matcher: Do you mean bright green ?\n",
      "Director: no\n",
      "Matcher: [SELECT]\n",
      "0\n",
      "--------------------------\n",
      "Conversation Index: 1528 432\n"
     ]
    },
    {
     "data": {
      "image/png": "[encoded data removed]",
      "text/plain": [
       "<Figure size 216x72 with 1 Axes>"
      ]
     },
     "metadata": {},
     "output_type": "display_data"
    },
    {
     "name": "stdout",
     "output_type": "stream",
     "text": [
      "[(189, 123, 65), (127, 127, 127), (90, 172, 82)]\n",
      "Director: A2HR7ZIX42FEPG\n",
      "Matcher: Thank you for submitting your MturkID. Now please provide me with the target description.\n",
      "Director: This patch is the color of sand.\n",
      "Matcher: [SELECT]\n",
      "1\n",
      "--------------------------\n",
      "Conversation Index: 11902 433\n"
     ]
    },
    {
     "data": {
      "image/png": "[encoded data removed]",
      "text/plain": [
       "<Figure size 216x72 with 1 Axes>"
      ]
     },
     "metadata": {},
     "output_type": "display_data"
    },
    {
     "name": "stdout",
     "output_type": "stream",
     "text": [
      "[(248, 6, 131), (237, 25, 17), (132, 138, 116)]\n",
      "Director: A1UNUY95MSK393\n",
      "Matcher: Thank you for submitting your MturkID. Now please provide me with the target description.\n",
      "Director: It is the brightest color patch of the three.\n",
      "Matcher: Do you mean grey ?\n",
      "Director: No, it is brighter than the grey.\n",
      "Matcher: grey green or red or pink?\n",
      "Director: Pink\n",
      "Matcher: [SELECT]\n",
      "1\n",
      "--------------------------\n",
      "Conversation Index: 6182 434\n"
     ]
    },
    {
     "data": {
      "image/png": "[encoded data removed]",
      "text/plain": [
       "<Figure size 216x72 with 1 Axes>"
      ]
     },
     "metadata": {},
     "output_type": "display_data"
    },
    {
     "name": "stdout",
     "output_type": "stream",
     "text": [
      "[(3, 251, 185), (17, 237, 61), (66, 80, 188)]\n",
      "Director: This color is like a beautiful ocean in the tropics.\n",
      "Matcher: I could not understand you.\n",
      "Director: The color is almost like the sky but a different shade. Also it's definition is water but in another language other than English.\n",
      "Matcher: Do you mean teal ?\n",
      "Director: yes\n",
      "Matcher: [SELECT]\n",
      "1\n",
      "--------------------------\n",
      "Conversation Index: 3034 435\n"
     ]
    },
    {
     "data": {
      "image/png": "[encoded data removed]",
      "text/plain": [
       "<Figure size 216x72 with 1 Axes>"
      ]
     },
     "metadata": {},
     "output_type": "display_data"
    },
    {
     "name": "stdout",
     "output_type": "stream",
     "text": [
      "[(140, 153, 102), (105, 149, 133), (98, 167, 87)]\n",
      "Director: Sage green\n",
      "Matcher: olive or teal or green?\n",
      "Director: More olive\n",
      "Matcher: [SELECT]\n",
      "1\n",
      "--------------------------\n",
      "Conversation Index: 10542 436\n"
     ]
    },
    {
     "data": {
      "image/png": "[encoded data removed]",
      "text/plain": [
       "<Figure size 216x72 with 1 Axes>"
      ]
     },
     "metadata": {},
     "output_type": "display_data"
    },
    {
     "name": "stdout",
     "output_type": "stream",
     "text": [
      "[(113, 120, 141), (14, 29, 240), (38, 216, 204)]\n",
      "Director: A1DEM7D620T7X\n",
      "Matcher: Thank you for submitting your MturkID. Now please provide me with the target description.\n",
      "Director: purple\n",
      "Matcher: [SELECT]\n",
      "1\n",
      "--------------------------\n",
      "Conversation Index: 11120 437\n"
     ]
    },
    {
     "data": {
      "image/png": "[encoded data removed]",
      "text/plain": [
       "<Figure size 216x72 with 1 Axes>"
      ]
     },
     "metadata": {},
     "output_type": "display_data"
    },
    {
     "name": "stdout",
     "output_type": "stream",
     "text": [
      "[(67, 42, 212), (124, 130, 128), (187, 65, 189)]\n",
      "Director: A12TZ1W76AGOF9\n",
      "Matcher: Thank you for submitting your MturkID. Now please provide me with the target description.\n",
      "Director: purple color\n",
      "Matcher: [SELECT]\n",
      "0\n",
      "--------------------------\n",
      "Conversation Index: 5105 438\n"
     ]
    },
    {
     "data": {
      "image/png": "[encoded data removed]",
      "text/plain": [
       "<Figure size 216x72 with 1 Axes>"
      ]
     },
     "metadata": {},
     "output_type": "display_data"
    },
    {
     "name": "stdout",
     "output_type": "stream",
     "text": [
      "[(154, 95, 159), (139, 77, 177), (140, 114, 138)]\n",
      "Director: pink\n",
      "Matcher: [SELECT]\n",
      "1\n",
      "--------------------------\n",
      "Conversation Index: 1172 439\n"
     ]
    },
    {
     "data": {
      "image/png": "[encoded data removed]",
      "text/plain": [
       "<Figure size 216x72 with 1 Axes>"
      ]
     },
     "metadata": {},
     "output_type": "display_data"
    },
    {
     "name": "stdout",
     "output_type": "stream",
     "text": [
      "[(96, 10, 244), (142, 133, 112), (220, 34, 115)]\n",
      "Director: A3LVLZS8S41ZD7\n",
      "Matcher: Thank you for submitting your MturkID. Now please provide me with the target description.\n",
      "Director: it's the color of a grape\n",
      "Matcher: [SELECT]\n",
      "1\n",
      "--------------------------\n",
      "Conversation Index: 6872 440\n"
     ]
    },
    {
     "data": {
      "image/png": "[encoded data removed]",
      "text/plain": [
       "<Figure size 216x72 with 1 Axes>"
      ]
     },
     "metadata": {},
     "output_type": "display_data"
    },
    {
     "name": "stdout",
     "output_type": "stream",
     "text": [
      "[(7, 11, 247), (247, 7, 191), (233, 21, 81)]\n",
      "--------------------------\n",
      "Conversation Index: 11864 441\n"
     ]
    },
    {
     "data": {
      "image/png": "[encoded data removed]",
      "text/plain": [
       "<Figure size 216x72 with 1 Axes>"
      ]
     },
     "metadata": {},
     "output_type": "display_data"
    },
    {
     "name": "stdout",
     "output_type": "stream",
     "text": [
      "[(129, 196, 58), (73, 181, 81), (49, 205, 150)]\n",
      "Director: lime green\n",
      "Matcher: [SELECT]\n",
      "1\n",
      "--------------------------\n",
      "Conversation Index: 4008 442\n"
     ]
    },
    {
     "data": {
      "image/png": "[encoded data removed]",
      "text/plain": [
       "<Figure size 216x72 with 1 Axes>"
      ]
     },
     "metadata": {},
     "output_type": "display_data"
    },
    {
     "name": "stdout",
     "output_type": "stream",
     "text": [
      "[(88, 186, 68), (133, 121, 125), (68, 131, 186)]\n",
      "--------------------------\n",
      "Conversation Index: 2608 443\n"
     ]
    },
    {
     "data": {
      "image/png": "[encoded data removed]",
      "text/plain": [
       "<Figure size 216x72 with 1 Axes>"
      ]
     },
     "metadata": {},
     "output_type": "display_data"
    },
    {
     "name": "stdout",
     "output_type": "stream",
     "text": [
      "[(196, 58, 74), (24, 31, 230), (149, 140, 105)]\n",
      "--------------------------\n",
      "Conversation Index: 808 444\n"
     ]
    },
    {
     "data": {
      "image/png": "[encoded data removed]",
      "text/plain": [
       "<Figure size 216x72 with 1 Axes>"
      ]
     },
     "metadata": {},
     "output_type": "display_data"
    },
    {
     "name": "stdout",
     "output_type": "stream",
     "text": [
      "[(174, 53, 201), (45, 108, 209), (126, 128, 128)]\n",
      "--------------------------\n",
      "Conversation Index: 6347 445\n"
     ]
    },
    {
     "data": {
      "image/png": "[encoded data removed]",
      "text/plain": [
       "<Figure size 216x72 with 1 Axes>"
      ]
     },
     "metadata": {},
     "output_type": "display_data"
    },
    {
     "name": "stdout",
     "output_type": "stream",
     "text": [
      "[(147, 211, 43), (121, 187, 67), (28, 226, 67)]\n",
      "Director: Lime green\n",
      "Matcher: [SELECT]\n",
      "1\n",
      "--------------------------\n",
      "Conversation Index: 2273 446\n"
     ]
    },
    {
     "data": {
      "image/png": "[encoded data removed]",
      "text/plain": [
       "<Figure size 216x72 with 1 Axes>"
      ]
     },
     "metadata": {},
     "output_type": "display_data"
    },
    {
     "name": "stdout",
     "output_type": "stream",
     "text": [
      "[(8, 127, 246), (243, 158, 11), (249, 5, 196)]\n",
      "--------------------------\n",
      "Conversation Index: 8587 447\n"
     ]
    },
    {
     "data": {
      "image/png": "[encoded data removed]",
      "text/plain": [
       "<Figure size 216x72 with 1 Axes>"
      ]
     },
     "metadata": {},
     "output_type": "display_data"
    },
    {
     "name": "stdout",
     "output_type": "stream",
     "text": [
      "[(141, 127, 113), (229, 161, 25), (144, 110, 136)]\n",
      "Director: AM36K1JYK4SC1\n",
      "Matcher: Thank you for submitting your MturkID. Now please provide me with the target description.\n",
      "Director: very dark and grainy\n",
      "Matcher: I could not understand you.\n",
      "Director: darker color\n",
      "Matcher: Do you mean purple or grey?\n",
      "Director: a little darker than grey\n",
      "Matcher: [SELECT]\n",
      "1\n",
      "--------------------------\n",
      "Conversation Index: 3486 448\n"
     ]
    },
    {
     "data": {
      "image/png": "[encoded data removed]",
      "text/plain": [
       "<Figure size 216x72 with 1 Axes>"
      ]
     },
     "metadata": {},
     "output_type": "display_data"
    },
    {
     "name": "stdout",
     "output_type": "stream",
     "text": [
      "[(205, 49, 70), (198, 175, 56), (93, 145, 161)]\n",
      "Director: A229SEF35EGTSF\n",
      "Matcher: Thank you for submitting your MturkID. Now please provide me with the target description.\n",
      "Director: red\n",
      "Matcher: [SELECT]\n",
      "1\n",
      "--------------------------\n",
      "Conversation Index: 10740 449\n"
     ]
    },
    {
     "data": {
      "image/png": "[encoded data removed]",
      "text/plain": [
       "<Figure size 216x72 with 1 Axes>"
      ]
     },
     "metadata": {},
     "output_type": "display_data"
    },
    {
     "name": "stdout",
     "output_type": "stream",
     "text": [
      "[(144, 85, 169), (153, 100, 154), (50, 204, 99)]\n",
      "Director: pink\n",
      "Matcher: [SELECT]\n",
      "0\n",
      "--------------------------\n",
      "Conversation Index: 174 450\n"
     ]
    },
    {
     "data": {
      "image/png": "[encoded data removed]",
      "text/plain": [
       "<Figure size 216x72 with 1 Axes>"
      ]
     },
     "metadata": {},
     "output_type": "display_data"
    },
    {
     "name": "stdout",
     "output_type": "stream",
     "text": [
      "[(242, 238, 12), (224, 175, 30), (117, 122, 137)]\n",
      "Director: yellow\n",
      "Matcher: [SELECT]\n",
      "1\n",
      "--------------------------\n",
      "Conversation Index: 13476 451\n"
     ]
    },
    {
     "data": {
      "image/png": "[encoded data removed]",
      "text/plain": [
       "<Figure size 216x72 with 1 Axes>"
      ]
     },
     "metadata": {},
     "output_type": "display_data"
    },
    {
     "name": "stdout",
     "output_type": "stream",
     "text": [
      "[(127, 127, 127), (71, 183, 127), (104, 52, 202)]\n",
      "Director: A3HL2LL0LEPZT8\n",
      "Matcher: Thank you for submitting your MturkID. Now please provide me with the target description.\n",
      "Director: color is not saturated as the other two\n",
      "Matcher: I could not understand you.\n",
      "--------------------------\n",
      "Conversation Index: 9821 452\n"
     ]
    },
    {
     "data": {
      "image/png": "[encoded data removed]",
      "text/plain": [
       "<Figure size 216x72 with 1 Axes>"
      ]
     },
     "metadata": {},
     "output_type": "display_data"
    },
    {
     "name": "stdout",
     "output_type": "stream",
     "text": [
      "[(126, 141, 113), (91, 163, 112), (84, 170, 133)]\n",
      "Director: Moss green\n",
      "Matcher: green or teal or grey?\n",
      "Director: Green\n",
      "Matcher: [SELECT]\n",
      "0\n",
      "--------------------------\n",
      "Conversation Index: 10928 453\n"
     ]
    },
    {
     "data": {
      "image/png": "[encoded data removed]",
      "text/plain": [
       "<Figure size 216x72 with 1 Axes>"
      ]
     },
     "metadata": {},
     "output_type": "display_data"
    },
    {
     "name": "stdout",
     "output_type": "stream",
     "text": [
      "[(20, 206, 234), (151, 149, 103), (144, 110, 142)]\n",
      "--------------------------\n",
      "Conversation Index: 8484 454\n"
     ]
    },
    {
     "data": {
      "image/png": "[encoded data removed]",
      "text/plain": [
       "<Figure size 216x72 with 1 Axes>"
      ]
     },
     "metadata": {},
     "output_type": "display_data"
    },
    {
     "name": "stdout",
     "output_type": "stream",
     "text": [
      "[(164, 143, 90), (43, 211, 60), (136, 127, 118)]\n",
      "Director: green\n",
      "Matcher: [SELECT]\n",
      "0\n",
      "--------------------------\n",
      "Conversation Index: 9524 455\n"
     ]
    },
    {
     "data": {
      "image/png": "[encoded data removed]",
      "text/plain": [
       "<Figure size 216x72 with 1 Axes>"
      ]
     },
     "metadata": {},
     "output_type": "display_data"
    },
    {
     "name": "stdout",
     "output_type": "stream",
     "text": [
      "[(2, 252, 44), (131, 110, 144), (218, 85, 36)]\n",
      "--------------------------\n",
      "Conversation Index: 9052 456\n"
     ]
    },
    {
     "data": {
      "image/png": "[encoded data removed]",
      "text/plain": [
       "<Figure size 216x72 with 1 Axes>"
      ]
     },
     "metadata": {},
     "output_type": "display_data"
    },
    {
     "name": "stdout",
     "output_type": "stream",
     "text": [
      "[(132, 116, 138), (189, 85, 65), (7, 111, 247)]\n",
      "--------------------------\n",
      "Conversation Index: 7744 457\n"
     ]
    },
    {
     "data": {
      "image/png": "[encoded data removed]",
      "text/plain": [
       "<Figure size 216x72 with 1 Axes>"
      ]
     },
     "metadata": {},
     "output_type": "display_data"
    },
    {
     "name": "stdout",
     "output_type": "stream",
     "text": [
      "[(61, 162, 193), (141, 112, 142), (52, 214, 40)]\n",
      "Director: A2SMROLJ39OR74\n",
      "Matcher: Thank you for submitting your MturkID. Now please provide me with the target description.\n",
      "--------------------------\n",
      "Conversation Index: 8728 458\n"
     ]
    },
    {
     "data": {
      "image/png": "[encoded data removed]",
      "text/plain": [
       "<Figure size 216x72 with 1 Axes>"
      ]
     },
     "metadata": {},
     "output_type": "display_data"
    },
    {
     "name": "stdout",
     "output_type": "stream",
     "text": [
      "[(132, 131, 122), (119, 122, 135), (109, 145, 136)]\n",
      "Director: grayish tan\n",
      "Matcher: [SELECT]\n",
      "1\n",
      "--------------------------\n",
      "Conversation Index: 11303 459\n"
     ]
    },
    {
     "data": {
      "image/png": "[encoded data removed]",
      "text/plain": [
       "<Figure size 216x72 with 1 Axes>"
      ]
     },
     "metadata": {},
     "output_type": "display_data"
    },
    {
     "name": "stdout",
     "output_type": "stream",
     "text": [
      "[(131, 2, 252), (17, 207, 237), (212, 42, 79)]\n",
      "--------------------------\n",
      "Conversation Index: 5079 460\n"
     ]
    },
    {
     "data": {
      "image/png": "[encoded data removed]",
      "text/plain": [
       "<Figure size 216x72 with 1 Axes>"
      ]
     },
     "metadata": {},
     "output_type": "display_data"
    },
    {
     "name": "stdout",
     "output_type": "stream",
     "text": [
      "[(160, 146, 94), (132, 138, 116), (132, 156, 98)]\n",
      "Director: grey\n",
      "Matcher: [SELECT]\n",
      "0\n",
      "--------------------------\n",
      "Conversation Index: 13786 461\n"
     ]
    },
    {
     "data": {
      "image/png": "[encoded data removed]",
      "text/plain": [
       "<Figure size 216x72 with 1 Axes>"
      ]
     },
     "metadata": {},
     "output_type": "display_data"
    },
    {
     "name": "stdout",
     "output_type": "stream",
     "text": [
      "[(151, 103, 111), (126, 170, 84), (189, 65, 144)]\n",
      "Director: Mauve\n",
      "Matcher: [SELECT]\n",
      "1\n",
      "--------------------------\n",
      "Conversation Index: 13492 462\n"
     ]
    },
    {
     "data": {
      "image/png": "[encoded data removed]",
      "text/plain": [
       "<Figure size 216x72 with 1 Axes>"
      ]
     },
     "metadata": {},
     "output_type": "display_data"
    },
    {
     "name": "stdout",
     "output_type": "stream",
     "text": [
      "[(221, 33, 212), (184, 70, 116), (145, 128, 109)]\n",
      "Director: It is bright pink.\n",
      "Matcher: [SELECT]\n",
      "1\n",
      "--------------------------\n",
      "Conversation Index: 11356 463\n"
     ]
    },
    {
     "data": {
      "image/png": "[encoded data removed]",
      "text/plain": [
       "<Figure size 216x72 with 1 Axes>"
      ]
     },
     "metadata": {},
     "output_type": "display_data"
    },
    {
     "name": "stdout",
     "output_type": "stream",
     "text": [
      "[(114, 140, 139), (96, 150, 158), (135, 119, 130)]\n",
      "Director: grey\n",
      "Matcher: The purple?\n",
      "Director: n\n",
      "Matcher: I could not understand you.\n",
      "Director: no\n",
      "Matcher: grey green or purple grey or blue?\n",
      "Director: grey green\n",
      "Matcher: [SELECT]\n",
      "1\n",
      "--------------------------\n",
      "Conversation Index: 10420 464\n"
     ]
    },
    {
     "data": {
      "image/png": "[encoded data removed]",
      "text/plain": [
       "<Figure size 216x72 with 1 Axes>"
      ]
     },
     "metadata": {},
     "output_type": "display_data"
    },
    {
     "name": "stdout",
     "output_type": "stream",
     "text": [
      "[(128, 146, 108), (104, 65, 189), (136, 192, 62)]\n",
      "Director: army green\n",
      "Matcher: [SELECT]\n",
      "1\n",
      "--------------------------\n",
      "Conversation Index: 144 465\n"
     ]
    },
    {
     "data": {
      "image/png": "[encoded data removed]",
      "text/plain": [
       "<Figure size 216x72 with 1 Axes>"
      ]
     },
     "metadata": {},
     "output_type": "display_data"
    },
    {
     "name": "stdout",
     "output_type": "stream",
     "text": [
      "[(121, 124, 133), (193, 178, 61), (45, 209, 203)]\n",
      "Director: A18WG7Z9X9GH7E\n",
      "Matcher: Thank you for submitting your MturkID. Now please provide me with the target description.\n",
      "--------------------------\n",
      "Conversation Index: 1663 466\n"
     ]
    },
    {
     "data": {
      "image/png": "[encoded data removed]",
      "text/plain": [
       "<Figure size 216x72 with 1 Axes>"
      ]
     },
     "metadata": {},
     "output_type": "display_data"
    },
    {
     "name": "stdout",
     "output_type": "stream",
     "text": [
      "[(15, 239, 164), (233, 78, 21), (163, 160, 91)]\n",
      "Director: A1S8KMGKJACGVO\n",
      "Matcher: Thank you for submitting your MturkID. Now please provide me with the target description.\n",
      "Director: Bright green\n",
      "Matcher: [SELECT]\n",
      "1\n",
      "--------------------------\n",
      "Conversation Index: 7823 467\n"
     ]
    },
    {
     "data": {
      "image/png": "[encoded data removed]",
      "text/plain": [
       "<Figure size 216x72 with 1 Axes>"
      ]
     },
     "metadata": {},
     "output_type": "display_data"
    },
    {
     "name": "stdout",
     "output_type": "stream",
     "text": [
      "[(103, 151, 129), (8, 246, 135), (8, 174, 246)]\n",
      "Director: A2FBJV1VAI9SQ6\n",
      "Matcher: Thank you for submitting your MturkID. Now please provide me with the target description.\n",
      "Director: it is darker than the bright green and it is more green and deep than the blue\n",
      "Matcher: [SELECT]\n",
      "0\n",
      "--------------------------\n",
      "Conversation Index: 3328 468\n"
     ]
    },
    {
     "data": {
      "image/png": "[encoded data removed]",
      "text/plain": [
       "<Figure size 216x72 with 1 Axes>"
      ]
     },
     "metadata": {},
     "output_type": "display_data"
    },
    {
     "name": "stdout",
     "output_type": "stream",
     "text": [
      "[(136, 144, 110), (139, 177, 77), (138, 164, 90)]\n",
      "--------------------------\n",
      "Conversation Index: 11517 469\n"
     ]
    },
    {
     "data": {
      "image/png": "[encoded data removed]",
      "text/plain": [
       "<Figure size 216x72 with 1 Axes>"
      ]
     },
     "metadata": {},
     "output_type": "display_data"
    },
    {
     "name": "stdout",
     "output_type": "stream",
     "text": [
      "[(210, 44, 138), (249, 139, 5), (95, 159, 128)]\n",
      "--------------------------\n",
      "Conversation Index: 11402 470\n"
     ]
    },
    {
     "data": {
      "image/png": "[encoded data removed]",
      "text/plain": [
       "<Figure size 216x72 with 1 Axes>"
      ]
     },
     "metadata": {},
     "output_type": "display_data"
    },
    {
     "name": "stdout",
     "output_type": "stream",
     "text": [
      "[(171, 215, 39), (124, 125, 130), (144, 177, 77)]\n",
      "Director: bright gren\n",
      "Matcher: [SELECT]\n",
      "1\n",
      "--------------------------\n",
      "Conversation Index: 1941 471\n"
     ]
    },
    {
     "data": {
      "image/png": "[encoded data removed]",
      "text/plain": [
       "<Figure size 216x72 with 1 Axes>"
      ]
     },
     "metadata": {},
     "output_type": "display_data"
    },
    {
     "name": "stdout",
     "output_type": "stream",
     "text": [
      "[(207, 47, 65), (86, 168, 153), (61, 44, 210)]\n",
      "Director: A13CAAOJ5GP4UQ\n",
      "Matcher: Thank you for submitting your MturkID. Now please provide me with the target description.\n",
      "Director: it is the color of a stop sign\n",
      "Matcher: I could not understand you.\n",
      "Director: it is on the far left\n",
      "Matcher: I do not see the same ordering of color patches as you nor the black borders. Please provide me with a color description.\n",
      "Director: it is bright and warm\n",
      "Matcher: I could not understand you.\n",
      "Director: it is red\n",
      "Matcher: [SELECT]\n",
      "1\n",
      "--------------------------\n",
      "Conversation Index: 13209 472\n"
     ]
    },
    {
     "data": {
      "image/png": "[encoded data removed]",
      "text/plain": [
       "<Figure size 216x72 with 1 Axes>"
      ]
     },
     "metadata": {},
     "output_type": "display_data"
    },
    {
     "name": "stdout",
     "output_type": "stream",
     "text": [
      "[(107, 248, 6), (192, 19, 235), (122, 109, 145)]\n",
      "Director: A1W845RVTAYPYN\n",
      "Matcher: Thank you for submitting your MturkID. Now please provide me with the target description.\n",
      "Director: the color is bright and is commonly found on plants\n",
      "Matcher: I could not understand you.\n",
      "Director: the color is light\n",
      "Matcher: Do you mean purple ?\n",
      "Director: the color is green\n",
      "Matcher: lime green or magenta or grey?\n",
      "Director: lime green\n",
      "Matcher: [SELECT]\n",
      "1\n",
      "--------------------------\n",
      "Conversation Index: 2421 473\n"
     ]
    },
    {
     "data": {
      "image/png": "[encoded data removed]",
      "text/plain": [
       "<Figure size 216x72 with 1 Axes>"
      ]
     },
     "metadata": {},
     "output_type": "display_data"
    },
    {
     "name": "stdout",
     "output_type": "stream",
     "text": [
      "[(131, 123, 128), (109, 145, 115), (156, 107, 98)]\n",
      "Director: the color of metal\n",
      "Matcher: I could not understand you.\n",
      "Director: the color of steel\n",
      "Matcher: Do you mean grey ?\n",
      "Director: yes\n",
      "Matcher: [SELECT]\n",
      "1\n",
      "--------------------------\n",
      "Conversation Index: 2778 474\n"
     ]
    },
    {
     "data": {
      "image/png": "[encoded data removed]",
      "text/plain": [
       "<Figure size 216x72 with 1 Axes>"
      ]
     },
     "metadata": {},
     "output_type": "display_data"
    },
    {
     "name": "stdout",
     "output_type": "stream",
     "text": [
      "[(57, 197, 129), (191, 63, 129), (172, 146, 82)]\n",
      "--------------------------\n",
      "Conversation Index: 13164 475\n"
     ]
    },
    {
     "data": {
      "image/png": "[encoded data removed]",
      "text/plain": [
       "<Figure size 216x72 with 1 Axes>"
      ]
     },
     "metadata": {},
     "output_type": "display_data"
    },
    {
     "name": "stdout",
     "output_type": "stream",
     "text": [
      "[(177, 210, 44), (169, 85, 165), (242, 226, 12)]\n",
      "Director: grean\n",
      "Matcher: [SELECT]\n",
      "1\n",
      "--------------------------\n",
      "Conversation Index: 3235 476\n"
     ]
    },
    {
     "data": {
      "image/png": "[encoded data removed]",
      "text/plain": [
       "<Figure size 216x72 with 1 Axes>"
      ]
     },
     "metadata": {},
     "output_type": "display_data"
    },
    {
     "name": "stdout",
     "output_type": "stream",
     "text": [
      "[(128, 130, 124), (193, 107, 61), (237, 17, 229)]\n",
      "--------------------------\n",
      "Conversation Index: 11230 477\n"
     ]
    },
    {
     "data": {
      "image/png": "[encoded data removed]",
      "text/plain": [
       "<Figure size 216x72 with 1 Axes>"
      ]
     },
     "metadata": {},
     "output_type": "display_data"
    },
    {
     "name": "stdout",
     "output_type": "stream",
     "text": [
      "[(38, 216, 44), (147, 204, 50), (195, 42, 212)]\n",
      "Director: green\n",
      "Matcher: [SELECT]\n",
      "1\n",
      "--------------------------\n",
      "Conversation Index: 2035 478\n"
     ]
    },
    {
     "data": {
      "image/png": "[encoded data removed]",
      "text/plain": [
       "<Figure size 216x72 with 1 Axes>"
      ]
     },
     "metadata": {},
     "output_type": "display_data"
    },
    {
     "name": "stdout",
     "output_type": "stream",
     "text": [
      "[(161, 93, 109), (16, 94, 238), (34, 220, 105)]\n",
      "--------------------------\n",
      "Conversation Index: 7986 479\n"
     ]
    },
    {
     "data": {
      "image/png": "[encoded data removed]",
      "text/plain": [
       "<Figure size 216x72 with 1 Axes>"
      ]
     },
     "metadata": {},
     "output_type": "display_data"
    },
    {
     "name": "stdout",
     "output_type": "stream",
     "text": [
      "[(124, 79, 175), (83, 237, 17), (219, 35, 155)]\n",
      "Director: purple\n",
      "Matcher: [SELECT]\n",
      "1\n",
      "--------------------------\n",
      "Conversation Index: 10894 480\n"
     ]
    },
    {
     "data": {
      "image/png": "[encoded data removed]",
      "text/plain": [
       "<Figure size 216x72 with 1 Axes>"
      ]
     },
     "metadata": {},
     "output_type": "display_data"
    },
    {
     "name": "stdout",
     "output_type": "stream",
     "text": [
      "[(115, 96, 158), (160, 68, 186), (99, 63, 191)]\n",
      "Director: it is purple\n",
      "Matcher: magenta or lavender or blue?\n",
      "Director: lavendar\n",
      "Matcher: The lilac?\n",
      "Director: yes\n",
      "Matcher: Do you mean grey purple ?\n",
      "Director: no\n",
      "Matcher: The bright purple?\n",
      "Director: no\n",
      "Matcher: The fuchsia?\n",
      "Director: no\n",
      "Matcher: Do you mean mauve ?\n",
      "Director: yes\n",
      "Matcher: [SELECT]\n",
      "1\n",
      "--------------------------\n",
      "Conversation Index: 4013 481\n"
     ]
    },
    {
     "data": {
      "image/png": "[encoded data removed]",
      "text/plain": [
       "<Figure size 216x72 with 1 Axes>"
      ]
     },
     "metadata": {},
     "output_type": "display_data"
    },
    {
     "name": "stdout",
     "output_type": "stream",
     "text": [
      "[(142, 71, 183), (87, 130, 167), (53, 201, 184)]\n",
      "--------------------------\n",
      "Conversation Index: 13124 482\n"
     ]
    },
    {
     "data": {
      "image/png": "[encoded data removed]",
      "text/plain": [
       "<Figure size 216x72 with 1 Axes>"
      ]
     },
     "metadata": {},
     "output_type": "display_data"
    },
    {
     "name": "stdout",
     "output_type": "stream",
     "text": [
      "[(211, 43, 186), (77, 177, 112), (156, 98, 132)]\n",
      "Director: It is the color of Lavender flowers\n",
      "Matcher: [SELECT]\n",
      "0\n",
      "--------------------------\n",
      "Conversation Index: 9574 483\n"
     ]
    },
    {
     "data": {
      "image/png": "[encoded data removed]",
      "text/plain": [
       "<Figure size 216x72 with 1 Axes>"
      ]
     },
     "metadata": {},
     "output_type": "display_data"
    },
    {
     "name": "stdout",
     "output_type": "stream",
     "text": [
      "[(252, 2, 6), (165, 99, 89), (201, 97, 53)]\n",
      "Director: Red\n",
      "Matcher: [SELECT]\n",
      "1\n",
      "--------------------------\n",
      "Conversation Index: 8990 484\n"
     ]
    },
    {
     "data": {
      "image/png": "[encoded data removed]",
      "text/plain": [
       "<Figure size 216x72 with 1 Axes>"
      ]
     },
     "metadata": {},
     "output_type": "display_data"
    },
    {
     "name": "stdout",
     "output_type": "stream",
     "text": [
      "[(108, 144, 146), (221, 33, 89), (173, 62, 192)]\n",
      "Director: A186ZF0ZX0NF19\n",
      "Matcher: Thank you for submitting your MturkID. Now please provide me with the target description.\n",
      "Director: not pink, not purple\n",
      "Matcher: Do you mean grey ?\n",
      "Director: green\n",
      "Matcher: blue grey or red or violet?\n",
      "Director: blue grey\n",
      "Matcher: [SELECT]\n",
      "1\n",
      "--------------------------\n",
      "Conversation Index: 8831 485\n"
     ]
    },
    {
     "data": {
      "image/png": "[encoded data removed]",
      "text/plain": [
       "<Figure size 216x72 with 1 Axes>"
      ]
     },
     "metadata": {},
     "output_type": "display_data"
    },
    {
     "name": "stdout",
     "output_type": "stream",
     "text": [
      "[(114, 140, 127), (106, 156, 98), (99, 155, 133)]\n",
      "Director: a camo green \n",
      "Matcher: [SELECT]\n",
      "0\n",
      "--------------------------\n",
      "Conversation Index: 8784 486\n"
     ]
    },
    {
     "data": {
      "image/png": "[encoded data removed]",
      "text/plain": [
       "<Figure size 216x72 with 1 Axes>"
      ]
     },
     "metadata": {},
     "output_type": "display_data"
    },
    {
     "name": "stdout",
     "output_type": "stream",
     "text": [
      "[(124, 214, 40), (175, 196, 58), (10, 244, 61)]\n",
      "Director: Yellow green\n",
      "Matcher: [SELECT]\n",
      "0\n",
      "--------------------------\n",
      "Conversation Index: 12587 487\n"
     ]
    },
    {
     "data": {
      "image/png": "[encoded data removed]",
      "text/plain": [
       "<Figure size 216x72 with 1 Axes>"
      ]
     },
     "metadata": {},
     "output_type": "display_data"
    },
    {
     "name": "stdout",
     "output_type": "stream",
     "text": [
      "[(175, 79, 95), (94, 45, 209), (124, 118, 136)]\n",
      "Director: A33GB614ST7J82\n",
      "Matcher: Thank you for submitting your MturkID. Now please provide me with the target description.\n",
      "Director: The color is mauve and looks like wine. It is the color of a red grape.\n",
      "Matcher: [SELECT]\n",
      "1\n",
      "--------------------------\n",
      "Conversation Index: 12777 488\n"
     ]
    },
    {
     "data": {
      "image/png": "[encoded data removed]",
      "text/plain": [
       "<Figure size 216x72 with 1 Axes>"
      ]
     },
     "metadata": {},
     "output_type": "display_data"
    },
    {
     "name": "stdout",
     "output_type": "stream",
     "text": [
      "[(75, 219, 35), (115, 243, 11), (36, 218, 118)]\n",
      "Director: The color is a bright green.\n",
      "Matcher: Do you mean lime green ?\n",
      "Director: no\n",
      "Matcher: grass green or sea green or neon green?\n",
      "Director: grass green\n",
      "Matcher: [SELECT]\n",
      "1\n",
      "--------------------------\n",
      "Conversation Index: 1170 489\n"
     ]
    },
    {
     "data": {
      "image/png": "[encoded data removed]",
      "text/plain": [
       "<Figure size 216x72 with 1 Axes>"
      ]
     },
     "metadata": {},
     "output_type": "display_data"
    },
    {
     "name": "stdout",
     "output_type": "stream",
     "text": [
      "[(102, 201, 53), (88, 175, 79), (91, 163, 100)]\n",
      "Director: orange\n",
      "Matcher: Do you mean green ?\n",
      "Director: yes\n",
      "Matcher: [SELECT]\n",
      "0\n",
      "--------------------------\n",
      "Conversation Index: 4103 490\n"
     ]
    },
    {
     "data": {
      "image/png": "[encoded data removed]",
      "text/plain": [
       "<Figure size 216x72 with 1 Axes>"
      ]
     },
     "metadata": {},
     "output_type": "display_data"
    },
    {
     "name": "stdout",
     "output_type": "stream",
     "text": [
      "[(166, 82, 172), (76, 110, 178), (113, 169, 85)]\n",
      "--------------------------\n",
      "Conversation Index: 3007 491\n"
     ]
    },
    {
     "data": {
      "image/png": "[encoded data removed]",
      "text/plain": [
       "<Figure size 216x72 with 1 Axes>"
      ]
     },
     "metadata": {},
     "output_type": "display_data"
    },
    {
     "name": "stdout",
     "output_type": "stream",
     "text": [
      "[(126, 114, 140), (119, 119, 135), (137, 125, 117)]\n",
      "Director: Lavender\n",
      "Matcher: [SELECT]\n",
      "1\n",
      "--------------------------\n",
      "Conversation Index: 9002 492\n"
     ]
    },
    {
     "data": {
      "image/png": "[encoded data removed]",
      "text/plain": [
       "<Figure size 216x72 with 1 Axes>"
      ]
     },
     "metadata": {},
     "output_type": "display_data"
    },
    {
     "name": "stdout",
     "output_type": "stream",
     "text": [
      "[(191, 210, 44), (186, 68, 137), (70, 66, 188)]\n",
      "--------------------------\n",
      "Conversation Index: 9688 493\n"
     ]
    },
    {
     "data": {
      "image/png": "[encoded data removed]",
      "text/plain": [
       "<Figure size 216x72 with 1 Axes>"
      ]
     },
     "metadata": {},
     "output_type": "display_data"
    },
    {
     "name": "stdout",
     "output_type": "stream",
     "text": [
      "[(167, 7, 247), (239, 15, 209), (155, 99, 155)]\n",
      "Director: Hot purple\n",
      "Matcher: pink or lavender or purple?\n",
      "Director: Purple\n",
      "Matcher: [SELECT]\n",
      "1\n",
      "--------------------------\n",
      "Conversation Index: 5789 494\n"
     ]
    },
    {
     "data": {
      "image/png": "[encoded data removed]",
      "text/plain": [
       "<Figure size 216x72 with 1 Axes>"
      ]
     },
     "metadata": {},
     "output_type": "display_data"
    },
    {
     "name": "stdout",
     "output_type": "stream",
     "text": [
      "[(145, 103, 151), (117, 95, 159), (124, 114, 140)]\n",
      "Director: plum\n",
      "Matcher: [SELECT]\n",
      "1\n",
      "--------------------------\n",
      "close: 0.7175141242937854\n",
      "split: 0.8202247191011236\n",
      "far: 0.86\n",
      "Overall Success Rate: 0.78\n",
      "Total Trial Count: 366\n"
     ]
    }
   ],
   "source": [
    "total = 0\n",
    "success = 0\n",
    "successes = {'close' : 0, 'split' : 0, 'far' : 0}\n",
    "total_per_key = {'close' : 0, 'split' : 0, 'far' : 0}\n",
    "for i, conv in enumerate(conversations):\n",
    "#     print('Utterance by Director: %s' % (descriptions[i]))\n",
    "#     print('Distribution over color patches: %f | %f | %f' % (dist[0], dist[1], dist[2]))\n",
    "#     if difficulty[i] != 'split':\n",
    "#             continue\n",
    "    print('Conversation Index: %d %d' % (conversation_indices[i], i))\n",
    "    fig, axes = plt.subplots()\n",
    "    corners = [(0, 0), (1., 0), (2., 0)]\n",
    "    \n",
    "    for j, clr in enumerate(toplot_clrs[i]):\n",
    "        rect1 = matplotlib.patches.Rectangle(corners[j], 0.95, 1, color=clr)\n",
    "        axes.add_patch(rect1)\n",
    "#     axes.set_xlim(0, 3)\n",
    "#     axes.set_ylim(0, 2)\n",
    "    \n",
    "    axes.grid(False)\n",
    "    axes.set_xlim(0, 3)\n",
    "    axes.set_ylim(0, 1)\n",
    "    axes.set_xticks([])\n",
    "    axes.set_yticks([])\n",
    "    fig.set_size_inches(3, 1)\n",
    "    \n",
    "    plt.show()\n",
    "    print(allrgb_colors[i])\n",
    "    for turn in conversations[i]:\n",
    "        if 'name' not in turn:\n",
    "            continue\n",
    "#         if 'black' in turn['text'] or 'borders' in turn['text']:\n",
    "#             break\n",
    "        print('%s: %s' % ('Director' if turn['name'] == 'S' else 'Matcher', '[SELECT]' if turn['text'] == '' else turn['text']))\n",
    "        if 'success' in turn:\n",
    "            print(turn['success'])\n",
    "            total += 1\n",
    "            success += (turn['success'])\n",
    "            successes[difficulty[i]] += (turn['success'])\n",
    "            total_per_key[difficulty[i]] += 1\n",
    "    print('--------------------------')\n",
    "# print('Success Rate: %.3f' % (success/ (total)))\n",
    "# print('Total Cases: %d' % ((total),))\n",
    "# print('Successes: ' )\n",
    "overall_rate = 0\n",
    "for k, v in successes.items():\n",
    "    curr_rate = v/total_per_key[k]\n",
    "    if k == 'far' or k == 'split':\n",
    "        overall_rate += (0.25 * curr_rate)\n",
    "    elif k == 'close':\n",
    "        overall_rate += (0.5 * curr_rate)\n",
    "    print(k + ':', v/total_per_key[k])\n",
    "print('Overall Success Rate: %.2f' % (overall_rate))\n",
    "print('Total Trial Count: %d' % (total,))"
   ]
  },
  {
   "cell_type": "code",
   "execution_count": 122,
   "metadata": {},
   "outputs": [],
   "source": [
    "# dirname = 'conversations_v1/'\n",
    "# dirname = './multi-RL/multi/'\n",
    "# dirname = './SemdialBaseline2/'\n",
    "# dirname = './SEMDIAL/SEMDIAL/'\n",
    "dirname = './conversations_RGC5/'\n",
    "ids = set()\n",
    "all_csvs = []\n",
    "valid = 0\n",
    "invalid = 0\n",
    "models = [QAModel(len(INTENTS)), QAModel(len(INTENTS))]\n",
    "symbol_list = ['.', ',', '?', '/', '\\\\', '?', '-', ';', '!']\n",
    "\n",
    "successes = [0, 0]\n",
    "total_conv = [0, 0]\n",
    "for i, conv in enumerate(os.listdir(dirname)):\n",
    "    empty_state = state()\n",
    "    if conv[0] == '.':\n",
    "        continue\n",
    "        \n",
    "    move_index = 0\n",
    "    try:\n",
    "        convo_dict = json.load(open(dirname + conv, 'r'))\n",
    "        if not check_valid_convesations(convo_dict):\n",
    "            invalid += 1\n",
    "            continue\n",
    "        valid += 1\n",
    "        utterance = None\n",
    "        index = -1\n",
    "        found_clarification = 0\n",
    "        for i, conv_turn in enumerate(convo_dict):\n",
    "            if 'name' in conv_turn and conv_turn['name'] == 'L':\n",
    "                utterance = conv_turn['text']\n",
    "                if utterance == 'I could not understand you.':\n",
    "                    continue\n",
    "                index = i\n",
    "            else:\n",
    "                continue\n",
    "                \n",
    "            if utterance == '':\n",
    "                if conv_turn['finished'] == 0:\n",
    "                    continue\n",
    "                if 'success' in conv_turn and conv_turn['success']:\n",
    "                    successes[found_clarification] += 1\n",
    "                total_conv[found_clarification] += 1\n",
    "                break\n",
    "#                 continue\n",
    "            \n",
    "            if utterance != '':\n",
    "                found_clarification = 1\n",
    "            \n",
    "        \n",
    "    except Exception as e:\n",
    "        print(e)\n"
   ]
  },
  {
   "cell_type": "code",
   "execution_count": 123,
   "metadata": {},
   "outputs": [
    {
     "name": "stdout",
     "output_type": "stream",
     "text": [
      "0.7842323651452282\n",
      "0.776\n"
     ]
    }
   ],
   "source": [
    "print(successes[0]/total_conv[0])\n",
    "print(successes[1]/total_conv[1])"
   ]
  },
  {
   "cell_type": "code",
   "execution_count": 126,
   "metadata": {},
   "outputs": [
    {
     "data": {
      "text/plain": [
       "([241, 125], 0.5186721991701245)"
      ]
     },
     "execution_count": 126,
     "metadata": {},
     "output_type": "execute_result"
    }
   ],
   "source": [
    "# sum(total_conv)\n",
    "# sum(successes)/sum(total_conv)\n",
    "# total_conv\n",
    "total_conv, total_conv[1]/total_conv[0]"
   ]
  },
  {
   "cell_type": "code",
   "execution_count": 121,
   "metadata": {},
   "outputs": [
    {
     "name": "stdout",
     "output_type": "stream",
     "text": [
      "The Error: could not convert string to float: 'The quality was good and easy to describe.'\n",
      "Average rating for RGC is 4.08\n"
     ]
    }
   ],
   "source": [
    "mode = 'RGC'\n",
    "total_rating = 0\n",
    "count = 0\n",
    "for fname in os.listdir('./rating_files'):\n",
    "    if mode in fname:\n",
    "        dframe = pd.read_csv('./rating_files/' + fname)\n",
    "        for i in range(len(dframe)):\n",
    "            try:\n",
    "                row = dframe.iloc[i]\n",
    "                rating = float(row['Answer.surveycode'].split('|')[0].strip())\n",
    "                if rating > 5:\n",
    "#                     print('Filename: %s' % fname)\n",
    "#                     print(row)\n",
    "                    continue\n",
    "                total_rating += rating\n",
    "                count += 1\n",
    "            except Exception as e:\n",
    "                print('The Error:', e)\n",
    "print('Average rating for %s is %.2f' % (mode, total_rating/count))"
   ]
  },
  {
   "cell_type": "code",
   "execution_count": null,
   "metadata": {},
   "outputs": [],
   "source": [
    "# x = set(os.listdir('./conversations_RGCBaseline'))\n",
    "# y = set(os.listdir('./conversations'))\n",
    "# for fname in (y-x):\n",
    "#     nfile = open('./conversations_RGC5/' + fname, 'w')\n",
    "#     ofile = open('./conversations/' + fname, 'r')\n",
    "#     file_data = ofile.read()\n",
    "#     print(file_data)\n",
    "#     nfile.write(file_data)\n",
    "#     nfile.close()\n",
    "#     ofile.close()\n"
   ]
  }
 ],
 "metadata": {
  "kernelspec": {
   "display_name": "Python 3",
   "language": "python",
   "name": "python3"
  },
  "language_info": {
   "codemirror_mode": {
    "name": "ipython",
    "version": 3
   },
   "file_extension": ".py",
   "mimetype": "text/x-python",
   "name": "python",
   "nbconvert_exporter": "python",
   "pygments_lexer": "ipython3",
   "version": "3.6.8"
  }
 },
 "nbformat": 4,
 "nbformat_minor": 2
}
